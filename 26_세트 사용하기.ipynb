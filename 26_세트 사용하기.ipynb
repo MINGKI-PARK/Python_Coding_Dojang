{
 "cells": [
  {
   "cell_type": "markdown",
   "metadata": {},
   "source": [
    "# 26_세트 사용하기"
   ]
  },
  {
   "cell_type": "markdown",
   "metadata": {
    "toc": true
   },
   "source": [
    "<h1>Table of Contents<span class=\"tocSkip\"></span></h1>\n",
    "<div class=\"toc\"><ul class=\"toc-item\"><li><span><a href=\"#세트-만들기\" data-toc-modified-id=\"세트-만들기-1\"><span class=\"toc-item-num\">1&nbsp;&nbsp;</span>세트 만들기</a></span><ul class=\"toc-item\"><li><span><a href=\"#세트에-특정-값이-있는지-확인하기\" data-toc-modified-id=\"세트에-특정-값이-있는지-확인하기-1.1\"><span class=\"toc-item-num\">1.1&nbsp;&nbsp;</span>세트에 특정 값이 있는지 확인하기</a></span></li><li><span><a href=\"#set를-사용하여-세트-만들기\" data-toc-modified-id=\"set를-사용하여-세트-만들기-1.2\"><span class=\"toc-item-num\">1.2&nbsp;&nbsp;</span>set를 사용하여 세트 만들기</a></span></li></ul></li><li><span><a href=\"#집합-연산-사용하기\" data-toc-modified-id=\"집합-연산-사용하기-2\"><span class=\"toc-item-num\">2&nbsp;&nbsp;</span>집합 연산 사용하기</a></span><ul class=\"toc-item\"><li><span><a href=\"#집합-연산-후-할당-연산자-사용하기\" data-toc-modified-id=\"집합-연산-후-할당-연산자-사용하기-2.1\"><span class=\"toc-item-num\">2.1&nbsp;&nbsp;</span>집합 연산 후 할당 연산자 사용하기</a></span></li><li><span><a href=\"#부분-집합과-상위집합-확인하기\" data-toc-modified-id=\"부분-집합과-상위집합-확인하기-2.2\"><span class=\"toc-item-num\">2.2&nbsp;&nbsp;</span>부분 집합과 상위집합 확인하기</a></span></li><li><span><a href=\"#세트가-같은지-다른지-확인하기\" data-toc-modified-id=\"세트가-같은지-다른지-확인하기-2.3\"><span class=\"toc-item-num\">2.3&nbsp;&nbsp;</span>세트가 같은지 다른지 확인하기</a></span></li><li><span><a href=\"#세트가-겹치지-않는지-확인하기\" data-toc-modified-id=\"세트가-겹치지-않는지-확인하기-2.4\"><span class=\"toc-item-num\">2.4&nbsp;&nbsp;</span>세트가 겹치지 않는지 확인하기</a></span></li></ul></li><li><span><a href=\"#세트-조작하기\" data-toc-modified-id=\"세트-조작하기-3\"><span class=\"toc-item-num\">3&nbsp;&nbsp;</span>세트 조작하기</a></span><ul class=\"toc-item\"><li><span><a href=\"#세트에-요소-추가하기\" data-toc-modified-id=\"세트에-요소-추가하기-3.1\"><span class=\"toc-item-num\">3.1&nbsp;&nbsp;</span>세트에 요소 추가하기</a></span></li><li><span><a href=\"#세트에서-특정-요소를-삭제하기\" data-toc-modified-id=\"세트에서-특정-요소를-삭제하기-3.2\"><span class=\"toc-item-num\">3.2&nbsp;&nbsp;</span>세트에서 특정 요소를 삭제하기</a></span></li><li><span><a href=\"#세트에서-임의의-요소-삭제하기\" data-toc-modified-id=\"세트에서-임의의-요소-삭제하기-3.3\"><span class=\"toc-item-num\">3.3&nbsp;&nbsp;</span>세트에서 임의의 요소 삭제하기</a></span></li><li><span><a href=\"#세트의-모든-요소를-삭제하기\" data-toc-modified-id=\"세트의-모든-요소를-삭제하기-3.4\"><span class=\"toc-item-num\">3.4&nbsp;&nbsp;</span>세트의 모든 요소를 삭제하기</a></span></li><li><span><a href=\"#세트의-요소-개수-구하기\" data-toc-modified-id=\"세트의-요소-개수-구하기-3.5\"><span class=\"toc-item-num\">3.5&nbsp;&nbsp;</span>세트의 요소 개수 구하기</a></span></li></ul></li><li><span><a href=\"#세트의-할당과-복사\" data-toc-modified-id=\"세트의-할당과-복사-4\"><span class=\"toc-item-num\">4&nbsp;&nbsp;</span>세트의 할당과 복사</a></span></li><li><span><a href=\"#반복문으로-세트의-요소를-모두-출력하기\" data-toc-modified-id=\"반복문으로-세트의-요소를-모두-출력하기-5\"><span class=\"toc-item-num\">5&nbsp;&nbsp;</span>반복문으로 세트의 요소를 모두 출력하기</a></span></li><li><span><a href=\"#세트-표현식-사용하기\" data-toc-modified-id=\"세트-표현식-사용하기-6\"><span class=\"toc-item-num\">6&nbsp;&nbsp;</span>세트 표현식 사용하기</a></span><ul class=\"toc-item\"><li><span><a href=\"#세트-표현식에-if-조건문-사용하기\" data-toc-modified-id=\"세트-표현식에-if-조건문-사용하기-6.1\"><span class=\"toc-item-num\">6.1&nbsp;&nbsp;</span>세트 표현식에 if 조건문 사용하기</a></span></li></ul></li><li><span><a href=\"#퀴즈\" data-toc-modified-id=\"퀴즈-7\"><span class=\"toc-item-num\">7&nbsp;&nbsp;</span>퀴즈</a></span><ul class=\"toc-item\"><li><span><a href=\"#연습문제-:-공배수-구하기\" data-toc-modified-id=\"연습문제-:-공배수-구하기-7.1\"><span class=\"toc-item-num\">7.1&nbsp;&nbsp;</span>연습문제 : 공배수 구하기</a></span></li></ul></li></ul></div>"
   ]
  },
  {
   "cell_type": "markdown",
   "metadata": {},
   "source": [
    "파이썬은 집합을 표현하는 세트(set)라는 자료형을 제공한다.\n",
    "\n",
    "집합을 영어로 하면 세트인데 수학에서 배우는 그 집합이 맞다. 따라서 세트는 합집합, 교집합, 차집합 등의 연산이 가능하다."
   ]
  },
  {
   "cell_type": "markdown",
   "metadata": {},
   "source": [
    "## 세트 만들기\n",
    "\n",
    "세트는 { }(중괄호) 안에 값을 저장하며 각 값은 ,(콤마)로 구분해준다.\n",
    "\n",
    "* 세트 = {값1, 값2, 값3}"
   ]
  },
  {
   "cell_type": "code",
   "execution_count": 1,
   "metadata": {
    "ExecuteTime": {
     "end_time": "2020-11-26T17:33:09.516637Z",
     "start_time": "2020-11-26T17:33:09.500678Z"
    }
   },
   "outputs": [
    {
     "data": {
      "text/plain": [
       "{'cherry', 'grape', 'orange', 'pineapple', 'strawberry'}"
      ]
     },
     "execution_count": 1,
     "metadata": {},
     "output_type": "execute_result"
    }
   ],
   "source": [
    "fruits = {'strawberry', 'grape', 'orange', 'pineapple', 'cherry'}\n",
    "fruits"
   ]
  },
  {
   "cell_type": "markdown",
   "metadata": {},
   "source": [
    "세트는 요소의 순서가 정해져 있지 않다.(unordered). 따라서 세트를 출력해보면 매번 요소의 순서가 다르게 나온다.\n",
    "\n",
    "또한, 세트에 들어가는 요소는 중복될 수 없다. 세트에 'orange'를 두 개 넣어도 실제로는 한 개만 들어간다."
   ]
  },
  {
   "cell_type": "code",
   "execution_count": 2,
   "metadata": {
    "ExecuteTime": {
     "end_time": "2020-11-26T17:34:47.289810Z",
     "start_time": "2020-11-26T17:34:47.279823Z"
    }
   },
   "outputs": [
    {
     "data": {
      "text/plain": [
       "{'cherry', 'orange'}"
      ]
     },
     "execution_count": 2,
     "metadata": {},
     "output_type": "execute_result"
    }
   ],
   "source": [
    "fruits = {'orange', 'orange', 'cherry'}\n",
    "fruits"
   ]
  },
  {
   "cell_type": "markdown",
   "metadata": {},
   "source": [
    "특히 세트는 리스트, 튜플, 딕셔너리와는 달리 [ ]\\(대괄호)로 특정 요소만 출력할 수 없다."
   ]
  },
  {
   "cell_type": "markdown",
   "metadata": {},
   "source": [
    "### 세트에 특정 값이 있는지 확인하기\n",
    "\n",
    "in 연산자를 사용하면 된다.\n",
    "\n",
    "* 값 in 세트"
   ]
  },
  {
   "cell_type": "code",
   "execution_count": 3,
   "metadata": {
    "ExecuteTime": {
     "end_time": "2020-11-26T17:36:09.594395Z",
     "start_time": "2020-11-26T17:36:09.577431Z"
    }
   },
   "outputs": [
    {
     "data": {
      "text/plain": [
       "True"
      ]
     },
     "execution_count": 3,
     "metadata": {},
     "output_type": "execute_result"
    }
   ],
   "source": [
    "fruits = {'strawberry', 'grape', 'orange', 'pineapple', 'cherry'}\n",
    "'orange' in fruits"
   ]
  },
  {
   "cell_type": "code",
   "execution_count": 5,
   "metadata": {
    "ExecuteTime": {
     "end_time": "2020-11-26T17:36:29.348851Z",
     "start_time": "2020-11-26T17:36:29.327901Z"
    }
   },
   "outputs": [
    {
     "data": {
      "text/plain": [
       "False"
      ]
     },
     "execution_count": 5,
     "metadata": {},
     "output_type": "execute_result"
    }
   ],
   "source": [
    "'orange' not in fruits"
   ]
  },
  {
   "cell_type": "markdown",
   "metadata": {},
   "source": [
    "### set를 사용하여 세트 만들기\n",
    "\n",
    "* set(반복가능한객체)\n",
    "\n",
    "set에는 반복 가능한 객체(iterable)를 넣는다.\n",
    "\n",
    "중복된 문자는 포함되지 않는다."
   ]
  },
  {
   "cell_type": "code",
   "execution_count": 7,
   "metadata": {
    "ExecuteTime": {
     "end_time": "2020-11-26T17:38:35.957020Z",
     "start_time": "2020-11-26T17:38:35.944135Z"
    }
   },
   "outputs": [
    {
     "data": {
      "text/plain": [
       "{'a', 'e', 'l', 'p'}"
      ]
     },
     "execution_count": 7,
     "metadata": {},
     "output_type": "execute_result"
    }
   ],
   "source": [
    "a = set('apple')    # 유일한 문자만 세트로 만듦\n",
    "a"
   ]
  },
  {
   "cell_type": "code",
   "execution_count": 8,
   "metadata": {
    "ExecuteTime": {
     "end_time": "2020-11-26T17:39:32.170721Z",
     "start_time": "2020-11-26T17:39:32.159751Z"
    }
   },
   "outputs": [
    {
     "data": {
      "text/plain": [
       "{0, 1, 2, 3, 4}"
      ]
     },
     "execution_count": 8,
     "metadata": {},
     "output_type": "execute_result"
    }
   ],
   "source": [
    "b = set(range(5))\n",
    "b"
   ]
  },
  {
   "cell_type": "markdown",
   "metadata": {},
   "source": [
    "빈 세트는 `c = set()`과 같이 set에 아무것도 지정하지 않으면 된다."
   ]
  },
  {
   "cell_type": "code",
   "execution_count": 9,
   "metadata": {
    "ExecuteTime": {
     "end_time": "2020-11-26T17:40:03.925815Z",
     "start_time": "2020-11-26T17:40:03.919827Z"
    }
   },
   "outputs": [
    {
     "data": {
      "text/plain": [
       "set()"
      ]
     },
     "execution_count": 9,
     "metadata": {},
     "output_type": "execute_result"
    }
   ],
   "source": [
    "c = set()\n",
    "c"
   ]
  },
  {
   "cell_type": "markdown",
   "metadata": {},
   "source": [
    "단, 세트가 { }를 사용한다고 해서 `c = {}`와 같이 만들면 빈 딕셔너리가 만들어지므로 주의해야 한다.\n",
    "\n",
    "type을 사용하여 자료형의 종류를 알 수 있다.\n",
    "\n",
    "* type(객체)"
   ]
  },
  {
   "cell_type": "code",
   "execution_count": 10,
   "metadata": {
    "ExecuteTime": {
     "end_time": "2020-11-26T17:41:17.533199Z",
     "start_time": "2020-11-26T17:41:17.512472Z"
    }
   },
   "outputs": [
    {
     "data": {
      "text/plain": [
       "dict"
      ]
     },
     "execution_count": 10,
     "metadata": {},
     "output_type": "execute_result"
    }
   ],
   "source": [
    "c = {}\n",
    "type(c)"
   ]
  },
  {
   "cell_type": "code",
   "execution_count": 11,
   "metadata": {
    "ExecuteTime": {
     "end_time": "2020-11-26T17:41:25.375821Z",
     "start_time": "2020-11-26T17:41:25.359886Z"
    }
   },
   "outputs": [
    {
     "data": {
      "text/plain": [
       "set"
      ]
     },
     "execution_count": 11,
     "metadata": {},
     "output_type": "execute_result"
    }
   ],
   "source": [
    "c = set()\n",
    "type(c)"
   ]
  },
  {
   "cell_type": "markdown",
   "metadata": {},
   "source": [
    "> 한글 문자열을 세트로 만들기\n",
    "\n",
    "set을 사용하여 한글 문자열을 만들면 음절 단위로 세트가 만들어진다."
   ]
  },
  {
   "cell_type": "code",
   "execution_count": 12,
   "metadata": {
    "ExecuteTime": {
     "end_time": "2020-11-26T17:42:14.428565Z",
     "start_time": "2020-11-26T17:42:14.410855Z"
    }
   },
   "outputs": [
    {
     "data": {
      "text/plain": [
       "{'녕', '세', '안', '요', '하'}"
      ]
     },
     "execution_count": 12,
     "metadata": {},
     "output_type": "execute_result"
    }
   ],
   "source": [
    "set('안녕하세요')"
   ]
  },
  {
   "cell_type": "markdown",
   "metadata": {},
   "source": [
    "> 세트 안에 세트 넣기\n",
    "\n",
    "세트는 리스트, 딕셔너리와 달리 세트 안에 세트를 넣을 수 없다."
   ]
  },
  {
   "cell_type": "code",
   "execution_count": 13,
   "metadata": {
    "ExecuteTime": {
     "end_time": "2020-11-26T17:42:49.459595Z",
     "start_time": "2020-11-26T17:42:49.384733Z"
    }
   },
   "outputs": [
    {
     "ename": "TypeError",
     "evalue": "unhashable type: 'set'",
     "output_type": "error",
     "traceback": [
      "\u001b[1;31m---------------------------------------------------------------------------\u001b[0m",
      "\u001b[1;31mTypeError\u001b[0m                                 Traceback (most recent call last)",
      "\u001b[1;32m<ipython-input-13-bdb882eb0386>\u001b[0m in \u001b[0;36m<module>\u001b[1;34m\u001b[0m\n\u001b[1;32m----> 1\u001b[1;33m \u001b[0ma\u001b[0m \u001b[1;33m=\u001b[0m \u001b[1;33m{\u001b[0m\u001b[1;33m{\u001b[0m\u001b[1;36m1\u001b[0m\u001b[1;33m,\u001b[0m \u001b[1;36m2\u001b[0m\u001b[1;33m}\u001b[0m\u001b[1;33m,\u001b[0m \u001b[1;33m{\u001b[0m\u001b[1;36m3\u001b[0m\u001b[1;33m,\u001b[0m \u001b[1;36m4\u001b[0m\u001b[1;33m}\u001b[0m\u001b[1;33m}\u001b[0m\u001b[1;33m\u001b[0m\u001b[1;33m\u001b[0m\u001b[0m\n\u001b[0m",
      "\u001b[1;31mTypeError\u001b[0m: unhashable type: 'set'"
     ]
    }
   ],
   "source": [
    "a = {{1, 2}, {3, 4}}"
   ]
  },
  {
   "cell_type": "markdown",
   "metadata": {},
   "source": [
    "> 프로즌 세트\n",
    "\n",
    "파이썬은 내용을 변경할 수 없는 세트도 제공한다."
   ]
  },
  {
   "cell_type": "code",
   "execution_count": 14,
   "metadata": {
    "ExecuteTime": {
     "end_time": "2020-11-26T17:43:31.195518Z",
     "start_time": "2020-11-26T17:43:31.185545Z"
    }
   },
   "outputs": [
    {
     "data": {
      "text/plain": [
       "frozenset({0, 1, 2, 3, 4, 5, 6, 7, 8, 9})"
      ]
     },
     "execution_count": 14,
     "metadata": {},
     "output_type": "execute_result"
    }
   ],
   "source": [
    "a = frozenset(range(10))\n",
    "a"
   ]
  },
  {
   "cell_type": "markdown",
   "metadata": {},
   "source": [
    "이름 그대로 얼어 있는(frozen) 세트이다. frozenset는 집한 연산과 메서드에서 요소를 추가하거나 삭제하는 연산, 메서드는 사용할 수 없다.\n",
    "\n",
    "frozenset의 요소를 변경하려고 하면 에러가 발생한다."
   ]
  },
  {
   "cell_type": "code",
   "execution_count": 15,
   "metadata": {
    "ExecuteTime": {
     "end_time": "2020-11-26T17:44:52.883652Z",
     "start_time": "2020-11-26T17:44:52.859715Z"
    }
   },
   "outputs": [
    {
     "ename": "TypeError",
     "evalue": "unsupported operand type(s) for |=: 'frozenset' and 'int'",
     "output_type": "error",
     "traceback": [
      "\u001b[1;31m---------------------------------------------------------------------------\u001b[0m",
      "\u001b[1;31mTypeError\u001b[0m                                 Traceback (most recent call last)",
      "\u001b[1;32m<ipython-input-15-d061ada6561e>\u001b[0m in \u001b[0;36m<module>\u001b[1;34m\u001b[0m\n\u001b[0;32m      1\u001b[0m \u001b[0ma\u001b[0m \u001b[1;33m=\u001b[0m \u001b[0mfrozenset\u001b[0m\u001b[1;33m(\u001b[0m\u001b[0mrange\u001b[0m\u001b[1;33m(\u001b[0m\u001b[1;36m10\u001b[0m\u001b[1;33m)\u001b[0m\u001b[1;33m)\u001b[0m\u001b[1;33m\u001b[0m\u001b[1;33m\u001b[0m\u001b[0m\n\u001b[1;32m----> 2\u001b[1;33m \u001b[0ma\u001b[0m \u001b[1;33m|=\u001b[0m \u001b[1;36m10\u001b[0m\u001b[1;33m\u001b[0m\u001b[1;33m\u001b[0m\u001b[0m\n\u001b[0m",
      "\u001b[1;31mTypeError\u001b[0m: unsupported operand type(s) for |=: 'frozenset' and 'int'"
     ]
    }
   ],
   "source": [
    "a = frozenset(range(10))\n",
    "a |= 10"
   ]
  },
  {
   "cell_type": "code",
   "execution_count": 16,
   "metadata": {
    "ExecuteTime": {
     "end_time": "2020-11-26T17:45:13.238586Z",
     "start_time": "2020-11-26T17:45:13.226582Z"
    }
   },
   "outputs": [
    {
     "ename": "AttributeError",
     "evalue": "'frozenset' object has no attribute 'update'",
     "output_type": "error",
     "traceback": [
      "\u001b[1;31m---------------------------------------------------------------------------\u001b[0m",
      "\u001b[1;31mAttributeError\u001b[0m                            Traceback (most recent call last)",
      "\u001b[1;32m<ipython-input-16-babcabbb12ed>\u001b[0m in \u001b[0;36m<module>\u001b[1;34m\u001b[0m\n\u001b[1;32m----> 1\u001b[1;33m \u001b[0ma\u001b[0m\u001b[1;33m.\u001b[0m\u001b[0mupdate\u001b[0m\u001b[1;33m(\u001b[0m\u001b[1;33m{\u001b[0m\u001b[1;36m10\u001b[0m\u001b[1;33m}\u001b[0m\u001b[1;33m)\u001b[0m\u001b[1;33m\u001b[0m\u001b[1;33m\u001b[0m\u001b[0m\n\u001b[0m",
      "\u001b[1;31mAttributeError\u001b[0m: 'frozenset' object has no attribute 'update'"
     ]
    }
   ],
   "source": [
    "a.update({10})"
   ]
  },
  {
   "cell_type": "markdown",
   "metadata": {},
   "source": [
    "요소를 변경할 수 없는 frozenset는 세트 안에 세트를 넣고 싶을 때 사용한다.\n",
    "\n",
    "다음과 같이 frozenset는 frozenset를 중첩해서 넣을 수 있다. 단, frozenset만 넣을 수 있고, 일반 set는 넣을 수 없다."
   ]
  },
  {
   "cell_type": "code",
   "execution_count": 17,
   "metadata": {
    "ExecuteTime": {
     "end_time": "2020-11-26T17:46:52.833653Z",
     "start_time": "2020-11-26T17:46:52.817626Z"
    }
   },
   "outputs": [
    {
     "data": {
      "text/plain": [
       "frozenset({frozenset({3, 4}), frozenset({1, 2})})"
      ]
     },
     "execution_count": 17,
     "metadata": {},
     "output_type": "execute_result"
    }
   ],
   "source": [
    "frozenset({frozenset({1, 2}), frozenset({3, 4})})"
   ]
  },
  {
   "cell_type": "markdown",
   "metadata": {},
   "source": [
    "## 집합 연산 사용하기\n",
    "\n",
    "집합 연산은 파이썬은 산술 연산자와 논리 연산자를 활용한다.\n",
    "\n",
    "| 연산자는 합집합(union)을 구하며, OR 연산자 | 를 사용한다. set.union 메서드와 동작이 같다.\n",
    "\n",
    "* 세트1 | 세트2\n",
    "* set.union(세트1, 세트2)"
   ]
  },
  {
   "cell_type": "code",
   "execution_count": 18,
   "metadata": {
    "ExecuteTime": {
     "end_time": "2020-11-26T17:49:12.499729Z",
     "start_time": "2020-11-26T17:49:12.489758Z"
    }
   },
   "outputs": [
    {
     "data": {
      "text/plain": [
       "{1, 2, 3, 4, 5, 6}"
      ]
     },
     "execution_count": 18,
     "metadata": {},
     "output_type": "execute_result"
    }
   ],
   "source": [
    "a = {1, 2, 3, 4}\n",
    "b = {3, 4, 5, 6}\n",
    "a | b"
   ]
  },
  {
   "cell_type": "code",
   "execution_count": 19,
   "metadata": {
    "ExecuteTime": {
     "end_time": "2020-11-26T17:49:19.076673Z",
     "start_time": "2020-11-26T17:49:19.057713Z"
    }
   },
   "outputs": [
    {
     "data": {
      "text/plain": [
       "{1, 2, 3, 4, 5, 6}"
      ]
     },
     "execution_count": 19,
     "metadata": {},
     "output_type": "execute_result"
    }
   ],
   "source": [
    "set.union(a, b)"
   ]
  },
  {
   "cell_type": "markdown",
   "metadata": {},
   "source": [
    "& 연산자는 교집합(intersection)을 구하며 AND 연산자 &를 사용한다. set.intersection 메서드와 동작이 같다.\n",
    "\n",
    "* 세트1 & 세트2\n",
    "* set.intersection(세트1, 세트2)"
   ]
  },
  {
   "cell_type": "code",
   "execution_count": 20,
   "metadata": {
    "ExecuteTime": {
     "end_time": "2020-11-26T17:50:28.882233Z",
     "start_time": "2020-11-26T17:50:28.866839Z"
    }
   },
   "outputs": [
    {
     "data": {
      "text/plain": [
       "{3, 4}"
      ]
     },
     "execution_count": 20,
     "metadata": {},
     "output_type": "execute_result"
    }
   ],
   "source": [
    "a & b"
   ]
  },
  {
   "cell_type": "code",
   "execution_count": 21,
   "metadata": {
    "ExecuteTime": {
     "end_time": "2020-11-26T17:50:35.478154Z",
     "start_time": "2020-11-26T17:50:35.466522Z"
    }
   },
   "outputs": [
    {
     "data": {
      "text/plain": [
       "{3, 4}"
      ]
     },
     "execution_count": 21,
     "metadata": {},
     "output_type": "execute_result"
    }
   ],
   "source": [
    "set.intersection(a, b)"
   ]
  },
  {
   "cell_type": "markdown",
   "metadata": {},
   "source": [
    "\\- 연산자는 차집합(difference)을 구하며 뺄셈 연산자 -를 사용한다. set.difference 메서드와 동작이 같다.\n",
    "\n",
    "* 세트1 - 세트2\n",
    "* set.difference(세트1, 세트2)"
   ]
  },
  {
   "cell_type": "code",
   "execution_count": 22,
   "metadata": {
    "ExecuteTime": {
     "end_time": "2020-11-26T17:51:53.217476Z",
     "start_time": "2020-11-26T17:51:53.210497Z"
    }
   },
   "outputs": [
    {
     "data": {
      "text/plain": [
       "{1, 2}"
      ]
     },
     "execution_count": 22,
     "metadata": {},
     "output_type": "execute_result"
    }
   ],
   "source": [
    "a - b"
   ]
  },
  {
   "cell_type": "code",
   "execution_count": 23,
   "metadata": {
    "ExecuteTime": {
     "end_time": "2020-11-26T17:52:02.864898Z",
     "start_time": "2020-11-26T17:52:02.856922Z"
    }
   },
   "outputs": [
    {
     "data": {
      "text/plain": [
       "{1, 2}"
      ]
     },
     "execution_count": 23,
     "metadata": {},
     "output_type": "execute_result"
    }
   ],
   "source": [
    "set.difference(a, b)"
   ]
  },
  {
   "cell_type": "markdown",
   "metadata": {},
   "source": [
    "^ 연산자는 대칭차집합(symmetric difference)을 구하며 XOR 연산자 ^를 사용한다.\n",
    "\n",
    "set.symmetric_difference 메서드와 동작이 같다.\n",
    "\n",
    "대창차집합은 XOR 연산자의 특성을 그대로 따르는데 XOR은 서로 다르면 참이다. 따라서 집합에서는 두 집합 중 겹치지 않는 요소만 포함한다.\n",
    "\n",
    "* 세트1 ^ 세트2\n",
    "* set.symmetric_difference(세트1, 세트2)"
   ]
  },
  {
   "cell_type": "code",
   "execution_count": 24,
   "metadata": {
    "ExecuteTime": {
     "end_time": "2020-11-26T17:55:43.910496Z",
     "start_time": "2020-11-26T17:55:43.890570Z"
    }
   },
   "outputs": [
    {
     "data": {
      "text/plain": [
       "{1, 2, 5, 6}"
      ]
     },
     "execution_count": 24,
     "metadata": {},
     "output_type": "execute_result"
    }
   ],
   "source": [
    "a ^ b"
   ]
  },
  {
   "cell_type": "code",
   "execution_count": 25,
   "metadata": {
    "ExecuteTime": {
     "end_time": "2020-11-26T17:55:56.125548Z",
     "start_time": "2020-11-26T17:55:56.105031Z"
    }
   },
   "outputs": [
    {
     "data": {
      "text/plain": [
       "{1, 2, 5, 6}"
      ]
     },
     "execution_count": 25,
     "metadata": {},
     "output_type": "execute_result"
    }
   ],
   "source": [
    "set.symmetric_difference(a, b)"
   ]
  },
  {
   "cell_type": "markdown",
   "metadata": {},
   "source": [
    "### 집합 연산 후 할당 연산자 사용하기\n",
    "\n",
    "세트 자료형에 |, &, -, ^ 연산자와 할당 연산자를 함께 사용하면 집합 연산의 결과를 변수에 다시 저장(할당)한다.\n",
    "\n",
    "|=은 현재 세트에 다른 세트를 더하며 update 메서드와 같다.\n",
    "\n",
    "* 세트1 |= 세트2\n",
    "* 세트1.update(세트2)"
   ]
  },
  {
   "cell_type": "code",
   "execution_count": 27,
   "metadata": {
    "ExecuteTime": {
     "end_time": "2020-11-26T17:58:20.694460Z",
     "start_time": "2020-11-26T17:58:20.672974Z"
    }
   },
   "outputs": [
    {
     "data": {
      "text/plain": [
       "{1, 2, 3, 4, 5}"
      ]
     },
     "execution_count": 27,
     "metadata": {},
     "output_type": "execute_result"
    }
   ],
   "source": [
    "a = {1, 2, 3, 4}\n",
    "a |= {5}\n",
    "a"
   ]
  },
  {
   "cell_type": "code",
   "execution_count": 28,
   "metadata": {
    "ExecuteTime": {
     "end_time": "2020-11-26T17:58:33.864660Z",
     "start_time": "2020-11-26T17:58:33.849698Z"
    }
   },
   "outputs": [
    {
     "data": {
      "text/plain": [
       "{1, 2, 3, 4, 5}"
      ]
     },
     "execution_count": 28,
     "metadata": {},
     "output_type": "execute_result"
    }
   ],
   "source": [
    "a = {1, 2, 3, 4}\n",
    "a.update({5})\n",
    "a"
   ]
  },
  {
   "cell_type": "markdown",
   "metadata": {},
   "source": [
    "&=은 현재 세트와 다른 세트 중에서 겹치는 요소만 현재 세트에 저장하며 intersection_update 메서드와 같다.\n",
    "\n",
    "* 세트1 &= 세트2\n",
    "* 세트1.intersection_update(세트2)"
   ]
  },
  {
   "cell_type": "code",
   "execution_count": 29,
   "metadata": {
    "ExecuteTime": {
     "end_time": "2020-11-26T17:59:47.869305Z",
     "start_time": "2020-11-26T17:59:47.850360Z"
    }
   },
   "outputs": [
    {
     "data": {
      "text/plain": [
       "{1, 2, 3, 4}"
      ]
     },
     "execution_count": 29,
     "metadata": {},
     "output_type": "execute_result"
    }
   ],
   "source": [
    "a = {1, 2, 3, 4}\n",
    "a &= {0, 1, 2, 3, 4}\n",
    "a"
   ]
  },
  {
   "cell_type": "code",
   "execution_count": 30,
   "metadata": {
    "ExecuteTime": {
     "end_time": "2020-11-26T18:00:17.365238Z",
     "start_time": "2020-11-26T18:00:17.345247Z"
    }
   },
   "outputs": [
    {
     "data": {
      "text/plain": [
       "{1, 2, 3, 4}"
      ]
     },
     "execution_count": 30,
     "metadata": {},
     "output_type": "execute_result"
    }
   ],
   "source": [
    "a = {1, 2, 3, 4}\n",
    "a.intersection_update({0, 1, 2, 3, 4})\n",
    "a"
   ]
  },
  {
   "cell_type": "markdown",
   "metadata": {},
   "source": [
    "-=은 현재 세트에서 다른 세트를 빼며 difference_update 메서드와 같다.\n",
    "\n",
    "* 세트1 -= 세트2\n",
    "* 세트1.difference_update(세트2)"
   ]
  },
  {
   "cell_type": "code",
   "execution_count": 31,
   "metadata": {
    "ExecuteTime": {
     "end_time": "2020-11-26T18:01:23.846644Z",
     "start_time": "2020-11-26T18:01:23.840665Z"
    }
   },
   "outputs": [
    {
     "data": {
      "text/plain": [
       "{1, 2, 4}"
      ]
     },
     "execution_count": 31,
     "metadata": {},
     "output_type": "execute_result"
    }
   ],
   "source": [
    "a = {1, 2, 3, 4}\n",
    "a -= {3}\n",
    "a"
   ]
  },
  {
   "cell_type": "code",
   "execution_count": 32,
   "metadata": {
    "ExecuteTime": {
     "end_time": "2020-11-26T18:01:40.118947Z",
     "start_time": "2020-11-26T18:01:40.113013Z"
    }
   },
   "outputs": [
    {
     "data": {
      "text/plain": [
       "{1, 2, 4}"
      ]
     },
     "execution_count": 32,
     "metadata": {},
     "output_type": "execute_result"
    }
   ],
   "source": [
    "a = {1, 2, 3, 4}\n",
    "a.difference_update({3})\n",
    "a"
   ]
  },
  {
   "cell_type": "markdown",
   "metadata": {},
   "source": [
    "^=은 현재 세트와 다른 세트 중에서 겹치지 않는 요소만 현재 세트에 저장하며 symmetric_difference_update 메서드와 같다.\n",
    "\n",
    "* 세트1 ^= 세트2\n",
    "* 세트1.symmetric_difference_update(세트2)"
   ]
  },
  {
   "cell_type": "code",
   "execution_count": 33,
   "metadata": {
    "ExecuteTime": {
     "end_time": "2020-11-26T18:04:06.044915Z",
     "start_time": "2020-11-26T18:04:06.025952Z"
    }
   },
   "outputs": [
    {
     "data": {
      "text/plain": [
       "{1, 2, 5, 6}"
      ]
     },
     "execution_count": 33,
     "metadata": {},
     "output_type": "execute_result"
    }
   ],
   "source": [
    "a = {1, 2, 3, 4}\n",
    "a ^= {3, 4, 5, 6}\n",
    "a"
   ]
  },
  {
   "cell_type": "code",
   "execution_count": 34,
   "metadata": {
    "ExecuteTime": {
     "end_time": "2020-11-26T18:04:15.378688Z",
     "start_time": "2020-11-26T18:04:15.369711Z"
    }
   },
   "outputs": [
    {
     "data": {
      "text/plain": [
       "{1, 2, 5, 6}"
      ]
     },
     "execution_count": 34,
     "metadata": {},
     "output_type": "execute_result"
    }
   ],
   "source": [
    "a = {1, 2, 3, 4}\n",
    "a.symmetric_difference_update({3, 4, 5, 6})\n",
    "a"
   ]
  },
  {
   "cell_type": "markdown",
   "metadata": {},
   "source": [
    "### 부분 집합과 상위집합 확인하기\n",
    "\n",
    "세트는 부분집합, 진부분집합, 상위집합, 진상위집합과 같이 속하는 관계를 포함할 수도 있다. 현재 세트가 다른 세트의 (진)부분집합 또는 (진)상위집합인지 확인할 때는 세트 자료형에 부등호와 등호를 사용한다.\n",
    "\n",
    "<=은 현재 세트가 다른 세트의 부분집합(subset)인지 확인하며 issubset 메서드와 같다.\n",
    "\n",
    "* 현재세트 <= 다른세트\n",
    "* 현재세트.issubset(다른세트)"
   ]
  },
  {
   "cell_type": "code",
   "execution_count": 35,
   "metadata": {
    "ExecuteTime": {
     "end_time": "2020-11-26T21:05:21.941546Z",
     "start_time": "2020-11-26T21:05:21.929535Z"
    }
   },
   "outputs": [
    {
     "data": {
      "text/plain": [
       "True"
      ]
     },
     "execution_count": 35,
     "metadata": {},
     "output_type": "execute_result"
    }
   ],
   "source": [
    "a = {1, 2, 3, 4}\n",
    "a <= {1, 2, 3, 4}"
   ]
  },
  {
   "cell_type": "code",
   "execution_count": 36,
   "metadata": {
    "ExecuteTime": {
     "end_time": "2020-11-26T21:05:27.121539Z",
     "start_time": "2020-11-26T21:05:27.100355Z"
    }
   },
   "outputs": [
    {
     "data": {
      "text/plain": [
       "True"
      ]
     },
     "execution_count": 36,
     "metadata": {},
     "output_type": "execute_result"
    }
   ],
   "source": [
    "a.issubset({1, 2, 3, 4, 5})"
   ]
  },
  {
   "cell_type": "markdown",
   "metadata": {},
   "source": [
    "<은 현재 세트가 다른 세트의 진부분집합(proper subset)인지 확인하며 메서드는 없다. 즉, 부분집합이지만 같지 않을 때 참이다.\n",
    "\n",
    "* 현재세트 < 다른세트"
   ]
  },
  {
   "cell_type": "code",
   "execution_count": 37,
   "metadata": {
    "ExecuteTime": {
     "end_time": "2020-11-26T21:06:52.232552Z",
     "start_time": "2020-11-26T21:06:52.222542Z"
    }
   },
   "outputs": [
    {
     "data": {
      "text/plain": [
       "True"
      ]
     },
     "execution_count": 37,
     "metadata": {},
     "output_type": "execute_result"
    }
   ],
   "source": [
    "a = {1, 2, 3, 4}\n",
    "a < {1, 2, 3, 4, 5}"
   ]
  },
  {
   "cell_type": "markdown",
   "metadata": {},
   "source": [
    "\\>=은 현재 세트가 다른 세트의 상위집합(superset)인지 확인하며 issuperset 메서드와 같다. (등호가 있으므로 두 세트가 같을 때도 참이다.)\n",
    "\n",
    "* 현재세트 >= 다른세트\n",
    "* 현재세트.issuperset(다른세트)"
   ]
  },
  {
   "cell_type": "code",
   "execution_count": 38,
   "metadata": {
    "ExecuteTime": {
     "end_time": "2020-11-26T21:08:54.208900Z",
     "start_time": "2020-11-26T21:08:54.190483Z"
    }
   },
   "outputs": [
    {
     "data": {
      "text/plain": [
       "True"
      ]
     },
     "execution_count": 38,
     "metadata": {},
     "output_type": "execute_result"
    }
   ],
   "source": [
    "a = {1, 2, 3, 4}\n",
    "a >= {1, 2, 3, 4}"
   ]
  },
  {
   "cell_type": "code",
   "execution_count": 39,
   "metadata": {
    "ExecuteTime": {
     "end_time": "2020-11-26T21:08:58.474504Z",
     "start_time": "2020-11-26T21:08:58.454592Z"
    }
   },
   "outputs": [
    {
     "data": {
      "text/plain": [
       "True"
      ]
     },
     "execution_count": 39,
     "metadata": {},
     "output_type": "execute_result"
    }
   ],
   "source": [
    "a.issuperset({1, 2, 3, 4})"
   ]
  },
  {
   "cell_type": "markdown",
   "metadata": {},
   "source": [
    "\\>은 현재 세트가 다른 세트의 진상위집합(proper superset)인지 확인하며 메서드는 없다. 즉, 상위집합이지만 같지는 않을 때 참이다.\n",
    "\n",
    "* 현재세트 > 다른세트"
   ]
  },
  {
   "cell_type": "code",
   "execution_count": 40,
   "metadata": {
    "ExecuteTime": {
     "end_time": "2020-11-26T21:09:56.566507Z",
     "start_time": "2020-11-26T21:09:56.558005Z"
    }
   },
   "outputs": [
    {
     "data": {
      "text/plain": [
       "True"
      ]
     },
     "execution_count": 40,
     "metadata": {},
     "output_type": "execute_result"
    }
   ],
   "source": [
    "a = {1, 2, 3, 4}\n",
    "a > {1, 2, 3}"
   ]
  },
  {
   "cell_type": "markdown",
   "metadata": {},
   "source": [
    "### 세트가 같은지 다른지 확인하기\n",
    "\n",
    "세트는 == 연산자를 사용하여 서로 같은지 확인할 수 있다."
   ]
  },
  {
   "cell_type": "code",
   "execution_count": 41,
   "metadata": {
    "ExecuteTime": {
     "end_time": "2020-11-26T21:10:37.240098Z",
     "start_time": "2020-11-26T21:10:37.222148Z"
    }
   },
   "outputs": [
    {
     "data": {
      "text/plain": [
       "True"
      ]
     },
     "execution_count": 41,
     "metadata": {},
     "output_type": "execute_result"
    }
   ],
   "source": [
    "a = {1, 2, 3, 4}\n",
    "a == {1, 2, 3, 4}"
   ]
  },
  {
   "cell_type": "code",
   "execution_count": 42,
   "metadata": {
    "ExecuteTime": {
     "end_time": "2020-11-26T21:10:42.046280Z",
     "start_time": "2020-11-26T21:10:42.039297Z"
    }
   },
   "outputs": [
    {
     "data": {
      "text/plain": [
       "True"
      ]
     },
     "execution_count": 42,
     "metadata": {},
     "output_type": "execute_result"
    }
   ],
   "source": [
    "a == {4, 2, 1, 3}"
   ]
  },
  {
   "cell_type": "markdown",
   "metadata": {},
   "source": [
    "세트는 요소의 순서가 정해져 있지 않으므로 ==로 비교했을 때 각 요소만 같으면 참이다.\n",
    "\n",
    "!= 연산자는 세트가 다른지 확인한다."
   ]
  },
  {
   "cell_type": "code",
   "execution_count": 43,
   "metadata": {
    "ExecuteTime": {
     "end_time": "2020-11-26T21:11:22.442581Z",
     "start_time": "2020-11-26T21:11:22.430135Z"
    }
   },
   "outputs": [
    {
     "data": {
      "text/plain": [
       "True"
      ]
     },
     "execution_count": 43,
     "metadata": {},
     "output_type": "execute_result"
    }
   ],
   "source": [
    "a = {1, 2, 3, 4}\n",
    "a != {1, 2, 3}"
   ]
  },
  {
   "cell_type": "markdown",
   "metadata": {},
   "source": [
    "### 세트가 겹치지 않는지 확인하기\n",
    "\n",
    "`disjoint`는 현재 세트가 다른 세트와 겹치지 않는지 확인한다. 겹치는 요소가 없으면 True, 있으면 False이다.\n",
    "\n",
    "* 현재세트.isdisjoint(다른세트)"
   ]
  },
  {
   "cell_type": "code",
   "execution_count": 44,
   "metadata": {
    "ExecuteTime": {
     "end_time": "2020-11-26T21:12:26.751966Z",
     "start_time": "2020-11-26T21:12:26.744036Z"
    }
   },
   "outputs": [
    {
     "data": {
      "text/plain": [
       "True"
      ]
     },
     "execution_count": 44,
     "metadata": {},
     "output_type": "execute_result"
    }
   ],
   "source": [
    "a = {1, 2, 3, 4}\n",
    "a.isdisjoint({5, 6, 7, 8})       # 겹치는 요소가 없음"
   ]
  },
  {
   "cell_type": "code",
   "execution_count": 45,
   "metadata": {
    "ExecuteTime": {
     "end_time": "2020-11-26T21:12:32.749400Z",
     "start_time": "2020-11-26T21:12:32.734447Z"
    }
   },
   "outputs": [
    {
     "data": {
      "text/plain": [
       "False"
      ]
     },
     "execution_count": 45,
     "metadata": {},
     "output_type": "execute_result"
    }
   ],
   "source": [
    "a.isdisjoint({3, 4, 5, 6})    # a와 3, 4가 겹침"
   ]
  },
  {
   "cell_type": "markdown",
   "metadata": {},
   "source": [
    "## 세트 조작하기\n",
    "\n",
    "세트를 조작하는 메서드와 세트의 길이(요소 개수)를 구하는 방법을 알아보자."
   ]
  },
  {
   "cell_type": "markdown",
   "metadata": {},
   "source": [
    "### 세트에 요소 추가하기\n",
    "\n",
    "`add(요소)`는 세트에 요소를 추가한다."
   ]
  },
  {
   "cell_type": "code",
   "execution_count": 46,
   "metadata": {
    "ExecuteTime": {
     "end_time": "2020-11-26T21:13:44.295101Z",
     "start_time": "2020-11-26T21:13:44.278722Z"
    }
   },
   "outputs": [
    {
     "data": {
      "text/plain": [
       "{1, 2, 3, 4, 5}"
      ]
     },
     "execution_count": 46,
     "metadata": {},
     "output_type": "execute_result"
    }
   ],
   "source": [
    "a = {1, 2, 3, 4}\n",
    "a.add(5)\n",
    "a"
   ]
  },
  {
   "cell_type": "markdown",
   "metadata": {},
   "source": [
    "### 세트에서 특정 요소를 삭제하기\n",
    "\n",
    "`remove(요소)`는 세트에서 특정 요소를 삭제하고 요소가 없으면 에러를 발생시킨다."
   ]
  },
  {
   "cell_type": "code",
   "execution_count": 47,
   "metadata": {
    "ExecuteTime": {
     "end_time": "2020-11-26T21:14:20.159882Z",
     "start_time": "2020-11-26T21:14:20.137941Z"
    }
   },
   "outputs": [
    {
     "data": {
      "text/plain": [
       "{1, 2, 4, 5}"
      ]
     },
     "execution_count": 47,
     "metadata": {},
     "output_type": "execute_result"
    }
   ],
   "source": [
    "a.remove(3)\n",
    "a"
   ]
  },
  {
   "cell_type": "markdown",
   "metadata": {},
   "source": [
    "`discard(요소)`는 세트에서 특정 요소를 삭제하고 요소가 없으면 그냥 넘어간다."
   ]
  },
  {
   "cell_type": "code",
   "execution_count": 48,
   "metadata": {
    "ExecuteTime": {
     "end_time": "2020-11-26T21:14:50.327955Z",
     "start_time": "2020-11-26T21:14:50.310303Z"
    }
   },
   "outputs": [
    {
     "data": {
      "text/plain": [
       "{1, 4, 5}"
      ]
     },
     "execution_count": 48,
     "metadata": {},
     "output_type": "execute_result"
    }
   ],
   "source": [
    "a.discard(2)\n",
    "a"
   ]
  },
  {
   "cell_type": "code",
   "execution_count": 49,
   "metadata": {
    "ExecuteTime": {
     "end_time": "2020-11-26T21:14:56.516451Z",
     "start_time": "2020-11-26T21:14:56.502475Z"
    }
   },
   "outputs": [
    {
     "data": {
      "text/plain": [
       "{1, 4, 5}"
      ]
     },
     "execution_count": 49,
     "metadata": {},
     "output_type": "execute_result"
    }
   ],
   "source": [
    "a.discard(3)\n",
    "a"
   ]
  },
  {
   "cell_type": "markdown",
   "metadata": {},
   "source": [
    "### 세트에서 임의의 요소 삭제하기\n",
    "\n",
    "`pop()`은 세트에서 임의의 요소를 삭제하고 해당 요소를 반환한다. 만약 요소가 없으면 에러를 발생시킨다."
   ]
  },
  {
   "cell_type": "code",
   "execution_count": 50,
   "metadata": {
    "ExecuteTime": {
     "end_time": "2020-11-26T21:15:36.168946Z",
     "start_time": "2020-11-26T21:15:36.149469Z"
    }
   },
   "outputs": [
    {
     "data": {
      "text/plain": [
       "1"
      ]
     },
     "execution_count": 50,
     "metadata": {},
     "output_type": "execute_result"
    }
   ],
   "source": [
    "a = {1, 2, 3, 4}\n",
    "a.pop()"
   ]
  },
  {
   "cell_type": "code",
   "execution_count": 51,
   "metadata": {
    "ExecuteTime": {
     "end_time": "2020-11-26T21:15:44.583795Z",
     "start_time": "2020-11-26T21:15:44.566874Z"
    }
   },
   "outputs": [
    {
     "data": {
      "text/plain": [
       "{2, 3, 4}"
      ]
     },
     "execution_count": 51,
     "metadata": {},
     "output_type": "execute_result"
    }
   ],
   "source": [
    "a"
   ]
  },
  {
   "cell_type": "markdown",
   "metadata": {},
   "source": [
    "### 세트의 모든 요소를 삭제하기\n",
    "\n",
    "`clear()`는 세트에서 모든 요소를 삭제한다."
   ]
  },
  {
   "cell_type": "code",
   "execution_count": 52,
   "metadata": {
    "ExecuteTime": {
     "end_time": "2020-11-26T21:16:13.248743Z",
     "start_time": "2020-11-26T21:16:13.230779Z"
    }
   },
   "outputs": [
    {
     "data": {
      "text/plain": [
       "set()"
      ]
     },
     "execution_count": 52,
     "metadata": {},
     "output_type": "execute_result"
    }
   ],
   "source": [
    "a.clear()\n",
    "a"
   ]
  },
  {
   "cell_type": "markdown",
   "metadata": {},
   "source": [
    "### 세트의 요소 개수 구하기\n",
    "\n",
    "`len(세트)`는 세트의 요소 개수(길이)를 구한다."
   ]
  },
  {
   "cell_type": "code",
   "execution_count": 53,
   "metadata": {
    "ExecuteTime": {
     "end_time": "2020-11-26T21:16:53.981974Z",
     "start_time": "2020-11-26T21:16:53.966050Z"
    }
   },
   "outputs": [
    {
     "data": {
      "text/plain": [
       "4"
      ]
     },
     "execution_count": 53,
     "metadata": {},
     "output_type": "execute_result"
    }
   ],
   "source": [
    "a = {1, 2, 3, 4}\n",
    "len(a)"
   ]
  },
  {
   "cell_type": "markdown",
   "metadata": {},
   "source": [
    "## 세트의 할당과 복사\n",
    "\n",
    "세트도 리스트, 딕셔너리처럼 할당과 복사의 차이점이 있다."
   ]
  },
  {
   "cell_type": "code",
   "execution_count": 54,
   "metadata": {
    "ExecuteTime": {
     "end_time": "2020-11-26T21:17:41.881600Z",
     "start_time": "2020-11-26T21:17:41.871632Z"
    }
   },
   "outputs": [],
   "source": [
    "a = {1, 2, 3, 4}\n",
    "b = a"
   ]
  },
  {
   "cell_type": "code",
   "execution_count": 55,
   "metadata": {
    "ExecuteTime": {
     "end_time": "2020-11-26T21:17:44.431179Z",
     "start_time": "2020-11-26T21:17:44.423203Z"
    }
   },
   "outputs": [
    {
     "data": {
      "text/plain": [
       "True"
      ]
     },
     "execution_count": 55,
     "metadata": {},
     "output_type": "execute_result"
    }
   ],
   "source": [
    "a is b"
   ]
  },
  {
   "cell_type": "code",
   "execution_count": 57,
   "metadata": {
    "ExecuteTime": {
     "end_time": "2020-11-26T21:18:03.418536Z",
     "start_time": "2020-11-26T21:18:03.398605Z"
    }
   },
   "outputs": [
    {
     "name": "stdout",
     "output_type": "stream",
     "text": [
      "{1, 2, 3, 4, 5}\n",
      "{1, 2, 3, 4, 5}\n"
     ]
    }
   ],
   "source": [
    "b.add(5)\n",
    "print(a)\n",
    "print(b)"
   ]
  },
  {
   "cell_type": "code",
   "execution_count": 58,
   "metadata": {
    "ExecuteTime": {
     "end_time": "2020-11-26T21:18:22.374207Z",
     "start_time": "2020-11-26T21:18:22.358169Z"
    }
   },
   "outputs": [],
   "source": [
    "a = {1, 2, 3, 4}\n",
    "b = a.copy()"
   ]
  },
  {
   "cell_type": "code",
   "execution_count": 59,
   "metadata": {
    "ExecuteTime": {
     "end_time": "2020-11-26T21:18:25.401588Z",
     "start_time": "2020-11-26T21:18:25.390621Z"
    }
   },
   "outputs": [
    {
     "data": {
      "text/plain": [
       "False"
      ]
     },
     "execution_count": 59,
     "metadata": {},
     "output_type": "execute_result"
    }
   ],
   "source": [
    "a is b"
   ]
  },
  {
   "cell_type": "code",
   "execution_count": 60,
   "metadata": {
    "ExecuteTime": {
     "end_time": "2020-11-26T21:18:28.155462Z",
     "start_time": "2020-11-26T21:18:28.134510Z"
    }
   },
   "outputs": [
    {
     "data": {
      "text/plain": [
       "True"
      ]
     },
     "execution_count": 60,
     "metadata": {},
     "output_type": "execute_result"
    }
   ],
   "source": [
    "a == b"
   ]
  },
  {
   "cell_type": "code",
   "execution_count": 61,
   "metadata": {
    "ExecuteTime": {
     "end_time": "2020-11-26T21:18:53.407538Z",
     "start_time": "2020-11-26T21:18:53.390582Z"
    }
   },
   "outputs": [
    {
     "name": "stdout",
     "output_type": "stream",
     "text": [
      "{1, 2, 3, 4}\n",
      "{1, 2, 3, 4, 5}\n"
     ]
    }
   ],
   "source": [
    "a = {1, 2, 3, 4}\n",
    "b = a.copy()\n",
    "b.add(5)\n",
    "print(a)\n",
    "print(b)"
   ]
  },
  {
   "cell_type": "markdown",
   "metadata": {},
   "source": [
    "## 반복문으로 세트의 요소를 모두 출력하기"
   ]
  },
  {
   "cell_type": "markdown",
   "metadata": {},
   "source": [
    "```python\n",
    "for 변수 in 세트:\n",
    "     반복할 코드\n",
    "```"
   ]
  },
  {
   "cell_type": "code",
   "execution_count": 62,
   "metadata": {
    "ExecuteTime": {
     "end_time": "2020-11-26T21:19:53.248550Z",
     "start_time": "2020-11-26T21:19:53.222223Z"
    }
   },
   "outputs": [
    {
     "name": "stdout",
     "output_type": "stream",
     "text": [
      "1\n",
      "2\n",
      "3\n",
      "4\n"
     ]
    }
   ],
   "source": [
    "a = {1, 2, 3, 4}\n",
    "for i in a:\n",
    "    print(i)"
   ]
  },
  {
   "cell_type": "markdown",
   "metadata": {},
   "source": [
    "세트의 요소는 순서가 없으므로 출력할 때마다 순서가 달라진다. 그러나 숫자로만 이루어진 세트는 순서대로 출력된다."
   ]
  },
  {
   "cell_type": "code",
   "execution_count": 63,
   "metadata": {
    "ExecuteTime": {
     "end_time": "2020-11-26T21:20:43.516435Z",
     "start_time": "2020-11-26T21:20:43.510447Z"
    }
   },
   "outputs": [
    {
     "name": "stdout",
     "output_type": "stream",
     "text": [
      "1\n",
      "2\n",
      "3\n",
      "4\n"
     ]
    }
   ],
   "source": [
    "for i in {1, 2, 3, 4}:\n",
    "    print(i)"
   ]
  },
  {
   "cell_type": "markdown",
   "metadata": {},
   "source": [
    "## 세트 표현식 사용하기\n",
    "\n",
    "세트는 for 반복문과 if 조건문을 사용하여 세트를 생설할 수 있다.\n",
    "\n",
    "* {식 for 변수 in 반복가능한객체}\n",
    "* set(식 for 변수 in 반복가능한객체)"
   ]
  },
  {
   "cell_type": "code",
   "execution_count": 64,
   "metadata": {
    "ExecuteTime": {
     "end_time": "2020-11-26T21:21:42.273537Z",
     "start_time": "2020-11-26T21:21:42.263565Z"
    }
   },
   "outputs": [
    {
     "data": {
      "text/plain": [
       "{'a', 'e', 'l', 'p'}"
      ]
     },
     "execution_count": 64,
     "metadata": {},
     "output_type": "execute_result"
    }
   ],
   "source": [
    "a = {i for i in 'apple'}\n",
    "a"
   ]
  },
  {
   "cell_type": "markdown",
   "metadata": {},
   "source": [
    "{ } 또는 set() 안에 식, for, 변수, in, 반복 가능한 객체를 지정하여 세트를 생성한다."
   ]
  },
  {
   "cell_type": "markdown",
   "metadata": {},
   "source": [
    "### 세트 표현식에 if 조건문 사용하기\n",
    "\n",
    "if 조건문은 for 반복문 뒤에 지정한다.\n",
    "\n",
    "* {식 for 변수 in 세트 if 조건식}\n",
    "* set(식 for 변수 in 세트 if 조건식)"
   ]
  },
  {
   "cell_type": "code",
   "execution_count": 65,
   "metadata": {
    "ExecuteTime": {
     "end_time": "2020-11-26T21:22:46.852827Z",
     "start_time": "2020-11-26T21:22:46.832933Z"
    }
   },
   "outputs": [
    {
     "data": {
      "text/plain": [
       "{'e', 'i', 'n'}"
      ]
     },
     "execution_count": 65,
     "metadata": {},
     "output_type": "execute_result"
    }
   ],
   "source": [
    "a = {i for i in 'pineapple' if i not in 'apl'}\n",
    "a"
   ]
  },
  {
   "cell_type": "markdown",
   "metadata": {},
   "source": [
    "세트는 수학의 집합을 자료형으로 만든 것."
   ]
  },
  {
   "cell_type": "markdown",
   "metadata": {},
   "source": [
    "## 퀴즈"
   ]
  },
  {
   "cell_type": "markdown",
   "metadata": {},
   "source": [
    "### 연습문제 : 공배수 구하기\n",
    "\n",
    "다음 소스 코드를 완성하여 1부터 100까지 숫자 중 3과 5의 공배수를 세트 형태로 출력되게 만드세요."
   ]
  },
  {
   "cell_type": "code",
   "execution_count": 67,
   "metadata": {
    "ExecuteTime": {
     "end_time": "2020-11-26T21:33:55.821077Z",
     "start_time": "2020-11-26T21:33:55.815124Z"
    }
   },
   "outputs": [
    {
     "name": "stdout",
     "output_type": "stream",
     "text": [
      "{75, 45, 15, 90, 60, 30}\n"
     ]
    }
   ],
   "source": [
    "a = {i for i in range(1, 101) if i % 3 == 0}\n",
    "b = {i for i in range(1, 101) if i % 5 == 0}\n",
    "\n",
    "print(a & b)"
   ]
  }
 ],
 "metadata": {
  "kernelspec": {
   "display_name": "Python 3",
   "language": "python",
   "name": "python3"
  },
  "language_info": {
   "codemirror_mode": {
    "name": "ipython",
    "version": 3
   },
   "file_extension": ".py",
   "mimetype": "text/x-python",
   "name": "python",
   "nbconvert_exporter": "python",
   "pygments_lexer": "ipython3",
   "version": "3.7.6"
  },
  "toc": {
   "base_numbering": 1,
   "nav_menu": {},
   "number_sections": true,
   "sideBar": true,
   "skip_h1_title": true,
   "title_cell": "Table of Contents",
   "title_sidebar": "Contents",
   "toc_cell": true,
   "toc_position": {
    "height": "calc(100% - 180px)",
    "left": "10px",
    "top": "150px",
    "width": "384px"
   },
   "toc_section_display": true,
   "toc_window_display": true
  }
 },
 "nbformat": 4,
 "nbformat_minor": 4
}
