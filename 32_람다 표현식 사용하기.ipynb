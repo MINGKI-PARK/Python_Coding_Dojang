{
 "cells": [
  {
   "cell_type": "markdown",
   "metadata": {},
   "source": [
    "# 32_람다 표현식 사용하기"
   ]
  },
  {
   "cell_type": "markdown",
   "metadata": {
    "toc": true
   },
   "source": [
    "<h1>Table of Contents<span class=\"tocSkip\"></span></h1>\n",
    "<div class=\"toc\"><ul class=\"toc-item\"><li><span><a href=\"#람다-표현식으로-함수-만들기\" data-toc-modified-id=\"람다-표현식으로-함수-만들기-1\"><span class=\"toc-item-num\">1&nbsp;&nbsp;</span>람다 표현식으로 함수 만들기</a></span><ul class=\"toc-item\"><li><span><a href=\"#람다-표현식-자체를-호출하기\" data-toc-modified-id=\"람다-표현식-자체를-호출하기-1.1\"><span class=\"toc-item-num\">1.1&nbsp;&nbsp;</span>람다 표현식 자체를 호출하기</a></span></li><li><span><a href=\"#람다-표현식-안에서는-변수를-만들-수-없다\" data-toc-modified-id=\"람다-표현식-안에서는-변수를-만들-수-없다-1.2\"><span class=\"toc-item-num\">1.2&nbsp;&nbsp;</span>람다 표현식 안에서는 변수를 만들 수 없다</a></span></li><li><span><a href=\"#람다-표현식을-인수로-사용하기\" data-toc-modified-id=\"람다-표현식을-인수로-사용하기-1.3\"><span class=\"toc-item-num\">1.3&nbsp;&nbsp;</span>람다 표현식을 인수로 사용하기</a></span></li></ul></li><li><span><a href=\"#람다-표현식과-map,-filter,-reduce-함수-활용하기\" data-toc-modified-id=\"람다-표현식과-map,-filter,-reduce-함수-활용하기-2\"><span class=\"toc-item-num\">2&nbsp;&nbsp;</span>람다 표현식과 map, filter, reduce 함수 활용하기</a></span><ul class=\"toc-item\"><li><span><a href=\"#람다-표현식에서-조건부-표현식-사용하기\" data-toc-modified-id=\"람다-표현식에서-조건부-표현식-사용하기-2.1\"><span class=\"toc-item-num\">2.1&nbsp;&nbsp;</span>람다 표현식에서 조건부 표현식 사용하기</a></span></li><li><span><a href=\"#map에-객체를-여러-개-넣기\" data-toc-modified-id=\"map에-객체를-여러-개-넣기-2.2\"><span class=\"toc-item-num\">2.2&nbsp;&nbsp;</span>map에 객체를 여러 개 넣기</a></span></li><li><span><a href=\"#filter-사용하기\" data-toc-modified-id=\"filter-사용하기-2.3\"><span class=\"toc-item-num\">2.3&nbsp;&nbsp;</span>filter 사용하기</a></span></li><li><span><a href=\"#reduce-사용하기\" data-toc-modified-id=\"reduce-사용하기-2.4\"><span class=\"toc-item-num\">2.4&nbsp;&nbsp;</span>reduce 사용하기</a></span></li></ul></li><li><span><a href=\"#연습문제-:-이미지-파일만-가져오기\" data-toc-modified-id=\"연습문제-:-이미지-파일만-가져오기-3\"><span class=\"toc-item-num\">3&nbsp;&nbsp;</span>연습문제 : 이미지 파일만 가져오기</a></span><ul class=\"toc-item\"><li><span><a href=\"#정답\" data-toc-modified-id=\"정답-3.1\"><span class=\"toc-item-num\">3.1&nbsp;&nbsp;</span>정답</a></span></li></ul></li></ul></div>"
   ]
  },
  {
   "cell_type": "markdown",
   "metadata": {},
   "source": [
    "지금까지 def로 함수를 정의해서 사용했습니다. 이번에는 람다 표현식으로 익명 함수를 만드는 방법을 알아보겠습니다.\n",
    "\n",
    "람다 표현식은 식 형태로 되어 있다고 해서 람다 표현식(lambda expression)이라고 부릅니다. 특히 람다 표현식은 함수를 간편하게 작성할 수 있어서 **다른 함수의 인수**로 넣을 때 주로 사용합니다."
   ]
  },
  {
   "cell_type": "markdown",
   "metadata": {},
   "source": [
    "## 람다 표현식으로 함수 만들기\n",
    "\n",
    "람다 표현식을 사용하기 전에 먼저 숫자를 받은 뒤 10을 더해서 반환하는 함수 plus_ten을 만들어보겠습니다."
   ]
  },
  {
   "cell_type": "code",
   "execution_count": 1,
   "metadata": {
    "ExecuteTime": {
     "end_time": "2020-12-12T14:09:22.689042Z",
     "start_time": "2020-12-12T14:09:22.657941Z"
    }
   },
   "outputs": [
    {
     "data": {
      "text/plain": [
       "11"
      ]
     },
     "execution_count": 1,
     "metadata": {},
     "output_type": "execute_result"
    }
   ],
   "source": [
    "def plus_ten(x):\n",
    "    return x + 10\n",
    "\n",
    "plus_ten(1)"
   ]
  },
  {
   "cell_type": "markdown",
   "metadata": {},
   "source": [
    "return x + 10으로 매개변수 x에 10을 더한 값을 반환하는 간단한 함수입니다.\n",
    "\n",
    "그럼 이 plus_ten 함수를 람다 표현식으로 작성해보겠습니다. 람다 표현식은 다음과 같이 lambda에 매개변수를 지정하고 :(콜론) 뒤에 반환값으로 사용할 식을 지정합니다.\n",
    "\n",
    "+ lambda 매개변수들: 식"
   ]
  },
  {
   "cell_type": "code",
   "execution_count": 2,
   "metadata": {
    "ExecuteTime": {
     "end_time": "2020-12-12T14:09:57.174824Z",
     "start_time": "2020-12-12T14:09:57.165797Z"
    }
   },
   "outputs": [
    {
     "data": {
      "text/plain": [
       "<function __main__.<lambda>(x)>"
      ]
     },
     "execution_count": 2,
     "metadata": {},
     "output_type": "execute_result"
    }
   ],
   "source": [
    "lambda x: x + 10"
   ]
  },
  {
   "cell_type": "markdown",
   "metadata": {
    "ExecuteTime": {
     "end_time": "2020-12-12T14:10:14.377778Z",
     "start_time": "2020-12-12T14:10:14.359829Z"
    }
   },
   "source": [
    "실행을 해보면 함수 객체가 나오는데, 이 상태로는 함수를 호출할 수 없습니다. 왜냐하면 람다 표현식은 이름이 없는 함수를 만들기 때문입니다. 그래서 람다 표현식을 익명 함수(anonymous function)로 부르기도 합니다.\n",
    "\n",
    "lambda로 만든 익명 함수를 호출하려면 다음과 같이 람다 표현식을 변수에 할당해주면 됩니다."
   ]
  },
  {
   "cell_type": "code",
   "execution_count": 4,
   "metadata": {
    "ExecuteTime": {
     "end_time": "2020-12-12T14:10:57.548755Z",
     "start_time": "2020-12-12T14:10:57.527944Z"
    }
   },
   "outputs": [
    {
     "data": {
      "text/plain": [
       "11"
      ]
     },
     "execution_count": 4,
     "metadata": {},
     "output_type": "execute_result"
    }
   ],
   "source": [
    "plus_ten = lambda x: x + 10\n",
    "plus_ten(1)"
   ]
  },
  {
   "cell_type": "markdown",
   "metadata": {},
   "source": [
    "이제 람다 표현식을 살펴보면 lambda x: x + 10은 매개변수 x 하나를 받고, x에 10을 더해서 반환한다는 뜻입니다. 즉, 매개변수, 연산자, 값 등을 조합한 식으로 반환값을 만드는 방식입니다. 다음그림과 같이 def로 만든 함수와 비교해보면 쉽게 알 수 있습니다."
   ]
  },
  {
   "cell_type": "markdown",
   "metadata": {},
   "source": [
    "### 람다 표현식 자체를 호출하기\n",
    "\n",
    "람다 표현식은 변수에 할당하지 않고 람다 표현식 자체를 바로 호출할 수 있습니다. 다음과 같이 람다 표현식을 ( )(괄호)로 묶은 뒤에 다시 ( )를 붙이고 인수를 넣어서 호출하면 됩니다.\n",
    "\n",
    "+ (lambda 매개변수들: 식)(인수들)"
   ]
  },
  {
   "cell_type": "code",
   "execution_count": 5,
   "metadata": {
    "ExecuteTime": {
     "end_time": "2020-12-12T14:11:49.020855Z",
     "start_time": "2020-12-12T14:11:49.015228Z"
    }
   },
   "outputs": [
    {
     "data": {
      "text/plain": [
       "11"
      ]
     },
     "execution_count": 5,
     "metadata": {},
     "output_type": "execute_result"
    }
   ],
   "source": [
    "(lambda x: x + 10)(1)"
   ]
  },
  {
   "cell_type": "markdown",
   "metadata": {},
   "source": [
    "### 람다 표현식 안에서는 변수를 만들 수 없다\n",
    "\n",
    "람다 표현식에서 주의할 점은 람다 표현식 안에서는 새 변수를 만들 수 없다는 점입니다. 따라서 반환값 부분은 변수 없이 식 한 줄로 표현할 수 있어야 합니다. 변수가 필요한 코드일 경우에는 def로 함수를 작성하는 것이 좋습니다."
   ]
  },
  {
   "cell_type": "code",
   "execution_count": 6,
   "metadata": {
    "ExecuteTime": {
     "end_time": "2020-12-12T14:12:31.004571Z",
     "start_time": "2020-12-12T14:12:30.992541Z"
    }
   },
   "outputs": [
    {
     "ename": "SyntaxError",
     "evalue": "invalid syntax (<ipython-input-6-f39371b7f7d5>, line 1)",
     "output_type": "error",
     "traceback": [
      "\u001b[1;36m  File \u001b[1;32m\"<ipython-input-6-f39371b7f7d5>\"\u001b[1;36m, line \u001b[1;32m1\u001b[0m\n\u001b[1;33m    (lambda x: y = 10; x + y)(1)\u001b[0m\n\u001b[1;37m                 ^\u001b[0m\n\u001b[1;31mSyntaxError\u001b[0m\u001b[1;31m:\u001b[0m invalid syntax\n"
     ]
    }
   ],
   "source": [
    "(lambda x: y = 10; x + y)(1)"
   ]
  },
  {
   "cell_type": "markdown",
   "metadata": {},
   "source": [
    "단, 람다 표현식 바깥에 있는 변수는 사용할 수 있습니다. 다음은 매개변수 x와 람다 표현식 바깥에 있는 변수 y를 더해서 반환합니다."
   ]
  },
  {
   "cell_type": "code",
   "execution_count": 7,
   "metadata": {
    "ExecuteTime": {
     "end_time": "2020-12-12T14:12:58.128519Z",
     "start_time": "2020-12-12T14:12:58.118480Z"
    }
   },
   "outputs": [
    {
     "data": {
      "text/plain": [
       "11"
      ]
     },
     "execution_count": 7,
     "metadata": {},
     "output_type": "execute_result"
    }
   ],
   "source": [
    "y = 10\n",
    "(lambda x : x + y)(1)"
   ]
  },
  {
   "cell_type": "markdown",
   "metadata": {},
   "source": [
    "### 람다 표현식을 인수로 사용하기\n",
    "\n",
    "람다 표현식을 사용하는 이유는 함수의 인수 부분에서 간단하게 함수를 만들기 위해서 입니다. 이런 방식으로 사용하는 대표적인 예가 map입니다.\n",
    "\n",
    "람다 표현식을 사용하기 전에 먼저 def로 함수를 만들어서 map을 사용해보겠습니다. 다음과 같이 숫자를 받은 뒤 10을 더해서 반환하는 함수 plus_ten을 작성합니다. 그리고 map에 plus_ten 함수와 리스트 [1, 2, 3]을 넣습니다. 물론 map의 결과는 map 객체이므로 눈으로 확인할 수 있도록 list를 사용해서 리스트로 변환해줍니다."
   ]
  },
  {
   "cell_type": "code",
   "execution_count": 9,
   "metadata": {
    "ExecuteTime": {
     "end_time": "2020-12-12T14:14:18.031836Z",
     "start_time": "2020-12-12T14:14:18.020755Z"
    }
   },
   "outputs": [
    {
     "data": {
      "text/plain": [
       "[11, 12, 13]"
      ]
     },
     "execution_count": 9,
     "metadata": {},
     "output_type": "execute_result"
    }
   ],
   "source": [
    "def plus_ten(x):\n",
    "    return x + 10\n",
    "\n",
    "list(map(plus_ten, [1, 2, 3]))"
   ]
  },
  {
   "cell_type": "markdown",
   "metadata": {},
   "source": [
    "plus_ten 함수는 매개변수 x에 10을 더해서 반환하므로 리스트 [1, 2, 3]이 [11, 12, 13]으로 바뀌었습니다. 지금까지 map을 사용할 때 map(str, [1, 2, 3])와 같이 자료형 int, float, str 등을 넣었죠? 사실 plus_ten처럼 함수를 직접 만들어서 넣어도 됩니다.\n",
    "\n",
    "이제 람다 표현식으로 함수를 만들어서 map에 넣어보겠습니다."
   ]
  },
  {
   "cell_type": "code",
   "execution_count": 10,
   "metadata": {
    "ExecuteTime": {
     "end_time": "2020-12-12T14:14:58.651446Z",
     "start_time": "2020-12-12T14:14:58.638276Z"
    }
   },
   "outputs": [
    {
     "data": {
      "text/plain": [
       "[11, 12, 13]"
      ]
     },
     "execution_count": 10,
     "metadata": {},
     "output_type": "execute_result"
    }
   ],
   "source": [
    "list(map(lambda x: x + 10, [1, 2, 3]))"
   ]
  },
  {
   "cell_type": "markdown",
   "metadata": {},
   "source": [
    "plus_ten 함수 대신 람다 표현식 lambda x: x + 10을 넣었습니다. 전체적으로 보면 코드가 세 줄에서 한 줄로 줄었죠? 이처럼 람다 표현식은 함수를 다른 함수의 인수로 넣을 때 매우 편리합니다."
   ]
  },
  {
   "cell_type": "markdown",
   "metadata": {},
   "source": [
    "> 람다 표현식으로 매개변수가 없는 함수 만들기\n",
    "\n",
    "람다 표현식으로 매개변수가 없는 함수를 만들 때는 lambda 뒤에 아무것도 지정하지 않고 :(콜론)을 붙입니다. 단, 콜론 뒤에는 반드시 반환할 값이 있어야 합니다. 왜냐하면 표현식(expression)은 반드시 값으로 평가되어야 하기 때문입니다."
   ]
  },
  {
   "cell_type": "code",
   "execution_count": 11,
   "metadata": {
    "ExecuteTime": {
     "end_time": "2020-12-12T14:15:49.855937Z",
     "start_time": "2020-12-12T14:15:49.838904Z"
    }
   },
   "outputs": [
    {
     "data": {
      "text/plain": [
       "1"
      ]
     },
     "execution_count": 11,
     "metadata": {},
     "output_type": "execute_result"
    }
   ],
   "source": [
    "(lambda : 1)()"
   ]
  },
  {
   "cell_type": "code",
   "execution_count": 12,
   "metadata": {
    "ExecuteTime": {
     "end_time": "2020-12-12T14:16:05.666086Z",
     "start_time": "2020-12-12T14:16:05.647037Z"
    }
   },
   "outputs": [
    {
     "data": {
      "text/plain": [
       "10"
      ]
     },
     "execution_count": 12,
     "metadata": {},
     "output_type": "execute_result"
    }
   ],
   "source": [
    "x = 10\n",
    "(lambda : x)()"
   ]
  },
  {
   "cell_type": "markdown",
   "metadata": {},
   "source": [
    "## 람다 표현식과 map, filter, reduce 함수 활용하기"
   ]
  },
  {
   "cell_type": "markdown",
   "metadata": {},
   "source": [
    "### 람다 표현식에서 조건부 표현식 사용하기\n",
    "\n",
    "먼저 람다 표현식에서 조건부 표현식을 사용하는 방법을 알아보겠습니다.\n",
    "\n",
    "+ lambda 매개변수들 : 식1 if 조건식 else 식2\n",
    "\n",
    "다음은 map을 사용하여 리스트 a에서 3의 배수를 문자열로 변환합니다."
   ]
  },
  {
   "cell_type": "code",
   "execution_count": 13,
   "metadata": {
    "ExecuteTime": {
     "end_time": "2020-12-12T14:19:24.846394Z",
     "start_time": "2020-12-12T14:19:24.837677Z"
    }
   },
   "outputs": [
    {
     "data": {
      "text/plain": [
       "[1, 2, '3', 4, 5, '6', 7, 8, '9', 10]"
      ]
     },
     "execution_count": 13,
     "metadata": {},
     "output_type": "execute_result"
    }
   ],
   "source": [
    "a = [1, 2, 3, 4, 5, 6, 7, 8, 9, 10]\n",
    "list(map(lambda x: str(x) if x % 3 == 0 else x, a))"
   ]
  },
  {
   "cell_type": "markdown",
   "metadata": {},
   "source": [
    "map은 리스트의 요소를 각각 처리하므로 lambda의 반환값도 요소라야 합니다. 여기서는 요소가 3의 배수일 때는 str(x)로 요소를 문자열로 만들어서 반환했고, 3의 배수가 아닐 때는 x로 요소를 그대로 반환했습니다."
   ]
  },
  {
   "cell_type": "markdown",
   "metadata": {},
   "source": [
    "람다 표현식 안에서 조건부 표현식 if, else를 사용할 때는 :(콜론)을 붙이지 않습니다. 일반적인 if, else와 문법이 다르므로 주의해야 합니다. 조건부 표현식은 식1 if 조건식 else 식2 형식으로 사용하며 식1은 조건식이 참일 때, 식2는 조건식이 거짓일 때 사용할 식입니다.\n",
    "\n",
    "특히 람다 표현식에서 if를 사용했다면 반드시 else를 사용해야 합니다. 다음과 같이 if만 사용하면 문법 에러가 발생하므로 주의해야 합니다."
   ]
  },
  {
   "cell_type": "code",
   "execution_count": 14,
   "metadata": {
    "ExecuteTime": {
     "end_time": "2020-12-12T14:20:21.687730Z",
     "start_time": "2020-12-12T14:20:21.678667Z"
    }
   },
   "outputs": [
    {
     "ename": "SyntaxError",
     "evalue": "invalid syntax (<ipython-input-14-2a3d67d843ad>, line 1)",
     "output_type": "error",
     "traceback": [
      "\u001b[1;36m  File \u001b[1;32m\"<ipython-input-14-2a3d67d843ad>\"\u001b[1;36m, line \u001b[1;32m1\u001b[0m\n\u001b[1;33m    list(map(lambda x: str(x) if x % 3 == 0, a))\u001b[0m\n\u001b[1;37m                                           ^\u001b[0m\n\u001b[1;31mSyntaxError\u001b[0m\u001b[1;31m:\u001b[0m invalid syntax\n"
     ]
    }
   ],
   "source": [
    "list(map(lambda x: str(x) if x % 3 == 0, a))"
   ]
  },
  {
   "cell_type": "markdown",
   "metadata": {},
   "source": [
    "그리고 람다 표현식 안에서는 elif를 사용할 수 없습니다. 따라서 조건부 표현식은 식1 if 조건식1 else 식2 if 조건식2 else 식3 형식처럼 if를 연속으로 사용해야 합니다. 예를 들어 리스트에서 1은 문자열로 변환하고, 2는 실수로 변환, 3 이상은 10을 더하는 식은 다음과 같이 만듭니다.\n",
    "\n",
    "+ lambda 매개변수들 : 식1 if 조건식1 else 식2 if 조건식2 else 식3"
   ]
  },
  {
   "cell_type": "code",
   "execution_count": 15,
   "metadata": {
    "ExecuteTime": {
     "end_time": "2020-12-12T14:21:19.786875Z",
     "start_time": "2020-12-12T14:21:19.767059Z"
    }
   },
   "outputs": [
    {
     "data": {
      "text/plain": [
       "['1', 2.0, 13, 14, 15, 16, 17, 18, 19, 20]"
      ]
     },
     "execution_count": 15,
     "metadata": {},
     "output_type": "execute_result"
    }
   ],
   "source": [
    "a = [1, 2, 3, 4, 5, 6, 7, 8, 9, 10]\n",
    "list(map(lambda x : str(x) if x == 1 else float(x) if x == 2 else x + 10, a))"
   ]
  },
  {
   "cell_type": "markdown",
   "metadata": {},
   "source": [
    "별로 복잡하지 않은 조건인데도 알아보기가 힘듭니다. 이런 경우에는 억지로 람다 표현식을 사용하기 보다는 그냥 def로 함수를 만들고 if, elif, else를 사용하는 것을 권장합니다."
   ]
  },
  {
   "cell_type": "code",
   "execution_count": 16,
   "metadata": {
    "ExecuteTime": {
     "end_time": "2020-12-12T14:22:07.617337Z",
     "start_time": "2020-12-12T14:22:07.599317Z"
    },
    "scrolled": true
   },
   "outputs": [
    {
     "data": {
      "text/plain": [
       "['1', 2.0, 13, 14, 15, 16, 17, 18, 19, 20]"
      ]
     },
     "execution_count": 16,
     "metadata": {},
     "output_type": "execute_result"
    }
   ],
   "source": [
    "def f(x):\n",
    "    if x == 1:\n",
    "        return str(x)\n",
    "    elif x == 2:\n",
    "        return float(x)\n",
    "    else:\n",
    "        return x + 10\n",
    "\n",
    "a = [1, 2, 3, 4, 5, 6, 7, 8, 9, 10]\n",
    "list(map(f, a))"
   ]
  },
  {
   "cell_type": "markdown",
   "metadata": {},
   "source": [
    "복잡하고 어렵게 코드를 작성하면 나중에 시간이 지나서 자기가 만든 코드인데도 못 알아보는 경우가 생깁니다. 코드는 길이가 조금 길어지더라도 알아보기 쉽게 작성하는 것이 좋습니다."
   ]
  },
  {
   "cell_type": "markdown",
   "metadata": {},
   "source": [
    "### map에 객체를 여러 개 넣기\n",
    "\n",
    "map은 리스트 등의 반복 가능한 객체를 여러 개 넣을 수도 있습니다. 다음은 두 리스트의 요소를 곱해서 새 리스트를 만듭니다."
   ]
  },
  {
   "cell_type": "code",
   "execution_count": 17,
   "metadata": {
    "ExecuteTime": {
     "end_time": "2020-12-12T14:22:49.507510Z",
     "start_time": "2020-12-12T14:22:49.494475Z"
    }
   },
   "outputs": [
    {
     "data": {
      "text/plain": [
       "[2, 8, 18, 32, 50]"
      ]
     },
     "execution_count": 17,
     "metadata": {},
     "output_type": "execute_result"
    }
   ],
   "source": [
    "a = [1, 2, 3, 4, 5]\n",
    "b = [2, 4, 6, 8, 10]\n",
    "list(map(lambda x, y: x * y, a, b))"
   ]
  },
  {
   "cell_type": "markdown",
   "metadata": {},
   "source": [
    "이렇게 리스트 두 개를 처리할 때는 람다 표현식에서 lambda x, y: x * y처럼 매개변수를 두 개로 지정하면 됩니다. 그리고 map에 람다 표현식을 넣고 그다음에 리스트 두 개를 콤마로 구분해서 넣어줍니다. 즉, 람다 표현식의 매개변수 개수에 맞게 반복 가능한 객체도 콤마로 구분해서 넣어주면 됩니다."
   ]
  },
  {
   "cell_type": "markdown",
   "metadata": {},
   "source": [
    "### filter 사용하기\n",
    "\n",
    "이번에는 filter를 사용해보겠습니다. filter는 반복 가능한 객체에서 특정 조건에 맞는 요소만 가져오는데, filter에 지정한 함수의 반환값이 True일 때만 해당 요소를 가져옵니다.\n",
    "\n",
    "+ filter(함수, 반복가능한객체)\n",
    "\n",
    "먼저 def로 함수를 만들어서 filter를 사용해보겠습니다. 다음은 리스트에서 5보다 크면서 10보다 작은 숫자를 가져옵니다."
   ]
  },
  {
   "cell_type": "code",
   "execution_count": 18,
   "metadata": {
    "ExecuteTime": {
     "end_time": "2020-12-12T14:24:09.015102Z",
     "start_time": "2020-12-12T14:24:09.006126Z"
    }
   },
   "outputs": [
    {
     "data": {
      "text/plain": [
       "[8, 7, 9]"
      ]
     },
     "execution_count": 18,
     "metadata": {},
     "output_type": "execute_result"
    }
   ],
   "source": [
    "def f(x):\n",
    "    return x > 5 and x < 10\n",
    "    \n",
    "a = [8, 3, 2, 10, 15, 7, 1, 9, 0, 11]\n",
    "list(filter(f, a))"
   ]
  },
  {
   "cell_type": "markdown",
   "metadata": {},
   "source": [
    "리스트 a에서 8, 7, 9를 가져왔습니다. 즉, filter는 x > 5 and x < 10의 결과가 참인 요소만 가져오고 거짓인 요소는 버립니다.\n",
    "\n",
    "그럼 함수 f를 람다 표현식으로 만들어서 filter에 넣어보겠습니다."
   ]
  },
  {
   "cell_type": "code",
   "execution_count": 19,
   "metadata": {
    "ExecuteTime": {
     "end_time": "2020-12-12T14:24:57.961015Z",
     "start_time": "2020-12-12T14:24:57.951454Z"
    }
   },
   "outputs": [
    {
     "data": {
      "text/plain": [
       "[8, 7, 9]"
      ]
     },
     "execution_count": 19,
     "metadata": {},
     "output_type": "execute_result"
    }
   ],
   "source": [
    "a = [8, 3, 2, 10, 15, 7, 1, 9, 0, 11]\n",
    "list(filter(lambda x: x > 5 and x < 10, a))"
   ]
  },
  {
   "cell_type": "markdown",
   "metadata": {},
   "source": [
    "람다 표현식 lambda x: x > 5 and x < 10을 filter에 넣어서 5보다 크면서 10보다 작은 수를 가져오도록 만들었습니다."
   ]
  },
  {
   "cell_type": "markdown",
   "metadata": {},
   "source": [
    "### reduce 사용하기\n",
    "\n",
    "마지막으로 reduce를 사용해보겠습니다. reduce는 반복 가능한 객체의 각 요소를 지정된 함수로 처리한 뒤 이전 결과와 누적해서 반환하는 함수입니다(reduce는 파이썬 3부터 내장 함수가 아닙니다. 따라서 functools 모듈에서 reduce 함수를 가져와야 합니다)\n",
    "\n",
    "+ from functools import reduce\n",
    "+ reduce(함수, 반복가능한객체)\n",
    "\n",
    "다음은 리스트에 저장된 요소를 순서대로 더한 뒤 누적된 결과를 반환합니다."
   ]
  },
  {
   "cell_type": "code",
   "execution_count": 21,
   "metadata": {
    "ExecuteTime": {
     "end_time": "2020-12-12T14:28:14.922795Z",
     "start_time": "2020-12-12T14:28:14.908792Z"
    }
   },
   "outputs": [
    {
     "data": {
      "text/plain": [
       "15"
      ]
     },
     "execution_count": 21,
     "metadata": {},
     "output_type": "execute_result"
    }
   ],
   "source": [
    "def f(x, y):\n",
    "    return x + y\n",
    "\n",
    "a = [1, 2, 3, 4, 5]\n",
    "from functools import reduce\n",
    "reduce(f, a)"
   ]
  },
  {
   "cell_type": "markdown",
   "metadata": {},
   "source": [
    "reduce의 반환값이 15가 나왔습니다. 함수 f에서 x + y를 반환하도록 만들었으므로 reduce는 그림과 같이 요소 두 개를 계속 더하면서 결과를 누적합니다.\n",
    "\n",
    "이제 함수 f를 람다 표현식으로 만들어서 reduce에 넣어보겠습니다."
   ]
  },
  {
   "cell_type": "code",
   "execution_count": 23,
   "metadata": {
    "ExecuteTime": {
     "end_time": "2020-12-12T14:29:18.092036Z",
     "start_time": "2020-12-12T14:29:18.078972Z"
    }
   },
   "outputs": [
    {
     "data": {
      "text/plain": [
       "15"
      ]
     },
     "execution_count": 23,
     "metadata": {},
     "output_type": "execute_result"
    }
   ],
   "source": [
    "a = [1, 2, 3, 4, 5]\n",
    "from functools import reduce\n",
    "reduce(lambda x, y: x + y, a)"
   ]
  },
  {
   "cell_type": "markdown",
   "metadata": {},
   "source": [
    "lambda x, y: x + y와 같이 매개변수 x, y를 지정한 뒤 x와 y를 더한 결과를 반환하도록 만들었습니다."
   ]
  },
  {
   "cell_type": "markdown",
   "metadata": {},
   "source": [
    "지금까지 람다 표현식으로 익명 함수를 만들고, map, filter, reduce와 응용하는 방법을 알아보았습니다. 람다 표현식은 간단하게 함수를 만들 때 자주 사용합니다. 그러므로 람다 표현식은 꼭 익혀 두는 것이 좋습니다."
   ]
  },
  {
   "cell_type": "markdown",
   "metadata": {},
   "source": [
    "> map, filter, reduce와 리스트 표현식\n",
    "\n",
    "리스트(딕셔너리, 세트) 표현식으로 처리할 수 있는 경우에는 map, filter와 람다 표현식 대신 리스트 표현식을 사용하는 것이 좋습니다. list(filter(lambda x: x > 5 and x < 10, a))는 다음과 같이 리스트 표현식으로도 만들 수 있습니다."
   ]
  },
  {
   "cell_type": "code",
   "execution_count": 24,
   "metadata": {
    "ExecuteTime": {
     "end_time": "2020-12-12T14:30:37.407672Z",
     "start_time": "2020-12-12T14:30:37.390574Z"
    }
   },
   "outputs": [
    {
     "data": {
      "text/plain": [
       "[8, 7, 9]"
      ]
     },
     "execution_count": 24,
     "metadata": {},
     "output_type": "execute_result"
    }
   ],
   "source": [
    "a = [8, 3, 2, 10, 15, 7, 1, 9, 0, 11]\n",
    "[i for i in a if i > 5 and i < 10]"
   ]
  },
  {
   "cell_type": "markdown",
   "metadata": {},
   "source": [
    "리스트 표현식이 좀 더 알아보기 쉽고 속도도 더 빠릅니다.\n",
    "\n",
    "또한, for, while 반복문으로 처리할 수 있는 경우에도 reduce 대신 for, while을 사용하는 것이 좋습니다. 왜냐하면 reduce는 코드가 조금만 복잡해져도 의미하는 바를 한 눈에 알아보기가 힘들기 때문입니다. 이러한 이유로 파이썬 3부터는 reduce가 내장 함수에서 제외되었습니다.\n",
    "\n",
    "reduce(lambda x, y: x + y, a)는 다음과 같이 for 반복문으로 표현할 수 있습니다."
   ]
  },
  {
   "cell_type": "code",
   "execution_count": 26,
   "metadata": {
    "ExecuteTime": {
     "end_time": "2020-12-12T14:31:41.055039Z",
     "start_time": "2020-12-12T14:31:41.032003Z"
    }
   },
   "outputs": [
    {
     "data": {
      "text/plain": [
       "15"
      ]
     },
     "execution_count": 26,
     "metadata": {},
     "output_type": "execute_result"
    }
   ],
   "source": [
    "a = [1, 2, 3, 4, 5]\n",
    "x = a[0]\n",
    "for i in range(len(a) - 1):\n",
    "    x = x + a[i + 1]\n",
    "    \n",
    "x"
   ]
  },
  {
   "cell_type": "markdown",
   "metadata": {},
   "source": [
    "## 연습문제 : 이미지 파일만 가져오기\n",
    "\n",
    "다음 소스 코드를 완성하여 확장자가 .jpg, .png인 이미지 파일만 출력되게 만드세요. 여기서는 람다 표현식을 사용해야 하며 출력 결과는 리스트 형태라야 합니다. 람다 표현식에서 확장자를 검사할 때는 문자열 메서드를 활용하세요.\n",
    "\n",
    "```python\n",
    "files = ['font', '1.png', '10.jpg', '11.gif', '2.jpg', '3.png', 'table.xslx', 'spec.docx']\n",
    " \n",
    "print(                                                                           )\n",
    "```"
   ]
  },
  {
   "cell_type": "code",
   "execution_count": 28,
   "metadata": {
    "ExecuteTime": {
     "end_time": "2020-12-12T14:35:46.888935Z",
     "start_time": "2020-12-12T14:35:46.870930Z"
    }
   },
   "outputs": [],
   "source": [
    "files = ['font', '1.png', '10.jpg', '11.gif', '2.jpg', '3.png', 'table.xslx', 'spec.docx']"
   ]
  },
  {
   "cell_type": "code",
   "execution_count": 30,
   "metadata": {
    "ExecuteTime": {
     "end_time": "2020-12-12T14:35:52.454767Z",
     "start_time": "2020-12-12T14:35:52.439670Z"
    }
   },
   "outputs": [
    {
     "data": {
      "text/plain": [
       "['1.png', '10.jpg', '2.jpg', '3.png']"
      ]
     },
     "execution_count": 30,
     "metadata": {},
     "output_type": "execute_result"
    }
   ],
   "source": [
    "list(filter(lambda x : '.png' in x or '.jpg' in x, files))"
   ]
  },
  {
   "cell_type": "markdown",
   "metadata": {},
   "source": [
    "### 정답"
   ]
  },
  {
   "cell_type": "code",
   "execution_count": 31,
   "metadata": {
    "ExecuteTime": {
     "end_time": "2020-12-12T14:36:47.874867Z",
     "start_time": "2020-12-12T14:36:47.864706Z"
    }
   },
   "outputs": [
    {
     "data": {
      "text/plain": [
       "['1.png', '10.jpg', '2.jpg', '3.png']"
      ]
     },
     "execution_count": 31,
     "metadata": {},
     "output_type": "execute_result"
    }
   ],
   "source": [
    "list(filter(lambda x: x.find('.jpg') != -1 or x.find('.png') != -1, files))"
   ]
  }
 ],
 "metadata": {
  "kernelspec": {
   "display_name": "Python 3",
   "language": "python",
   "name": "python3"
  },
  "language_info": {
   "codemirror_mode": {
    "name": "ipython",
    "version": 3
   },
   "file_extension": ".py",
   "mimetype": "text/x-python",
   "name": "python",
   "nbconvert_exporter": "python",
   "pygments_lexer": "ipython3",
   "version": "3.7.6"
  },
  "toc": {
   "base_numbering": 1,
   "nav_menu": {},
   "number_sections": true,
   "sideBar": true,
   "skip_h1_title": true,
   "title_cell": "Table of Contents",
   "title_sidebar": "Contents",
   "toc_cell": true,
   "toc_position": {
    "height": "calc(100% - 180px)",
    "left": "10px",
    "top": "150px",
    "width": "384px"
   },
   "toc_section_display": true,
   "toc_window_display": true
  }
 },
 "nbformat": 4,
 "nbformat_minor": 4
}
