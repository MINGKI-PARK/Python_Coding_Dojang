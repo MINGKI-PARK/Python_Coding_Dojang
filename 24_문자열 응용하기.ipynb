{
 "cells": [
  {
   "cell_type": "markdown",
   "metadata": {},
   "source": [
    "# 24_문자열 응용하기"
   ]
  },
  {
   "cell_type": "markdown",
   "metadata": {
    "toc": true
   },
   "source": [
    "<h1>Table of Contents<span class=\"tocSkip\"></span></h1>\n",
    "<div class=\"toc\"><ul class=\"toc-item\"><li><span><a href=\"#문자열-조작하기\" data-toc-modified-id=\"문자열-조작하기-1\"><span class=\"toc-item-num\">1&nbsp;&nbsp;</span>문자열 조작하기</a></span><ul class=\"toc-item\"><li><span><a href=\"#문자열-바꾸기\" data-toc-modified-id=\"문자열-바꾸기-1.1\"><span class=\"toc-item-num\">1.1&nbsp;&nbsp;</span>문자열 바꾸기</a></span></li><li><span><a href=\"#문자-바꾸기\" data-toc-modified-id=\"문자-바꾸기-1.2\"><span class=\"toc-item-num\">1.2&nbsp;&nbsp;</span>문자 바꾸기</a></span></li><li><span><a href=\"#문자열-분리하기\" data-toc-modified-id=\"문자열-분리하기-1.3\"><span class=\"toc-item-num\">1.3&nbsp;&nbsp;</span>문자열 분리하기</a></span></li><li><span><a href=\"#구분자-문자열과-문자열-리스트-연결하기\" data-toc-modified-id=\"구분자-문자열과-문자열-리스트-연결하기-1.4\"><span class=\"toc-item-num\">1.4&nbsp;&nbsp;</span>구분자 문자열과 문자열 리스트 연결하기</a></span></li><li><span><a href=\"#소문자를-대문자로-바꾸기\" data-toc-modified-id=\"소문자를-대문자로-바꾸기-1.5\"><span class=\"toc-item-num\">1.5&nbsp;&nbsp;</span>소문자를 대문자로 바꾸기</a></span></li><li><span><a href=\"#대문자를-소문자로-바꾸기\" data-toc-modified-id=\"대문자를-소문자로-바꾸기-1.6\"><span class=\"toc-item-num\">1.6&nbsp;&nbsp;</span>대문자를 소문자로 바꾸기</a></span></li><li><span><a href=\"#왼쪽-공백-삭제하기\" data-toc-modified-id=\"왼쪽-공백-삭제하기-1.7\"><span class=\"toc-item-num\">1.7&nbsp;&nbsp;</span>왼쪽 공백 삭제하기</a></span></li><li><span><a href=\"#오른쪽-공백-삭제하기\" data-toc-modified-id=\"오른쪽-공백-삭제하기-1.8\"><span class=\"toc-item-num\">1.8&nbsp;&nbsp;</span>오른쪽 공백 삭제하기</a></span></li><li><span><a href=\"#양쪽-공백-삭제하기\" data-toc-modified-id=\"양쪽-공백-삭제하기-1.9\"><span class=\"toc-item-num\">1.9&nbsp;&nbsp;</span>양쪽 공백 삭제하기</a></span></li><li><span><a href=\"#왼쪽의-특정-문자-삭제하기\" data-toc-modified-id=\"왼쪽의-특정-문자-삭제하기-1.10\"><span class=\"toc-item-num\">1.10&nbsp;&nbsp;</span>왼쪽의 특정 문자 삭제하기</a></span></li><li><span><a href=\"#오른쪽-특정-문자-삭제하기\" data-toc-modified-id=\"오른쪽-특정-문자-삭제하기-1.11\"><span class=\"toc-item-num\">1.11&nbsp;&nbsp;</span>오른쪽 특정 문자 삭제하기</a></span></li><li><span><a href=\"#양쪽의-특정-문자-삭제하기\" data-toc-modified-id=\"양쪽의-특정-문자-삭제하기-1.12\"><span class=\"toc-item-num\">1.12&nbsp;&nbsp;</span>양쪽의 특정 문자 삭제하기</a></span></li><li><span><a href=\"#문자열을-왼쪽-정렬하기\" data-toc-modified-id=\"문자열을-왼쪽-정렬하기-1.13\"><span class=\"toc-item-num\">1.13&nbsp;&nbsp;</span>문자열을 왼쪽 정렬하기</a></span></li><li><span><a href=\"#문자열을-오른쪽-정렬하기\" data-toc-modified-id=\"문자열을-오른쪽-정렬하기-1.14\"><span class=\"toc-item-num\">1.14&nbsp;&nbsp;</span>문자열을 오른쪽 정렬하기</a></span></li><li><span><a href=\"#문자열을-가운데-정렬하기\" data-toc-modified-id=\"문자열을-가운데-정렬하기-1.15\"><span class=\"toc-item-num\">1.15&nbsp;&nbsp;</span>문자열을 가운데 정렬하기</a></span></li><li><span><a href=\"#메서드-체이닝\" data-toc-modified-id=\"메서드-체이닝-1.16\"><span class=\"toc-item-num\">1.16&nbsp;&nbsp;</span>메서드 체이닝</a></span></li><li><span><a href=\"#문자열-왼쪽에-0-채우기\" data-toc-modified-id=\"문자열-왼쪽에-0-채우기-1.17\"><span class=\"toc-item-num\">1.17&nbsp;&nbsp;</span>문자열 왼쪽에 0 채우기</a></span></li><li><span><a href=\"#문자열-위치-찾기\" data-toc-modified-id=\"문자열-위치-찾기-1.18\"><span class=\"toc-item-num\">1.18&nbsp;&nbsp;</span>문자열 위치 찾기</a></span></li><li><span><a href=\"#오른쪽에서부터-문자열-위치-찾기\" data-toc-modified-id=\"오른쪽에서부터-문자열-위치-찾기-1.19\"><span class=\"toc-item-num\">1.19&nbsp;&nbsp;</span>오른쪽에서부터 문자열 위치 찾기</a></span></li><li><span><a href=\"#문자열-위치-찾기\" data-toc-modified-id=\"문자열-위치-찾기-1.20\"><span class=\"toc-item-num\">1.20&nbsp;&nbsp;</span>문자열 위치 찾기</a></span></li><li><span><a href=\"#오른쪽에서부터-문자열-위치-찾기\" data-toc-modified-id=\"오른쪽에서부터-문자열-위치-찾기-1.21\"><span class=\"toc-item-num\">1.21&nbsp;&nbsp;</span>오른쪽에서부터 문자열 위치 찾기</a></span></li><li><span><a href=\"#문자열-개수-세기\" data-toc-modified-id=\"문자열-개수-세기-1.22\"><span class=\"toc-item-num\">1.22&nbsp;&nbsp;</span>문자열 개수 세기</a></span></li></ul></li><li><span><a href=\"#문자열-서식-지정자와-포매팅-사용하기\" data-toc-modified-id=\"문자열-서식-지정자와-포매팅-사용하기-2\"><span class=\"toc-item-num\">2&nbsp;&nbsp;</span>문자열 서식 지정자와 포매팅 사용하기</a></span><ul class=\"toc-item\"><li><span><a href=\"#서식-지정자로-문자열-넣기\" data-toc-modified-id=\"서식-지정자로-문자열-넣기-2.1\"><span class=\"toc-item-num\">2.1&nbsp;&nbsp;</span>서식 지정자로 문자열 넣기</a></span></li><li><span><a href=\"#서식-지정자로-숫자-넣기\" data-toc-modified-id=\"서식-지정자로-숫자-넣기-2.2\"><span class=\"toc-item-num\">2.2&nbsp;&nbsp;</span>서식 지정자로 숫자 넣기</a></span></li><li><span><a href=\"#서식-지정자로-소수점-표현하기\" data-toc-modified-id=\"서식-지정자로-소수점-표현하기-2.3\"><span class=\"toc-item-num\">2.3&nbsp;&nbsp;</span>서식 지정자로 소수점 표현하기</a></span></li><li><span><a href=\"#서식-지정자로-문자열-정리하기\" data-toc-modified-id=\"서식-지정자로-문자열-정리하기-2.4\"><span class=\"toc-item-num\">2.4&nbsp;&nbsp;</span>서식 지정자로 문자열 정리하기</a></span></li><li><span><a href=\"#서식-지정자로-문자열-안에-값-여러-개-넣기\" data-toc-modified-id=\"서식-지정자로-문자열-안에-값-여러-개-넣기-2.5\"><span class=\"toc-item-num\">2.5&nbsp;&nbsp;</span>서식 지정자로 문자열 안에 값 여러 개 넣기</a></span></li><li><span><a href=\"#format-메서드-사용하기\" data-toc-modified-id=\"format-메서드-사용하기-2.6\"><span class=\"toc-item-num\">2.6&nbsp;&nbsp;</span>format 메서드 사용하기</a></span></li><li><span><a href=\"#format-메서드로-값을-여러-개-넣기\" data-toc-modified-id=\"format-메서드로-값을-여러-개-넣기-2.7\"><span class=\"toc-item-num\">2.7&nbsp;&nbsp;</span>format 메서드로 값을 여러 개 넣기</a></span></li><li><span><a href=\"#format-메서드로-같은-값을-여러-개-넣기\" data-toc-modified-id=\"format-메서드로-같은-값을-여러-개-넣기-2.8\"><span class=\"toc-item-num\">2.8&nbsp;&nbsp;</span>format 메서드로 같은 값을 여러 개 넣기</a></span></li><li><span><a href=\"#format-메서드에서-인덱스-생략하기\" data-toc-modified-id=\"format-메서드에서-인덱스-생략하기-2.9\"><span class=\"toc-item-num\">2.9&nbsp;&nbsp;</span>format 메서드에서 인덱스 생략하기</a></span></li><li><span><a href=\"#format-메서드에서-인덱스-대신-이름-지정하기\" data-toc-modified-id=\"format-메서드에서-인덱스-대신-이름-지정하기-2.10\"><span class=\"toc-item-num\">2.10&nbsp;&nbsp;</span>format 메서드에서 인덱스 대신 이름 지정하기</a></span></li><li><span><a href=\"#문자열-포매팅에-변수를-그대로-사용하기\" data-toc-modified-id=\"문자열-포매팅에-변수를-그대로-사용하기-2.11\"><span class=\"toc-item-num\">2.11&nbsp;&nbsp;</span>문자열 포매팅에 변수를 그대로 사용하기</a></span></li><li><span><a href=\"#format-메서드로-문자열-정렬하기\" data-toc-modified-id=\"format-메서드로-문자열-정렬하기-2.12\"><span class=\"toc-item-num\">2.12&nbsp;&nbsp;</span>format 메서드로 문자열 정렬하기</a></span></li><li><span><a href=\"#숫자-개수-맞추기\" data-toc-modified-id=\"숫자-개수-맞추기-2.13\"><span class=\"toc-item-num\">2.13&nbsp;&nbsp;</span>숫자 개수 맞추기</a></span></li></ul></li><li><span><a href=\"#채우기와-정렬을-조합해서-사용하기\" data-toc-modified-id=\"채우기와-정렬을-조합해서-사용하기-3\"><span class=\"toc-item-num\">3&nbsp;&nbsp;</span>채우기와 정렬을 조합해서 사용하기</a></span></li><li><span><a href=\"#퀴즈\" data-toc-modified-id=\"퀴즈-4\"><span class=\"toc-item-num\">4&nbsp;&nbsp;</span>퀴즈</a></span><ul class=\"toc-item\"><li><span><a href=\"#1번-문제\" data-toc-modified-id=\"1번-문제-4.1\"><span class=\"toc-item-num\">4.1&nbsp;&nbsp;</span>1번 문제</a></span><ul class=\"toc-item\"><li><span><a href=\"#정답\" data-toc-modified-id=\"정답-4.1.1\"><span class=\"toc-item-num\">4.1.1&nbsp;&nbsp;</span>정답</a></span></li></ul></li></ul></li></ul></div>"
   ]
  },
  {
   "cell_type": "markdown",
   "metadata": {},
   "source": [
    "## 문자열 조작하기"
   ]
  },
  {
   "cell_type": "markdown",
   "metadata": {},
   "source": [
    "### 문자열 바꾸기\n",
    "\n",
    "* **replace('바꿀문자열', '새문자열')**\n",
    "\n",
    "문자열 자체는 변경하지 않으며 바뀐 결과를 반환한다."
   ]
  },
  {
   "cell_type": "code",
   "execution_count": 1,
   "metadata": {
    "ExecuteTime": {
     "end_time": "2020-11-24T11:35:39.079368Z",
     "start_time": "2020-11-24T11:35:39.051988Z"
    }
   },
   "outputs": [
    {
     "data": {
      "text/plain": [
       "'Hello, Python!'"
      ]
     },
     "execution_count": 1,
     "metadata": {},
     "output_type": "execute_result"
    }
   ],
   "source": [
    "'Hello, world!'.replace('world', 'Python')"
   ]
  },
  {
   "cell_type": "markdown",
   "metadata": {},
   "source": [
    "바뀐 결과를 유지하고 싶다면 변수에 할당해주면 된다."
   ]
  },
  {
   "cell_type": "code",
   "execution_count": 2,
   "metadata": {
    "ExecuteTime": {
     "end_time": "2020-11-24T11:36:20.683460Z",
     "start_time": "2020-11-24T11:36:20.663411Z"
    }
   },
   "outputs": [
    {
     "data": {
      "text/plain": [
       "'Hello, Python'"
      ]
     },
     "execution_count": 2,
     "metadata": {},
     "output_type": "execute_result"
    }
   ],
   "source": [
    "s = 'Hello, world!'\n",
    "s = s.replace('world!', 'Python')\n",
    "s"
   ]
  },
  {
   "cell_type": "markdown",
   "metadata": {},
   "source": [
    "### 문자 바꾸기\n",
    "\n",
    "translate는 문자열 안의 문자를 다른 문자로 바꾼다.\n",
    "\n",
    "1. 먼저 str.maketrans('바꿀문자', '새문자')로 변환 테이블을 만든다.\n",
    "2. 그 다음에 translate(테이블)을 사용하면 문자를 바꾼 뒤 결과를 반환한다."
   ]
  },
  {
   "cell_type": "code",
   "execution_count": 3,
   "metadata": {
    "ExecuteTime": {
     "end_time": "2020-11-24T11:40:01.646218Z",
     "start_time": "2020-11-24T11:40:01.626949Z"
    }
   },
   "outputs": [
    {
     "data": {
      "text/plain": [
       "'1ppl2'"
      ]
     },
     "execution_count": 3,
     "metadata": {},
     "output_type": "execute_result"
    }
   ],
   "source": [
    "table = str.maketrans('aeiou', '12345')\n",
    "'apple'.translate(table)"
   ]
  },
  {
   "cell_type": "markdown",
   "metadata": {},
   "source": [
    "### 문자열 분리하기\n",
    "\n",
    "* split()\n",
    "\n",
    "split()은 공백을 기준으로 문자열을 분리하여 리스트로 만든다."
   ]
  },
  {
   "cell_type": "code",
   "execution_count": 4,
   "metadata": {
    "ExecuteTime": {
     "end_time": "2020-11-24T11:41:00.639484Z",
     "start_time": "2020-11-24T11:41:00.631997Z"
    }
   },
   "outputs": [
    {
     "data": {
      "text/plain": [
       "['apple', 'pear', 'grape', 'pineapple', 'orange']"
      ]
     },
     "execution_count": 4,
     "metadata": {},
     "output_type": "execute_result"
    }
   ],
   "source": [
    "'apple pear grape pineapple orange'.split()"
   ]
  },
  {
   "cell_type": "markdown",
   "metadata": {},
   "source": [
    "**split('기준문자열')** 과 같이 기준 문자열을 지정하면 기준 문자열로 문자열을 분리한다. 즉, 문자열에서 각 단어가 ,(콤마)와 공백으로 구분되어 있을 때 ', '으로 문자열을 분리하면 단어만 리스트로 만든다."
   ]
  },
  {
   "cell_type": "code",
   "execution_count": 5,
   "metadata": {
    "ExecuteTime": {
     "end_time": "2020-11-24T11:42:31.371923Z",
     "start_time": "2020-11-24T11:42:31.352316Z"
    }
   },
   "outputs": [
    {
     "data": {
      "text/plain": [
       "['apple', 'pear', 'grape', 'pineapple', 'orange']"
      ]
     },
     "execution_count": 5,
     "metadata": {},
     "output_type": "execute_result"
    }
   ],
   "source": [
    "'apple, pear, grape, pineapple, orange'.split(', ')"
   ]
  },
  {
   "cell_type": "markdown",
   "metadata": {},
   "source": [
    "### 구분자 문자열과 문자열 리스트 연결하기\n",
    "\n",
    "`join(리스트)`는 구분자 문자열과 문자열 리스트의 요소를 연결하여 문자열로 만든다.\n",
    "\n",
    "공백 ' '에 join을 사용해서 각 문자열 사이에 공백이 들어가도록 만든다."
   ]
  },
  {
   "cell_type": "code",
   "execution_count": 6,
   "metadata": {
    "ExecuteTime": {
     "end_time": "2020-11-24T11:44:21.420088Z",
     "start_time": "2020-11-24T11:44:21.399072Z"
    }
   },
   "outputs": [
    {
     "data": {
      "text/plain": [
       "'apple pear grape pineapple orange'"
      ]
     },
     "execution_count": 6,
     "metadata": {},
     "output_type": "execute_result"
    }
   ],
   "source": [
    "' '.join(['apple', 'pear', 'grape', 'pineapple', 'orange'])"
   ]
  },
  {
   "cell_type": "markdown",
   "metadata": {},
   "source": [
    "마이너스 '-'에 join을 사용하기"
   ]
  },
  {
   "cell_type": "code",
   "execution_count": 7,
   "metadata": {
    "ExecuteTime": {
     "end_time": "2020-11-24T11:45:23.275059Z",
     "start_time": "2020-11-24T11:45:23.262790Z"
    }
   },
   "outputs": [
    {
     "data": {
      "text/plain": [
       "'apple-pear-grape-pineapple-orange'"
      ]
     },
     "execution_count": 7,
     "metadata": {},
     "output_type": "execute_result"
    }
   ],
   "source": [
    "'-'.join(['apple', 'pear', 'grape', 'pineapple', 'orange'])"
   ]
  },
  {
   "cell_type": "markdown",
   "metadata": {},
   "source": [
    "### 소문자를 대문자로 바꾸기\n",
    "\n",
    "`upper()`는 문자열의 문자를 모두 대문자로 바꾼다. 만약 문자열 안에 대문자가 있다면 그대로 유지된다."
   ]
  },
  {
   "cell_type": "code",
   "execution_count": 8,
   "metadata": {
    "ExecuteTime": {
     "end_time": "2020-11-24T11:46:11.944033Z",
     "start_time": "2020-11-24T11:46:11.936005Z"
    }
   },
   "outputs": [
    {
     "data": {
      "text/plain": [
       "'PYTHON'"
      ]
     },
     "execution_count": 8,
     "metadata": {},
     "output_type": "execute_result"
    }
   ],
   "source": [
    "'python'.upper()"
   ]
  },
  {
   "cell_type": "markdown",
   "metadata": {},
   "source": [
    "### 대문자를 소문자로 바꾸기\n",
    "\n",
    "`lower()`는 문자열의 문자를 모두 소문자로 부꾼다. 만약 문자열 안에 소문자가 있다면 그대로 유지된다."
   ]
  },
  {
   "cell_type": "code",
   "execution_count": 9,
   "metadata": {
    "ExecuteTime": {
     "end_time": "2020-11-24T11:46:57.810124Z",
     "start_time": "2020-11-24T11:46:57.800100Z"
    }
   },
   "outputs": [
    {
     "data": {
      "text/plain": [
       "'python'"
      ]
     },
     "execution_count": 9,
     "metadata": {},
     "output_type": "execute_result"
    }
   ],
   "source": [
    "'PYTHON'.lower()"
   ]
  },
  {
   "cell_type": "markdown",
   "metadata": {},
   "source": [
    "### 왼쪽 공백 삭제하기\n",
    "\n",
    "문자열을 사용하다 보면 공백을 삭제해야 할 경우가 생긴다. 이때는 lstrip, rstrip, strip 메서드를 사용한다.\n",
    "\n",
    "`lstrip()`은 문자열에서 왼쪽에 있는 연속된 모든 공백을 삭제한다.(l은 왼쪽(left)을 의미)."
   ]
  },
  {
   "cell_type": "code",
   "execution_count": 10,
   "metadata": {
    "ExecuteTime": {
     "end_time": "2020-11-24T11:48:19.402406Z",
     "start_time": "2020-11-24T11:48:19.383947Z"
    }
   },
   "outputs": [
    {
     "data": {
      "text/plain": [
       "'Python   '"
      ]
     },
     "execution_count": 10,
     "metadata": {},
     "output_type": "execute_result"
    }
   ],
   "source": [
    "'   Python   '.lstrip()"
   ]
  },
  {
   "cell_type": "markdown",
   "metadata": {},
   "source": [
    "### 오른쪽 공백 삭제하기\n",
    "\n",
    "`rstrip()`은 문자열에서 오른쪽에 있는 연속된 모든 공백을 삭제한다.(r은 오른쪽(right)을 의미)."
   ]
  },
  {
   "cell_type": "code",
   "execution_count": 11,
   "metadata": {
    "ExecuteTime": {
     "end_time": "2020-11-24T11:49:54.986007Z",
     "start_time": "2020-11-24T11:49:54.975982Z"
    }
   },
   "outputs": [
    {
     "data": {
      "text/plain": [
       "'   Python'"
      ]
     },
     "execution_count": 11,
     "metadata": {},
     "output_type": "execute_result"
    }
   ],
   "source": [
    "'   Python   '.rstrip()"
   ]
  },
  {
   "cell_type": "markdown",
   "metadata": {},
   "source": [
    "### 양쪽 공백 삭제하기\n",
    "\n",
    "`strip()`은 문자열에서 양쪽에 있는 연속된 모든 공백을 삭제한다."
   ]
  },
  {
   "cell_type": "code",
   "execution_count": 12,
   "metadata": {
    "ExecuteTime": {
     "end_time": "2020-11-24T11:50:27.439460Z",
     "start_time": "2020-11-24T11:50:27.432156Z"
    }
   },
   "outputs": [
    {
     "data": {
      "text/plain": [
       "'Python'"
      ]
     },
     "execution_count": 12,
     "metadata": {},
     "output_type": "execute_result"
    }
   ],
   "source": [
    "'   Python   '.strip()"
   ]
  },
  {
   "cell_type": "markdown",
   "metadata": {},
   "source": [
    "### 왼쪽의 특정 문자 삭제하기\n",
    "\n",
    "`lstrip('삭제할문자들')`과 같이 삭제할 문자들을 문자열 형태로 넣어주면 문자열 왼쪽에 있는 해당 문자를 삭제한다.\n",
    "\n",
    "다음은 문자열 왼쪽의 ,(콤마)와 .(점)을 삭제한다. 단, 여기서는 공백을 넣지 않았으므로 공백은 그대로 둔다."
   ]
  },
  {
   "cell_type": "code",
   "execution_count": 13,
   "metadata": {
    "ExecuteTime": {
     "end_time": "2020-11-24T11:52:18.023321Z",
     "start_time": "2020-11-24T11:52:18.016260Z"
    }
   },
   "outputs": [
    {
     "data": {
      "text/plain": [
       "' python.'"
      ]
     },
     "execution_count": 13,
     "metadata": {},
     "output_type": "execute_result"
    }
   ],
   "source": [
    "', python.'.lstrip(',.')"
   ]
  },
  {
   "cell_type": "markdown",
   "metadata": {},
   "source": [
    "### 오른쪽 특정 문자 삭제하기\n",
    "\n",
    "`rstrip('삭제할문자들')`과 같이 삭제할 문자들을 문자열 형태로 넣어주면 문자열 오른쪽에 있는 해당 문자를 삭제한다."
   ]
  },
  {
   "cell_type": "code",
   "execution_count": 14,
   "metadata": {
    "ExecuteTime": {
     "end_time": "2020-11-24T11:53:13.668029Z",
     "start_time": "2020-11-24T11:53:13.647777Z"
    }
   },
   "outputs": [
    {
     "data": {
      "text/plain": [
       "', python'"
      ]
     },
     "execution_count": 14,
     "metadata": {},
     "output_type": "execute_result"
    }
   ],
   "source": [
    "', python.'.rstrip(',.')"
   ]
  },
  {
   "cell_type": "markdown",
   "metadata": {},
   "source": [
    "### 양쪽의 특정 문자 삭제하기\n",
    "\n",
    "`strip('삭제할문자들')`과 같이 삭제할 문자들을 문자열 형태로 넣어주면 문자열 양쪽에 있는 해당 문자를 삭제한다."
   ]
  },
  {
   "cell_type": "code",
   "execution_count": 15,
   "metadata": {
    "ExecuteTime": {
     "end_time": "2020-11-24T11:54:10.481176Z",
     "start_time": "2020-11-24T11:54:10.471270Z"
    }
   },
   "outputs": [
    {
     "data": {
      "text/plain": [
       "' python'"
      ]
     },
     "execution_count": 15,
     "metadata": {},
     "output_type": "execute_result"
    }
   ],
   "source": [
    "', python.'.strip(',.')"
   ]
  },
  {
   "cell_type": "markdown",
   "metadata": {},
   "source": [
    "> 구두점을 간단하게 삭제하기\n",
    "\n",
    "string 모듈의 punctuation에는 모든 구두점이 들어있다. 다음과 같이 strip 메서드에 string.punctuation을 넣으면 문자열 양쪽의 모든 구두점을 간단하게 삭제할 수 있다."
   ]
  },
  {
   "cell_type": "code",
   "execution_count": 16,
   "metadata": {
    "ExecuteTime": {
     "end_time": "2020-11-24T11:57:21.898111Z",
     "start_time": "2020-11-24T11:57:21.891131Z"
    }
   },
   "outputs": [
    {
     "data": {
      "text/plain": [
       "' python'"
      ]
     },
     "execution_count": 16,
     "metadata": {},
     "output_type": "execute_result"
    }
   ],
   "source": [
    "import string\n",
    "\n",
    "', python.'.strip(string.punctuation)"
   ]
  },
  {
   "cell_type": "code",
   "execution_count": 17,
   "metadata": {
    "ExecuteTime": {
     "end_time": "2020-11-24T11:57:30.346335Z",
     "start_time": "2020-11-24T11:57:30.328690Z"
    }
   },
   "outputs": [
    {
     "data": {
      "text/plain": [
       "'!\"#$%&\\'()*+,-./:;<=>?@[\\\\]^_`{|}~'"
      ]
     },
     "execution_count": 17,
     "metadata": {},
     "output_type": "execute_result"
    }
   ],
   "source": [
    "string.punctuation"
   ]
  },
  {
   "cell_type": "markdown",
   "metadata": {},
   "source": [
    "만약 공백까지 삭제하고 싶다면?\n",
    "\n",
    "string.punctuation에 공백' '을 연결해서 넣어주면 된다."
   ]
  },
  {
   "cell_type": "code",
   "execution_count": 18,
   "metadata": {
    "ExecuteTime": {
     "end_time": "2020-11-24T11:58:21.475937Z",
     "start_time": "2020-11-24T11:58:21.464408Z"
    }
   },
   "outputs": [
    {
     "data": {
      "text/plain": [
       "'python'"
      ]
     },
     "execution_count": 18,
     "metadata": {},
     "output_type": "execute_result"
    }
   ],
   "source": [
    "', python.'.strip(string.punctuation + ' ')"
   ]
  },
  {
   "cell_type": "markdown",
   "metadata": {},
   "source": [
    "물론 메서드 체이닝을 활용해도 된다."
   ]
  },
  {
   "cell_type": "code",
   "execution_count": 19,
   "metadata": {
    "ExecuteTime": {
     "end_time": "2020-11-24T11:58:59.853219Z",
     "start_time": "2020-11-24T11:58:59.841179Z"
    }
   },
   "outputs": [
    {
     "data": {
      "text/plain": [
       "'python'"
      ]
     },
     "execution_count": 19,
     "metadata": {},
     "output_type": "execute_result"
    }
   ],
   "source": [
    "', python.'.strip(string.punctuation).strip()"
   ]
  },
  {
   "cell_type": "markdown",
   "metadata": {},
   "source": [
    "### 문자열을 왼쪽 정렬하기\n",
    "\n",
    "문자열에 공백을 넣어서 원하는 위치에 정렬하기\n",
    "\n",
    "`ljust(길이)`는 문자열을 지정된 길이로 만든 뒤 왼쪽으로 정렬하며 남는 공간을 공백으로 채운다.(l은 왼쪽(left)을 의미)"
   ]
  },
  {
   "cell_type": "code",
   "execution_count": 20,
   "metadata": {
    "ExecuteTime": {
     "end_time": "2020-11-24T12:02:10.784117Z",
     "start_time": "2020-11-24T12:02:10.778133Z"
    }
   },
   "outputs": [
    {
     "data": {
      "text/plain": [
       "'python    '"
      ]
     },
     "execution_count": 20,
     "metadata": {},
     "output_type": "execute_result"
    }
   ],
   "source": [
    "'python'.ljust(10)"
   ]
  },
  {
   "cell_type": "markdown",
   "metadata": {},
   "source": [
    "### 문자열을 오른쪽 정렬하기\n",
    "\n",
    "`rjust(길이)`는 문자열을 지정된 길이로 만든 뒤 오른쪽으로 정렬하여 남는 공간을 공백으로 채운다.(r은 오른쪽(right)를 의미)"
   ]
  },
  {
   "cell_type": "code",
   "execution_count": 21,
   "metadata": {
    "ExecuteTime": {
     "end_time": "2020-11-24T12:03:24.824224Z",
     "start_time": "2020-11-24T12:03:24.808866Z"
    }
   },
   "outputs": [
    {
     "data": {
      "text/plain": [
       "'    python'"
      ]
     },
     "execution_count": 21,
     "metadata": {},
     "output_type": "execute_result"
    }
   ],
   "source": [
    "'python'.rjust(10)"
   ]
  },
  {
   "cell_type": "markdown",
   "metadata": {},
   "source": [
    "### 문자열을 가운데 정렬하기\n",
    "\n",
    "`center(길이)`는 문자열을 지정된 길이로 만든 뒤 가운데로 정렬하며 남는 공간을 공백으로 채운다."
   ]
  },
  {
   "cell_type": "code",
   "execution_count": 24,
   "metadata": {
    "ExecuteTime": {
     "end_time": "2020-11-24T12:04:23.087331Z",
     "start_time": "2020-11-24T12:04:23.079199Z"
    }
   },
   "outputs": [
    {
     "data": {
      "text/plain": [
       "'  python  '"
      ]
     },
     "execution_count": 24,
     "metadata": {},
     "output_type": "execute_result"
    }
   ],
   "source": [
    "'python'.center(10)"
   ]
  },
  {
   "cell_type": "markdown",
   "metadata": {},
   "source": [
    "만약 가운데로 정렬했을 때 전체 길이와 남는 공간이 모두 홀수가 된다면 왼쪽에 공백이 한 칸 더 들어간다."
   ]
  },
  {
   "cell_type": "code",
   "execution_count": 25,
   "metadata": {
    "ExecuteTime": {
     "end_time": "2020-11-24T12:04:50.328811Z",
     "start_time": "2020-11-24T12:04:50.312311Z"
    }
   },
   "outputs": [
    {
     "data": {
      "text/plain": [
       "'   python  '"
      ]
     },
     "execution_count": 25,
     "metadata": {},
     "output_type": "execute_result"
    }
   ],
   "source": [
    "'python'.center(11)"
   ]
  },
  {
   "cell_type": "markdown",
   "metadata": {},
   "source": [
    "### 메서드 체이닝\n",
    "\n",
    "문자열 메서드는 처리한 결과를 반환하도록 만들어져 있다. 따라서 메서드를 계속 연결해서 호출하는 메서드 체이닝이 가능하다. 메서드 체이닝은 메서드를 줄줄이 연결한다고 해서 메서드 체이닝(method chaining)이라 부른다."
   ]
  },
  {
   "cell_type": "code",
   "execution_count": 26,
   "metadata": {
    "ExecuteTime": {
     "end_time": "2020-11-24T12:08:29.840714Z",
     "start_time": "2020-11-24T12:08:29.832918Z"
    }
   },
   "outputs": [
    {
     "data": {
      "text/plain": [
       "'    PYTHON'"
      ]
     },
     "execution_count": 26,
     "metadata": {},
     "output_type": "execute_result"
    }
   ],
   "source": [
    "'python'.rjust(10).upper()"
   ]
  },
  {
   "cell_type": "markdown",
   "metadata": {},
   "source": [
    "### 문자열 왼쪽에 0 채우기\n",
    "\n",
    "`zfill(길이)`는 지정된 길이에 맞춰서 문자열의 왼쪽에 0을 채운다. (zero fill을 의미). 단 문자열의 길이보다 지정된 길이가 작다면 아무것도 채우지 않는다.\n",
    "\n",
    "보통 zfill은 숫자를 일정 자릿수로 맞추고 앞자리는 0으로 채울 때 사용한다."
   ]
  },
  {
   "cell_type": "code",
   "execution_count": 27,
   "metadata": {
    "ExecuteTime": {
     "end_time": "2020-11-24T12:59:10.986157Z",
     "start_time": "2020-11-24T12:59:10.966245Z"
    }
   },
   "outputs": [
    {
     "data": {
      "text/plain": [
       "'0035'"
      ]
     },
     "execution_count": 27,
     "metadata": {},
     "output_type": "execute_result"
    }
   ],
   "source": [
    "'35'.zfill(4)        # 숫자 앞에 0을 채움"
   ]
  },
  {
   "cell_type": "code",
   "execution_count": 28,
   "metadata": {
    "ExecuteTime": {
     "end_time": "2020-11-24T12:59:18.553271Z",
     "start_time": "2020-11-24T12:59:18.544037Z"
    }
   },
   "outputs": [
    {
     "data": {
      "text/plain": [
       "'0003.5'"
      ]
     },
     "execution_count": 28,
     "metadata": {},
     "output_type": "execute_result"
    }
   ],
   "source": [
    "'3.5'.zfill(6)       # 숫자 앞에 0을 채움"
   ]
  },
  {
   "cell_type": "code",
   "execution_count": 29,
   "metadata": {
    "ExecuteTime": {
     "end_time": "2020-11-24T12:59:26.966622Z",
     "start_time": "2020-11-24T12:59:26.952662Z"
    }
   },
   "outputs": [
    {
     "data": {
      "text/plain": [
       "'00000hello'"
      ]
     },
     "execution_count": 29,
     "metadata": {},
     "output_type": "execute_result"
    }
   ],
   "source": [
    "'hello'.zfill(10)    # 문자열 앞에 0을 채울 수도 있음"
   ]
  },
  {
   "cell_type": "markdown",
   "metadata": {},
   "source": [
    "### 문자열 위치 찾기\n",
    "\n",
    "`find('찾을문자열')`은 문자열에서 특정 문자열을 찾아서 인덱스를 반환하고, 문자열이 없으면 -1을 반환한다. \n",
    "\n",
    "find는 왼쪽에서부터 문자열을 찾는데, 같은 문자열이 여러 개일 경우 처음 찾은 문자열의 인덱스를 반환한다."
   ]
  },
  {
   "cell_type": "code",
   "execution_count": 30,
   "metadata": {
    "ExecuteTime": {
     "end_time": "2020-11-24T13:00:57.007406Z",
     "start_time": "2020-11-24T13:00:56.998327Z"
    }
   },
   "outputs": [
    {
     "data": {
      "text/plain": [
       "2"
      ]
     },
     "execution_count": 30,
     "metadata": {},
     "output_type": "execute_result"
    }
   ],
   "source": [
    "'apple pineapple'.find('pl')"
   ]
  },
  {
   "cell_type": "code",
   "execution_count": 31,
   "metadata": {
    "ExecuteTime": {
     "end_time": "2020-11-24T13:01:22.023696Z",
     "start_time": "2020-11-24T13:01:22.015603Z"
    }
   },
   "outputs": [
    {
     "data": {
      "text/plain": [
       "-1"
      ]
     },
     "execution_count": 31,
     "metadata": {},
     "output_type": "execute_result"
    }
   ],
   "source": [
    "'apple pineapple'.find('xy')"
   ]
  },
  {
   "cell_type": "markdown",
   "metadata": {
    "ExecuteTime": {
     "end_time": "2020-11-24T13:01:42.458999Z",
     "start_time": "2020-11-24T13:01:42.448700Z"
    }
   },
   "source": [
    "### 오른쪽에서부터 문자열 위치 찾기\n",
    "\n",
    "`rfind('찾을문자열')`은 오른쪽에서부터 특정 문자열을 찾아서 인덱스를 반환하고, 문자열이 없으면 -1을 반환한다.(r은 오른쪽(right)을 의미)."
   ]
  },
  {
   "cell_type": "code",
   "execution_count": 33,
   "metadata": {
    "ExecuteTime": {
     "end_time": "2020-11-24T13:03:11.826109Z",
     "start_time": "2020-11-24T13:03:11.819513Z"
    }
   },
   "outputs": [
    {
     "data": {
      "text/plain": [
       "12"
      ]
     },
     "execution_count": 33,
     "metadata": {},
     "output_type": "execute_result"
    }
   ],
   "source": [
    "'apple pineapple'.rfind('pl')"
   ]
  },
  {
   "cell_type": "code",
   "execution_count": 34,
   "metadata": {
    "ExecuteTime": {
     "end_time": "2020-11-24T13:03:29.389140Z",
     "start_time": "2020-11-24T13:03:29.368155Z"
    }
   },
   "outputs": [
    {
     "data": {
      "text/plain": [
       "-1"
      ]
     },
     "execution_count": 34,
     "metadata": {},
     "output_type": "execute_result"
    }
   ],
   "source": [
    "'apple pineapple'.rfind('xy')"
   ]
  },
  {
   "cell_type": "markdown",
   "metadata": {},
   "source": [
    "### 문자열 위치 찾기\n",
    "\n",
    "find, rfind 이외에도 index, rindex로 문자열의 위치를 찾을 수 있다.\n",
    "\n",
    "**index('찾을문자열')** 은 왼쪽에서부터 특정 문자열을 찾아서 인덱스를 반환한다.\n",
    "\n",
    "단, 문자열이 없으면 에러를 발생시킨다. index도 문자열이 여러 개일 경우 처음 찾은 문자열의 인덱스를 반환한다."
   ]
  },
  {
   "cell_type": "code",
   "execution_count": 35,
   "metadata": {
    "ExecuteTime": {
     "end_time": "2020-11-24T13:05:09.480769Z",
     "start_time": "2020-11-24T13:05:09.473281Z"
    }
   },
   "outputs": [
    {
     "data": {
      "text/plain": [
       "2"
      ]
     },
     "execution_count": 35,
     "metadata": {},
     "output_type": "execute_result"
    }
   ],
   "source": [
    "'apple pineapple'.index('pl')"
   ]
  },
  {
   "cell_type": "markdown",
   "metadata": {},
   "source": [
    "### 오른쪽에서부터 문자열 위치 찾기\n",
    "\n",
    "`rindex('찾을문자열')`은 오른쪽에서부터 특정 문자열을 찾아서 인덱스를 반환한다. (r은 오른쪽(right)을 의미)."
   ]
  },
  {
   "cell_type": "code",
   "execution_count": 36,
   "metadata": {
    "ExecuteTime": {
     "end_time": "2020-11-24T13:06:03.271518Z",
     "start_time": "2020-11-24T13:06:03.264873Z"
    }
   },
   "outputs": [
    {
     "data": {
      "text/plain": [
       "12"
      ]
     },
     "execution_count": 36,
     "metadata": {},
     "output_type": "execute_result"
    }
   ],
   "source": [
    "'apple pineapple'.rindex('pl')"
   ]
  },
  {
   "cell_type": "markdown",
   "metadata": {},
   "source": [
    "### 문자열 개수 세기\n",
    "\n",
    "* count('문자열')\n",
    "\n",
    "count('문자열')은 현재 문자열에서 특정 문자열이 몇 번 나오는지 알아낸다."
   ]
  },
  {
   "cell_type": "code",
   "execution_count": 37,
   "metadata": {
    "ExecuteTime": {
     "end_time": "2020-11-24T13:06:48.507813Z",
     "start_time": "2020-11-24T13:06:48.489680Z"
    }
   },
   "outputs": [
    {
     "data": {
      "text/plain": [
       "2"
      ]
     },
     "execution_count": 37,
     "metadata": {},
     "output_type": "execute_result"
    }
   ],
   "source": [
    "'apple pineapple'.count('pl')"
   ]
  },
  {
   "cell_type": "markdown",
   "metadata": {},
   "source": [
    "## 문자열 서식 지정자와 포매팅 사용하기\n",
    "\n",
    "서식 지정자(format specifier)로 문자열을 만드는 방법과 format 메서드로 문자열을 만드는 문자열 포매팅(string formatting)에 대해 알아보자."
   ]
  },
  {
   "cell_type": "markdown",
   "metadata": {},
   "source": [
    "### 서식 지정자로 문자열 넣기\n",
    "\n",
    "서식 지정자(format specifier)로 문자열 중간에 다른 문자열을 넣어보자.\n",
    "\n",
    "* '%s' % '문자열'"
   ]
  },
  {
   "cell_type": "code",
   "execution_count": 38,
   "metadata": {
    "ExecuteTime": {
     "end_time": "2020-11-24T13:19:07.077611Z",
     "start_time": "2020-11-24T13:19:07.072132Z"
    }
   },
   "outputs": [
    {
     "data": {
      "text/plain": [
       "'I am james.'"
      ]
     },
     "execution_count": 38,
     "metadata": {},
     "output_type": "execute_result"
    }
   ],
   "source": [
    "'I am %s.' % 'james'"
   ]
  },
  {
   "cell_type": "markdown",
   "metadata": {},
   "source": [
    "서식 지정자는 %로 시작하고 자료형을 뜻하는 문자가 붙는다. %s는 문자열이라는 뜻이며 string의 s이다.('I am %s.'과 'james' 사이의 %는 따옴표로 묶지 않고 그대로 입력해야 한다)."
   ]
  },
  {
   "cell_type": "markdown",
   "metadata": {},
   "source": [
    "문자열을 바로 지정하지 않고 변수를 지정할 수도 있다."
   ]
  },
  {
   "cell_type": "code",
   "execution_count": 39,
   "metadata": {
    "ExecuteTime": {
     "end_time": "2020-11-24T13:20:36.112048Z",
     "start_time": "2020-11-24T13:20:36.092718Z"
    }
   },
   "outputs": [
    {
     "data": {
      "text/plain": [
       "'I am maria.'"
      ]
     },
     "execution_count": 39,
     "metadata": {},
     "output_type": "execute_result"
    }
   ],
   "source": [
    "name = 'maria'\n",
    "'I am %s.' % name"
   ]
  },
  {
   "cell_type": "markdown",
   "metadata": {},
   "source": [
    "### 서식 지정자로 숫자 넣기\n",
    "\n",
    "숫자를 넣어보자\n",
    "\n",
    "* '%d' % 숫자"
   ]
  },
  {
   "cell_type": "code",
   "execution_count": 40,
   "metadata": {
    "ExecuteTime": {
     "end_time": "2020-11-24T13:21:13.878981Z",
     "start_time": "2020-11-24T13:21:13.873782Z"
    }
   },
   "outputs": [
    {
     "data": {
      "text/plain": [
       "'I am 20 years old.'"
      ]
     },
     "execution_count": 40,
     "metadata": {},
     "output_type": "execute_result"
    }
   ],
   "source": [
    "'I am %d years old.' % 20"
   ]
  },
  {
   "cell_type": "markdown",
   "metadata": {},
   "source": [
    "숫자는 %d를 넣고 % 뒤에 숫자를 지정하면 된다. %d는 10진 정수 decimal integer의 d이다."
   ]
  },
  {
   "cell_type": "markdown",
   "metadata": {},
   "source": [
    "### 서식 지정자로 소수점 표현하기\n",
    "\n",
    "숫자 중에 소수점으로 된 실수를 넣어야 할 경우도 있다.\n",
    "\n",
    "* '%f' % 숫자"
   ]
  },
  {
   "cell_type": "code",
   "execution_count": 41,
   "metadata": {
    "ExecuteTime": {
     "end_time": "2020-11-24T13:22:37.053416Z",
     "start_time": "2020-11-24T13:22:37.033312Z"
    }
   },
   "outputs": [
    {
     "data": {
      "text/plain": [
       "'2.300000'"
      ]
     },
     "execution_count": 41,
     "metadata": {},
     "output_type": "execute_result"
    }
   ],
   "source": [
    "'%f' % 2.3"
   ]
  },
  {
   "cell_type": "markdown",
   "metadata": {},
   "source": [
    "실수를 넣을 때는 %f를 사용하며 고정 소수점 fixed point의 f이다. %f는 기본적으로 소수점 이하 6자리까지 표시하므로 2.3은 2.300000으로 표시된다.\n",
    "\n",
    "소수점 이하 자릿수를 지정하고 싶다면 다음과 같이 f 앞에 .(점)과 자릿수를 지정해주면 된다.\n",
    "\n",
    "* '%.자릿수f' % 숫자"
   ]
  },
  {
   "cell_type": "code",
   "execution_count": 42,
   "metadata": {
    "ExecuteTime": {
     "end_time": "2020-11-24T13:24:26.542239Z",
     "start_time": "2020-11-24T13:24:26.530047Z"
    }
   },
   "outputs": [
    {
     "data": {
      "text/plain": [
       "'2.30'"
      ]
     },
     "execution_count": 42,
     "metadata": {},
     "output_type": "execute_result"
    }
   ],
   "source": [
    "'%.2f' % 2.3"
   ]
  },
  {
   "cell_type": "code",
   "execution_count": 43,
   "metadata": {
    "ExecuteTime": {
     "end_time": "2020-11-24T13:24:33.407983Z",
     "start_time": "2020-11-24T13:24:33.392166Z"
    }
   },
   "outputs": [
    {
     "data": {
      "text/plain": [
       "'2.300'"
      ]
     },
     "execution_count": 43,
     "metadata": {},
     "output_type": "execute_result"
    }
   ],
   "source": [
    "'%.3f' % 2.3"
   ]
  },
  {
   "cell_type": "markdown",
   "metadata": {},
   "source": [
    "### 서식 지정자로 문자열 정리하기\n",
    "\n",
    "% 뒤에 숫자를 붙이면 문자열을 지정된 길이로 만든 뒤 오른쪽으로 정렬하고 남는 공간을 공백으로 채운다.\n",
    "\n",
    "* %길이s % '문자열'"
   ]
  },
  {
   "cell_type": "code",
   "execution_count": 44,
   "metadata": {
    "ExecuteTime": {
     "end_time": "2020-11-24T13:40:55.314073Z",
     "start_time": "2020-11-24T13:40:55.303948Z"
    }
   },
   "outputs": [
    {
     "data": {
      "text/plain": [
       "'    python'"
      ]
     },
     "execution_count": 44,
     "metadata": {},
     "output_type": "execute_result"
    }
   ],
   "source": [
    "'%10s' % 'python'"
   ]
  },
  {
   "cell_type": "markdown",
   "metadata": {},
   "source": [
    "%10s는 문자열의 길이를 10으로 만든 뒤 지정된 문자열을 넣고 오른쪽으로 정렬한다.. 따라서 문자열 'python'은 길이가 6이므로 왼쪽 공간을 공백 4칸으로 채운다."
   ]
  },
  {
   "cell_type": "markdown",
   "metadata": {},
   "source": [
    "> 자릿수가 다른 숫자 출력하기\n",
    "\n",
    "문자열 오른쪽 정렬은 자릿수가 다른 숫자를 출력할 때 유용하다. %d와 %f도 숫자와 조합하여 오른쪽으로 정렬할 수 있다.\n",
    "\n",
    "**%길이d**"
   ]
  },
  {
   "cell_type": "code",
   "execution_count": 45,
   "metadata": {
    "ExecuteTime": {
     "end_time": "2020-11-24T13:42:46.115219Z",
     "start_time": "2020-11-24T13:42:46.095011Z"
    }
   },
   "outputs": [
    {
     "data": {
      "text/plain": [
       "'       150'"
      ]
     },
     "execution_count": 45,
     "metadata": {},
     "output_type": "execute_result"
    }
   ],
   "source": [
    "'%10d' % 150"
   ]
  },
  {
   "cell_type": "code",
   "execution_count": 46,
   "metadata": {
    "ExecuteTime": {
     "end_time": "2020-11-24T13:42:52.953325Z",
     "start_time": "2020-11-24T13:42:52.938189Z"
    }
   },
   "outputs": [
    {
     "data": {
      "text/plain": [
       "'     15000'"
      ]
     },
     "execution_count": 46,
     "metadata": {},
     "output_type": "execute_result"
    }
   ],
   "source": [
    "'%10d' % 15000"
   ]
  },
  {
   "cell_type": "markdown",
   "metadata": {},
   "source": [
    "실수는 다음과 같이 .(점) 앞에 정렬할 길이를 지정하고, 점 뒤에 소수점 이하 지릿수를 지정한다.\n",
    "\n",
    "**%길이.자릿수f**"
   ]
  },
  {
   "cell_type": "code",
   "execution_count": 47,
   "metadata": {
    "ExecuteTime": {
     "end_time": "2020-11-24T13:43:44.112286Z",
     "start_time": "2020-11-24T13:43:44.098085Z"
    }
   },
   "outputs": [
    {
     "data": {
      "text/plain": [
       "'      2.30'"
      ]
     },
     "execution_count": 47,
     "metadata": {},
     "output_type": "execute_result"
    }
   ],
   "source": [
    "'%10.2f' % 2.3"
   ]
  },
  {
   "cell_type": "code",
   "execution_count": 48,
   "metadata": {
    "ExecuteTime": {
     "end_time": "2020-11-24T13:43:59.137487Z",
     "start_time": "2020-11-24T13:43:59.129413Z"
    }
   },
   "outputs": [
    {
     "data": {
      "text/plain": [
       "'   2000.30'"
      ]
     },
     "execution_count": 48,
     "metadata": {},
     "output_type": "execute_result"
    }
   ],
   "source": [
    "'%10.2f' % 2000.3"
   ]
  },
  {
   "cell_type": "markdown",
   "metadata": {},
   "source": [
    "왼쪽 정렬은 문자열 길이에 -를 붙여주면 된다!\n",
    "\n",
    "* %-길이d"
   ]
  },
  {
   "cell_type": "code",
   "execution_count": 49,
   "metadata": {
    "ExecuteTime": {
     "end_time": "2020-11-24T13:45:14.637930Z",
     "start_time": "2020-11-24T13:45:14.618018Z"
    }
   },
   "outputs": [
    {
     "data": {
      "text/plain": [
       "'python    '"
      ]
     },
     "execution_count": 49,
     "metadata": {},
     "output_type": "execute_result"
    }
   ],
   "source": [
    "'%-10s' % 'python'"
   ]
  },
  {
   "cell_type": "markdown",
   "metadata": {},
   "source": [
    "### 서식 지정자로 문자열 안에 값 여러 개 넣기\n",
    "\n",
    "문자열 안에 값을 두 개 이상 넣으려면 %를 붙이고, 괄호 안에 값(변수)을 콤마로 구분해서 넣어주면 된다.\n",
    "\n",
    "특히 값을 괄호로 묶지 않으면 에러가 발생하므로 주의해야 한다.\n",
    "\n",
    "* '%d %s' % (숫자, '문자열')"
   ]
  },
  {
   "cell_type": "code",
   "execution_count": 50,
   "metadata": {
    "ExecuteTime": {
     "end_time": "2020-11-24T13:47:02.323912Z",
     "start_time": "2020-11-24T13:47:02.305977Z"
    }
   },
   "outputs": [
    {
     "data": {
      "text/plain": [
       "'Today is 3 April.'"
      ]
     },
     "execution_count": 50,
     "metadata": {},
     "output_type": "execute_result"
    }
   ],
   "source": [
    "'Today is %d %s.' % (3, 'April')"
   ]
  },
  {
   "cell_type": "markdown",
   "metadata": {},
   "source": [
    "서식 지정자가 여러 개면 괄호 안의 값(변수) 개수도 서식 지정자 개수와 똑같이 맞춰주어야 한다.\n",
    "\n",
    "지금까지 서식 지정자 사이를 공백으로 띄웠다. 만약 서식 지정자를 서로 붙이면 결과도 붙어서 나오므로 주의해야 한다."
   ]
  },
  {
   "cell_type": "code",
   "execution_count": 51,
   "metadata": {
    "ExecuteTime": {
     "end_time": "2020-11-24T13:48:14.472601Z",
     "start_time": "2020-11-24T13:48:14.459393Z"
    }
   },
   "outputs": [
    {
     "data": {
      "text/plain": [
       "'Today is 3April.'"
      ]
     },
     "execution_count": 51,
     "metadata": {},
     "output_type": "execute_result"
    }
   ],
   "source": [
    "'Today is %d%s.' % (3, 'April')"
   ]
  },
  {
   "cell_type": "markdown",
   "metadata": {},
   "source": [
    "###  format 메서드 사용하기\n",
    "\n",
    "파이썬은 문자열을 만들 때 서식 지정자 방식보다 더 간단한 문자열 포매팅(string formatting)을 제공한다.\n",
    "\n",
    "문자열 포매팅은 { }(중괄호) 안에 포매팅을 지정하고 format 메서드로 값을 넣는다.\n",
    "\n",
    "* '{인덱스}'.format(값)"
   ]
  },
  {
   "cell_type": "code",
   "execution_count": 52,
   "metadata": {
    "ExecuteTime": {
     "end_time": "2020-11-24T13:49:50.045273Z",
     "start_time": "2020-11-24T13:49:50.034385Z"
    }
   },
   "outputs": [
    {
     "data": {
      "text/plain": [
       "'Hello, world!'"
      ]
     },
     "execution_count": 52,
     "metadata": {},
     "output_type": "execute_result"
    }
   ],
   "source": [
    "'Hello, {0}'.format('world!')"
   ]
  },
  {
   "cell_type": "code",
   "execution_count": 53,
   "metadata": {
    "ExecuteTime": {
     "end_time": "2020-11-24T13:50:04.945217Z",
     "start_time": "2020-11-24T13:50:04.930133Z"
    }
   },
   "outputs": [
    {
     "data": {
      "text/plain": [
       "'Hello, 100'"
      ]
     },
     "execution_count": 53,
     "metadata": {},
     "output_type": "execute_result"
    }
   ],
   "source": [
    "'Hello, {0}'.format(100)"
   ]
  },
  {
   "cell_type": "markdown",
   "metadata": {},
   "source": [
    "### format 메서드로 값을 여러 개 넣기\n",
    "\n",
    "인덱스의 순서와 format에 지정된 값의 순서에 주목하자"
   ]
  },
  {
   "cell_type": "code",
   "execution_count": 54,
   "metadata": {
    "ExecuteTime": {
     "end_time": "2020-11-24T13:50:50.683245Z",
     "start_time": "2020-11-24T13:50:50.676264Z"
    }
   },
   "outputs": [
    {
     "data": {
      "text/plain": [
       "'Hello, Python 3.6 Script'"
      ]
     },
     "execution_count": 54,
     "metadata": {},
     "output_type": "execute_result"
    }
   ],
   "source": [
    "'Hello, {0} {2} {1}'.format('Python', 'Script', 3.6)"
   ]
  },
  {
   "cell_type": "markdown",
   "metadata": {},
   "source": [
    "{ }에 인덱스를 지정한 뒤 format에는 인덱스가 증가하는 순서대로 값을 넣으면 된다. 여기서는 {0} {2} {1}처럼 인덱스 순서를 섞었고 format에는 'Python', 'Script', 3.6 순으로 넣었다. 따라서 문자열에는 인덱스 숫자에 해당하는 값이 들어가서 'Hello, Python 3.6 Script'가 나온다."
   ]
  },
  {
   "cell_type": "markdown",
   "metadata": {},
   "source": [
    "### format 메서드로 같은 값을 여러 개 넣기\n",
    "\n",
    "특히 같은 인덱스가 지정된 { }를 여러 개 넣으면 같은 값이 여러 개 들어간다."
   ]
  },
  {
   "cell_type": "code",
   "execution_count": 55,
   "metadata": {
    "ExecuteTime": {
     "end_time": "2020-11-24T13:52:42.456051Z",
     "start_time": "2020-11-24T13:52:42.442923Z"
    }
   },
   "outputs": [
    {
     "data": {
      "text/plain": [
       "'Python Python Script Script'"
      ]
     },
     "execution_count": 55,
     "metadata": {},
     "output_type": "execute_result"
    }
   ],
   "source": [
    "'{0} {0} {1} {1}'.format('Python', 'Script')"
   ]
  },
  {
   "cell_type": "markdown",
   "metadata": {},
   "source": [
    "### format 메서드에서 인덱스 생략하기\n",
    "\n",
    "만약 { }에서 인덱스를 생략하면 format에 지정한 순서대로 값이 들어간다."
   ]
  },
  {
   "cell_type": "code",
   "execution_count": 56,
   "metadata": {
    "ExecuteTime": {
     "end_time": "2020-11-24T13:53:17.776617Z",
     "start_time": "2020-11-24T13:53:17.763117Z"
    }
   },
   "outputs": [
    {
     "data": {
      "text/plain": [
       "'Hello, Python Script 3.6'"
      ]
     },
     "execution_count": 56,
     "metadata": {},
     "output_type": "execute_result"
    }
   ],
   "source": [
    "'Hello, {} {} {}'.format('Python', 'Script', 3.6)"
   ]
  },
  {
   "cell_type": "markdown",
   "metadata": {},
   "source": [
    "### format 메서드에서 인덱스 대신 이름 지정하기\n",
    "\n",
    "{ }에 인덱스 대신 이름을 지정할 수도 있다."
   ]
  },
  {
   "cell_type": "code",
   "execution_count": 57,
   "metadata": {
    "ExecuteTime": {
     "end_time": "2020-11-24T13:53:55.380899Z",
     "start_time": "2020-11-24T13:53:55.369500Z"
    }
   },
   "outputs": [
    {
     "data": {
      "text/plain": [
       "'Hello, Python 3.6'"
      ]
     },
     "execution_count": 57,
     "metadata": {},
     "output_type": "execute_result"
    }
   ],
   "source": [
    "'Hello, {language} {version}'.format(language='Python', version=3.6)"
   ]
  },
  {
   "cell_type": "markdown",
   "metadata": {},
   "source": [
    "### 문자열 포매팅에 변수를 그대로 사용하기\n",
    "\n",
    "변수에 값을 넣고 { }에 변수 이름을 지정하면 된다. 이때는 문자열 앞에 포매팅(formatting)이라는 뜻으로 f를 붙인다."
   ]
  },
  {
   "cell_type": "code",
   "execution_count": 58,
   "metadata": {
    "ExecuteTime": {
     "end_time": "2020-11-24T13:55:12.418560Z",
     "start_time": "2020-11-24T13:55:12.409587Z"
    }
   },
   "outputs": [
    {
     "data": {
      "text/plain": [
       "'Hello, Python 3.6'"
      ]
     },
     "execution_count": 58,
     "metadata": {},
     "output_type": "execute_result"
    }
   ],
   "source": [
    "language = 'Python'\n",
    "version = 3.6\n",
    "f'Hello, {language} {version}'"
   ]
  },
  {
   "cell_type": "markdown",
   "metadata": {},
   "source": [
    "> 중괄호 출력하기\n",
    "\n",
    "{ } 중괄호 자체를 출력할 때는 {{,}}처럼 중괄호를 두 번 사용하면 된다."
   ]
  },
  {
   "cell_type": "code",
   "execution_count": 59,
   "metadata": {
    "ExecuteTime": {
     "end_time": "2020-11-24T13:56:14.645331Z",
     "start_time": "2020-11-24T13:56:14.636119Z"
    }
   },
   "outputs": [
    {
     "data": {
      "text/plain": [
       "'{ Python }'"
      ]
     },
     "execution_count": 59,
     "metadata": {},
     "output_type": "execute_result"
    }
   ],
   "source": [
    "'{{ {0} }}'.format('Python')"
   ]
  },
  {
   "cell_type": "markdown",
   "metadata": {
    "ExecuteTime": {
     "end_time": "2020-11-24T13:56:35.332668Z",
     "start_time": "2020-11-24T13:56:35.258063Z"
    }
   },
   "source": [
    "### format 메서드로 문자열 정렬하기\n",
    "\n",
    "인덱스 뒤에 :(콜론)을 붙이고 정렬할 방향과 길이를 지정해주면 된다.\n",
    "\n",
    "* '{인덱스:<길이}'.format(값)"
   ]
  },
  {
   "cell_type": "code",
   "execution_count": 61,
   "metadata": {
    "ExecuteTime": {
     "end_time": "2020-11-24T13:57:51.614522Z",
     "start_time": "2020-11-24T13:57:51.594170Z"
    }
   },
   "outputs": [
    {
     "data": {
      "text/plain": [
       "'python    '"
      ]
     },
     "execution_count": 61,
     "metadata": {},
     "output_type": "execute_result"
    }
   ],
   "source": [
    "'{0:<10}'.format('python')"
   ]
  },
  {
   "cell_type": "markdown",
   "metadata": {},
   "source": [
    "\\>을 넣어서 오른쪽을 가리키도록 만들면 문자열을 지정된 길이로 만든 뒤 오른쪽으로 정렬하고 남는 공간을 공백으로 채운다.\n",
    "\n",
    "* '{인덱스:>길이}'.format(값)"
   ]
  },
  {
   "cell_type": "code",
   "execution_count": 62,
   "metadata": {
    "ExecuteTime": {
     "end_time": "2020-11-24T13:58:53.424088Z",
     "start_time": "2020-11-24T13:58:53.418102Z"
    }
   },
   "outputs": [
    {
     "data": {
      "text/plain": [
       "'    python'"
      ]
     },
     "execution_count": 62,
     "metadata": {},
     "output_type": "execute_result"
    }
   ],
   "source": [
    "'{0:>10}'.format('python')"
   ]
  },
  {
   "cell_type": "markdown",
   "metadata": {},
   "source": [
    "참고로 인덱스를 사용하지 않는다면 :(콜론)과 정렬 방법만 지정해도 된다."
   ]
  },
  {
   "cell_type": "code",
   "execution_count": 63,
   "metadata": {
    "ExecuteTime": {
     "end_time": "2020-11-24T13:59:30.084280Z",
     "start_time": "2020-11-24T13:59:30.066077Z"
    }
   },
   "outputs": [
    {
     "data": {
      "text/plain": [
       "'    python'"
      ]
     },
     "execution_count": 63,
     "metadata": {},
     "output_type": "execute_result"
    }
   ],
   "source": [
    "'{:>10}'.format('python')"
   ]
  },
  {
   "cell_type": "markdown",
   "metadata": {},
   "source": [
    "### 숫자 개수 맞추기\n",
    "\n",
    "* '%0개수d' % 숫자\n",
    "* '{인덱스:0개수d'}'.format(숫자)"
   ]
  },
  {
   "cell_type": "code",
   "execution_count": 64,
   "metadata": {
    "ExecuteTime": {
     "end_time": "2020-11-24T14:04:15.607182Z",
     "start_time": "2020-11-24T14:04:15.595229Z"
    }
   },
   "outputs": [
    {
     "data": {
      "text/plain": [
       "'001'"
      ]
     },
     "execution_count": 64,
     "metadata": {},
     "output_type": "execute_result"
    }
   ],
   "source": [
    "'%03d' % 1"
   ]
  },
  {
   "cell_type": "code",
   "execution_count": 65,
   "metadata": {
    "ExecuteTime": {
     "end_time": "2020-11-24T14:04:25.533632Z",
     "start_time": "2020-11-24T14:04:25.524246Z"
    }
   },
   "outputs": [
    {
     "data": {
      "text/plain": [
       "'035'"
      ]
     },
     "execution_count": 65,
     "metadata": {},
     "output_type": "execute_result"
    }
   ],
   "source": [
    "'{0:03d}'.format(35)"
   ]
  },
  {
   "cell_type": "code",
   "execution_count": 66,
   "metadata": {
    "ExecuteTime": {
     "end_time": "2020-11-24T14:04:31.358199Z",
     "start_time": "2020-11-24T14:04:31.338185Z"
    }
   },
   "outputs": [
    {
     "data": {
      "text/plain": [
       "'035'"
      ]
     },
     "execution_count": 66,
     "metadata": {},
     "output_type": "execute_result"
    }
   ],
   "source": [
    "'{:03d}'.format(35)"
   ]
  },
  {
   "cell_type": "markdown",
   "metadata": {},
   "source": [
    "실수로 숫자 개수 맞추기\n",
    "\n",
    "* '%0개수.자릿수f' % 숫자\n",
    "* '{인덱스:0개수.자릿수f'}.format(숫자)"
   ]
  },
  {
   "cell_type": "code",
   "execution_count": 67,
   "metadata": {
    "ExecuteTime": {
     "end_time": "2020-11-24T14:05:22.788895Z",
     "start_time": "2020-11-24T14:05:22.781243Z"
    }
   },
   "outputs": [
    {
     "data": {
      "text/plain": [
       "'00003.60'"
      ]
     },
     "execution_count": 67,
     "metadata": {},
     "output_type": "execute_result"
    }
   ],
   "source": [
    "'%08.2f' % 3.6"
   ]
  },
  {
   "cell_type": "code",
   "execution_count": 68,
   "metadata": {
    "ExecuteTime": {
     "end_time": "2020-11-24T14:05:38.194560Z",
     "start_time": "2020-11-24T14:05:38.186576Z"
    }
   },
   "outputs": [
    {
     "data": {
      "text/plain": [
       "'00150.37'"
      ]
     },
     "execution_count": 68,
     "metadata": {},
     "output_type": "execute_result"
    }
   ],
   "source": [
    "'{0:08.2f}'.format(150.37)"
   ]
  },
  {
   "cell_type": "code",
   "execution_count": 69,
   "metadata": {
    "ExecuteTime": {
     "end_time": "2020-11-24T14:05:44.863219Z",
     "start_time": "2020-11-24T14:05:44.851132Z"
    }
   },
   "outputs": [
    {
     "data": {
      "text/plain": [
       "'00150.37'"
      ]
     },
     "execution_count": 69,
     "metadata": {},
     "output_type": "execute_result"
    }
   ],
   "source": [
    "'{:08.2f}'.format(150.37)"
   ]
  },
  {
   "cell_type": "markdown",
   "metadata": {},
   "source": [
    "여기서 주의할 점은 '%08.2f' % 3.6을 출력했을 때 '00003.60'이 나온다는 점이다. 잘 보면 3 앞에 0이 7개가 아니라 4개만 붙어 있다. 실수는 숫자 개수에 정수 부분, 소수점, 소수점 이하 자릿수가 모두 포함된다. 따라서 '00003' 5개, '.' 1개, '60' 2개 총 8개이다.\n",
    "\n",
    "* 정수 부분, 소수점, 소수점 이하 자릿수 모두 포함!"
   ]
  },
  {
   "cell_type": "markdown",
   "metadata": {},
   "source": [
    "## 채우기와 정렬을 조합해서 사용하기\n",
    "\n",
    "문자열 포매팅은 채우기와 정렬을 조합해서 사용할 수 있음.\n",
    "\n",
    "다음과 같이 { }에 인덱스, 채우기, 정렬, 길이, 자릿수, 자료형 순으로 지정해준다.\n",
    "\n",
    "* '{인덱스:[[채우기]정렬][길이][.자릿수][자료형]}'"
   ]
  },
  {
   "cell_type": "code",
   "execution_count": 70,
   "metadata": {
    "ExecuteTime": {
     "end_time": "2020-11-24T14:08:23.277728Z",
     "start_time": "2020-11-24T14:08:23.270254Z"
    }
   },
   "outputs": [
    {
     "data": {
      "text/plain": [
       "'1500000000'"
      ]
     },
     "execution_count": 70,
     "metadata": {},
     "output_type": "execute_result"
    }
   ],
   "source": [
    "'{0:0<10}'.format(15)    # 길이 10, 왼쪽으로 정렬하고 남는 공간은 0으로 채움"
   ]
  },
  {
   "cell_type": "code",
   "execution_count": 71,
   "metadata": {
    "ExecuteTime": {
     "end_time": "2020-11-24T14:08:31.135140Z",
     "start_time": "2020-11-24T14:08:31.123170Z"
    }
   },
   "outputs": [
    {
     "data": {
      "text/plain": [
       "'0000000015'"
      ]
     },
     "execution_count": 71,
     "metadata": {},
     "output_type": "execute_result"
    }
   ],
   "source": [
    "'{0:0>10}'.format(15)    # 길이 10, 오른쪽으로 정렬하고 남는 공간은 0으로 채움"
   ]
  },
  {
   "cell_type": "markdown",
   "metadata": {},
   "source": [
    "실수로 만들기"
   ]
  },
  {
   "cell_type": "code",
   "execution_count": 72,
   "metadata": {
    "ExecuteTime": {
     "end_time": "2020-11-24T14:12:49.918449Z",
     "start_time": "2020-11-24T14:12:49.907182Z"
    }
   },
   "outputs": [
    {
     "data": {
      "text/plain": [
       "'0000015.00'"
      ]
     },
     "execution_count": 72,
     "metadata": {},
     "output_type": "execute_result"
    }
   ],
   "source": [
    "'{0:0>10.2f}'.format(15)    # 길이 10, 오른쪽으로 정렬하고 소수점 자릿수는 2자리"
   ]
  },
  {
   "cell_type": "markdown",
   "metadata": {},
   "source": [
    "특히 채우기 부분에 0이 아닌 다른 문자를 넣어도 된다. 공백을 넣어도 되고, 문자를 넣어도 된다. 만약 채우기 부분을 생략하면 공백이 들어간다."
   ]
  },
  {
   "cell_type": "code",
   "execution_count": 73,
   "metadata": {
    "ExecuteTime": {
     "end_time": "2020-11-24T14:13:24.839395Z",
     "start_time": "2020-11-24T14:13:24.830082Z"
    }
   },
   "outputs": [
    {
     "data": {
      "text/plain": [
       "'        15'"
      ]
     },
     "execution_count": 73,
     "metadata": {},
     "output_type": "execute_result"
    }
   ],
   "source": [
    "'{0: >10}'.format(15)    # 남는 공간을 공백으로 채움"
   ]
  },
  {
   "cell_type": "code",
   "execution_count": 74,
   "metadata": {
    "ExecuteTime": {
     "end_time": "2020-11-24T14:13:31.939321Z",
     "start_time": "2020-11-24T14:13:31.922105Z"
    }
   },
   "outputs": [
    {
     "data": {
      "text/plain": [
       "'        15'"
      ]
     },
     "execution_count": 74,
     "metadata": {},
     "output_type": "execute_result"
    }
   ],
   "source": [
    "'{0:>10}'.format(15)     # 채우기 부분을 생략하면 공백이 들어감"
   ]
  },
  {
   "cell_type": "code",
   "execution_count": 75,
   "metadata": {
    "ExecuteTime": {
     "end_time": "2020-11-24T14:13:41.013236Z",
     "start_time": "2020-11-24T14:13:40.989295Z"
    }
   },
   "outputs": [
    {
     "data": {
      "text/plain": [
       "'xxxxxxxx15'"
      ]
     },
     "execution_count": 75,
     "metadata": {},
     "output_type": "execute_result"
    }
   ],
   "source": [
    "'{0:x>10}'.format(15)    # 남는 공간을 문자 x로 채움"
   ]
  },
  {
   "cell_type": "markdown",
   "metadata": {},
   "source": [
    "> 금액에서 천단위로 콤마 넣기\n",
    "\n",
    "숫자 중에서 금액은 천단위로 ,(콤마)를 넣는다. 파이썬에서는 간단하게 천단위로 콤마를 넣을 수 있다.\n",
    "\n",
    "먼저 format 내장 함수를 사용하는 방법이다. 다음과 같이 format 함수에 숫자와 ','를 넣어준다.\n",
    "\n",
    "**format(숫자, ',')**"
   ]
  },
  {
   "cell_type": "code",
   "execution_count": 77,
   "metadata": {
    "ExecuteTime": {
     "end_time": "2020-11-24T14:14:52.777160Z",
     "start_time": "2020-11-24T14:14:52.771177Z"
    }
   },
   "outputs": [
    {
     "data": {
      "text/plain": [
       "'1,493,500'"
      ]
     },
     "execution_count": 77,
     "metadata": {},
     "output_type": "execute_result"
    }
   ],
   "source": [
    "format(1493500, ',')"
   ]
  },
  {
   "cell_type": "markdown",
   "metadata": {},
   "source": [
    "format 함수는 서식 지정자와 함께 사용할 수 있다. 다음은 콤마를 넣은 숫자를 오른쪽 정렬한다."
   ]
  },
  {
   "cell_type": "code",
   "execution_count": 78,
   "metadata": {
    "ExecuteTime": {
     "end_time": "2020-11-24T14:15:15.075007Z",
     "start_time": "2020-11-24T14:15:15.067063Z"
    }
   },
   "outputs": [
    {
     "data": {
      "text/plain": [
       "'           1,493,500'"
      ]
     },
     "execution_count": 78,
     "metadata": {},
     "output_type": "execute_result"
    }
   ],
   "source": [
    "'%20s' % format(1493500, ',')    # 길이 20, 오른쪽으로 정렬"
   ]
  },
  {
   "cell_type": "markdown",
   "metadata": {},
   "source": [
    "포매팅에서 콤마를 넣으려면 다음과 같이 :(콜론)뒤에 ,(콤마)를 지정하면 된다."
   ]
  },
  {
   "cell_type": "code",
   "execution_count": 79,
   "metadata": {
    "ExecuteTime": {
     "end_time": "2020-11-24T14:15:28.285237Z",
     "start_time": "2020-11-24T14:15:28.278245Z"
    }
   },
   "outputs": [
    {
     "data": {
      "text/plain": [
       "'1,493,500'"
      ]
     },
     "execution_count": 79,
     "metadata": {},
     "output_type": "execute_result"
    }
   ],
   "source": [
    "'{0:,}'.format(1493500)"
   ]
  },
  {
   "cell_type": "markdown",
   "metadata": {},
   "source": [
    "만약 정렬을 하고 싶다면 정렬 방향과 길이 뒤에 콤마를 지정해준다."
   ]
  },
  {
   "cell_type": "code",
   "execution_count": 80,
   "metadata": {
    "ExecuteTime": {
     "end_time": "2020-11-24T14:15:51.275566Z",
     "start_time": "2020-11-24T14:15:51.265154Z"
    }
   },
   "outputs": [
    {
     "data": {
      "text/plain": [
       "'           1,493,500'"
      ]
     },
     "execution_count": 80,
     "metadata": {},
     "output_type": "execute_result"
    }
   ],
   "source": [
    "'{0:>20,}'.format(1493500)     # 길이 20, 오른쪽으로 정렬"
   ]
  },
  {
   "cell_type": "code",
   "execution_count": 81,
   "metadata": {
    "ExecuteTime": {
     "end_time": "2020-11-24T14:15:58.992339Z",
     "start_time": "2020-11-24T14:15:58.979435Z"
    }
   },
   "outputs": [
    {
     "data": {
      "text/plain": [
       "'000000000001,493,500'"
      ]
     },
     "execution_count": 81,
     "metadata": {},
     "output_type": "execute_result"
    }
   ],
   "source": [
    "'{0:0>20,}'.format(1493500)    # 길이 20, 오른쪽으로 정렬하고 남는 공간은 0으로 채움"
   ]
  },
  {
   "cell_type": "markdown",
   "metadata": {},
   "source": [
    "## 퀴즈"
   ]
  },
  {
   "cell_type": "markdown",
   "metadata": {},
   "source": [
    "### 1번 문제"
   ]
  },
  {
   "cell_type": "code",
   "execution_count": 84,
   "metadata": {
    "ExecuteTime": {
     "end_time": "2020-11-24T14:24:54.879507Z",
     "start_time": "2020-11-24T14:24:54.867314Z"
    }
   },
   "outputs": [
    {
     "name": "stdout",
     "output_type": "stream",
     "text": [
      "python.exe\n"
     ]
    }
   ],
   "source": [
    "path = 'C:\\\\Users\\\\dojang\\\\AppData\\\\Local\\\\Programs\\\\Python\\\\Python36-32\\\\python.exe'\n",
    "\n",
    "l = path.split('\\\\')\n",
    "filename = l[-1]\n",
    "\n",
    "print(filename)"
   ]
  },
  {
   "cell_type": "markdown",
   "metadata": {},
   "source": [
    "#### 정답"
   ]
  },
  {
   "cell_type": "code",
   "execution_count": 89,
   "metadata": {
    "ExecuteTime": {
     "end_time": "2020-11-24T14:26:25.767664Z",
     "start_time": "2020-11-24T14:26:25.754190Z"
    }
   },
   "outputs": [],
   "source": [
    "x = path.split('\\\\')\n",
    "x.reverse()\n",
    "filename = x[0]"
   ]
  },
  {
   "cell_type": "code",
   "execution_count": 86,
   "metadata": {
    "ExecuteTime": {
     "end_time": "2020-11-24T14:25:43.968452Z",
     "start_time": "2020-11-24T14:25:43.954731Z"
    }
   },
   "outputs": [
    {
     "data": {
      "text/plain": [
       "'python.exe'"
      ]
     },
     "execution_count": 86,
     "metadata": {},
     "output_type": "execute_result"
    }
   ],
   "source": [
    "filename = path[path.rfind('\\\\') + 1:]\n",
    "filename"
   ]
  },
  {
   "cell_type": "code",
   "execution_count": 88,
   "metadata": {
    "ExecuteTime": {
     "end_time": "2020-11-24T14:26:00.254366Z",
     "start_time": "2020-11-24T14:26:00.242986Z"
    }
   },
   "outputs": [
    {
     "data": {
      "text/plain": [
       "58"
      ]
     },
     "execution_count": 88,
     "metadata": {},
     "output_type": "execute_result"
    }
   ],
   "source": [
    "path.rfind('\\\\') + 1"
   ]
  },
  {
   "cell_type": "markdown",
   "metadata": {},
   "source": [
    "> raw 문자열 사용하기\n",
    "\n",
    "문자열 앞에 r 또는 R을 붙이면 raw 문자열이 된다. 이 raw 문자열은 이스케이프 시퀀스를 그대로 저장할 때 사용한다. 즉, 다음과 같이 \\를 \\\\\\로 두 번 쓰지 않고 한 번만 써도 된다."
   ]
  },
  {
   "cell_type": "code",
   "execution_count": 90,
   "metadata": {
    "ExecuteTime": {
     "end_time": "2020-11-24T14:28:25.702984Z",
     "start_time": "2020-11-24T14:28:25.696003Z"
    }
   },
   "outputs": [
    {
     "name": "stdout",
     "output_type": "stream",
     "text": [
      "C:\\Users\\dojang\\AppData\\Local\\Programs\\Python\\Python36-32\\python.exe\n"
     ]
    }
   ],
   "source": [
    "print(r'C:\\Users\\dojang\\AppData\\Local\\Programs\\Python\\Python36-32\\python.exe')"
   ]
  },
  {
   "cell_type": "markdown",
   "metadata": {},
   "source": [
    "raw는 가공되지 않고 있는 그대로라는 뜻이다. 따라서 이스케이프 시퀀스를 문자 그대로 표현한다. 다음과 같이 raw 문자열에 제어 문자를 입력해보면 제어 문자가 동작하지 않는 것을 볼 수 있다."
   ]
  },
  {
   "cell_type": "code",
   "execution_count": 91,
   "metadata": {
    "ExecuteTime": {
     "end_time": "2020-11-24T14:29:32.979225Z",
     "start_time": "2020-11-24T14:29:32.971219Z"
    }
   },
   "outputs": [
    {
     "name": "stdout",
     "output_type": "stream",
     "text": [
      "1\\n2\\n3\\n\n"
     ]
    }
   ],
   "source": [
    "print(r'1\\n2\\n3\\n')"
   ]
  }
 ],
 "metadata": {
  "kernelspec": {
   "display_name": "Python 3",
   "language": "python",
   "name": "python3"
  },
  "language_info": {
   "codemirror_mode": {
    "name": "ipython",
    "version": 3
   },
   "file_extension": ".py",
   "mimetype": "text/x-python",
   "name": "python",
   "nbconvert_exporter": "python",
   "pygments_lexer": "ipython3",
   "version": "3.7.6"
  },
  "toc": {
   "base_numbering": 1,
   "nav_menu": {},
   "number_sections": true,
   "sideBar": true,
   "skip_h1_title": true,
   "title_cell": "Table of Contents",
   "title_sidebar": "Contents",
   "toc_cell": true,
   "toc_position": {
    "height": "calc(100% - 180px)",
    "left": "10px",
    "top": "150px",
    "width": "315px"
   },
   "toc_section_display": true,
   "toc_window_display": true
  }
 },
 "nbformat": 4,
 "nbformat_minor": 4
}
