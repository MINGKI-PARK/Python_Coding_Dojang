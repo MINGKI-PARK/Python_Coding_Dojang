{
 "cells": [
  {
   "cell_type": "markdown",
   "metadata": {},
   "source": [
    "# 39_이터레이터 사용하기"
   ]
  },
  {
   "cell_type": "markdown",
   "metadata": {
    "toc": true
   },
   "source": [
    "<h1>Table of Contents<span class=\"tocSkip\"></span></h1>\n",
    "<div class=\"toc\"><ul class=\"toc-item\"><li><span><a href=\"#반복-가능한-객체-알아보기\" data-toc-modified-id=\"반복-가능한-객체-알아보기-1\"><span class=\"toc-item-num\">1&nbsp;&nbsp;</span>반복 가능한 객체 알아보기</a></span><ul class=\"toc-item\"><li><span><a href=\"#for와-반복-가능한-객체\" data-toc-modified-id=\"for와-반복-가능한-객체-1.1\"><span class=\"toc-item-num\">1.1&nbsp;&nbsp;</span>for와 반복 가능한 객체</a></span></li></ul></li><li><span><a href=\"#이터레이터-만들기\" data-toc-modified-id=\"이터레이터-만들기-2\"><span class=\"toc-item-num\">2&nbsp;&nbsp;</span>이터레이터 만들기</a></span><ul class=\"toc-item\"><li><span><a href=\"#이터레이터-언패킹\" data-toc-modified-id=\"이터레이터-언패킹-2.1\"><span class=\"toc-item-num\">2.1&nbsp;&nbsp;</span>이터레이터 언패킹</a></span></li></ul></li><li><span><a href=\"#인덱스로-접근할-수-있는-이터레이터-만들기\" data-toc-modified-id=\"인덱스로-접근할-수-있는-이터레이터-만들기-3\"><span class=\"toc-item-num\">3&nbsp;&nbsp;</span>인덱스로 접근할 수 있는 이터레이터 만들기</a></span></li><li><span><a href=\"#iter,-next-함수-활용하기\" data-toc-modified-id=\"iter,-next-함수-활용하기-4\"><span class=\"toc-item-num\">4&nbsp;&nbsp;</span>iter, next 함수 활용하기</a></span><ul class=\"toc-item\"><li><span><a href=\"#iter\" data-toc-modified-id=\"iter-4.1\"><span class=\"toc-item-num\">4.1&nbsp;&nbsp;</span>iter</a></span></li><li><span><a href=\"#next\" data-toc-modified-id=\"next-4.2\"><span class=\"toc-item-num\">4.2&nbsp;&nbsp;</span>next</a></span></li></ul></li><li><span><a href=\"#연습문제-:-배수-이터레이터-만들기\" data-toc-modified-id=\"연습문제-:-배수-이터레이터-만들기-5\"><span class=\"toc-item-num\">5&nbsp;&nbsp;</span>연습문제 : 배수 이터레이터 만들기</a></span><ul class=\"toc-item\"><li><span><a href=\"#나의-풀이\" data-toc-modified-id=\"나의-풀이-5.1\"><span class=\"toc-item-num\">5.1&nbsp;&nbsp;</span>나의 풀이</a></span></li><li><span><a href=\"#정답!\" data-toc-modified-id=\"정답!-5.2\"><span class=\"toc-item-num\">5.2&nbsp;&nbsp;</span>정답!</a></span></li></ul></li></ul></div>"
   ]
  },
  {
   "cell_type": "markdown",
   "metadata": {},
   "source": [
    "이터레이터(iterator)는 값을 차례대로 꺼낼 수 있는 객체(object)입니다.\n",
    "\n",
    "지금까지 for 반복문을 사용할 때 range를 사용했습니다. 만약 100번을 반복한다면 for i in range(100):처럼 만들었습니다. 이 for 반복문을 설명할 때 for i in range(100):은 0부터 99까지 연속된 숫자를 만들어낸다고 했는데, 사실은 숫자를 모두 만들어 내는 것이 아니라 0부터 99까지 값을 차례대로 꺼낼 수 있는 이터레이터를 하나만 만들어냅니다. 이후 반복할 때마다 이터레이터에서 숫자를 하나씩 꺼내서 반복합니다.\n",
    "\n",
    "만약 연속된 숫자를 미리 만들면 숫자가 적을 때는 상관없지만 숫자가 아주 많을 때는 메모리를 많이 사용하게 되므로 성능에도 불리합니다. 그래서 파이썬에서는 이터레이터만 생성하고 값이 필요한 시점이 되었을 때 값을 만드는 방식을 사용합니다. 즉, 데이터 생성을 뒤로 미루는 것인데 이런 방식을 지연 평가(lazy evaluation)라고 합니다.\n",
    "\n",
    "참고로 이터레이터는 반복자라고 부르기도 합니다."
   ]
  },
  {
   "cell_type": "markdown",
   "metadata": {},
   "source": [
    "## 반복 가능한 객체 알아보기\n",
    "\n",
    "이터레이터를 만들기 전에 먼저 반복 가능한 객체(iterable)에 대해 알아보겠습니다. 반복 가능한 객체는 말 그대로 반복할 수 있는 객체인데 우리가 흔히 사용하는 문자열, 리스트, 딕셔너리, 세트가 반복 가능한 객체입니다.\n",
    "\n",
    "즉, 요소가 여러 개 들어있고, 한 번에 하나씩 꺼낼 수 있는 객체입니다.\n",
    "\n",
    "객체가 반복 가능한 객체인지 알아보는 방법은 객체에 \\_\\_iter\\_\\_ 메서드가 들어있는지 확인해보면 됩니다.\n",
    "\n",
    "다음과 같이 dir 함수를 사용하면 객체의 메서드를 확인할 수 있습니다.\n",
    "\n",
    "+ dir(객체)"
   ]
  },
  {
   "cell_type": "code",
   "execution_count": 1,
   "metadata": {
    "ExecuteTime": {
     "end_time": "2020-12-24T08:35:33.732628Z",
     "start_time": "2020-12-24T08:35:33.704701Z"
    },
    "scrolled": true
   },
   "outputs": [
    {
     "data": {
      "text/plain": [
       "['__add__',\n",
       " '__class__',\n",
       " '__contains__',\n",
       " '__delattr__',\n",
       " '__delitem__',\n",
       " '__dir__',\n",
       " '__doc__',\n",
       " '__eq__',\n",
       " '__format__',\n",
       " '__ge__',\n",
       " '__getattribute__',\n",
       " '__getitem__',\n",
       " '__gt__',\n",
       " '__hash__',\n",
       " '__iadd__',\n",
       " '__imul__',\n",
       " '__init__',\n",
       " '__init_subclass__',\n",
       " '__iter__',\n",
       " '__le__',\n",
       " '__len__',\n",
       " '__lt__',\n",
       " '__mul__',\n",
       " '__ne__',\n",
       " '__new__',\n",
       " '__reduce__',\n",
       " '__reduce_ex__',\n",
       " '__repr__',\n",
       " '__reversed__',\n",
       " '__rmul__',\n",
       " '__setattr__',\n",
       " '__setitem__',\n",
       " '__sizeof__',\n",
       " '__str__',\n",
       " '__subclasshook__',\n",
       " 'append',\n",
       " 'clear',\n",
       " 'copy',\n",
       " 'count',\n",
       " 'extend',\n",
       " 'index',\n",
       " 'insert',\n",
       " 'pop',\n",
       " 'remove',\n",
       " 'reverse',\n",
       " 'sort']"
      ]
     },
     "execution_count": 1,
     "metadata": {},
     "output_type": "execute_result"
    }
   ],
   "source": [
    "dir([1, 2, 3])"
   ]
  },
  {
   "cell_type": "markdown",
   "metadata": {},
   "source": [
    "리스트 [1, 2, 3]을 dir로 살펴보면 \\_\\_iter\\_\\_ 메서드가 들어있습니다. 이 리스트에서 \\_\\_iter\\_\\_를 호출해보면 이터레이터가 나옵니다."
   ]
  },
  {
   "cell_type": "code",
   "execution_count": 2,
   "metadata": {
    "ExecuteTime": {
     "end_time": "2020-12-24T08:36:17.866363Z",
     "start_time": "2020-12-24T08:36:17.852398Z"
    }
   },
   "outputs": [
    {
     "data": {
      "text/plain": [
       "<list_iterator at 0x1d8c8a8ea88>"
      ]
     },
     "execution_count": 2,
     "metadata": {},
     "output_type": "execute_result"
    }
   ],
   "source": [
    "[1, 2, 3].__iter__()"
   ]
  },
  {
   "cell_type": "markdown",
   "metadata": {},
   "source": [
    "리스트의 이터레이터를 변수에 저장한 뒤 \\_\\_next\\_\\_ 메서드를 호출해보면 요소를 차례대로 꺼낼 수 있습니다."
   ]
  },
  {
   "cell_type": "code",
   "execution_count": 4,
   "metadata": {
    "ExecuteTime": {
     "end_time": "2020-12-24T08:37:08.823829Z",
     "start_time": "2020-12-24T08:37:08.811859Z"
    }
   },
   "outputs": [
    {
     "data": {
      "text/plain": [
       "1"
      ]
     },
     "execution_count": 4,
     "metadata": {},
     "output_type": "execute_result"
    }
   ],
   "source": [
    "it = [1, 2, 3].__iter__()\n",
    "it.__next__()"
   ]
  },
  {
   "cell_type": "code",
   "execution_count": 5,
   "metadata": {
    "ExecuteTime": {
     "end_time": "2020-12-24T08:37:17.287517Z",
     "start_time": "2020-12-24T08:37:17.276313Z"
    }
   },
   "outputs": [
    {
     "data": {
      "text/plain": [
       "2"
      ]
     },
     "execution_count": 5,
     "metadata": {},
     "output_type": "execute_result"
    }
   ],
   "source": [
    "it.__next__()"
   ]
  },
  {
   "cell_type": "code",
   "execution_count": 6,
   "metadata": {
    "ExecuteTime": {
     "end_time": "2020-12-24T08:37:20.142265Z",
     "start_time": "2020-12-24T08:37:20.133291Z"
    }
   },
   "outputs": [
    {
     "data": {
      "text/plain": [
       "3"
      ]
     },
     "execution_count": 6,
     "metadata": {},
     "output_type": "execute_result"
    }
   ],
   "source": [
    "it.__next__()"
   ]
  },
  {
   "cell_type": "code",
   "execution_count": 7,
   "metadata": {
    "ExecuteTime": {
     "end_time": "2020-12-24T08:37:21.730470Z",
     "start_time": "2020-12-24T08:37:21.644623Z"
    }
   },
   "outputs": [
    {
     "ename": "StopIteration",
     "evalue": "",
     "output_type": "error",
     "traceback": [
      "\u001b[1;31m---------------------------------------------------------------------------\u001b[0m",
      "\u001b[1;31mStopIteration\u001b[0m                             Traceback (most recent call last)",
      "\u001b[1;32m<ipython-input-7-74e64ed6c80d>\u001b[0m in \u001b[0;36m<module>\u001b[1;34m\u001b[0m\n\u001b[1;32m----> 1\u001b[1;33m \u001b[0mit\u001b[0m\u001b[1;33m.\u001b[0m\u001b[0m__next__\u001b[0m\u001b[1;33m(\u001b[0m\u001b[1;33m)\u001b[0m\u001b[1;33m\u001b[0m\u001b[1;33m\u001b[0m\u001b[0m\n\u001b[0m",
      "\u001b[1;31mStopIteration\u001b[0m: "
     ]
    }
   ],
   "source": [
    "it.__next__()"
   ]
  },
  {
   "cell_type": "markdown",
   "metadata": {},
   "source": [
    "it에서 \\_\\_next\\_\\_를 호출할 때마다 리스트에 들어있는 1, 2, 3이 나옵니다. 그리고 3 다음에 \\_\\_next\\_\\_를 호출하면 StopIteration 예외가 발생합니다. 즉, [1, 2, 3]이므로 1, 2, 3 세 번 반복합니다.\n",
    "\n",
    "이처럼 이터레이터는 \\_\\_next\\_\\_로 요소를 계속 꺼내다가 꺼낼 요소가 없으면 StopIteration 예외를 발생시켜서 반복을 끝냅니다."
   ]
  },
  {
   "cell_type": "markdown",
   "metadata": {},
   "source": [
    "물론, 리스트뿐만 아니라 문자열, 딕셔너리, 세트도 \\_\\_iter\\_\\_를 호출하면 이터레이터가 나옵니다. 그리고 이터레이터에서 \\_\\_next\\_\\_를 호출하면 차례대로 값을 꺼냅니다(\\_\\_next\\_\\_ 호출은 생략하겠습니다. 여러분들이 직접 호출해보세요)."
   ]
  },
  {
   "cell_type": "code",
   "execution_count": 10,
   "metadata": {
    "ExecuteTime": {
     "end_time": "2020-12-24T08:38:52.838039Z",
     "start_time": "2020-12-24T08:38:52.829049Z"
    }
   },
   "outputs": [
    {
     "data": {
      "text/plain": [
       "<str_iterator at 0x1d8c8b3a708>"
      ]
     },
     "execution_count": 10,
     "metadata": {},
     "output_type": "execute_result"
    }
   ],
   "source": [
    "'Hello, world!'.__iter__()"
   ]
  },
  {
   "cell_type": "code",
   "execution_count": 9,
   "metadata": {
    "ExecuteTime": {
     "end_time": "2020-12-24T08:38:51.888315Z",
     "start_time": "2020-12-24T08:38:51.866895Z"
    }
   },
   "outputs": [
    {
     "data": {
      "text/plain": [
       "<dict_keyiterator at 0x1d8c8b12908>"
      ]
     },
     "execution_count": 9,
     "metadata": {},
     "output_type": "execute_result"
    }
   ],
   "source": [
    "{'a': 1, 'b': 2}.__iter__()"
   ]
  },
  {
   "cell_type": "code",
   "execution_count": 8,
   "metadata": {
    "ExecuteTime": {
     "end_time": "2020-12-24T08:38:50.175399Z",
     "start_time": "2020-12-24T08:38:50.156462Z"
    }
   },
   "outputs": [
    {
     "data": {
      "text/plain": [
       "<set_iterator at 0x1d8c8b126d8>"
      ]
     },
     "execution_count": 8,
     "metadata": {},
     "output_type": "execute_result"
    }
   ],
   "source": [
    "{1, 2, 3}.__iter__()"
   ]
  },
  {
   "cell_type": "code",
   "execution_count": 15,
   "metadata": {
    "ExecuteTime": {
     "end_time": "2020-12-24T08:41:37.074120Z",
     "start_time": "2020-12-24T08:41:37.060149Z"
    }
   },
   "outputs": [
    {
     "name": "stdout",
     "output_type": "stream",
     "text": [
      "H\n",
      "e\n",
      "l\n",
      "l\n",
      "o\n",
      ",\n",
      " \n",
      "w\n",
      "o\n",
      "r\n",
      "l\n",
      "d\n",
      "!\n",
      "더 이상 꺼낼 요소가 없습니다.\n"
     ]
    }
   ],
   "source": [
    "# 직접 꺼내보자.\n",
    "st = 'Hello, world!'.__iter__()\n",
    "\n",
    "try:\n",
    "    while True:\n",
    "        print(st.__next__())\n",
    "except:\n",
    "    print('더 이상 꺼낼 요소가 없습니다.')"
   ]
  },
  {
   "cell_type": "markdown",
   "metadata": {},
   "source": [
    "리스트, 문자열, 딕셔너리, 세트는 요소가 눈에 보이는 반복 가능한 객체입니다. 이번에는 요소가 눈에 보이지 않는 range를 살펴보겠습니다. 다음과 같이 range(3)에서 \\_\\_iter\\_\\_로 이터레이터를 얻어낸 뒤 \\_\\_next\\_\\_ 메서드를 호출해봅니다."
   ]
  },
  {
   "cell_type": "code",
   "execution_count": 16,
   "metadata": {
    "ExecuteTime": {
     "end_time": "2020-12-24T08:42:33.529046Z",
     "start_time": "2020-12-24T08:42:33.517078Z"
    }
   },
   "outputs": [
    {
     "data": {
      "text/plain": [
       "0"
      ]
     },
     "execution_count": 16,
     "metadata": {},
     "output_type": "execute_result"
    }
   ],
   "source": [
    "it = range(3).__iter__()\n",
    "it.__next__()"
   ]
  },
  {
   "cell_type": "code",
   "execution_count": 17,
   "metadata": {
    "ExecuteTime": {
     "end_time": "2020-12-24T08:42:33.681925Z",
     "start_time": "2020-12-24T08:42:33.666965Z"
    }
   },
   "outputs": [
    {
     "data": {
      "text/plain": [
       "1"
      ]
     },
     "execution_count": 17,
     "metadata": {},
     "output_type": "execute_result"
    }
   ],
   "source": [
    "it.__next__()"
   ]
  },
  {
   "cell_type": "code",
   "execution_count": 18,
   "metadata": {
    "ExecuteTime": {
     "end_time": "2020-12-24T08:42:33.822374Z",
     "start_time": "2020-12-24T08:42:33.802427Z"
    }
   },
   "outputs": [
    {
     "data": {
      "text/plain": [
       "2"
      ]
     },
     "execution_count": 18,
     "metadata": {},
     "output_type": "execute_result"
    }
   ],
   "source": [
    "it.__next__()"
   ]
  },
  {
   "cell_type": "code",
   "execution_count": 19,
   "metadata": {
    "ExecuteTime": {
     "end_time": "2020-12-24T08:42:33.976254Z",
     "start_time": "2020-12-24T08:42:33.963282Z"
    }
   },
   "outputs": [
    {
     "ename": "StopIteration",
     "evalue": "",
     "output_type": "error",
     "traceback": [
      "\u001b[1;31m---------------------------------------------------------------------------\u001b[0m",
      "\u001b[1;31mStopIteration\u001b[0m                             Traceback (most recent call last)",
      "\u001b[1;32m<ipython-input-19-74e64ed6c80d>\u001b[0m in \u001b[0;36m<module>\u001b[1;34m\u001b[0m\n\u001b[1;32m----> 1\u001b[1;33m \u001b[0mit\u001b[0m\u001b[1;33m.\u001b[0m\u001b[0m__next__\u001b[0m\u001b[1;33m(\u001b[0m\u001b[1;33m)\u001b[0m\u001b[1;33m\u001b[0m\u001b[1;33m\u001b[0m\u001b[0m\n\u001b[0m",
      "\u001b[1;31mStopIteration\u001b[0m: "
     ]
    }
   ],
   "source": [
    "it.__next__()"
   ]
  },
  {
   "cell_type": "markdown",
   "metadata": {},
   "source": [
    "it에서 \\_\\_next\\_\\_를 호출할 때마다 0부터 숫자가 증가해서 2까지 나왔습니다. 그리고 2 다음에 \\_\\_next\\_\\_를 호출했을 때 StopIteration 예외가 발생했습니다. \n",
    "\n",
    "즉, range(3)이므로 0, 1, 2 세 번 반복하며 요소가 눈에 보이지 않지만 지정된 만큼 숫자를 꺼내서 반복할 수 있습니다."
   ]
  },
  {
   "cell_type": "markdown",
   "metadata": {},
   "source": [
    "### for와 반복 가능한 객체\n",
    "\n",
    "이제 for에 반복 가능한 객체를 사용했을 때 동작 과정을 알아보겠습니다. 다음과 같이 for에 range(3)을 사용했다면 먼저 range에서 \\_\\_iter\\_\\_로 이터레이터를 얻습니다. 그리고 한 번 반복할 때마다 이터레이터에서 \\_\\_next\\_\\_로 숫자를 꺼내서 i에 저장하고, 지정된 숫자 3이 되면 StopIteration을 발생시켜서 반복을 끝냅니다."
   ]
  },
  {
   "cell_type": "markdown",
   "metadata": {},
   "source": [
    "이처럼 반복 가능한 객체는 \\_\\_iter\\_\\_ 메서드로 이터레이터를 얻고, 이터레이터의 \\_\\_next\\_\\_ 메서드로 반복합니다. 여기서는 반복 가능한 객체와 이터레이터가 분리되어 있지만 클래스에 \\_\\_iter\\_\\_와 \\_\\_next\\_\\_ 메서드를 모두 구현하면 이터레이터를 만들 수 있습니다. 특히 \\_\\_iter\\_\\_, \\_\\_next\\_\\_를 가진 객체를 이터레이터 프로토콜(iterator protocol)을 지원한다고 말합니다.\n",
    "\n",
    "정리하자면 반복 가능한 객체는 요소를 한 번에 하나씩 가져올 수 있는 객체이고, 이터레이터는 \\_\\_next\\_\\_ 메서드를 사용해서 차례대로 값을 꺼낼 수 있는 객체입니다. 반복 가능한 객체(iterable)와 이터레이터(iterator)는 별개의 객체이므로 둘은 구분해야 합니다. 즉, 반복 가능한 객체에서 \\_\\_iter\\_\\_ 메서드로 이터레이터를 얻습니다."
   ]
  },
  {
   "cell_type": "markdown",
   "metadata": {},
   "source": [
    "> 시퀀스 객체와 반복 가능한 객체의 차이\n",
    "\n",
    "'Unit 11 시퀀스 자료형 활용하기'에서 리스트, 튜플, range, 문자열은 시퀀스 객체라고 했는데, 이 유닛에서는 반복 가능한 객체라고 했습니다. 시퀀스 객체와 반복 가능한 객체의 차이점은 무엇일까요?\n",
    "\n",
    "다음 그림과 같이 반복 가능한 객체는 시퀀스 객체를 포함합니다.\n",
    "\n",
    "리스트, 튜플, range, 문자열은 반복 가능한 객체이면서 시퀀스 객체입니다. 하지만, 딕셔너리와 세트는 반복 가능한 객체이지만 시퀀스 객체는 아닙니다. 왜냐하면 시퀀스 객체는 요소의 순서가 정해져 있고 연속적(sequence)으로 이어져 있어야 하는데, 딕셔너리와 세트는 요소(키)의 순서가 정해져 있지 않기 때문입니다. 따라서 시퀀스 객체가 반복 가능한 객체보다 좁은 개념입니다.\n",
    "\n",
    "즉, 요소의 순서가 정해져 있고 연속적으로 이어져 있으면 시퀀스 객체, 요소의 순서와는 상관없이 요소를 한 번에 하나씩 꺼낼 수 있으면 반복 가능한 객체입니다."
   ]
  },
  {
   "cell_type": "markdown",
   "metadata": {},
   "source": [
    "## 이터레이터 만들기\n",
    "\n",
    "이제 \\_\\_iter\\_\\_, \\_\\_next\\_\\_ 메서드를 구현해서 직접 이터레이터를 만들어보겠습니다. 간단하게 range(횟수)처럼 동작하는 이터레이터입니다.\n",
    "\n",
    "```python\n",
    "class 이터레이터이름:\n",
    "    def __iter__(self):\n",
    "        코드\n",
    " \n",
    "    def __next__(self):\n",
    "        코드\n",
    "```"
   ]
  },
  {
   "cell_type": "code",
   "execution_count": 20,
   "metadata": {
    "ExecuteTime": {
     "end_time": "2020-12-24T08:49:24.534525Z",
     "start_time": "2020-12-24T08:49:24.511671Z"
    }
   },
   "outputs": [
    {
     "name": "stdout",
     "output_type": "stream",
     "text": [
      "0 1 2 "
     ]
    }
   ],
   "source": [
    "class Counter:\n",
    "    def __init__(self, stop):\n",
    "        self.current = 0    # 현재 숫자 유지, 0부터 지정된 숫자 직전까지 반복\n",
    "        self.stop = stop    # 반복을 끝낼 숫자\n",
    " \n",
    "    def __iter__(self):\n",
    "        return self         # 현재 인스턴스를 반환\n",
    " \n",
    "    def __next__(self):\n",
    "        if self.current < self.stop:    # 현재 숫자가 반복을 끝낼 숫자보다 작을 때\n",
    "            r = self.current            # 반환할 숫자를 변수에 저장\n",
    "            self.current += 1           # 현재 숫자를 1 증가시킴\n",
    "            return r                    # 숫자를 반환\n",
    "        else:                           # 현재 숫자가 반복을 끝낼 숫자보다 크거나 같을 때\n",
    "            raise StopIteration         # 예외 발생\n",
    " \n",
    "for i in Counter(3):\n",
    "    print(i, end=' ')"
   ]
  },
  {
   "cell_type": "markdown",
   "metadata": {},
   "source": [
    "실행을 해보면 0 1 2가 나옵니다. 이렇게 0부터 지정된 숫자 직전까지 반복하는 이터레이터 Counter를 정의했습니다.\n",
    "\n",
    "먼저 클래스로 이터레이터를 작성하려면 \\_\\_init\\_\\_ 메서드를 만듭니다. 여기서는 Counter(3)처럼 반복을 끝낼 숫자를 받았으므로 self.stop에 stop을 넣어줍니다. 그리고 반복할 때마다 현재 숫자를 유지해야 하므로 속성 self.current에 0을 넣어줍니다(0부터 지정된 숫자 직전까지 반복하므로 0을 넣습니다).\n",
    "\n",
    "```python\n",
    "    def __init__(self, stop):\n",
    "        self.current = 0    # 현재 숫자 유지, 0부터 지정된 숫자 직전까지 반복\n",
    "        self.stop = stop    # 반복을 끝낼 숫자\n",
    "```\n",
    "\n",
    "그리고 \\_\\_iter\\_\\_ 메서드를 만드는데 여기서는 self만 반환하면 끝입니다. 이 객체는 리스트, 문자열, 딕셔너리, 세트, range처럼 \\_\\_iter\\_\\_를 호출해줄 반복 가능한 객체(iterable)가 없으므로 현재 인스턴스를 반환하면 됩니다. 즉, 이 객체는 반복 가능한 객체이면서 이터레이터입니다.\n",
    "\n",
    "```python\n",
    "    def __iter__(self):\n",
    "        return self         # 현재 인스턴스를 반환\n",
    "```\n",
    "\n",
    "그다음에 \\_\\_next\\_\\_ 메서드를 만듭니다. \\_\\_next\\_\\_에서는 조건에 따라 숫자를 만들어내거나 StopIteration 예외를 발생시킵니다. 현재 숫자 self.current가 반복을 끝낼 숫자 self.stop보다 작을 때는 self.current를 1 증가시키고 현재 숫자를 반환합니다. 이때 1 증가한 숫자를 반환하지 않도록 숫자를 증가시키기 전에 r = self.current처럼 반환할 숫자를 변수에 저장해 놓습니다. 그다음에 self.current가 self.stop보다 크거나 같아질 때는 raise StopIteration으로 예외를 발생시킵니다.\n",
    "\n",
    "```python\n",
    "    def __next__(self):\n",
    "        if self.current < self.stop:    # 현재 숫자가 반복을 끝낼 숫자보다 작을 때\n",
    "            r = self.current            # 반환할 숫자를 변수에 저장\n",
    "            self.current += 1           # 현재 숫자를 1 증가시킴\n",
    "            return r                    # 숫자를 반환\n",
    "        else:                           # 현재 숫자가 반복을 끝낼 숫자보다 크거나 같을 때\n",
    "            raise StopIteration         # 예외 발생\n",
    "```\n",
    "\n",
    "for 반복문에 Counter(3)을 지정해서 실행해보면 3번 반복하면서 0, 1, 2가 출력됩니다.\n",
    "\n",
    "```python\n",
    "for i in Counter(3):\n",
    "    print(i)\n",
    "```\n",
    "\n",
    "지금까지 간단한 이터레이터를 만들어보았습니다. 이터레이터를 만들 때는 \\_\\_init\\_\\_ 메서드에서 초깃값, \\_\\_next\\_\\_ 메서드에서 조건식과 현재값 부분을 주의해야 합니다. 이 부분이 잘못되면 미묘한 버그가 생길 수 있습니다. 예를 들어서 0, 1, 2와 1, 2, 3처럼 3번 반복하는 것은 같지만 숫자가 1씩 밀려서 나오거나 0, 1, 2, 3처럼 반복 횟수가 달라질 수 있으므로 코드를 작성할 때 꼼꼼히 살펴봐야 합니다."
   ]
  },
  {
   "cell_type": "markdown",
   "metadata": {},
   "source": [
    "### 이터레이터 언패킹\n",
    "\n",
    "참고로 이터레이터는 언패킹(unpacking)이 가능합니다. 즉, 다음과 같이 Counter()의 결과를 변수 여러 개에 할당할 수 있습니다.\n",
    "\n",
    "물론 이터레이터가 반복하는 횟수와 변수의 개수는 같아야 합니다."
   ]
  },
  {
   "cell_type": "code",
   "execution_count": 22,
   "metadata": {
    "ExecuteTime": {
     "end_time": "2020-12-24T08:54:26.989196Z",
     "start_time": "2020-12-24T08:54:26.978192Z"
    }
   },
   "outputs": [
    {
     "name": "stdout",
     "output_type": "stream",
     "text": [
      "0 1 2\n",
      "\n",
      "0 1 2 3 4\n"
     ]
    }
   ],
   "source": [
    "a, b, c = Counter(3)\n",
    "print(a, b, c)\n",
    "print()\n",
    "a, b, c, d, e = Counter(5)\n",
    "print(a, b, c, d, e)"
   ]
  },
  {
   "cell_type": "markdown",
   "metadata": {},
   "source": [
    "사실 우리가 자주 사용하는 map도 이터레이터입니다. 그래서 a, b, c = map(int, input().split())처럼 언패킹으로 변수 여러 개에 값을 할당할 수 있습니다."
   ]
  },
  {
   "cell_type": "markdown",
   "metadata": {},
   "source": [
    "> 반환값을 \\_에 저장하는 이유\n",
    "\n",
    "함수를 호출한 뒤 반환값을 저장할 때 \\_(밑줄 문자)를 사용하는 경우가 있습니다.\n"
   ]
  },
  {
   "cell_type": "code",
   "execution_count": 23,
   "metadata": {
    "ExecuteTime": {
     "end_time": "2020-12-24T08:55:54.942365Z",
     "start_time": "2020-12-24T08:55:54.931359Z"
    }
   },
   "outputs": [
    {
     "data": {
      "text/plain": [
       "1"
      ]
     },
     "execution_count": 23,
     "metadata": {},
     "output_type": "execute_result"
    }
   ],
   "source": [
    "_, b = range(2)\n",
    "b"
   ]
  },
  {
   "cell_type": "markdown",
   "metadata": {},
   "source": [
    "사실 이 코드는 a, b = range(2)와 같습니다. 반환값을 언패킹했을 때 \\_에 할당하는 것은 특정 순서의 반환값 사용하지 않고 무시하겠다는 관례적 표현입니다.\n",
    "\n",
    "예를 들어 다음과 같은 코드는 언패킹 했을 때 두 번째 변수는 사용하지 않겠다는 뜻입니다."
   ]
  },
  {
   "cell_type": "code",
   "execution_count": 24,
   "metadata": {
    "ExecuteTime": {
     "end_time": "2020-12-24T08:56:37.787917Z",
     "start_time": "2020-12-24T08:56:37.778183Z"
    }
   },
   "outputs": [
    {
     "data": {
      "text/plain": [
       "(0, 2, 3)"
      ]
     },
     "execution_count": 24,
     "metadata": {},
     "output_type": "execute_result"
    }
   ],
   "source": [
    "a, _, c, d =  range(4)\n",
    "a, c, d"
   ]
  },
  {
   "cell_type": "markdown",
   "metadata": {},
   "source": [
    "## 인덱스로 접근할 수 있는 이터레이터 만들기\n",
    "\n",
    "지금까지 \\_\\_iter\\_\\_와 \\_\\_next\\_\\_ 메서드를 구현하는 방식으로 이터레이터를 만들었습니다.\n",
    "\n",
    "이번에는 \\_\\_getitem\\_\\_ 메서드를 구현하여 인덱스로 접근할 수 있는 이터레이터를 만들어보겠습니다.\n",
    "\n",
    "앞에서 만든 Counter 이터레이터를 인덱스로 접근할 수 있도록 다시 만들어보겠습니다.\n",
    "\n",
    "```python\n",
    "class 이터레이터이름:\n",
    "    def __getitem__(self, 인덱스):\n",
    "        코드\n",
    "```"
   ]
  },
  {
   "cell_type": "code",
   "execution_count": 26,
   "metadata": {
    "ExecuteTime": {
     "end_time": "2020-12-24T08:58:48.487403Z",
     "start_time": "2020-12-24T08:58:48.465462Z"
    }
   },
   "outputs": [
    {
     "name": "stdout",
     "output_type": "stream",
     "text": [
      "0 1 2\n",
      "0 1 2 "
     ]
    }
   ],
   "source": [
    "class Counter:\n",
    "    def __init__(self, stop):\n",
    "        self.stop = stop\n",
    " \n",
    "    def __getitem__(self, index):\n",
    "        if index < self.stop:\n",
    "            return index\n",
    "        else:\n",
    "            raise IndexError\n",
    " \n",
    "print(Counter(3)[0], Counter(3)[1], Counter(3)[2])\n",
    " \n",
    "for i in Counter(3):\n",
    "    print(i, end=' ')"
   ]
  },
  {
   "cell_type": "markdown",
   "metadata": {},
   "source": [
    "Counter(3)[0]을 출력했을 때 0이 나왔습니다. 마찬가지로 Counter(3)[1]은 1, Counter(3)[2]는 2가 나왔습니다. 그리고 for 반복문에 Counter를 사용했을 때도 1, 2, 3이 나왔습니다.\n",
    "\n",
    "소스 코드를 잘 보면 \\_\\_init\\_\\_ 메서드와 \\_\\_getitem\\_\\_ 메서드만 있는데도 동작이 잘 됩니다. 클래스에서 \\_\\_getitem\\_\\_만 구현해도 이터레이터가 되며 \\_\\_iter\\_\\_, \\_\\_next\\_\\_는 생략해도 됩니다(초깃값이 없다면 \\_\\_init\\_\\_도 생략 가능).\n",
    "\n",
    "1. 그럼 \\_\\_init\\_\\_ 메서드부터 살펴보겠습니다. 여기서는 Counter(3)처럼 반복을 끝낼 숫자를 받았으므로 self.stop에 stop을 넣어줍니다.\n",
    "\n",
    "```python\n",
    "class Counter:\n",
    "    def __init__(self, stop):\n",
    "        self.stop = stop             # 반복을 끝낼 숫자\n",
    "```\n",
    "\n",
    "2. 이제 클래스에서 \\_\\_getitem__ 메서드를 구현하면 인덱스로 접근할 수 있는 이터레이터가 됩니다. 먼저 \\_\\_getitem\\_\\_은 매개변수로 인덱스 index를 받습니다. 그리고 지정된 index가 반복을 끝낼 숫자 self.stop보다 작을 때 index를 반환합니다. index가 self.stop보다 크거나 같으면 IndexError를 발생시킵니다. 즉, Counter(3)과 같이 반복을 끝낼 숫자가 3이면 인덱스는 2까지 지정할 수 있습니다.\n",
    "\n",
    "```python\n",
    "    def __getitem__(self, index):    # 인덱스를 받음\n",
    "        if index < self.stop:        # 인덱스가 반복을 끝낼 숫자보다 작을 때\n",
    "            return index             # 인덱스를 반환\n",
    "        else:                        # 인덱스가 반복을 끝낼 숫자보다 크거나 같을 때\n",
    "            raise IndexError         # 예외 발생\n",
    "```\n",
    "\n",
    "이렇게 하면 Counter(3)[0]처럼 이터레이터를 인덱스로 접근할 수 있습니다.\n",
    "\n",
    "참고로 여기서는 반복할 숫자와 인덱스가 같아서 index를 그대로 반환했지만, index와 식을 조합해서 다른 숫자를 만드는 방식으로 활용할 수 있습니다. 예를 들어 index \\* 10을 반환하면 0, 10, 20처럼 10 단위로 숫자가 나옵니다. 각자 \\_\\_getitem\\_\\_ 메서드를 수정해서 다양한 숫자를 만들어보세요."
   ]
  },
  {
   "cell_type": "code",
   "execution_count": 27,
   "metadata": {
    "ExecuteTime": {
     "end_time": "2020-12-24T09:02:31.451567Z",
     "start_time": "2020-12-24T09:02:31.438514Z"
    }
   },
   "outputs": [
    {
     "name": "stdout",
     "output_type": "stream",
     "text": [
      "0 8 16\n",
      "0 8 16 "
     ]
    }
   ],
   "source": [
    "class Counter:\n",
    "    def __init__(self, stop):\n",
    "        self.stop = stop\n",
    " \n",
    "    def __getitem__(self, index):\n",
    "        if index < self.stop:\n",
    "            return index * 8\n",
    "        else:\n",
    "            raise IndexError\n",
    " \n",
    "print(Counter(3)[0], Counter(3)[1], Counter(3)[2])\n",
    " \n",
    "for i in Counter(3):\n",
    "    print(i, end=' ')"
   ]
  },
  {
   "cell_type": "markdown",
   "metadata": {},
   "source": [
    "## iter, next 함수 활용하기\n",
    "\n",
    "이번에는 파이썬 내장 함수 iter, next에 대해 알아보겠습니다. iter는 객체의 \\_\\_iter\\_\\_ 메서드를 호출해주고, next는 객체의 \\_\\_next\\_\\_ 메서드를 호출해줍니다. 그럼 range(3)에 iter와 next를 사용해보겠습니다."
   ]
  },
  {
   "cell_type": "code",
   "execution_count": 28,
   "metadata": {
    "ExecuteTime": {
     "end_time": "2020-12-24T09:03:31.992000Z",
     "start_time": "2020-12-24T09:03:31.971057Z"
    }
   },
   "outputs": [
    {
     "data": {
      "text/plain": [
       "0"
      ]
     },
     "execution_count": 28,
     "metadata": {},
     "output_type": "execute_result"
    }
   ],
   "source": [
    "it = iter(range(3))\n",
    "next(it)"
   ]
  },
  {
   "cell_type": "code",
   "execution_count": 29,
   "metadata": {
    "ExecuteTime": {
     "end_time": "2020-12-24T09:03:32.203869Z",
     "start_time": "2020-12-24T09:03:32.187076Z"
    }
   },
   "outputs": [
    {
     "data": {
      "text/plain": [
       "1"
      ]
     },
     "execution_count": 29,
     "metadata": {},
     "output_type": "execute_result"
    }
   ],
   "source": [
    "next(it)"
   ]
  },
  {
   "cell_type": "code",
   "execution_count": 30,
   "metadata": {
    "ExecuteTime": {
     "end_time": "2020-12-24T09:03:32.371766Z",
     "start_time": "2020-12-24T09:03:32.362790Z"
    }
   },
   "outputs": [
    {
     "data": {
      "text/plain": [
       "2"
      ]
     },
     "execution_count": 30,
     "metadata": {},
     "output_type": "execute_result"
    }
   ],
   "source": [
    "next(it)"
   ]
  },
  {
   "cell_type": "code",
   "execution_count": 31,
   "metadata": {
    "ExecuteTime": {
     "end_time": "2020-12-24T09:03:32.712150Z",
     "start_time": "2020-12-24T09:03:32.693201Z"
    }
   },
   "outputs": [
    {
     "ename": "StopIteration",
     "evalue": "",
     "output_type": "error",
     "traceback": [
      "\u001b[1;31m---------------------------------------------------------------------------\u001b[0m",
      "\u001b[1;31mStopIteration\u001b[0m                             Traceback (most recent call last)",
      "\u001b[1;32m<ipython-input-31-bc1ab118995a>\u001b[0m in \u001b[0;36m<module>\u001b[1;34m\u001b[0m\n\u001b[1;32m----> 1\u001b[1;33m \u001b[0mnext\u001b[0m\u001b[1;33m(\u001b[0m\u001b[0mit\u001b[0m\u001b[1;33m)\u001b[0m\u001b[1;33m\u001b[0m\u001b[1;33m\u001b[0m\u001b[0m\n\u001b[0m",
      "\u001b[1;31mStopIteration\u001b[0m: "
     ]
    }
   ],
   "source": [
    "next(it)"
   ]
  },
  {
   "cell_type": "markdown",
   "metadata": {},
   "source": [
    "반복 가능한 객체에서 \\_\\_iter\\_\\_를 호출하고 이터레이터에서 \\_\\_next\\_\\_ 메서드를 호출한 것과 똑같습니다.\n",
    "\n",
    "즉, iter는 반복 가능한 객체에서 이터레이터를 반환하고, next는 이터레이터에서 값을 차례대로 꺼냅니다. iter와 next는 이런 기능 이외에도 다양한 방식으로 사용할 수 있습니다."
   ]
  },
  {
   "cell_type": "markdown",
   "metadata": {},
   "source": [
    "### iter\n",
    "\n",
    "iter는 반복을 끝낼 값을 지정하면 특정 값이 나올 때 반복을 끝냅니다. 이 경우에는 반복 가능한 객체 대신 호출 가능한 객체(callable)를 넣어줍니다. 참고로 반복을 끝낼 값은 sentinel이라고 부르는데 감시병이라는 뜻입니다.\n",
    "\n",
    "즉, 반복을 감시하다가 특정 값이 나오면 반복을 끝낸다고 해서 sentinel입니다.\n",
    "\n",
    "+ iter(호출가능한객체, 반복을끝낼값)\n",
    "\n",
    "예를 들어 random.randint(0, 5)와 같이 0부터 5까지 무작위로 숫자를 생성할 때 2가 나오면 반복을 끝내도록 만들 수 있습니다. 이때 호출 가능한 객체를 넣어야 하므로 매개변수가 없는 함수 또는 람다 표현식으로 만들어줍니다."
   ]
  },
  {
   "cell_type": "code",
   "execution_count": 46,
   "metadata": {
    "ExecuteTime": {
     "end_time": "2020-12-24T09:11:43.179131Z",
     "start_time": "2020-12-24T09:11:43.162146Z"
    }
   },
   "outputs": [
    {
     "name": "stdout",
     "output_type": "stream",
     "text": [
      "4\n",
      "4\n",
      "0\n",
      "0\n",
      "1\n",
      "5\n",
      "0\n",
      "5\n"
     ]
    },
    {
     "ename": "StopIteration",
     "evalue": "",
     "output_type": "error",
     "traceback": [
      "\u001b[1;31m---------------------------------------------------------------------------\u001b[0m",
      "\u001b[1;31mStopIteration\u001b[0m                             Traceback (most recent call last)",
      "\u001b[1;32m<ipython-input-46-bb27f9098b34>\u001b[0m in \u001b[0;36m<module>\u001b[1;34m\u001b[0m\n\u001b[0;32m      4\u001b[0m \u001b[1;33m\u001b[0m\u001b[0m\n\u001b[0;32m      5\u001b[0m \u001b[1;32mwhile\u001b[0m \u001b[1;32mTrue\u001b[0m\u001b[1;33m:\u001b[0m\u001b[1;33m\u001b[0m\u001b[1;33m\u001b[0m\u001b[0m\n\u001b[1;32m----> 6\u001b[1;33m     \u001b[0mprint\u001b[0m\u001b[1;33m(\u001b[0m\u001b[0mnext\u001b[0m\u001b[1;33m(\u001b[0m\u001b[0mit\u001b[0m\u001b[1;33m)\u001b[0m\u001b[1;33m)\u001b[0m\u001b[1;33m\u001b[0m\u001b[1;33m\u001b[0m\u001b[0m\n\u001b[0m",
      "\u001b[1;31mStopIteration\u001b[0m: "
     ]
    }
   ],
   "source": [
    "import random\n",
    "\n",
    "it = iter(lambda : random.randint(0, 5), 2)\n",
    "\n",
    "while True:\n",
    "    print(next(it))"
   ]
  },
  {
   "cell_type": "markdown",
   "metadata": {},
   "source": [
    "next(it)로 숫자를 계속 만들다가 2가 나오면 StopIteration이 발생합니다. 물론 숫자가 무작위로 생성되므로 next(it)를 호출하는 횟수도 매번 달라집니다. 물론 다음과 같이 for 반복문에 넣어서 사용할 수도 있습니다."
   ]
  },
  {
   "cell_type": "code",
   "execution_count": 47,
   "metadata": {
    "ExecuteTime": {
     "end_time": "2020-12-24T09:13:05.170102Z",
     "start_time": "2020-12-24T09:13:05.154250Z"
    }
   },
   "outputs": [
    {
     "name": "stdout",
     "output_type": "stream",
     "text": [
      "1 5 4 4 3 0 "
     ]
    }
   ],
   "source": [
    "import random\n",
    "\n",
    "for i in iter(lambda : random.randint(0, 5), 2):\n",
    "    print(i, end=' ')"
   ]
  },
  {
   "cell_type": "markdown",
   "metadata": {},
   "source": [
    "이렇게 iter 함수를 활용하면 if 조건문으로 매번 숫자가 2인지 검사하지 않아도 되므로 코드가 좀 더 간단해집니다.\n",
    "\n",
    "즉, 다음 코드와 동작이 같습니다."
   ]
  },
  {
   "cell_type": "code",
   "execution_count": 48,
   "metadata": {
    "ExecuteTime": {
     "end_time": "2020-12-24T09:13:38.412550Z",
     "start_time": "2020-12-24T09:13:38.403585Z"
    }
   },
   "outputs": [
    {
     "name": "stdout",
     "output_type": "stream",
     "text": [
      "4 0 "
     ]
    }
   ],
   "source": [
    "import random\n",
    " \n",
    "while True:\n",
    "    i = random.randint(0, 5)\n",
    "    if i == 2:\n",
    "        break\n",
    "    print(i, end=' ')"
   ]
  },
  {
   "cell_type": "markdown",
   "metadata": {},
   "source": [
    "### next\n",
    "\n",
    "next는 기본값을 지정할 수 있습니다. 기본값을 지정하면 반복이 끝나더라도 StopIteration이 발생하지 않고 기본값을 출력합니다. 즉, 반복할 수 있을 때는 해당 값을 출력하고, 반복이 끝났을 때는 기본값을 출력합니다. 다음은 range(3)으로 0, 1, 2 세 번 반복하는데 next에 기본값으로 10을 지정했습니다.\n",
    "\n",
    "+ next(반복가능한객체, 기본값)"
   ]
  },
  {
   "cell_type": "code",
   "execution_count": 49,
   "metadata": {
    "ExecuteTime": {
     "end_time": "2020-12-24T09:14:35.153781Z",
     "start_time": "2020-12-24T09:14:35.138820Z"
    }
   },
   "outputs": [
    {
     "name": "stdout",
     "output_type": "stream",
     "text": [
      "0\n",
      "1\n",
      "2\n",
      "10\n",
      "10\n",
      "10\n"
     ]
    }
   ],
   "source": [
    "it = iter(range(3))\n",
    "print(next(it, 10))\n",
    "print(next(it, 10))\n",
    "print(next(it, 10))\n",
    "print(next(it, 10))\n",
    "print(next(it, 10))\n",
    "print(next(it, 10))"
   ]
  },
  {
   "cell_type": "markdown",
   "metadata": {},
   "source": [
    "0, 1, 2까지 나온 뒤에도 next(it, 10)을 호출하면 예외가 발생하지 않고 계속 10이 나옵니다.\n",
    "\n",
    "지금까지 반복 가능한 객체의 개념과 이터레이터를 만드는 방법을 배웠습니다.\n",
    "\n",
    "여기서는 이터레이터를 만들 때 \\_\\_iter\\_\\_, \\_\\_next\\_\\_ 메서드 또는 \\_\\_getitem\\_\\_ 메서드를 구현해야 한다는 점만 기억하면 됩니다."
   ]
  },
  {
   "cell_type": "markdown",
   "metadata": {},
   "source": [
    "## 연습문제 : 배수 이터레이터 만들기\n",
    "\n",
    "다음 소스 코드에서 특정 수의 배수를 만드는 이터레이터를 작성하세요. 배수는 0부터 지정된 숫자보다 작을 때까지 만들어야 합니다.\n",
    "\n",
    "```python\n",
    "class MultipleIterator:\n",
    "    def __init__(self, stop, multiple):\n",
    "        ①                        \n",
    "        ...\n",
    "                                 \n",
    " \n",
    "    def __iter__(self):\n",
    "        return self\n",
    " \n",
    "    def __next__(self):\n",
    "        ②                                            \n",
    "        ...\n",
    "                                                     \n",
    " \n",
    "for i in MultipleIterator(20, 3):\n",
    "    print(i, end=' ')\n",
    " \n",
    "print()\n",
    "for i in MultipleIterator(30, 5):\n",
    "    print(i, end=' ')\n",
    "```"
   ]
  },
  {
   "cell_type": "markdown",
   "metadata": {},
   "source": [
    "### 나의 풀이"
   ]
  },
  {
   "cell_type": "code",
   "execution_count": 51,
   "metadata": {
    "ExecuteTime": {
     "end_time": "2020-12-24T09:27:02.742965Z",
     "start_time": "2020-12-24T09:27:02.729004Z"
    }
   },
   "outputs": [
    {
     "name": "stdout",
     "output_type": "stream",
     "text": [
      "3 6 9 12 15 18 \n",
      "5 10 15 20 25 "
     ]
    }
   ],
   "source": [
    "class MultipleIterator:\n",
    "    def __init__(self, stop, multiple):\n",
    "        self.current = 1\n",
    "        self.stop = stop\n",
    "        self.multiple = multiple\n",
    "\n",
    "\n",
    "    def __iter__(self):\n",
    "        return self\n",
    "\n",
    "    def __next__(self):\n",
    "        r = self.current * self.multiple\n",
    "        if r < self.stop:\n",
    "            self.current += 1\n",
    "            return r\n",
    "        else:\n",
    "            raise StopIteration\n",
    "        \n",
    "\n",
    "\n",
    "for i in MultipleIterator(20, 3):\n",
    "    print(i, end=' ')\n",
    "\n",
    "print()\n",
    "for i in MultipleIterator(30, 5):\n",
    "    print(i, end=' ')"
   ]
  },
  {
   "cell_type": "markdown",
   "metadata": {},
   "source": [
    "### 정답!"
   ]
  },
  {
   "cell_type": "code",
   "execution_count": 52,
   "metadata": {
    "ExecuteTime": {
     "end_time": "2020-12-24T09:29:01.462677Z",
     "start_time": "2020-12-24T09:29:01.450749Z"
    }
   },
   "outputs": [
    {
     "name": "stdout",
     "output_type": "stream",
     "text": [
      "3 6 9 12 15 18 \n",
      "5 10 15 20 25 "
     ]
    }
   ],
   "source": [
    "class MultipleIterator:\n",
    "    def __init__(self, stop, multiple):\n",
    "        self.stop = stop\n",
    "        self.multiple = multiple\n",
    "        self.current = 0\n",
    "\n",
    "    def __iter__(self):\n",
    "        return self\n",
    "\n",
    "    def __next__(self):\n",
    "        self.current += 1\n",
    "        if self.current * self.multiple < self.stop:\n",
    "            return self.current * self.multiple\n",
    "        else:\n",
    "            raise StopIteration\n",
    "            \n",
    "            \n",
    "for i in MultipleIterator(20, 3):\n",
    "    print(i, end=' ')\n",
    "\n",
    "print()\n",
    "for i in MultipleIterator(30, 5):\n",
    "    print(i, end=' ')"
   ]
  }
 ],
 "metadata": {
  "kernelspec": {
   "display_name": "Python 3",
   "language": "python",
   "name": "python3"
  },
  "language_info": {
   "codemirror_mode": {
    "name": "ipython",
    "version": 3
   },
   "file_extension": ".py",
   "mimetype": "text/x-python",
   "name": "python",
   "nbconvert_exporter": "python",
   "pygments_lexer": "ipython3",
   "version": "3.7.6"
  },
  "toc": {
   "base_numbering": 1,
   "nav_menu": {},
   "number_sections": true,
   "sideBar": true,
   "skip_h1_title": true,
   "title_cell": "Table of Contents",
   "title_sidebar": "Contents",
   "toc_cell": true,
   "toc_position": {},
   "toc_section_display": true,
   "toc_window_display": true
  }
 },
 "nbformat": 4,
 "nbformat_minor": 4
}
