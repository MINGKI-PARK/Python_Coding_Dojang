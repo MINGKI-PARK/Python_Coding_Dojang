{
 "cells": [
  {
   "cell_type": "markdown",
   "metadata": {},
   "source": [
    "# 28_회문 판별과 N-gram 만들기"
   ]
  },
  {
   "cell_type": "markdown",
   "metadata": {
    "toc": true
   },
   "source": [
    "<h1>Table of Contents<span class=\"tocSkip\"></span></h1>\n",
    "<div class=\"toc\"><ul class=\"toc-item\"><li><span><a href=\"#회문-판별하기\" data-toc-modified-id=\"회문-판별하기-1\"><span class=\"toc-item-num\">1&nbsp;&nbsp;</span>회문 판별하기</a></span><ul class=\"toc-item\"><li><span><a href=\"#회문-판별하기\" data-toc-modified-id=\"회문-판별하기-1.1\"><span class=\"toc-item-num\">1.1&nbsp;&nbsp;</span>회문 판별하기</a></span></li><li><span><a href=\"#시퀀스-뒤집기로-문자-검사하기\" data-toc-modified-id=\"시퀀스-뒤집기로-문자-검사하기-1.2\"><span class=\"toc-item-num\">1.2&nbsp;&nbsp;</span>시퀀스 뒤집기로 문자 검사하기</a></span></li><li><span><a href=\"#리스트와-reversed-사용하기\" data-toc-modified-id=\"리스트와-reversed-사용하기-1.3\"><span class=\"toc-item-num\">1.3&nbsp;&nbsp;</span>리스트와 reversed 사용하기</a></span></li><li><span><a href=\"#문자열의-join-메서드와-reversed-사용하기\" data-toc-modified-id=\"문자열의-join-메서드와-reversed-사용하기-1.4\"><span class=\"toc-item-num\">1.4&nbsp;&nbsp;</span>문자열의 join 메서드와 reversed 사용하기</a></span></li></ul></li><li><span><a href=\"#N-gram-만들기\" data-toc-modified-id=\"N-gram-만들기-2\"><span class=\"toc-item-num\">2&nbsp;&nbsp;</span>N-gram 만들기</a></span><ul class=\"toc-item\"><li><span><a href=\"#반복문으로-N-gram-출력하기\" data-toc-modified-id=\"반복문으로-N-gram-출력하기-2.1\"><span class=\"toc-item-num\">2.1&nbsp;&nbsp;</span>반복문으로 N-gram 출력하기</a></span></li><li><span><a href=\"#zip으로-2-gram-만들기\" data-toc-modified-id=\"zip으로-2-gram-만들기-2.2\"><span class=\"toc-item-num\">2.2&nbsp;&nbsp;</span>zip으로 2-gram 만들기</a></span></li><li><span><a href=\"#zip과-리스트-표현식으로-N-gram-만들기\" data-toc-modified-id=\"zip과-리스트-표현식으로-N-gram-만들기-2.3\"><span class=\"toc-item-num\">2.3&nbsp;&nbsp;</span>zip과 리스트 표현식으로 N-gram 만들기</a></span></li></ul></li><li><span><a href=\"#연습문제:-단어-단위-N-gram-만들기\" data-toc-modified-id=\"연습문제:-단어-단위-N-gram-만들기-3\"><span class=\"toc-item-num\">3&nbsp;&nbsp;</span>연습문제: 단어 단위 N-gram 만들기</a></span></li></ul></div>"
   ]
  },
  {
   "cell_type": "markdown",
   "metadata": {},
   "source": [
    "회문은 유전자 염기서열 분석에서 많이 쓰고, N-gram은 빅 데이터 분석, 검색 엔진에서 많이 쓰인다. 특히 구글은 책들을 스캔해서 N-gram viewer를 만들었는데 사람들의 언어 패턴을 시대별로 분석하기도 했다."
   ]
  },
  {
   "cell_type": "markdown",
   "metadata": {},
   "source": [
    "## 회문 판별하기\n",
    "\n",
    "### 회문 판별하기\n",
    "\n",
    "회문(palindrome)은 순서를 거꾸로 읽어도 제대로 읽은 것과 같은 단어와 문장을 말한다. 예를 들면 'level', 'SOS', 'rotator', 'nurses run'과 같은 단어와 문장이 있다.\n",
    "\n",
    "문자열이 회문인지 판별하려면?\n",
    "\n",
    "첫 번째 글자와 마지막 글자가 같다. 그리고 안쪽으로 한 글자씩 좁혔을 때 글자가 서로 같으면 회문이다."
   ]
  },
  {
   "cell_type": "code",
   "execution_count": 5,
   "metadata": {
    "ExecuteTime": {
     "end_time": "2020-12-06T18:36:17.977143Z",
     "start_time": "2020-12-06T18:36:17.964178Z"
    }
   },
   "outputs": [
    {
     "name": "stdout",
     "output_type": "stream",
     "text": [
      "1 같습니다.\n",
      "2 같습니다.\n"
     ]
    }
   ],
   "source": [
    "# level로 회문 판별하기\n",
    "n = len('level')\n",
    "s = 'level'\n",
    "for i in range(n//2):\n",
    "    if s[i] != s[n-(i+1)]:\n",
    "        print('회문이 아닙니다.')\n",
    "        break\n",
    "    print('{} 같습니다.'.format(i+1))"
   ]
  },
  {
   "cell_type": "code",
   "execution_count": 9,
   "metadata": {
    "ExecuteTime": {
     "end_time": "2020-12-06T18:38:00.582572Z",
     "start_time": "2020-12-06T18:37:55.995212Z"
    }
   },
   "outputs": [
    {
     "name": "stdout",
     "output_type": "stream",
     "text": [
      "단어를 입력하세요: apple\n",
      "False\n"
     ]
    }
   ],
   "source": [
    "word = input('단어를 입력하세요: ')\n",
    " \n",
    "is_palindrome = True                 # 회문 판별값을 저장할 변수, 초깃값은 True\n",
    "for i in range(len(word) // 2):      # 0부터 문자열 길이의 절반만큼 반복\n",
    "    if word[i] != word[-1 - i]:      # 왼쪽 문자와 오른쪽 문자를 비교하여 문자가 다르면\n",
    "        is_palindrome = False        # 회문이 아님\n",
    "        break\n",
    " \n",
    "print(is_palindrome)                 # 회문 판별값 출력"
   ]
  },
  {
   "cell_type": "markdown",
   "metadata": {},
   "source": [
    "### 시퀀스 뒤집기로 문자 검사하기\n",
    "\n",
    "시퀀스 객체의 슬라이스를 활용하면 간단하게 판별할 수 있다."
   ]
  },
  {
   "cell_type": "code",
   "execution_count": 18,
   "metadata": {
    "ExecuteTime": {
     "end_time": "2020-12-06T18:40:44.676405Z",
     "start_time": "2020-12-06T18:40:43.019677Z"
    }
   },
   "outputs": [
    {
     "name": "stdout",
     "output_type": "stream",
     "text": [
      "단어를 입력하세요: level\n",
      "True\n"
     ]
    }
   ],
   "source": [
    "word = input('단어를 입력하세요: ')\n",
    " \n",
    "print(word == word[::-1])    # 원래 문자열과 반대로 뒤집은 문자열을 비교"
   ]
  },
  {
   "cell_type": "code",
   "execution_count": 19,
   "metadata": {
    "ExecuteTime": {
     "end_time": "2020-12-06T18:40:46.923011Z",
     "start_time": "2020-12-06T18:40:46.908052Z"
    }
   },
   "outputs": [
    {
     "data": {
      "text/plain": [
       "'level'"
      ]
     },
     "execution_count": 19,
     "metadata": {},
     "output_type": "execute_result"
    }
   ],
   "source": [
    "word[::-1]"
   ]
  },
  {
   "cell_type": "markdown",
   "metadata": {},
   "source": [
    "### 리스트와 reversed 사용하기"
   ]
  },
  {
   "cell_type": "code",
   "execution_count": 20,
   "metadata": {
    "ExecuteTime": {
     "end_time": "2020-12-06T18:41:36.578617Z",
     "start_time": "2020-12-06T18:41:36.556180Z"
    }
   },
   "outputs": [
    {
     "data": {
      "text/plain": [
       "True"
      ]
     },
     "execution_count": 20,
     "metadata": {},
     "output_type": "execute_result"
    }
   ],
   "source": [
    "word = 'level'\n",
    "\n",
    "list(word) == list(reversed(word))"
   ]
  },
  {
   "cell_type": "code",
   "execution_count": 21,
   "metadata": {
    "ExecuteTime": {
     "end_time": "2020-12-06T18:41:57.089148Z",
     "start_time": "2020-12-06T18:41:57.075637Z"
    }
   },
   "outputs": [
    {
     "data": {
      "text/plain": [
       "<reversed at 0x21d6c08ffc8>"
      ]
     },
     "execution_count": 21,
     "metadata": {},
     "output_type": "execute_result"
    }
   ],
   "source": [
    "reversed(word)"
   ]
  },
  {
   "cell_type": "markdown",
   "metadata": {},
   "source": [
    "### 문자열의 join 메서드와 reversed 사용하기"
   ]
  },
  {
   "cell_type": "code",
   "execution_count": 22,
   "metadata": {
    "ExecuteTime": {
     "end_time": "2020-12-06T18:42:32.757348Z",
     "start_time": "2020-12-06T18:42:32.740383Z"
    }
   },
   "outputs": [
    {
     "data": {
      "text/plain": [
       "True"
      ]
     },
     "execution_count": 22,
     "metadata": {},
     "output_type": "execute_result"
    }
   ],
   "source": [
    "word = 'level'\n",
    "\n",
    "word == ''.join(reversed(word))"
   ]
  },
  {
   "cell_type": "code",
   "execution_count": 24,
   "metadata": {
    "ExecuteTime": {
     "end_time": "2020-12-06T18:43:07.542392Z",
     "start_time": "2020-12-06T18:43:07.523302Z"
    }
   },
   "outputs": [
    {
     "data": {
      "text/plain": [
       "'elppa'"
      ]
     },
     "execution_count": 24,
     "metadata": {},
     "output_type": "execute_result"
    }
   ],
   "source": [
    "''.join(reversed('apple'))"
   ]
  },
  {
   "cell_type": "markdown",
   "metadata": {},
   "source": [
    "## N-gram 만들기\n",
    "\n",
    "N-gram은 문자열에서 N개의 연속된 요소를 추출하는 방법이다."
   ]
  },
  {
   "cell_type": "markdown",
   "metadata": {},
   "source": [
    "### 반복문으로 N-gram 출력하기"
   ]
  },
  {
   "cell_type": "code",
   "execution_count": 27,
   "metadata": {
    "ExecuteTime": {
     "end_time": "2020-12-06T18:46:39.085676Z",
     "start_time": "2020-12-06T18:46:39.076665Z"
    }
   },
   "outputs": [
    {
     "name": "stdout",
     "output_type": "stream",
     "text": [
      "He\n",
      "ll\n",
      "o\n"
     ]
    }
   ],
   "source": [
    "word = 'Hello'\n",
    "\n",
    "for i in range(0, len(word), 2):\n",
    "    print(word[i:i+2])\n",
    "    "
   ]
  },
  {
   "cell_type": "code",
   "execution_count": 29,
   "metadata": {
    "ExecuteTime": {
     "end_time": "2020-12-06T18:47:32.663833Z",
     "start_time": "2020-12-06T18:47:32.651831Z"
    }
   },
   "outputs": [
    {
     "name": "stdout",
     "output_type": "stream",
     "text": [
      "He\n",
      "el\n",
      "ll\n",
      "lo\n"
     ]
    }
   ],
   "source": [
    "word = 'Hello'\n",
    "\n",
    "for i in range(len(word)-1):\n",
    "    print(word[i:i+2])"
   ]
  },
  {
   "cell_type": "code",
   "execution_count": 30,
   "metadata": {
    "ExecuteTime": {
     "end_time": "2020-12-06T18:48:06.555130Z",
     "start_time": "2020-12-06T18:48:06.548149Z"
    }
   },
   "outputs": [
    {
     "name": "stdout",
     "output_type": "stream",
     "text": [
      "He\n",
      "el\n",
      "ll\n",
      "lo\n"
     ]
    }
   ],
   "source": [
    "text = 'Hello'\n",
    " \n",
    "for i in range(len(text) - 1):             # 2-gram이므로 문자열의 끝에서 한 글자 앞까지만 반복함\n",
    "    print(text[i], text[i + 1], sep='')    # 현재 문자와 그다음 문자 출력"
   ]
  },
  {
   "cell_type": "code",
   "execution_count": 31,
   "metadata": {
    "ExecuteTime": {
     "end_time": "2020-12-06T18:48:59.866163Z",
     "start_time": "2020-12-06T18:48:59.860176Z"
    }
   },
   "outputs": [
    {
     "name": "stdout",
     "output_type": "stream",
     "text": [
      "this is\n",
      "is python\n",
      "python script\n"
     ]
    }
   ],
   "source": [
    "text = 'this is python script'\n",
    "words = text.split()                 # 공백을 기준으로 문자열을 분리하여 리스트로 만듦\n",
    " \n",
    "for i in range(len(words) - 1):      # 2-gram이므로 리스트의 마지막에서 요소 한 개 앞까지만 반복함\n",
    "    print(words[i], words[i + 1])    # 현재 문자열과 그다음 문자열 출력"
   ]
  },
  {
   "cell_type": "markdown",
   "metadata": {},
   "source": [
    "### zip으로 2-gram 만들기"
   ]
  },
  {
   "cell_type": "code",
   "execution_count": 39,
   "metadata": {
    "ExecuteTime": {
     "end_time": "2020-12-06T18:52:42.582945Z",
     "start_time": "2020-12-06T18:52:42.564202Z"
    }
   },
   "outputs": [
    {
     "name": "stdout",
     "output_type": "stream",
     "text": [
      "he\n",
      "el\n",
      "ll\n",
      "lo\n"
     ]
    }
   ],
   "source": [
    "text = 'hello'\n",
    " \n",
    "two_gram = zip(text, text[1:])\n",
    "for i in two_gram:\n",
    "    print(i[0], i[1], sep='')"
   ]
  },
  {
   "cell_type": "markdown",
   "metadata": {
    "ExecuteTime": {
     "end_time": "2020-12-06T18:51:57.452647Z",
     "start_time": "2020-12-06T18:51:57.443667Z"
    }
   },
   "source": [
    "zip 함수는 반복 가능한 객체의 각 요소를 튜플로 묶어준다."
   ]
  },
  {
   "cell_type": "code",
   "execution_count": 40,
   "metadata": {
    "ExecuteTime": {
     "end_time": "2020-12-06T18:53:20.091159Z",
     "start_time": "2020-12-06T18:53:20.084347Z"
    }
   },
   "outputs": [
    {
     "data": {
      "text/plain": [
       "[('h', 'e'), ('e', 'l'), ('l', 'l'), ('l', 'o')]"
      ]
     },
     "execution_count": 40,
     "metadata": {},
     "output_type": "execute_result"
    }
   ],
   "source": [
    "list(zip(text, text[1:]))"
   ]
  },
  {
   "cell_type": "code",
   "execution_count": 41,
   "metadata": {
    "ExecuteTime": {
     "end_time": "2020-12-06T18:54:10.930618Z",
     "start_time": "2020-12-06T18:54:10.909702Z"
    }
   },
   "outputs": [
    {
     "data": {
      "text/plain": [
       "[('this', 'is'), ('is', 'python'), ('python', 'script')]"
      ]
     },
     "execution_count": 41,
     "metadata": {},
     "output_type": "execute_result"
    }
   ],
   "source": [
    "text = 'this is python script'\n",
    "words = text.split()\n",
    "list(zip(words, words[1:]))"
   ]
  },
  {
   "cell_type": "markdown",
   "metadata": {},
   "source": [
    "### zip과 리스트 표현식으로 N-gram 만들기"
   ]
  },
  {
   "cell_type": "code",
   "execution_count": 43,
   "metadata": {
    "ExecuteTime": {
     "end_time": "2020-12-06T18:55:12.240936Z",
     "start_time": "2020-12-06T18:55:12.219982Z"
    }
   },
   "outputs": [
    {
     "data": {
      "text/plain": [
       "['hello', 'ello', 'llo']"
      ]
     },
     "execution_count": 43,
     "metadata": {},
     "output_type": "execute_result"
    }
   ],
   "source": [
    "text = 'hello'\n",
    "[text[i:] for i in range(3)]"
   ]
  },
  {
   "cell_type": "code",
   "execution_count": 44,
   "metadata": {
    "ExecuteTime": {
     "end_time": "2020-12-06T18:55:47.248350Z",
     "start_time": "2020-12-06T18:55:47.236435Z"
    }
   },
   "outputs": [
    {
     "data": {
      "text/plain": [
       "[('hello',), ('ello',), ('llo',)]"
      ]
     },
     "execution_count": 44,
     "metadata": {},
     "output_type": "execute_result"
    }
   ],
   "source": [
    "list(zip(['hello', 'ello', 'llo']))"
   ]
  },
  {
   "cell_type": "markdown",
   "metadata": {},
   "source": [
    "zip에 리스트의 각 요소를 콤마로 구분해서 넣어주려면 리스트 앞에 \\*를 붙여야 한다."
   ]
  },
  {
   "cell_type": "code",
   "execution_count": 45,
   "metadata": {
    "ExecuteTime": {
     "end_time": "2020-12-06T18:57:19.162241Z",
     "start_time": "2020-12-06T18:57:19.156259Z"
    }
   },
   "outputs": [
    {
     "data": {
      "text/plain": [
       "[('h', 'e', 'l'), ('e', 'l', 'l'), ('l', 'l', 'o')]"
      ]
     },
     "execution_count": 45,
     "metadata": {},
     "output_type": "execute_result"
    }
   ],
   "source": [
    "list(zip(*['hello', 'ello', 'llo']))"
   ]
  },
  {
   "cell_type": "code",
   "execution_count": 46,
   "metadata": {
    "ExecuteTime": {
     "end_time": "2020-12-06T18:57:28.966690Z",
     "start_time": "2020-12-06T18:57:28.956687Z"
    }
   },
   "outputs": [
    {
     "data": {
      "text/plain": [
       "[('h', 'e', 'l'), ('e', 'l', 'l'), ('l', 'l', 'o')]"
      ]
     },
     "execution_count": 46,
     "metadata": {},
     "output_type": "execute_result"
    }
   ],
   "source": [
    "list(zip(*[text[i:] for i in range(3)]))"
   ]
  },
  {
   "cell_type": "markdown",
   "metadata": {},
   "source": [
    "> N-gram의 활용\n",
    "\n",
    "4-gram을 쓰면 picked, picks, picking에서 pick만 추출하여 단어의 빈도를 세는데 이용됩니다. 이런 특성 때문에 검색엔진, 빅데이터, 법언어학 분야에서 주로 활용됩니다.\n",
    "\n",
    "해리포터의 작가 조앤 롤링은 가명으로 <더 쿠쿠스 콜링>이라는 소설을 출간한 적이 있었습니다. 재미있는 점은 <더 쿠쿠스 콜링>의 작가가 조앤 롤링이라는 것을 밝혀내는데 N-gram을 비롯하여 다양한 기법이 동원되었습니다. 즉, 사람마다 사용하는 문장에 패턴이 있지요. 그래서 같은 의미라 하더라도 사람마다 단어 선택이 다르다는 것을 통계적으로 분석해낸 사례입니다."
   ]
  },
  {
   "cell_type": "markdown",
   "metadata": {},
   "source": [
    "## 연습문제: 단어 단위 N-gram 만들기\n",
    "\n",
    "표준 입력으로 정수와 문자열이 각 줄에 입력됩니다. 다음 소스 코드를 완성하여 입력된 숫자에 해당하는 단어 단위 N-gram을 튜플로 출력하세요(리스트 표현식 사용). 만약 입력된 문자열의 단어 개수가 입력된 정수 미만이라면 'wrong'을 출력하세요."
   ]
  },
  {
   "cell_type": "code",
   "execution_count": 50,
   "metadata": {
    "ExecuteTime": {
     "end_time": "2020-12-06T19:07:52.759874Z",
     "start_time": "2020-12-06T19:07:49.773268Z"
    }
   },
   "outputs": [
    {
     "name": "stdout",
     "output_type": "stream",
     "text": [
      "7\n",
      "Python is a programming language that lets you work quickly\n",
      "('Python', 'is', 'a', 'programming', 'language', 'that', 'lets')\n",
      "('is', 'a', 'programming', 'language', 'that', 'lets', 'you')\n",
      "('a', 'programming', 'language', 'that', 'lets', 'you', 'work')\n",
      "('programming', 'language', 'that', 'lets', 'you', 'work', 'quickly')\n"
     ]
    }
   ],
   "source": [
    "n = int(input())\n",
    "text = input()\n",
    "words = text.split()\n",
    "\n",
    "if len(words) < n:\n",
    "    print('wrong')\n",
    "    \n",
    "else:\n",
    "    n_gram = zip(*[words[i:] for i in range(n)])\n",
    "    for i in n_gram:\n",
    "        print(i)"
   ]
  }
 ],
 "metadata": {
  "kernelspec": {
   "display_name": "Python 3",
   "language": "python",
   "name": "python3"
  },
  "language_info": {
   "codemirror_mode": {
    "name": "ipython",
    "version": 3
   },
   "file_extension": ".py",
   "mimetype": "text/x-python",
   "name": "python",
   "nbconvert_exporter": "python",
   "pygments_lexer": "ipython3",
   "version": "3.7.6"
  },
  "toc": {
   "base_numbering": 1,
   "nav_menu": {},
   "number_sections": true,
   "sideBar": true,
   "skip_h1_title": true,
   "title_cell": "Table of Contents",
   "title_sidebar": "Contents",
   "toc_cell": true,
   "toc_position": {},
   "toc_section_display": true,
   "toc_window_display": true
  }
 },
 "nbformat": 4,
 "nbformat_minor": 4
}
