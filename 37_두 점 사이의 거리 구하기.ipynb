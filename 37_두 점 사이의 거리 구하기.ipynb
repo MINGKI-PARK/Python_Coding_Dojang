{
 "cells": [
  {
   "cell_type": "markdown",
   "metadata": {},
   "source": [
    "# 37_두 점 사이의 거리 구하기"
   ]
  },
  {
   "cell_type": "markdown",
   "metadata": {
    "toc": true
   },
   "source": [
    "<h1>Table of Contents<span class=\"tocSkip\"></span></h1>\n",
    "<div class=\"toc\"><ul class=\"toc-item\"><li><span><a href=\"#두-점-사이의-거리-구하기\" data-toc-modified-id=\"두-점-사이의-거리-구하기-1\"><span class=\"toc-item-num\">1&nbsp;&nbsp;</span>두 점 사이의 거리 구하기</a></span><ul class=\"toc-item\"><li><span><a href=\"#클래스로-점-구현하기\" data-toc-modified-id=\"클래스로-점-구현하기-1.1\"><span class=\"toc-item-num\">1.1&nbsp;&nbsp;</span>클래스로 점 구현하기</a></span></li><li><span><a href=\"#피타고라스의-정리로-두-점의-거리-구하기\" data-toc-modified-id=\"피타고라스의-정리로-두-점의-거리-구하기-1.2\"><span class=\"toc-item-num\">1.2&nbsp;&nbsp;</span>피타고라스의 정리로 두 점의 거리 구하기</a></span></li></ul></li><li><span><a href=\"#연습문제-:-사각형의-넓이-구하기\" data-toc-modified-id=\"연습문제-:-사각형의-넓이-구하기-2\"><span class=\"toc-item-num\">2&nbsp;&nbsp;</span>연습문제 : 사각형의 넓이 구하기</a></span><ul class=\"toc-item\"><li><span><a href=\"#나의-풀이\" data-toc-modified-id=\"나의-풀이-2.1\"><span class=\"toc-item-num\">2.1&nbsp;&nbsp;</span>나의 풀이</a></span></li><li><span><a href=\"#정답\" data-toc-modified-id=\"정답-2.2\"><span class=\"toc-item-num\">2.2&nbsp;&nbsp;</span>정답</a></span></li></ul></li></ul></div>"
   ]
  },
  {
   "cell_type": "markdown",
   "metadata": {},
   "source": [
    "클래스 문법을 알아보았으니 이번에는 클래스를 활용하여 2차원 평면에서 위치를 표현한 뒤 두 점 사이의 거리를 구해보겠습니다."
   ]
  },
  {
   "cell_type": "markdown",
   "metadata": {},
   "source": [
    "## 두 점 사이의 거리 구하기\n",
    "\n",
    "두 점 사이의 거리를 구하기 전에 먼저 클래스로 점을 구현해보겠습니다."
   ]
  },
  {
   "cell_type": "markdown",
   "metadata": {},
   "source": [
    "### 클래스로 점 구현하기\n",
    "\n",
    "2차원 평면에서 위치를 표현하려면 x와 y값이 필요하겠죠? 다음과 같이 Point2D 클래스를 구현하고 x와 y를 속성으로 넣습니다.\n",
    "\n",
    "```python\n",
    "class Point2D:\n",
    "    def __init__(self, x, y):\n",
    "        self.x = x\n",
    "        self.y = y\n",
    "```\n",
    "\n",
    "이제 Point2D 클래스로 점 두 개를 만듭니다."
   ]
  },
  {
   "cell_type": "code",
   "execution_count": 1,
   "metadata": {
    "ExecuteTime": {
     "end_time": "2020-12-22T07:44:19.499276Z",
     "start_time": "2020-12-22T07:44:19.482293Z"
    }
   },
   "outputs": [
    {
     "name": "stdout",
     "output_type": "stream",
     "text": [
      "p1: 30 20\n",
      "p2: 60 50\n"
     ]
    }
   ],
   "source": [
    "class Point2D:\n",
    "    def __init__(self, x, y):\n",
    "        self.x = x\n",
    "        self.y = y\n",
    " \n",
    "p1 = Point2D(x=30, y=20)    # 점1\n",
    "p2 = Point2D(x=60, y=50)    # 점2\n",
    " \n",
    "print('p1: {} {}'.format(p1.x, p1.y))    # 30 20\n",
    "print('p2: {} {}'.format(p2.x, p2.y))    # 60 50"
   ]
  },
  {
   "cell_type": "markdown",
   "metadata": {},
   "source": [
    "### 피타고라스의 정리로 두 점의 거리 구하기\n",
    "\n",
    "여기서 두 점의 거리를 구하려면 어떻게 해야 할까요? 학교에서 배운 피타고라스의 정리를 이용하면 됩니다.\n",
    "\n",
    "+ 임의의 직각삼각형에서 빗변을 한 변으로 하는 정사각형의 넓이는 다른 두 변을 각각 한 변으로 하는 정사각형의 넓이의 합과 같다.\n",
    "+ a2 + b2 = c2\n",
    "\n",
    "피타고라스의 정리에 대입하려면 먼저 선 a와 b의 길이를 구해야 합니다. 우리는 Point2D 클래스의 인스턴스에 두 점의 좌표 정보가 들어있으므로 인스턴스(변수)를 활용하면 됩니다.\n",
    "\n",
    "```python\n",
    "a = p2.x - p1.x    # 선 a의 길이\n",
    "b = p2.y - p1.y    # 선 b의 길이\n",
    "```\n",
    "\n",
    "a는 p2의 x에서 p1의 x를 빼면 되고, b는 p2의 y에서 p1의 y를 빼면 됩니다.\n",
    "\n",
    "그다음에 피타고라스의 정리에서 c의 길이를 계산하려면 제곱근을 구해야 합니다.\n",
    "\n",
    "그럼 √(루트)는 어떻게 구현해야 할까요? 이때는 math 모듈의 sqrt 함수를 사용하면 편리합니다. sqrt는 제곱근을 뜻하는 square root에서 따왔습니다.\n",
    "\n",
    "+ math.sqrt(값)\n",
    "\n",
    "n  제곱근을 반환, 값이 음수이면 에러 발생\n",
    "\n",
    "이제 sqrt 함수까지 사용해서 p1과 p2의 거리를 구해보겠습니다."
   ]
  },
  {
   "cell_type": "code",
   "execution_count": 2,
   "metadata": {
    "ExecuteTime": {
     "end_time": "2020-12-22T07:47:31.625778Z",
     "start_time": "2020-12-22T07:47:31.597853Z"
    }
   },
   "outputs": [
    {
     "name": "stdout",
     "output_type": "stream",
     "text": [
      "42.42640687119285\n"
     ]
    }
   ],
   "source": [
    "import math\n",
    " \n",
    "class Point2D:\n",
    "    def __init__(self, x, y):\n",
    "        self.x = x\n",
    "        self.y = y\n",
    " \n",
    "p1 = Point2D(x=30, y=20)    # 점1\n",
    "p2 = Point2D(x=60, y=50)    # 점2\n",
    " \n",
    "a = p2.x - p1.x    # 선 a의 길이\n",
    "b = p2.y - p1.y    # 선 b의 길이\n",
    " \n",
    "c = math.sqrt((a * a) + (b * b))    # (a * a) + (b * b)의 제곱근을 구함\n",
    "print(c)    # 42.42640687119285"
   ]
  },
  {
   "cell_type": "markdown",
   "metadata": {},
   "source": [
    "이처럼 sqrt 함수에 값을 넣으면 해당 값의 제곱근을 구해줍니다. 여기서는 a의 제곱과 b의 제곱의 합을 (a * a) + (b * b)처럼 표현했는데 거듭제곱(power)을 구하는 pow 함수를 사용해도 됩니다(math 모듈).\n",
    "\n",
    "+ math.pow(값, 지수)\n",
    "\n",
    "n  값을 지수만큼 거듭제곱한 값을 반환\n",
    "\n",
    "즉, a2를 구하고 싶다면 pow(a, 2)처럼 사용합니다. 앞에서 작성한 코드를 pow 함수로 다시 작성하면 다음과 같은 모양이 되겠죠?\n",
    "\n",
    "```python\n",
    "c = math.sqrt(math.pow(a, 2) + math.pow(b, 2))\n",
    "```\n",
    "\n",
    "물론 파이썬의 거듭제곱 연산자 **를 사용해도 됩니다.\n",
    "\n",
    "```python\n",
    "c = math.sqrt((a ** 2) + (b ** 2))\n",
    "```\n",
    "\n",
    "만약 선의 위치를 구할 때 p2에서 p1을 빼는 것이 아닌 p1에서 p2를 빼면 어떻게 될까요?\n",
    "\n",
    "```python\n",
    "a = p1.x - p2.x    # 선 a의 길이\n",
    "b = p1.y - p2.y    # 선 b의 길이\n",
    "```\n",
    "\n",
    "30 - 60은 -30이고 20 - 50도 -30입니다. 하지만 걱정하지 않아도 됩니다. a2 + b2 = c2 식에서 a와 b는 같은 값을 두 번 곱하는데 음수(-)끼리 곱하면 항상 양수(+)가 되므로 부호는 상관하지 않아도 됩니다. 즉, 양수(+) * 양수(+) 또는 음수(-) * 음수(-) 상황밖에 없기 때문이죠.\n",
    "\n",
    "지금까지 클래스를 사용하여 점을 표현하고 두 점 사이의 거리를 구하는 방법을 배웠는데 피타고라스의 정리를 수학 함수로 푸는 부분이 약간 어려웠습니다. 당장 이해가 되지 않는다면 일단 넘어가도 상관없습니다. 나중에 두 점 사이의 거리를 구해야 할 때 다시 돌아와서 찾아보세요."
   ]
  },
  {
   "cell_type": "markdown",
   "metadata": {},
   "source": [
    "> 절댓값 함수\n",
    "\n",
    "내장 함수 abs 또는 math 모듈의 fabs 함수를 사용하면 양수 또는 음수를 절댓값(absolute value)으로 만들 수 있습니다.\n",
    "\n",
    "`abs(값)`\n",
    "\n",
    "정수는 절댓값을 정수로 반환, 실수는 절댓값을 실수로 반환\n",
    "\n",
    "`math.fabs(값)`\n",
    "\n",
    "절댓값을 실수로 반환"
   ]
  },
  {
   "cell_type": "markdown",
   "metadata": {},
   "source": [
    "> namedtuple 사용하기\n",
    "\n",
    "파이썬에서는 각 요소에 이름을 지정해 줄 수 있는 튜플인 namedtuple을 제공합니다( collections 모듈). namedtuple은 자료형 이름과 요소의 이름을 지정하면 클래스를 생성해줍니다. 여기서 자료형 이름은 문자열, 요소의 이름은 문자열 리스트로 넣어줍니다.\n",
    "\n",
    "`클래스 = collections.namedtuple('자료형이름', ['요소이름1', '요소이름2'])`\n",
    "\n",
    "namedtuple로 생성한 클래스는 값을 넣어서 인스턴스를 만들 수 있으며 인스턴스.요소이름 또는 인스턴스[인덱스] 형식으로 요소에 접근할 수 있습니다.\n",
    "\n",
    "인스턴스 = 클래스(값1, 값2)\n",
    "\n",
    "인스턴스 = 클래스(요소이름1=값1, 요소이름2=값2)\n",
    "\n",
    "인스턴스.요소이름1\n",
    "\n",
    "인스턴스[인덱스]\n",
    "\n",
    "다음은 namedtuple을 사용하여 점을 표현한 뒤 두 점의 거리를 구합니다."
   ]
  },
  {
   "cell_type": "code",
   "execution_count": 3,
   "metadata": {
    "ExecuteTime": {
     "end_time": "2020-12-22T07:51:10.670257Z",
     "start_time": "2020-12-22T07:51:10.645657Z"
    }
   },
   "outputs": [
    {
     "name": "stdout",
     "output_type": "stream",
     "text": [
      "42.42640687119285\n"
     ]
    }
   ],
   "source": [
    "import math\n",
    "import collections\n",
    " \n",
    "Point2D = collections.namedtuple('Point2D', ['x', 'y'])    # namedtuple로 점 표현\n",
    " \n",
    "p1 = Point2D(x=30, y=20)    # 점1\n",
    "p2 = Point2D(x=60, y=50)    # 점2\n",
    " \n",
    "a = p1.x - p2.x    # 선 a의 길이\n",
    "b = p1.y - p2.y    # 선 b의 길이\n",
    " \n",
    "c = math.sqrt((a * a) + (b * b))\n",
    "print(c)    # 42.42640687119285"
   ]
  },
  {
   "cell_type": "markdown",
   "metadata": {},
   "source": [
    "## 연습문제 : 사각형의 넓이 구하기\n",
    "\n",
    "```python\n",
    "class Rectangle:\n",
    "    def __init__(self, x1, y1, x2, y2):\n",
    "        self.x1 = x1\n",
    "        self.y1 = y1\n",
    "        self.x2 = x2\n",
    "        self.y2 = y2\n",
    " \n",
    "rect = Rectangle(x1=20, y1=20, x2=40, y2=30)\n",
    " \n",
    "①                              \n",
    "②                              \n",
    "③                              \n",
    "print(area)\n",
    "```"
   ]
  },
  {
   "cell_type": "markdown",
   "metadata": {},
   "source": [
    "### 나의 풀이"
   ]
  },
  {
   "cell_type": "code",
   "execution_count": 4,
   "metadata": {
    "ExecuteTime": {
     "end_time": "2020-12-22T08:00:16.569226Z",
     "start_time": "2020-12-22T08:00:16.549126Z"
    }
   },
   "outputs": [],
   "source": [
    "class Rectangle:\n",
    "    def __init__(self, x1, y1, x2, y2):\n",
    "        self.x1 = x1\n",
    "        self.y1 = y1\n",
    "        self.x2 = x2\n",
    "        self.y2 = y2\n",
    "\n",
    "rect = Rectangle(x1=20, y1=20, x2=40, y2=30)"
   ]
  },
  {
   "cell_type": "code",
   "execution_count": 6,
   "metadata": {
    "ExecuteTime": {
     "end_time": "2020-12-22T08:01:13.188617Z",
     "start_time": "2020-12-22T08:01:13.169664Z"
    }
   },
   "outputs": [
    {
     "data": {
      "text/plain": [
       "200"
      ]
     },
     "execution_count": 6,
     "metadata": {},
     "output_type": "execute_result"
    }
   ],
   "source": [
    "a = rect.x2 - rect.x1\n",
    "b = rect.y2 - rect.y1\n",
    "area = a * b\n",
    "area"
   ]
  },
  {
   "cell_type": "markdown",
   "metadata": {},
   "source": [
    "### 정답"
   ]
  },
  {
   "cell_type": "code",
   "execution_count": 8,
   "metadata": {
    "ExecuteTime": {
     "end_time": "2020-12-22T08:02:04.824264Z",
     "start_time": "2020-12-22T08:02:04.816854Z"
    }
   },
   "outputs": [
    {
     "name": "stdout",
     "output_type": "stream",
     "text": [
      "200\n"
     ]
    }
   ],
   "source": [
    "width = abs(rect.x2 - rect.x1)\n",
    "height = abs(rect.y2 - rect.y1)\n",
    "area = width * height\n",
    "print(area)"
   ]
  },
  {
   "cell_type": "markdown",
   "metadata": {},
   "source": [
    "절대값을 써야함!"
   ]
  }
 ],
 "metadata": {
  "kernelspec": {
   "display_name": "Python 3",
   "language": "python",
   "name": "python3"
  },
  "language_info": {
   "codemirror_mode": {
    "name": "ipython",
    "version": 3
   },
   "file_extension": ".py",
   "mimetype": "text/x-python",
   "name": "python",
   "nbconvert_exporter": "python",
   "pygments_lexer": "ipython3",
   "version": "3.7.6"
  },
  "toc": {
   "base_numbering": 1,
   "nav_menu": {},
   "number_sections": true,
   "sideBar": true,
   "skip_h1_title": true,
   "title_cell": "Table of Contents",
   "title_sidebar": "Contents",
   "toc_cell": true,
   "toc_position": {},
   "toc_section_display": true,
   "toc_window_display": true
  }
 },
 "nbformat": 4,
 "nbformat_minor": 4
}
