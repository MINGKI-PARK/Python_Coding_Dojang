{
 "cells": [
  {
   "cell_type": "markdown",
   "metadata": {},
   "source": [
    "# 30_함수에서 위치 인수와 키워드 인수 사용하기"
   ]
  },
  {
   "cell_type": "markdown",
   "metadata": {
    "toc": true
   },
   "source": [
    "<h1>Table of Contents<span class=\"tocSkip\"></span></h1>\n",
    "<div class=\"toc\"><ul class=\"toc-item\"><li><span><a href=\"#위치-인수와-리스트-언패킹-사용하기\" data-toc-modified-id=\"위치-인수와-리스트-언패킹-사용하기-1\"><span class=\"toc-item-num\">1&nbsp;&nbsp;</span>위치 인수와 리스트 언패킹 사용하기</a></span><ul class=\"toc-item\"><li><span><a href=\"#위치-인수를-사용하는-함수를-만들고-호출하기\" data-toc-modified-id=\"위치-인수를-사용하는-함수를-만들고-호출하기-1.1\"><span class=\"toc-item-num\">1.1&nbsp;&nbsp;</span>위치 인수를 사용하는 함수를 만들고 호출하기</a></span></li><li><span><a href=\"#언패킹-사용하기\" data-toc-modified-id=\"언패킹-사용하기-1.2\"><span class=\"toc-item-num\">1.2&nbsp;&nbsp;</span>언패킹 사용하기</a></span></li><li><span><a href=\"#가변-인수-함수-만들기\" data-toc-modified-id=\"가변-인수-함수-만들기-1.3\"><span class=\"toc-item-num\">1.3&nbsp;&nbsp;</span>가변 인수 함수 만들기</a></span></li></ul></li><li><span><a href=\"#키워드-인수-사용하기\" data-toc-modified-id=\"키워드-인수-사용하기-2\"><span class=\"toc-item-num\">2&nbsp;&nbsp;</span>키워드 인수 사용하기</a></span></li><li><span><a href=\"#키워드-인수와-딕셔너리-언패킹-사용하기\" data-toc-modified-id=\"키워드-인수와-딕셔너리-언패킹-사용하기-3\"><span class=\"toc-item-num\">3&nbsp;&nbsp;</span>키워드 인수와 딕셔너리 언패킹 사용하기</a></span><ul class=\"toc-item\"><li><span><a href=\"#**를-두-번-사용하는-이유\" data-toc-modified-id=\"**를-두-번-사용하는-이유-3.1\"><span class=\"toc-item-num\">3.1&nbsp;&nbsp;</span>**를 두 번 사용하는 이유</a></span></li><li><span><a href=\"#키워드-인수를-사용하는-가변-인수-함수-만들기\" data-toc-modified-id=\"키워드-인수를-사용하는-가변-인수-함수-만들기-3.2\"><span class=\"toc-item-num\">3.2&nbsp;&nbsp;</span>키워드 인수를 사용하는 가변 인수 함수 만들기</a></span></li></ul></li><li><span><a href=\"#매개-변수에-초깃값-지정하기\" data-toc-modified-id=\"매개-변수에-초깃값-지정하기-4\"><span class=\"toc-item-num\">4&nbsp;&nbsp;</span>매개 변수에 초깃값 지정하기</a></span><ul class=\"toc-item\"><li><span><a href=\"#초깃값이-지정된-매개변수의-위치\" data-toc-modified-id=\"초깃값이-지정된-매개변수의-위치-4.1\"><span class=\"toc-item-num\">4.1&nbsp;&nbsp;</span>초깃값이 지정된 매개변수의 위치</a></span></li></ul></li><li><span><a href=\"#연습문제:-가장-높은-점수를-구하는-함수-만들기\" data-toc-modified-id=\"연습문제:-가장-높은-점수를-구하는-함수-만들기-5\"><span class=\"toc-item-num\">5&nbsp;&nbsp;</span>연습문제: 가장 높은 점수를 구하는 함수 만들기</a></span></li></ul></div>"
   ]
  },
  {
   "cell_type": "markdown",
   "metadata": {},
   "source": [
    " 이번에는 함수에서 위치 인수, 키워드 인수를 사용하는 방법과 리스트, 딕셔너리 언패킹(unpacking)을 활용하는 방법을 알아보겠습니다."
   ]
  },
  {
   "cell_type": "markdown",
   "metadata": {},
   "source": [
    "## 위치 인수와 리스트 언패킹 사용하기\n",
    "\n",
    "다음과 같이 함수에 인수를 순서대로 넣는 방식을 위치 인수(positional argument)라고 합니다. 즉, 인수의 위치가 정해져 있습니다."
   ]
  },
  {
   "cell_type": "code",
   "execution_count": 1,
   "metadata": {
    "ExecuteTime": {
     "end_time": "2020-12-09T12:21:29.049508Z",
     "start_time": "2020-12-09T12:21:29.028139Z"
    }
   },
   "outputs": [
    {
     "name": "stdout",
     "output_type": "stream",
     "text": [
      "10 20 30\n"
     ]
    }
   ],
   "source": [
    "print(10, 20, 30)"
   ]
  },
  {
   "cell_type": "markdown",
   "metadata": {},
   "source": [
    "### 위치 인수를 사용하는 함수를 만들고 호출하기\n",
    "\n",
    "그럼 간단하게 숫자 세 개를 각 줄에 출력하는 함수를 만들어보겠습니다."
   ]
  },
  {
   "cell_type": "code",
   "execution_count": 4,
   "metadata": {
    "ExecuteTime": {
     "end_time": "2020-12-09T12:25:44.139035Z",
     "start_time": "2020-12-09T12:25:44.119813Z"
    }
   },
   "outputs": [
    {
     "name": "stdout",
     "output_type": "stream",
     "text": [
      "10\n",
      "20\n",
      "30\n"
     ]
    }
   ],
   "source": [
    "def print_numbers(a, b, c):\n",
    "    print(a)\n",
    "    print(b)\n",
    "    print(c)\n",
    "    \n",
    "print_numbers(10, 20, 30)"
   ]
  },
  {
   "cell_type": "markdown",
   "metadata": {},
   "source": [
    "### 언패킹 사용하기\n",
    "\n",
    "이렇게 인수를 순서대로 넣을 때는 리스트나 튜플을 사용할 수도 있습니다. 다음과 같이 리스트 또는 튜플 앞에 \\*(애스터리스크)를 붙여서 함수에 넣어주면 됩니다.\n",
    "\n",
    "+ 함수(\\*리스트)\n",
    "+ 함수(\\*튜플)"
   ]
  },
  {
   "cell_type": "code",
   "execution_count": 5,
   "metadata": {
    "ExecuteTime": {
     "end_time": "2020-12-09T12:27:07.331275Z",
     "start_time": "2020-12-09T12:27:07.321804Z"
    }
   },
   "outputs": [
    {
     "name": "stdout",
     "output_type": "stream",
     "text": [
      "10\n",
      "20\n",
      "30\n"
     ]
    }
   ],
   "source": [
    "x = [10, 20, 30]\n",
    "print_numbers(*x)"
   ]
  },
  {
   "cell_type": "markdown",
   "metadata": {},
   "source": [
    "print_numbers에 10, 20, 30이 들어있는 리스트 x를 넣고 \\*만 붙였는데도 숫자가 각 줄에 출력되었습니다. 즉, 리스트(튜플) 앞에 \\*를 붙이면 언패킹(unpacking)이 되어서 print_numbers(10, 20, 30)과 똑같은 동작이 됩니다. 말 그대로 리스트의 포장을 푼다는 뜻입니다."
   ]
  },
  {
   "cell_type": "markdown",
   "metadata": {},
   "source": [
    "리스트 변수 대신 리스트 앞에 바로 \\*를 붙여도 동작은 같습니다."
   ]
  },
  {
   "cell_type": "code",
   "execution_count": 8,
   "metadata": {
    "ExecuteTime": {
     "end_time": "2020-12-09T12:28:08.870826Z",
     "start_time": "2020-12-09T12:28:08.863104Z"
    }
   },
   "outputs": [
    {
     "name": "stdout",
     "output_type": "stream",
     "text": [
      "10\n",
      "20\n",
      "30\n"
     ]
    }
   ],
   "source": [
    "print_numbers(*[10, 20, 30])"
   ]
  },
  {
   "cell_type": "markdown",
   "metadata": {},
   "source": [
    "단, 이때 함수의 매개변수 개수와 리스트의 요소 개수는 같아야 합니다. 만약 개수가 다르면 함수를 호출할 수 없습니다. 여기서는 함수를 def print_numbers(a, b, c):로 만들었으므로 리스트에는 요소를 3개 넣어야 합니다. 다음과 같이 요소가 두 개인 리스트를 넣으면 에러가 발생합니다."
   ]
  },
  {
   "cell_type": "code",
   "execution_count": 9,
   "metadata": {
    "ExecuteTime": {
     "end_time": "2020-12-09T12:28:47.839063Z",
     "start_time": "2020-12-09T12:28:47.815660Z"
    }
   },
   "outputs": [
    {
     "ename": "TypeError",
     "evalue": "print_numbers() missing 1 required positional argument: 'c'",
     "output_type": "error",
     "traceback": [
      "\u001b[1;31m---------------------------------------------------------------------------\u001b[0m",
      "\u001b[1;31mTypeError\u001b[0m                                 Traceback (most recent call last)",
      "\u001b[1;32m<ipython-input-9-75d5e8e1bdfe>\u001b[0m in \u001b[0;36m<module>\u001b[1;34m\u001b[0m\n\u001b[1;32m----> 1\u001b[1;33m \u001b[0mprint_numbers\u001b[0m\u001b[1;33m(\u001b[0m\u001b[1;33m*\u001b[0m\u001b[1;33m[\u001b[0m\u001b[1;36m10\u001b[0m\u001b[1;33m,\u001b[0m \u001b[1;36m20\u001b[0m\u001b[1;33m]\u001b[0m\u001b[1;33m)\u001b[0m\u001b[1;33m\u001b[0m\u001b[1;33m\u001b[0m\u001b[0m\n\u001b[0m",
      "\u001b[1;31mTypeError\u001b[0m: print_numbers() missing 1 required positional argument: 'c'"
     ]
    }
   ],
   "source": [
    "print_numbers(*[10, 20])"
   ]
  },
  {
   "cell_type": "markdown",
   "metadata": {},
   "source": [
    "### 가변 인수 함수 만들기\n",
    "\n",
    "이 기능들은 인수의 개수가 정해지지 않은 가변 인수(variable argument)에 사용합니다. 즉, 같은 함수에 인수 한 개를 넣을 수도 있고, 열 개를 넣을 수도 있습니다. 또는, 인수를 넣지 않을 수도 있습니다.\n",
    "\n",
    "다음과 같이 가변 인수 함수는 매개변수 앞에 \\*를 붙여서 만듭니다.\n",
    "\n",
    "```python\n",
    "def 함수이름(*매개변수):\n",
    "    코드\n",
    "```\n",
    "\n",
    "이제 숫자 여러 개를 받고, 숫자를 각 줄에 출력하는 함수를 만들어보겠습니다. 다음과 같이 함수를 만들 때 괄호 안에 *args와 같이 매개변수 앞에 *를 붙입니다. 그리고 함수 안에서는 for로 args를 반복하면서 print로 값을 출력합니다."
   ]
  },
  {
   "cell_type": "code",
   "execution_count": 12,
   "metadata": {
    "ExecuteTime": {
     "end_time": "2020-12-09T12:31:38.812012Z",
     "start_time": "2020-12-09T12:31:38.800105Z"
    }
   },
   "outputs": [],
   "source": [
    "def print_numbers(*args):\n",
    "    for arg in args:\n",
    "        print(arg)"
   ]
  },
  {
   "cell_type": "markdown",
   "metadata": {},
   "source": [
    "매개변수 이름은 원하는 대로 지어도 되지만 관례적으로 arguments를 줄여서 args로 사용합니다. 특히 이 args는 튜플이라서 for로 반복할 수 있습니다.\n",
    "\n",
    "그럼 print_numbers 함수에 숫자를 넣어서 호출해봅니다. 숫자를 한 개 넣으면 한 개 출력되고, 네 개 넣으면 네 개가 출력됩니다. 즉, 넣은 숫자 개수만큼 출력됩니다."
   ]
  },
  {
   "cell_type": "code",
   "execution_count": 13,
   "metadata": {
    "ExecuteTime": {
     "end_time": "2020-12-09T12:31:39.164252Z",
     "start_time": "2020-12-09T12:31:39.150771Z"
    }
   },
   "outputs": [
    {
     "name": "stdout",
     "output_type": "stream",
     "text": [
      "10\n",
      "\n",
      "10\n",
      "20\n",
      "30\n",
      "40\n"
     ]
    }
   ],
   "source": [
    "print_numbers(10)\n",
    "print()\n",
    "print_numbers(10, 20, 30, 40)"
   ]
  },
  {
   "cell_type": "markdown",
   "metadata": {},
   "source": [
    "이렇게 함수에 인수 여러 개를 직접 넣어도 되고, 리스트(튜플) 언패킹을 사용해도 됩니다. 다음과 같이 숫자가 들어있는 리스트를 만들고 앞에 \\*를 붙여서 넣어봅니다."
   ]
  },
  {
   "cell_type": "code",
   "execution_count": 16,
   "metadata": {
    "ExecuteTime": {
     "end_time": "2020-12-09T12:33:13.806749Z",
     "start_time": "2020-12-09T12:33:13.800457Z"
    }
   },
   "outputs": [
    {
     "name": "stdout",
     "output_type": "stream",
     "text": [
      "[10]\n",
      "\n",
      "10\n"
     ]
    }
   ],
   "source": [
    "x = [10]\n",
    "print_numbers(x)\n",
    "print()\n",
    "print_numbers(*x)"
   ]
  },
  {
   "cell_type": "code",
   "execution_count": 18,
   "metadata": {
    "ExecuteTime": {
     "end_time": "2020-12-09T12:33:50.060126Z",
     "start_time": "2020-12-09T12:33:50.041816Z"
    }
   },
   "outputs": [
    {
     "name": "stdout",
     "output_type": "stream",
     "text": [
      "[10, 20, 30, 40]\n",
      "\n",
      "10\n",
      "20\n",
      "30\n",
      "40\n"
     ]
    }
   ],
   "source": [
    "y = [10, 20, 30, 40]\n",
    "print_numbers(y)\n",
    "print()\n",
    "print_numbers(*y)"
   ]
  },
  {
   "cell_type": "markdown",
   "metadata": {},
   "source": [
    "리스트에 들어있는 값이 그대로 출력되었습니다. 즉, 리스트 x는 [10]이므로 print_numbers(\\*x)로 호출하면 print_numbers(10)과 같고 리스트 y는 [10, 20, 30, 40]이므로 print_numbers(10, 20, 30, 40)과 같습니다.\n",
    "\n",
    "이처럼 함수를 만들 때 def print_numbers(*args):와 같이 매개변수에 *를 붙여주면 가변 인수 함수를 만들 수 있습니다. 그리고 이런 함수를 호출할 때는 인수를 각각 넣거나, 리스트(튜플) 언패킹을 사용하면 됩니다."
   ]
  },
  {
   "cell_type": "markdown",
   "metadata": {},
   "source": [
    "> 고정 인수와 가변 인수를 함께 사용하기\n",
    "\n",
    "고정 인수와 가변 인수를 함께 사용할 때는 다음과 같이 고정 매개변수를 먼저 지정하고, 그 다음 매개변수에 *를 붙여주면 됩니다."
   ]
  },
  {
   "cell_type": "code",
   "execution_count": 21,
   "metadata": {
    "ExecuteTime": {
     "end_time": "2020-12-09T12:36:50.939994Z",
     "start_time": "2020-12-09T12:36:50.927830Z"
    }
   },
   "outputs": [
    {
     "name": "stdout",
     "output_type": "stream",
     "text": [
      "1\n",
      "()\n",
      "\n",
      "1\n",
      "(10, 20)\n",
      "\n",
      "[10, 20, 30]\n",
      "()\n",
      "\n",
      "10\n",
      "(20, 30)\n"
     ]
    }
   ],
   "source": [
    "def print_numbers(a, *args):\n",
    "    print(a)\n",
    "    print(args)\n",
    "\n",
    "print_numbers(1)\n",
    "print()\n",
    "print_numbers(1, 10, 20)\n",
    "print()\n",
    "print_numbers([10, 20, 30])\n",
    "print()\n",
    "print_numbers(*[10, 20, 30])"
   ]
  },
  {
   "cell_type": "markdown",
   "metadata": {},
   "source": [
    "단, 이때 def print_numbers(*args, a):처럼 *args가 고정 매개변수보다 앞쪽에 오면 안 됩니다. 매개변수 순서에서 *args는 반드시 가장 뒤쪽에 와야 합니다."
   ]
  },
  {
   "cell_type": "markdown",
   "metadata": {},
   "source": [
    "## 키워드 인수 사용하기\n",
    "\n",
    "지금까지 함수에 인수를 넣을 때 값이나 변수를 그대로 넣었습니다. 그러다 보니 각각의 인수가 무슨 용도인지 알기가 어려웠습니다. 보통은 함수의 사용 방법을 익힐 때 인수의 순서와 용도를 함께 외웁니다.\n",
    "\n",
    "예를 들어 개인 정보를 출력하는 함수를 만들어보겠습니다."
   ]
  },
  {
   "cell_type": "code",
   "execution_count": 22,
   "metadata": {
    "ExecuteTime": {
     "end_time": "2020-12-09T12:38:43.677996Z",
     "start_time": "2020-12-09T12:38:43.667274Z"
    }
   },
   "outputs": [],
   "source": [
    "def personal_info(name, age, address):\n",
    "    print('이름: ', name)\n",
    "    print('나이: ', age)\n",
    "    print('주소: ', address)"
   ]
  },
  {
   "cell_type": "markdown",
   "metadata": {},
   "source": [
    "이 함수를 사용할 때는 첫 번째 인수에 이름(name), 두 번째 인수에 나이( age), 세 번째 인수에 주소(address)를 넣어야 합니다. 만약 인수의 순서가 달라지면 잘못된 결과가 출력되겠죠?"
   ]
  },
  {
   "cell_type": "code",
   "execution_count": 23,
   "metadata": {
    "ExecuteTime": {
     "end_time": "2020-12-09T12:39:00.426462Z",
     "start_time": "2020-12-09T12:39:00.416586Z"
    }
   },
   "outputs": [
    {
     "name": "stdout",
     "output_type": "stream",
     "text": [
      "이름:  홍길동\n",
      "나이:  30\n",
      "주소:  서울시 용산구 이촌동\n"
     ]
    }
   ],
   "source": [
    "personal_info('홍길동', 30, '서울시 용산구 이촌동')"
   ]
  },
  {
   "cell_type": "markdown",
   "metadata": {},
   "source": [
    "이처럼 인수의 순서와 용도를 모두 기억해야 해서 불편합니다. 그래서 파이썬에서는 인수의 순서와 용도를 매번 기억하지 않도록 키워드 인수(keyword argument)라는 기능을 제공합니다. 키워드 인수는 말 그대로 인수에 이름(키워드)을 붙이는 기능인데 키워드=값 형식으로 사용합니다.\n",
    "\n",
    "+ 함수(키워드=값)"
   ]
  },
  {
   "cell_type": "markdown",
   "metadata": {},
   "source": [
    "그럼 personal_info 함수를 키워드 인수 방식으로 호출해보겠습니다."
   ]
  },
  {
   "cell_type": "code",
   "execution_count": 24,
   "metadata": {
    "ExecuteTime": {
     "end_time": "2020-12-09T12:51:07.080062Z",
     "start_time": "2020-12-09T12:51:07.063026Z"
    }
   },
   "outputs": [
    {
     "name": "stdout",
     "output_type": "stream",
     "text": [
      "이름:  홍길동\n",
      "나이:  30\n",
      "주소:  서울시 용산구 이촌동\n"
     ]
    }
   ],
   "source": [
    "personal_info(name='홍길동', age=30, address='서울시 용산구 이촌동')"
   ]
  },
  {
   "cell_type": "markdown",
   "metadata": {},
   "source": [
    "키워드 인수를 사용하니 함수를 호출할 때 인수의 용도가 명확하게 보입니다. 특히 키워드 인수를 사용하면 인수의 순서를 맞추지 않아도 키워드에 해당하는 값이 들어갑니다."
   ]
  },
  {
   "cell_type": "code",
   "execution_count": 25,
   "metadata": {
    "ExecuteTime": {
     "end_time": "2020-12-09T12:51:27.127818Z",
     "start_time": "2020-12-09T12:51:27.110076Z"
    }
   },
   "outputs": [
    {
     "name": "stdout",
     "output_type": "stream",
     "text": [
      "이름:  홍길동\n",
      "나이:  30\n",
      "주소:  서울시 용산구 이촌동\n"
     ]
    }
   ],
   "source": [
    "personal_info(age=30, address='서울시 용산구 이촌동', name='홍길동')"
   ]
  },
  {
   "cell_type": "markdown",
   "metadata": {},
   "source": [
    "personal_info 함수는 이름, 나이, 주소 순으로 인수를 넣어야 하지만, 키워드 인수를 사용해서 순서를 지키지 않고 값을 넣었습니다.\n",
    "\n",
    "참고로 print 함수에서 사용했던 sep, end도 키워드 인수입니다."
   ]
  },
  {
   "cell_type": "code",
   "execution_count": 26,
   "metadata": {
    "ExecuteTime": {
     "end_time": "2020-12-09T12:51:46.688849Z",
     "start_time": "2020-12-09T12:51:46.669885Z"
    }
   },
   "outputs": [
    {
     "name": "stdout",
     "output_type": "stream",
     "text": [
      "10:20:30"
     ]
    }
   ],
   "source": [
    "print(10, 20, 30, sep=':', end='')"
   ]
  },
  {
   "cell_type": "markdown",
   "metadata": {},
   "source": [
    "## 키워드 인수와 딕셔너리 언패킹 사용하기\n",
    "\n",
    "이번에는 딕셔너리를 사용해서 키워드 인수로 값을 넣는 딕셔너리 언패킹을 사용해보겠습니다. 다음과 같이 딕셔너리 앞에 \\*\\*(애스터리스크 두 개)를 붙여서 함수에 넣어줍니다.\n",
    "\n",
    "+ 함수(**딕셔너리)"
   ]
  },
  {
   "cell_type": "code",
   "execution_count": 31,
   "metadata": {
    "ExecuteTime": {
     "end_time": "2020-12-09T13:03:11.407889Z",
     "start_time": "2020-12-09T13:03:11.389648Z"
    }
   },
   "outputs": [],
   "source": [
    "def personal_info(name, age, address):\n",
    "    print('이름 :', name)\n",
    "    print('나이 :', age)\n",
    "    print('주소 :', address)"
   ]
  },
  {
   "cell_type": "markdown",
   "metadata": {},
   "source": [
    "이제 딕셔너리에 '키워드': 값 형식으로 인수를 저장하고, 앞에 **를 붙여서 함수에 넣어줍니다. 이때 딕셔너리의 키워드(키)는 반드시 문자열 형태라야 합니다."
   ]
  },
  {
   "cell_type": "code",
   "execution_count": 35,
   "metadata": {
    "ExecuteTime": {
     "end_time": "2020-12-09T13:03:44.508324Z",
     "start_time": "2020-12-09T13:03:44.493617Z"
    }
   },
   "outputs": [
    {
     "name": "stdout",
     "output_type": "stream",
     "text": [
      "이름 : name\n",
      "나이 : age\n",
      "주소 : address\n",
      "\n",
      "이름 : 홍길동\n",
      "나이 : 30\n",
      "주소 : 서울시 용산구 이촌동\n"
     ]
    }
   ],
   "source": [
    "x = {'name': '홍길동', 'age': 30, 'address': '서울시 용산구 이촌동'}\n",
    "\n",
    "personal_info(*x)\n",
    "print()\n",
    "personal_info(**x)"
   ]
  },
  {
   "cell_type": "markdown",
   "metadata": {},
   "source": [
    "딕셔너리 변수 대신 딕셔너리 앞에 바로 **를 붙여도 동작은 같습니다."
   ]
  },
  {
   "cell_type": "code",
   "execution_count": 36,
   "metadata": {
    "ExecuteTime": {
     "end_time": "2020-12-09T13:05:02.308071Z",
     "start_time": "2020-12-09T13:05:02.294097Z"
    }
   },
   "outputs": [
    {
     "name": "stdout",
     "output_type": "stream",
     "text": [
      "이름 : 홍길동\n",
      "나이 : 30\n",
      "주소 : 서울시 용산구 이촌동\n"
     ]
    }
   ],
   "source": [
    "personal_info(**{'name': '홍길동', 'age': 30, 'address': '서울시 용산구 이촌동'})"
   ]
  },
  {
   "cell_type": "markdown",
   "metadata": {},
   "source": [
    "딕셔너리 언패킹을 사용할 때는 함수의 매개변수 이름과 딕셔너리의 키 이름이 같아야 합니다. 또한, 매개변수 개수와 딕셔너리 키의 개수도 같아야 합니다.\n",
    "\n",
    "만약 이름과 개수가 다르면 함수를 호출할 수 없습니다. 여기서는 함수를 def personal_info(name, age, address):로 만들었으므로 딕셔너리도 똑같이 맞춰주어야 합니다. 다음과 같이 매개변수 이름, 개수가 다른 딕셔너리를 넣으면 에러가 발생합니다."
   ]
  },
  {
   "cell_type": "code",
   "execution_count": 37,
   "metadata": {
    "ExecuteTime": {
     "end_time": "2020-12-09T13:06:32.574734Z",
     "start_time": "2020-12-09T13:06:32.557963Z"
    }
   },
   "outputs": [
    {
     "ename": "TypeError",
     "evalue": "personal_info() got an unexpected keyword argument 'old'",
     "output_type": "error",
     "traceback": [
      "\u001b[1;31m---------------------------------------------------------------------------\u001b[0m",
      "\u001b[1;31mTypeError\u001b[0m                                 Traceback (most recent call last)",
      "\u001b[1;32m<ipython-input-37-71ad1ef36f38>\u001b[0m in \u001b[0;36m<module>\u001b[1;34m\u001b[0m\n\u001b[1;32m----> 1\u001b[1;33m \u001b[0mpersonal_info\u001b[0m\u001b[1;33m(\u001b[0m\u001b[1;33m**\u001b[0m\u001b[1;33m{\u001b[0m\u001b[1;34m'name'\u001b[0m\u001b[1;33m:\u001b[0m \u001b[1;34m'홍길동'\u001b[0m\u001b[1;33m,\u001b[0m \u001b[1;34m'old'\u001b[0m\u001b[1;33m:\u001b[0m \u001b[1;36m30\u001b[0m\u001b[1;33m,\u001b[0m \u001b[1;34m'address'\u001b[0m\u001b[1;33m:\u001b[0m\u001b[1;34m'서울시 용산구 이촌동'\u001b[0m\u001b[1;33m}\u001b[0m\u001b[1;33m)\u001b[0m\u001b[1;33m\u001b[0m\u001b[1;33m\u001b[0m\u001b[0m\n\u001b[0m",
      "\u001b[1;31mTypeError\u001b[0m: personal_info() got an unexpected keyword argument 'old'"
     ]
    }
   ],
   "source": [
    "personal_info(**{'name': '홍길동', 'old': 30, 'address':'서울시 용산구 이촌동'})"
   ]
  },
  {
   "cell_type": "markdown",
   "metadata": {},
   "source": [
    "### \\*\\*를 두 번 사용하는 이유\n",
    "\n",
    "그런데 딕셔너리는 **처럼 *를 두 번 사용할까요? 왜냐하면 딕셔너리는 키-값 쌍 형태로 값이 저장되어 있기 때문입니다. 먼저 *를 한 번만 사용해서 함수를 호출해봅니다."
   ]
  },
  {
   "cell_type": "code",
   "execution_count": 39,
   "metadata": {
    "ExecuteTime": {
     "end_time": "2020-12-09T13:07:22.916908Z",
     "start_time": "2020-12-09T13:07:22.900539Z"
    }
   },
   "outputs": [
    {
     "name": "stdout",
     "output_type": "stream",
     "text": [
      "이름 : name\n",
      "나이 : age\n",
      "주소 : address\n"
     ]
    }
   ],
   "source": [
    "x = {'name': '홍길동', 'age': 30, 'address': '서울시 용산구 이촌동'}\n",
    "\n",
    "personal_info(*x)"
   ]
  },
  {
   "cell_type": "markdown",
   "metadata": {},
   "source": [
    "personal_info에 \\*x를 넣으면 x의 키가 출력됩니다. 즉, 딕셔너리를 한 번 언패킹하면 키를 사용한다는 뜻이 됩니다. 따라서 **처럼 딕셔너리를 두 번 언패킹하여 값을 사용하도록 만들어야 합니다."
   ]
  },
  {
   "cell_type": "code",
   "execution_count": 40,
   "metadata": {
    "ExecuteTime": {
     "end_time": "2020-12-09T13:08:48.215372Z",
     "start_time": "2020-12-09T13:08:48.204559Z"
    }
   },
   "outputs": [
    {
     "name": "stdout",
     "output_type": "stream",
     "text": [
      "이름 : 홍길동\n",
      "나이 : 30\n",
      "주소 : 서울시 용산구 이촌동\n"
     ]
    }
   ],
   "source": [
    "x = {'name': '홍길동', 'age': 30, 'address': '서울시 용산구 이촌동'}\n",
    "\n",
    "personal_info(**x)"
   ]
  },
  {
   "cell_type": "markdown",
   "metadata": {},
   "source": [
    "### 키워드 인수를 사용하는 가변 인수 함수 만들기\n",
    "\n",
    "이번에는 키워드 인수를 사용하는 가변 인수 함수를 만들어보겠습니다. 다음과 같이 키워드 인수를 사용하는 가변 인수 함수는 매개변수 앞에 **를 붙여서 만듭니다.\n",
    "\n",
    "```python\n",
    "def 함수이름(**매개변수):\n",
    "    코드\n",
    "```\n",
    "\n",
    "이제 값 여러 개를 받아서 매개변수 이름과 값을 각 줄에 출력하는 함수를 만들어보겠습니다. 함수를 만들 때 괄호 안에 \\*\\*kwargs와 같이 매개변수 앞에 **를 붙입니다. 함수 안에서는 for로 kwargs.items()를 반복하면서 print로 값을 출력합니다."
   ]
  },
  {
   "cell_type": "code",
   "execution_count": 49,
   "metadata": {
    "ExecuteTime": {
     "end_time": "2020-12-09T13:14:22.561384Z",
     "start_time": "2020-12-09T13:14:22.540046Z"
    }
   },
   "outputs": [],
   "source": [
    "def personal_info(**kwargs):\n",
    "    for kw, arg in kwargs.items():\n",
    "        print(kw, ':', arg)"
   ]
  },
  {
   "cell_type": "markdown",
   "metadata": {},
   "source": [
    "매개변수 이름은 원하는 대로 지어도 되지만 관례적으로 keyword arguments를 줄여서 kwargs로 사용합니다. 특히 이 kwargs는 딕셔너리라서 for로 반복할 수 있습니다.\n",
    "\n",
    "그럼 personal_info 함수에 키워드와 값을 넣어서 실행해봅니다. 값을 한 개 넣어도 되고, 세 개 넣어도 됩니다."
   ]
  },
  {
   "cell_type": "code",
   "execution_count": 43,
   "metadata": {
    "ExecuteTime": {
     "end_time": "2020-12-09T13:12:41.740026Z",
     "start_time": "2020-12-09T13:12:41.725181Z"
    }
   },
   "outputs": [
    {
     "name": "stdout",
     "output_type": "stream",
     "text": [
      "name : 홍길동\n",
      "\n",
      "name : 홍길동\n",
      "age : 30\n",
      "address : 서울시 용산구 이촌동\n"
     ]
    }
   ],
   "source": [
    "personal_info(name='홍길동')\n",
    "print()\n",
    "personal_info(name='홍길동', age=30, address='서울시 용산구 이촌동')"
   ]
  },
  {
   "cell_type": "code",
   "execution_count": 44,
   "metadata": {
    "ExecuteTime": {
     "end_time": "2020-12-09T13:13:17.846887Z",
     "start_time": "2020-12-09T13:13:17.829900Z"
    }
   },
   "outputs": [],
   "source": [
    "def personal_info(**kwargs):\n",
    "    for key in kwargs.keys():\n",
    "        print(key)"
   ]
  },
  {
   "cell_type": "code",
   "execution_count": 45,
   "metadata": {
    "ExecuteTime": {
     "end_time": "2020-12-09T13:13:22.137139Z",
     "start_time": "2020-12-09T13:13:22.117731Z"
    }
   },
   "outputs": [
    {
     "name": "stdout",
     "output_type": "stream",
     "text": [
      "name\n",
      "\n",
      "name\n",
      "age\n",
      "address\n"
     ]
    }
   ],
   "source": [
    "personal_info(name='홍길동')\n",
    "print()\n",
    "personal_info(name='홍길동', age=30, address='서울시 용산구 이촌동')"
   ]
  },
  {
   "cell_type": "code",
   "execution_count": 46,
   "metadata": {
    "ExecuteTime": {
     "end_time": "2020-12-09T13:13:41.641936Z",
     "start_time": "2020-12-09T13:13:41.630706Z"
    }
   },
   "outputs": [],
   "source": [
    "def personal_info(**kwargs):\n",
    "    for value in kwargs.values():\n",
    "        print(value)"
   ]
  },
  {
   "cell_type": "code",
   "execution_count": 47,
   "metadata": {
    "ExecuteTime": {
     "end_time": "2020-12-09T13:13:42.832014Z",
     "start_time": "2020-12-09T13:13:42.822183Z"
    }
   },
   "outputs": [
    {
     "name": "stdout",
     "output_type": "stream",
     "text": [
      "홍길동\n",
      "\n",
      "홍길동\n",
      "30\n",
      "서울시 용산구 이촌동\n"
     ]
    }
   ],
   "source": [
    "personal_info(name='홍길동')\n",
    "print()\n",
    "personal_info(name='홍길동', age=30, address='서울시 용산구 이촌동')"
   ]
  },
  {
   "cell_type": "markdown",
   "metadata": {},
   "source": [
    "이렇게 인수를 직접 넣어도 되고, 딕셔너리 언패킹을 사용해도 됩니다. 다음과 같이 딕셔너리를 만들고 앞에 **를 붙여서 넣어봅니다."
   ]
  },
  {
   "cell_type": "code",
   "execution_count": 50,
   "metadata": {
    "ExecuteTime": {
     "end_time": "2020-12-09T13:14:25.230154Z",
     "start_time": "2020-12-09T13:14:25.220498Z"
    }
   },
   "outputs": [
    {
     "name": "stdout",
     "output_type": "stream",
     "text": [
      "name : 홍길동\n"
     ]
    }
   ],
   "source": [
    "x = {'name': '홍길동'}\n",
    "personal_info(**x)"
   ]
  },
  {
   "cell_type": "code",
   "execution_count": 51,
   "metadata": {
    "ExecuteTime": {
     "end_time": "2020-12-09T13:14:50.402360Z",
     "start_time": "2020-12-09T13:14:50.389839Z"
    }
   },
   "outputs": [
    {
     "name": "stdout",
     "output_type": "stream",
     "text": [
      "name : 홍길동\n",
      "age : 30\n",
      "address : 서울시 용산구 이촌동\n"
     ]
    }
   ],
   "source": [
    "y = {'name': '홍길동', 'age': 30, 'address': '서울시 용산구 이촌동'}\n",
    "personal_info(**y)"
   ]
  },
  {
   "cell_type": "markdown",
   "metadata": {},
   "source": [
    "딕셔너리에 들어있는 값이 그대로 출력되었습니다. 즉, 딕셔너리 x는 {'name': '홍길동'}이므로 personal_info(**x)로 호출하면 personal_info(name='홍길동')과 같고, 딕셔너리 y는 {'name': '홍길동', 'age': 30, 'address': '서울시 용산구 이촌동'}이므로 personal_info(name='홍길동', age=30, address='서울시 용산구 이촌동')과 같습니다.\n",
    "\n",
    "이처럼 함수를 만들 때 def personal_info(\\*\\*kwargs):와 같이 매개변수에 **를 붙여주면 키워드 인수를 사용하는 가변 인수 함수를 만들 수 있습니다. 그리고 이런 함수를 호출할 때는 키워드와 인수를 각각 넣거나 딕셔너리 언패킹을 사용하면 됩니다.\n",
    "\n"
   ]
  },
  {
   "cell_type": "markdown",
   "metadata": {},
   "source": [
    "보통 **kwargs를 사용한 가변 인수 함수는 다음과 같이 함수 안에서 특정 키가 있는지 확인한 뒤 해당 기능을 만듭니다."
   ]
  },
  {
   "cell_type": "code",
   "execution_count": 52,
   "metadata": {
    "ExecuteTime": {
     "end_time": "2020-12-09T13:16:25.639046Z",
     "start_time": "2020-12-09T13:16:25.621085Z"
    }
   },
   "outputs": [],
   "source": [
    "def personal_info(**kwargs):\n",
    "    if 'name' in kwargs:    # in으로 딕셔너리 안에 특정 키가 있는지 확인\n",
    "        print('이름: ', kwargs['name'])\n",
    "    if 'age' in kwargs:\n",
    "        print('나이: ', kwargs['age'])\n",
    "    if 'address' in kwargs:\n",
    "        print('주소: ', kwargs['address'])"
   ]
  },
  {
   "cell_type": "markdown",
   "metadata": {},
   "source": [
    "> 고정 인수와 가변 인수(키워드 인수)를 함께 사용하기\n",
    "\n",
    "고정 인수와 가변 인수(키워드 인수)를 함께 사용할 때는 다음과 같이 고정 매개변수를 먼저 지정하고, 그 다음 매개변수에 **를 붙여주면 됩니다."
   ]
  },
  {
   "cell_type": "code",
   "execution_count": 54,
   "metadata": {
    "ExecuteTime": {
     "end_time": "2020-12-09T13:17:33.093283Z",
     "start_time": "2020-12-09T13:17:33.084238Z"
    }
   },
   "outputs": [
    {
     "name": "stdout",
     "output_type": "stream",
     "text": [
      "홍길동\n",
      "{}\n",
      "\n",
      "홍길동\n",
      "{'age': 30, 'address': '서울시 용산구 이촌동'}\n"
     ]
    }
   ],
   "source": [
    "def personal_info(name, **kwargs):\n",
    "    print(name)\n",
    "    print(kwargs)\n",
    "    \n",
    "personal_info('홍길동')\n",
    "print()\n",
    "personal_info('홍길동', age=30, address='서울시 용산구 이촌동')"
   ]
  },
  {
   "cell_type": "markdown",
   "metadata": {},
   "source": [
    "단, 이때 def personal_info(\\*\\*kwargs, name):처럼 \\*\\*kwargs가 고정 매개변수보다 앞쪽에 오면 안 됩니다. 매개변수 순서에서 **kwargs는 반드시 가장 뒤쪽에 와야 합니다."
   ]
  },
  {
   "cell_type": "markdown",
   "metadata": {},
   "source": [
    "> 위치 인수와 키워드 인수를 함께 사용하기\n",
    "\n",
    "함수에서 위치 인수를 받는 \\*args와 키워드 인수를 받는 \\*\\*kwargs를 함께 사용할 수도 있습니다. 대표적인 함수가 print인데 print는 출력할 값을 위치 인수로 넣고 sep, end 등을 키워드 인수로 넣습니다. 다음과 같이 함수의 매개변수를 \\*args, \\*\\*kwargs로 지정하면 위치 인수와 키워드 인수를 함께 사용합니다."
   ]
  },
  {
   "cell_type": "code",
   "execution_count": 55,
   "metadata": {
    "ExecuteTime": {
     "end_time": "2020-12-09T13:21:52.129034Z",
     "start_time": "2020-12-09T13:21:52.117241Z"
    }
   },
   "outputs": [
    {
     "name": "stdout",
     "output_type": "stream",
     "text": [
      "1:2:3"
     ]
    }
   ],
   "source": [
    "def custom_print(*args, **kwargs):\n",
    "    print(*args, **kwargs)\n",
    "    \n",
    "custom_print(1, 2, 3, sep=':', end='')"
   ]
  },
  {
   "cell_type": "markdown",
   "metadata": {},
   "source": [
    "단, 이때 def custom_print(\\*\\*kwargs, \\*args):처럼 \\*\\*kwargs가 \\*args보다 앞쪽에 오면 안 됩니다. 매개변수 순서에서 \\*\\*kwargs는 반드시 가장 뒤쪽에 와야 합니다.\n",
    "\n",
    "특히 고정 매개변수와 \\*args, \\*\\*kwargs를 함께 사용한다면 def custom_print(a, b, \\*args, \\*\\*kwargs):처럼 매개변수는 고정 매개변수, \\*args, \\*\\*kwargs 순으로 지정해야 합니다."
   ]
  },
  {
   "cell_type": "markdown",
   "metadata": {},
   "source": [
    "## 매개 변수에 초깃값 지정하기\n",
    "\n",
    "지금까지 함수를 호출할 때 항상 인수를 넣어서 값을 전달했습니다. 그러면 인수를 생략할 수는 없을까요? 이때는 함수의 매개변수에 초깃값을 지정하면 됩니다. 초깃값은 다음과 같이 함수를 만들 때 매개변수=값 형식으로 지정합니다.\n",
    "\n",
    "```python\n",
    "def 함수이름(매개변수=값):\n",
    "    코드\n",
    "```\n",
    "\n",
    "매개변수의 초깃값은 주로 사용하는 값이 있으면서 가끔 다른 값을 사용해야 할 때 활용합니다. 대표적인 예가 print 함수인데, print 함수의 sep는 초깃값이 ' '(공백)으로 지정되어 있어서 대부분 그대로 사용하고, 가끔 sep에 다른 값을 넣어서 사용합니다.\n",
    "\n",
    "이제 personal_info 함수에서 매개변수 address의 초깃값을 '비공개'로 지정해보겠습니다."
   ]
  },
  {
   "cell_type": "code",
   "execution_count": 56,
   "metadata": {
    "ExecuteTime": {
     "end_time": "2020-12-09T13:26:44.303119Z",
     "start_time": "2020-12-09T13:26:44.287019Z"
    }
   },
   "outputs": [],
   "source": [
    "def personal_info(name, age, address='비공개'):\n",
    "    print('이름 :', name)\n",
    "    print('나이 :', age)    \n",
    "    print('주소 :', address)    "
   ]
  },
  {
   "cell_type": "markdown",
   "metadata": {},
   "source": [
    "address는 초깃값이 있으므로 personal_info는 다음과 같이 address 부분을 비워 두고 호출할 수 있습니다."
   ]
  },
  {
   "cell_type": "code",
   "execution_count": 57,
   "metadata": {
    "ExecuteTime": {
     "end_time": "2020-12-09T13:26:58.575136Z",
     "start_time": "2020-12-09T13:26:58.555143Z"
    }
   },
   "outputs": [
    {
     "name": "stdout",
     "output_type": "stream",
     "text": [
      "이름 : 홍길동\n",
      "나이 : 30\n",
      "주소 : 비공개\n"
     ]
    }
   ],
   "source": [
    "personal_info('홍길동', 30)"
   ]
  },
  {
   "cell_type": "markdown",
   "metadata": {},
   "source": [
    "매개변수에 초깃값이 지정되어 있더라도 값을 넣으면 해당 값이 전달됩니다."
   ]
  },
  {
   "cell_type": "code",
   "execution_count": 58,
   "metadata": {
    "ExecuteTime": {
     "end_time": "2020-12-09T13:27:09.816152Z",
     "start_time": "2020-12-09T13:27:09.796735Z"
    }
   },
   "outputs": [
    {
     "name": "stdout",
     "output_type": "stream",
     "text": [
      "이름 : 홍길동\n",
      "나이 : 30\n",
      "주소 : 서울시 용산구 이촌동\n"
     ]
    }
   ],
   "source": [
    "personal_info('홍길동', 30, '서울시 용산구 이촌동')"
   ]
  },
  {
   "cell_type": "markdown",
   "metadata": {},
   "source": [
    "### 초깃값이 지정된 매개변수의 위치\n",
    "\n",
    "매개변수의 초깃값을 지정할 때 한 가지 주의할 점이 있습니다. 초깃값이 지정된 매개변수 다음에는 초깃값이 없는 매개변수가 올 수 없습니다. personal_info 함수에서 address가 가장 마지막 매개변수였는데 이번에는 address를 두 번째 매개변수로 만들고, 그 다음에 초깃값을 지정하지 않은 age가 오도록 만들어보겠습니다."
   ]
  },
  {
   "cell_type": "code",
   "execution_count": 59,
   "metadata": {
    "ExecuteTime": {
     "end_time": "2020-12-09T13:28:39.856789Z",
     "start_time": "2020-12-09T13:28:39.835900Z"
    }
   },
   "outputs": [
    {
     "ename": "SyntaxError",
     "evalue": "non-default argument follows default argument (<ipython-input-59-63586fac9239>, line 1)",
     "output_type": "error",
     "traceback": [
      "\u001b[1;36m  File \u001b[1;32m\"<ipython-input-59-63586fac9239>\"\u001b[1;36m, line \u001b[1;32m1\u001b[0m\n\u001b[1;33m    def personal_info(name, address='비공개', age):\u001b[0m\n\u001b[1;37m                     ^\u001b[0m\n\u001b[1;31mSyntaxError\u001b[0m\u001b[1;31m:\u001b[0m non-default argument follows default argument\n"
     ]
    }
   ],
   "source": [
    "def personal_info(name, address='비공개', age):\n",
    "    print('이름 :', name)\n",
    "    print('나이 :', age)    \n",
    "    print('주소 :', address)    "
   ]
  },
  {
   "cell_type": "markdown",
   "metadata": {},
   "source": [
    "함수를 만들어보면 문법 에러가 발생합니다. 왜냐하면 함수를 이렇게 만들어버리면 personal_info('홍길동', 30)으로 함수를 호출했을 때 30이 어디로 들어가야 할지 알 수가 없기 때문입니다. address에 들어가려니 age 부분이 비어 버리죠. 잘못된 문법이므로 이렇게 만들면 안 됩니다.\n",
    "\n",
    "즉, 다음과 같이 초깃값이 지정된 매개변수는 뒤쪽에 몰아주면 됩니다.\n",
    "\n",
    "```python\n",
    "def personal_info(name, age, address='비공개'):\n",
    "def personal_info(name, age=0, address='비공개'):\n",
    "def personal_info(name='비공개', age=0, address='비공개'):\n",
    "```\n",
    "\n",
    "참고로 def personal_info(name='비공개', age=0, address='비공개'):와 같이 모든 매개변수에 초깃값을 지정하면 personal_info()처럼 인수를 넣지 않고 호출할 수 있습니다.\n",
    "\n",
    "지금까지 위치 인수, 키워드 인수, 매개변수의 초깃값 사용 방법을 알아보았습니다. 함수에서 \\*와 \\*\\*를 붙이는 문법이 조금 생소할 수도 있습니다. 여기서는 \\*를 리스트에 사용하고, \\*\\*를 딕셔너리에 사용한다는 점만 기억하면 됩니다."
   ]
  },
  {
   "cell_type": "markdown",
   "metadata": {},
   "source": [
    "## 연습문제: 가장 높은 점수를 구하는 함수 만들기\n",
    "\n",
    "다음 소스 코드를 완성하여 가장 높은 점수가 출력되게 만드세요.\n",
    "\n",
    "```python\n",
    "korean, english, mathematics, science = 100, 86, 81, 91\n",
    " \n",
    "                                             \n",
    "...\n",
    "                                             \n",
    " \n",
    "max_score = get_max_score(korean, english, mathematics, science)\n",
    "print('높은 점수:', max_score)\n",
    " \n",
    "max_score = get_max_score(english, science)\n",
    "print('높은 점수:', max_score)\n",
    "```"
   ]
  },
  {
   "cell_type": "code",
   "execution_count": 66,
   "metadata": {
    "ExecuteTime": {
     "end_time": "2020-12-09T13:35:44.298227Z",
     "start_time": "2020-12-09T13:35:44.290673Z"
    }
   },
   "outputs": [],
   "source": [
    "def get_max_score(*args):\n",
    "    return max(args)\n",
    "#     return args # 튜플로 반환된다."
   ]
  },
  {
   "cell_type": "code",
   "execution_count": 67,
   "metadata": {
    "ExecuteTime": {
     "end_time": "2020-12-09T13:35:45.419121Z",
     "start_time": "2020-12-09T13:35:45.411135Z"
    }
   },
   "outputs": [
    {
     "data": {
      "text/plain": [
       "30"
      ]
     },
     "execution_count": 67,
     "metadata": {},
     "output_type": "execute_result"
    }
   ],
   "source": [
    "get_max_score(10,20,30)"
   ]
  },
  {
   "cell_type": "code",
   "execution_count": 69,
   "metadata": {
    "ExecuteTime": {
     "end_time": "2020-12-09T13:36:39.141269Z",
     "start_time": "2020-12-09T13:36:39.117790Z"
    }
   },
   "outputs": [
    {
     "name": "stdout",
     "output_type": "stream",
     "text": [
      "높은 점수 : 100\n",
      "높은 점수 : 91\n"
     ]
    }
   ],
   "source": [
    "korean, english, mathematics, science = 100, 86, 81, 91\n",
    "\n",
    "max_score = get_max_score(korean, english, mathematics, science)\n",
    "print('높은 점수 :', max_score)\n",
    "\n",
    "max_score = get_max_score(english, science)\n",
    "print('높은 점수 :', max_score)"
   ]
  }
 ],
 "metadata": {
  "kernelspec": {
   "display_name": "Python 3",
   "language": "python",
   "name": "python3"
  },
  "language_info": {
   "codemirror_mode": {
    "name": "ipython",
    "version": 3
   },
   "file_extension": ".py",
   "mimetype": "text/x-python",
   "name": "python",
   "nbconvert_exporter": "python",
   "pygments_lexer": "ipython3",
   "version": "3.7.6"
  },
  "toc": {
   "base_numbering": 1,
   "nav_menu": {},
   "number_sections": true,
   "sideBar": true,
   "skip_h1_title": true,
   "title_cell": "Table of Contents",
   "title_sidebar": "Contents",
   "toc_cell": true,
   "toc_position": {},
   "toc_section_display": true,
   "toc_window_display": true
  }
 },
 "nbformat": 4,
 "nbformat_minor": 4
}
