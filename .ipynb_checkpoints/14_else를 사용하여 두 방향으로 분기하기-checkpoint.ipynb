{
 "cells": [
  {
   "cell_type": "markdown",
   "metadata": {},
   "source": [
    "# 14_else를 사용하여 두 방향으로 분기하기\n",
    "\n",
    "* 2020.11.11"
   ]
  },
  {
   "cell_type": "markdown",
   "metadata": {
    "toc": true
   },
   "source": [
    "<h1>Table of Contents<span class=\"tocSkip\"></span></h1>\n",
    "<div class=\"toc\"><ul class=\"toc-item\"><li><span><a href=\"#else-사용하기\" data-toc-modified-id=\"else-사용하기-1\"><span class=\"toc-item-num\">1&nbsp;&nbsp;</span>else 사용하기</a></span></li><li><span><a href=\"#else와-들여쓰기\" data-toc-modified-id=\"else와-들여쓰기-2\"><span class=\"toc-item-num\">2&nbsp;&nbsp;</span>else와 들여쓰기</a></span></li><li><span><a href=\"#if-조건문의-동작-방식-알아보기\" data-toc-modified-id=\"if-조건문의-동작-방식-알아보기-3\"><span class=\"toc-item-num\">3&nbsp;&nbsp;</span>if 조건문의 동작 방식 알아보기</a></span></li><li><span><a href=\"#조건식을-여러-개-지정하기\" data-toc-modified-id=\"조건식을-여러-개-지정하기-4\"><span class=\"toc-item-num\">4&nbsp;&nbsp;</span>조건식을 여러 개 지정하기</a></span></li></ul></div>"
   ]
  },
  {
   "cell_type": "markdown",
   "metadata": {},
   "source": [
    "## else 사용하기"
   ]
  },
  {
   "cell_type": "markdown",
   "metadata": {},
   "source": [
    "> 변수에 값 할당을 if, else로 축약하기\n",
    "\n",
    "조건부 표현식(conditional expression)"
   ]
  },
  {
   "cell_type": "code",
   "execution_count": 3,
   "metadata": {
    "ExecuteTime": {
     "end_time": "2020-11-10T17:39:15.707309Z",
     "start_time": "2020-11-10T17:39:15.683942Z"
    }
   },
   "outputs": [
    {
     "data": {
      "text/plain": [
       "0"
      ]
     },
     "execution_count": 3,
     "metadata": {},
     "output_type": "execute_result"
    }
   ],
   "source": [
    "x = 5\n",
    "y = x if x == 10 else 0\n",
    "y"
   ]
  },
  {
   "cell_type": "markdown",
   "metadata": {},
   "source": [
    "## else와 들여쓰기"
   ]
  },
  {
   "cell_type": "markdown",
   "metadata": {},
   "source": [
    "## if 조건문의 동작 방식 알아보기"
   ]
  },
  {
   "cell_type": "markdown",
   "metadata": {},
   "source": [
    "> True, False로 취급하는 것들\n",
    "\n",
    "* None\n",
    "* False\n",
    "* 0인 숫자들\n",
    "* 비어 있는 문자열, 리스트, 튜플, 딕셔너리, 세트\n",
    "* 클래스 인스턴스의 __bool__(), __len__() 메서드가 0 또는 False를 반환할 때"
   ]
  },
  {
   "cell_type": "markdown",
   "metadata": {},
   "source": [
    "## 조건식을 여러 개 지정하기"
   ]
  },
  {
   "cell_type": "code",
   "execution_count": 4,
   "metadata": {
    "ExecuteTime": {
     "end_time": "2020-11-10T17:45:06.839608Z",
     "start_time": "2020-11-10T17:45:06.831629Z"
    }
   },
   "outputs": [
    {
     "name": "stdout",
     "output_type": "stream",
     "text": [
      "x는 20보다 작은 양수입니다.\n"
     ]
    }
   ],
   "source": [
    "x = 10\n",
    "\n",
    "if 0 < x < 20:\n",
    "    print('x는 20보다 작은 양수입니다.')"
   ]
  },
  {
   "cell_type": "code",
   "execution_count": 23,
   "metadata": {
    "ExecuteTime": {
     "end_time": "2020-11-10T18:03:17.149274Z",
     "start_time": "2020-11-10T18:03:13.387455Z"
    }
   },
   "outputs": [
    {
     "name": "stdout",
     "output_type": "stream",
     "text": [
      "80 90 101 90\n",
      "잘못된 점수\n"
     ]
    }
   ],
   "source": [
    "a, b, c, d = map(int, input().split())\n",
    "if (0 <= a <= 100) and (0 <= b <= 100) and (0 <= c <= 100) and (0 <= d <= 100):\n",
    "    if (a+b+c+d)/4 >= 80:\n",
    "        print('합격')\n",
    "    else:\n",
    "        print('불합격')\n",
    "else:\n",
    "    print('잘못된 점수')"
   ]
  }
 ],
 "metadata": {
  "kernelspec": {
   "display_name": "Python 3",
   "language": "python",
   "name": "python3"
  },
  "language_info": {
   "codemirror_mode": {
    "name": "ipython",
    "version": 3
   },
   "file_extension": ".py",
   "mimetype": "text/x-python",
   "name": "python",
   "nbconvert_exporter": "python",
   "pygments_lexer": "ipython3",
   "version": "3.7.6"
  },
  "toc": {
   "base_numbering": 1,
   "nav_menu": {},
   "number_sections": true,
   "sideBar": true,
   "skip_h1_title": true,
   "title_cell": "Table of Contents",
   "title_sidebar": "Contents",
   "toc_cell": true,
   "toc_position": {
    "height": "calc(100% - 180px)",
    "left": "10px",
    "top": "150px",
    "width": "384px"
   },
   "toc_section_display": true,
   "toc_window_display": true
  }
 },
 "nbformat": 4,
 "nbformat_minor": 4
}
