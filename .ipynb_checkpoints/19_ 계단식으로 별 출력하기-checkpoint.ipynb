{
 "cells": [
  {
   "cell_type": "markdown",
   "metadata": {},
   "source": [
    "# 19_계단식으로 별 출력하기"
   ]
  },
  {
   "cell_type": "markdown",
   "metadata": {
    "toc": true
   },
   "source": [
    "<h1>Table of Contents<span class=\"tocSkip\"></span></h1>\n",
    "<div class=\"toc\"><ul class=\"toc-item\"><li><span><a href=\"#중첩-루프-사용하기\" data-toc-modified-id=\"중첩-루프-사용하기-1\"><span class=\"toc-item-num\">1&nbsp;&nbsp;</span>중첩 루프 사용하기</a></span></li><li><span><a href=\"#사각형으로-별-출력하기\" data-toc-modified-id=\"사각형으로-별-출력하기-2\"><span class=\"toc-item-num\">2&nbsp;&nbsp;</span>사각형으로 별 출력하기</a></span><ul class=\"toc-item\"><li><span><a href=\"#사각형-모양-바꾸기\" data-toc-modified-id=\"사각형-모양-바꾸기-2.1\"><span class=\"toc-item-num\">2.1&nbsp;&nbsp;</span>사각형 모양 바꾸기</a></span></li></ul></li><li><span><a href=\"#계단식으로-별-출력하기\" data-toc-modified-id=\"계단식으로-별-출력하기-3\"><span class=\"toc-item-num\">3&nbsp;&nbsp;</span>계단식으로 별 출력하기</a></span><ul class=\"toc-item\"><li><span><a href=\"#대각선으로-별-출력하기\" data-toc-modified-id=\"대각선으로-별-출력하기-3.1\"><span class=\"toc-item-num\">3.1&nbsp;&nbsp;</span>대각선으로 별 출력하기</a></span></li></ul></li><li><span><a href=\"#퀴즈\" data-toc-modified-id=\"퀴즈-4\"><span class=\"toc-item-num\">4&nbsp;&nbsp;</span>퀴즈</a></span></li></ul></div>"
   ]
  },
  {
   "cell_type": "markdown",
   "metadata": {},
   "source": [
    "## 중첩 루프 사용하기"
   ]
  },
  {
   "cell_type": "code",
   "execution_count": 1,
   "metadata": {
    "ExecuteTime": {
     "end_time": "2020-11-17T06:42:13.980723Z",
     "start_time": "2020-11-17T06:42:13.959812Z"
    }
   },
   "outputs": [
    {
     "name": "stdout",
     "output_type": "stream",
     "text": [
      "j:0 j:1 j:2 j:3 j:4 i:0\\n\n",
      "j:0 j:1 j:2 j:3 j:4 i:1\\n\n",
      "j:0 j:1 j:2 j:3 j:4 i:2\\n\n",
      "j:0 j:1 j:2 j:3 j:4 i:3\\n\n",
      "j:0 j:1 j:2 j:3 j:4 i:4\\n\n"
     ]
    }
   ],
   "source": [
    "for i in range(5):          # 5번 반복. 바깥쪽 루프는 세로 방향\n",
    "    for j in range(5):      # 5번 반복. 안쪽 루프는 가로 방향\n",
    "        print('j:', j, sep='', end=' ')    # j값 출력. end에 ' '를 지정하여 줄바꿈 대신 한 칸 띄움\n",
    "    print('i:', i, '\\\\n', sep='')    # i값 출력, 개행 문자 모양도 출력\n",
    "                                     # 가로 방향으로 숫자를 모두 출력한 뒤 다음 줄로 넘어감\n",
    "                                     # (print는 기본적으로 출력 후 다음 줄로 넘어감)"
   ]
  },
  {
   "cell_type": "markdown",
   "metadata": {},
   "source": [
    "## 사각형으로 별 출력하기"
   ]
  },
  {
   "cell_type": "code",
   "execution_count": 2,
   "metadata": {
    "ExecuteTime": {
     "end_time": "2020-11-17T06:43:58.016214Z",
     "start_time": "2020-11-17T06:43:58.003984Z"
    }
   },
   "outputs": [
    {
     "name": "stdout",
     "output_type": "stream",
     "text": [
      "*****\n",
      "*****\n",
      "*****\n",
      "*****\n",
      "*****\n"
     ]
    }
   ],
   "source": [
    "for i in range(5):            # 5번 반복. 바깥쪽 루프는 세로 방향\n",
    "    for j in range(5):        # 5번 반복. 안쪽 루프는 가로 방향\n",
    "        print('*', end='')    # 별 출력. end에 ''를 지정하여 줄바꿈을 하지 않음\n",
    "    print()    # 가로 방향으로 별을 다 그린 뒤 다음 줄로 넘어감\n",
    "               # (print는 출력 후 기본적으로 다음 줄로 넘어감)"
   ]
  },
  {
   "cell_type": "markdown",
   "metadata": {},
   "source": [
    "### 사각형 모양 바꾸기"
   ]
  },
  {
   "cell_type": "code",
   "execution_count": 3,
   "metadata": {
    "ExecuteTime": {
     "end_time": "2020-11-17T06:45:30.354807Z",
     "start_time": "2020-11-17T06:45:30.346828Z"
    }
   },
   "outputs": [
    {
     "name": "stdout",
     "output_type": "stream",
     "text": [
      "*******\n",
      "*******\n",
      "*******\n"
     ]
    }
   ],
   "source": [
    "for i in range(3):            # 3번 반복. 세로 방향\n",
    "    for j in range(7):        # 7번 반복. 가로 방향\n",
    "        print('*', end='')    # 별 출력. end에 ''를 지정하여 줄바꿈을 하지 않음\n",
    "    print()    # 가로 방향으로 별을 다 그린 뒤 다음 줄로 넘어감\n",
    "               # (print는 출력 후 기본적으로 다음 줄로 넘어감)"
   ]
  },
  {
   "cell_type": "markdown",
   "metadata": {},
   "source": [
    "## 계단식으로 별 출력하기"
   ]
  },
  {
   "cell_type": "code",
   "execution_count": 4,
   "metadata": {
    "ExecuteTime": {
     "end_time": "2020-11-17T06:47:05.532929Z",
     "start_time": "2020-11-17T06:47:05.523942Z"
    }
   },
   "outputs": [
    {
     "name": "stdout",
     "output_type": "stream",
     "text": [
      "*\n",
      "**\n",
      "***\n",
      "****\n",
      "*****\n"
     ]
    }
   ],
   "source": [
    "for i in range(5):        # 0부터 4까지 5번 반복. 세로 방향\n",
    "    for j in range(5):    # 0부터 4까지 5번 반복. 가로 방향\n",
    "        if j <= i:                # 세로 방향 변수 i만큼\n",
    "            print('*', end='')    # 별 출력. end에 ''를 지정하여 줄바꿈을 하지 않음\n",
    "    print()    # 가로 방향으로 별을 다 그린 뒤 다음 줄로 넘어감\n",
    "               # (print는 출력 후 기본적으로 다음 줄로 넘어감)"
   ]
  },
  {
   "cell_type": "markdown",
   "metadata": {},
   "source": [
    "### 대각선으로 별 출력하기"
   ]
  },
  {
   "cell_type": "code",
   "execution_count": 5,
   "metadata": {
    "ExecuteTime": {
     "end_time": "2020-11-17T06:48:59.718903Z",
     "start_time": "2020-11-17T06:48:59.699958Z"
    }
   },
   "outputs": [
    {
     "name": "stdout",
     "output_type": "stream",
     "text": [
      "*\n",
      "*\n",
      "*\n",
      "*\n",
      "*\n"
     ]
    }
   ],
   "source": [
    "for i in range(5):        # 0부터 4까지 5번 반복. 세로 방향\n",
    "    for j in range(5):    # 0부터 4까지 5번 반복. 가로 방향\n",
    "        if j == i:                # 세로 방향 변수와 같을 때\n",
    "            print('*', end='')    # 별 출력. end에 ''를 지정하여 줄바꿈을 하지 않음\n",
    "    print()    # 가로 방향으로 별을 다 그린 뒤 다음 줄로 넘어감\n",
    "               # (print는 출력 후 기본적으로 다음 줄로 넘어감)"
   ]
  },
  {
   "cell_type": "code",
   "execution_count": 6,
   "metadata": {
    "ExecuteTime": {
     "end_time": "2020-11-17T06:49:45.094089Z",
     "start_time": "2020-11-17T06:49:45.083115Z"
    }
   },
   "outputs": [
    {
     "name": "stdout",
     "output_type": "stream",
     "text": [
      "*    \n",
      " *   \n",
      "  *  \n",
      "   * \n",
      "    *\n"
     ]
    }
   ],
   "source": [
    "for i in range(5):        # 0부터 4까지 5번 반복. 세로 방향\n",
    "    for j in range(5):    # 0부터 4까지 5번 반복. 가로 방향\n",
    "        if j == i:                # 세로 방향 변수와 같을 때\n",
    "            print('*', end='')    # 별 출력. end에 ''를 지정하여 줄바꿈을 하지 않음\n",
    "        else:                     # 세로 방향 변수와 다를 때\n",
    "            print(' ', end='')    # 공백 출력. end에 ''를 지정하여 줄바꿈을 하지 않음\n",
    "    print()    # 가로 방향으로 별을 다 그린 뒤 다음 줄로 넘어감\n",
    "               # (print는 출력 후 기본적으로 다음 줄로 넘어감)"
   ]
  },
  {
   "cell_type": "markdown",
   "metadata": {},
   "source": [
    "바깥쪽 루프가 세로 방향, 안쪽 루프가 가로 방향을 처리한다!"
   ]
  },
  {
   "cell_type": "markdown",
   "metadata": {},
   "source": [
    "## 퀴즈"
   ]
  },
  {
   "cell_type": "code",
   "execution_count": 11,
   "metadata": {
    "ExecuteTime": {
     "end_time": "2020-11-17T06:54:40.394152Z",
     "start_time": "2020-11-17T06:54:40.387172Z"
    }
   },
   "outputs": [
    {
     "name": "stdout",
     "output_type": "stream",
     "text": [
      "*****\n",
      " ****\n",
      "  ***\n",
      "   **\n",
      "    *\n"
     ]
    }
   ],
   "source": [
    "for i in range(5):\n",
    "    for j in range(5):\n",
    "        if i <= j:\n",
    "            print('*', end='')\n",
    "        else:\n",
    "            print(' ', end='')\n",
    "    print()"
   ]
  },
  {
   "cell_type": "code",
   "execution_count": 41,
   "metadata": {
    "ExecuteTime": {
     "end_time": "2020-11-17T07:08:48.099636Z",
     "start_time": "2020-11-17T07:08:47.469338Z"
    }
   },
   "outputs": [
    {
     "name": "stdout",
     "output_type": "stream",
     "text": [
      "5\n",
      "    *\n",
      "   ***\n",
      "  *****\n",
      " *******\n",
      "*********\n"
     ]
    }
   ],
   "source": [
    "height = int(input())\n",
    "for i in range(height):\n",
    "    for j in reversed(range(height)):\n",
    "        if j > i:\n",
    "            print(' ', end='')\n",
    "        else:\n",
    "            print('*', end='')\n",
    "    for j in range(height):\n",
    "        if j < i:\n",
    "            print('*', end='')\n",
    "    print()"
   ]
  }
 ],
 "metadata": {
  "kernelspec": {
   "display_name": "Python 3",
   "language": "python",
   "name": "python3"
  },
  "language_info": {
   "codemirror_mode": {
    "name": "ipython",
    "version": 3
   },
   "file_extension": ".py",
   "mimetype": "text/x-python",
   "name": "python",
   "nbconvert_exporter": "python",
   "pygments_lexer": "ipython3",
   "version": "3.7.6"
  },
  "toc": {
   "base_numbering": 1,
   "nav_menu": {},
   "number_sections": true,
   "sideBar": true,
   "skip_h1_title": true,
   "title_cell": "Table of Contents",
   "title_sidebar": "Contents",
   "toc_cell": true,
   "toc_position": {},
   "toc_section_display": true,
   "toc_window_display": true
  }
 },
 "nbformat": 4,
 "nbformat_minor": 4
}
