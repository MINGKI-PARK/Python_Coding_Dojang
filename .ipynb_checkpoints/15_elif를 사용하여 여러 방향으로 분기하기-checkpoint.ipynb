{
 "cells": [
  {
   "cell_type": "markdown",
   "metadata": {},
   "source": [
    "# 15_elif를 사용하여 여러 방향으로 분기하기\n",
    "\n",
    "* 2020.11.11"
   ]
  },
  {
   "cell_type": "markdown",
   "metadata": {
    "toc": true
   },
   "source": [
    "<h1>Table of Contents<span class=\"tocSkip\"></span></h1>\n",
    "<div class=\"toc\"><ul class=\"toc-item\"><li><span><a href=\"#elif-사용하기\" data-toc-modified-id=\"elif-사용하기-1\"><span class=\"toc-item-num\">1&nbsp;&nbsp;</span>elif 사용하기</a></span></li></ul></div>"
   ]
  },
  {
   "cell_type": "markdown",
   "metadata": {},
   "source": [
    "## elif 사용하기"
   ]
  },
  {
   "cell_type": "code",
   "execution_count": 2,
   "metadata": {
    "ExecuteTime": {
     "end_time": "2020-11-10T18:08:44.113477Z",
     "start_time": "2020-11-10T18:08:43.154760Z"
    }
   },
   "outputs": [
    {
     "name": "stdout",
     "output_type": "stream",
     "text": [
      "50\n",
      "아무것도 해당하지 않음\n"
     ]
    }
   ],
   "source": [
    "x = int(input())\n",
    "\n",
    "if 11 <= x <= 20:\n",
    "    print('11~20')\n",
    "elif 21 <= x <= 30:\n",
    "    print('21~30')\n",
    "else:\n",
    "    print('아무것도 해당하지 않음')"
   ]
  },
  {
   "cell_type": "code",
   "execution_count": 6,
   "metadata": {
    "ExecuteTime": {
     "end_time": "2020-11-10T18:11:29.612880Z",
     "start_time": "2020-11-10T18:11:27.954551Z"
    }
   },
   "outputs": [
    {
     "name": "stdout",
     "output_type": "stream",
     "text": [
      "50\n",
      "7750\n"
     ]
    }
   ],
   "source": [
    "age = int(input())\n",
    "balance = 9000 # 교통카드 잔액\n",
    "\n",
    "if 7 <= age <=12:\n",
    "    balance -= 650\n",
    "elif 13 <= age <= 18:\n",
    "    balance -= 1050\n",
    "else:\n",
    "    balance -= 1250\n",
    "    \n",
    "print(balance)"
   ]
  }
 ],
 "metadata": {
  "kernelspec": {
   "display_name": "Python 3",
   "language": "python",
   "name": "python3"
  },
  "language_info": {
   "codemirror_mode": {
    "name": "ipython",
    "version": 3
   },
   "file_extension": ".py",
   "mimetype": "text/x-python",
   "name": "python",
   "nbconvert_exporter": "python",
   "pygments_lexer": "ipython3",
   "version": "3.7.6"
  },
  "toc": {
   "base_numbering": 1,
   "nav_menu": {},
   "number_sections": true,
   "sideBar": true,
   "skip_h1_title": true,
   "title_cell": "Table of Contents",
   "title_sidebar": "Contents",
   "toc_cell": true,
   "toc_position": {},
   "toc_section_display": true,
   "toc_window_display": true
  }
 },
 "nbformat": 4,
 "nbformat_minor": 4
}
