{
 "cells": [
  {
   "cell_type": "markdown",
   "metadata": {},
   "source": [
    "# 23_2차원 리스트 사용하기 "
   ]
  },
  {
   "cell_type": "markdown",
   "metadata": {
    "toc": true
   },
   "source": [
    "<h1>Table of Contents<span class=\"tocSkip\"></span></h1>\n",
    "<div class=\"toc\"><ul class=\"toc-item\"><li><span><a href=\"#2차원-리스트를-만들고-요소에-접근하기\" data-toc-modified-id=\"2차원-리스트를-만들고-요소에-접근하기-1\"><span class=\"toc-item-num\">1&nbsp;&nbsp;</span>2차원 리스트를 만들고 요소에 접근하기</a></span><ul class=\"toc-item\"><li><span><a href=\"#2차원-리스트의-요소에-접근하기\" data-toc-modified-id=\"2차원-리스트의-요소에-접근하기-1.1\"><span class=\"toc-item-num\">1.1&nbsp;&nbsp;</span>2차원 리스트의 요소에 접근하기</a></span></li></ul></li><li><span><a href=\"#반복문으로-2차원-리스트의-요소를-모두-출력하기\" data-toc-modified-id=\"반복문으로-2차원-리스트의-요소를-모두-출력하기-2\"><span class=\"toc-item-num\">2&nbsp;&nbsp;</span>반복문으로 2차원 리스트의 요소를 모두 출력하기</a></span><ul class=\"toc-item\"><li><span><a href=\"#for-반복문을-한-번만-사용하기\" data-toc-modified-id=\"for-반복문을-한-번만-사용하기-2.1\"><span class=\"toc-item-num\">2.1&nbsp;&nbsp;</span>for 반복문을 한 번만 사용하기</a></span></li><li><span><a href=\"#for-반복문을-두-번-사용하기\" data-toc-modified-id=\"for-반복문을-두-번-사용하기-2.2\"><span class=\"toc-item-num\">2.2&nbsp;&nbsp;</span>for 반복문을 두 번 사용하기</a></span></li><li><span><a href=\"#for와-range-사용하기\" data-toc-modified-id=\"for와-range-사용하기-2.3\"><span class=\"toc-item-num\">2.3&nbsp;&nbsp;</span>for와 range 사용하기</a></span></li><li><span><a href=\"#while-반복문을-한-번-사용하기\" data-toc-modified-id=\"while-반복문을-한-번-사용하기-2.4\"><span class=\"toc-item-num\">2.4&nbsp;&nbsp;</span>while 반복문을 한 번 사용하기</a></span></li><li><span><a href=\"#while-반복문을-두-번-사용하기\" data-toc-modified-id=\"while-반복문을-두-번-사용하기-2.5\"><span class=\"toc-item-num\">2.5&nbsp;&nbsp;</span>while 반복문을 두 번 사용하기</a></span></li></ul></li><li><span><a href=\"#반복문으로-리스트-만들기\" data-toc-modified-id=\"반복문으로-리스트-만들기-3\"><span class=\"toc-item-num\">3&nbsp;&nbsp;</span>반복문으로 리스트 만들기</a></span><ul class=\"toc-item\"><li><span><a href=\"#for-반복문으로-1차원-리스트-만들기\" data-toc-modified-id=\"for-반복문으로-1차원-리스트-만들기-3.1\"><span class=\"toc-item-num\">3.1&nbsp;&nbsp;</span>for 반복문으로 1차원 리스트 만들기</a></span></li><li><span><a href=\"#for-반복문으로-2차원-리스트-만들기\" data-toc-modified-id=\"for-반복문으로-2차원-리스트-만들기-3.2\"><span class=\"toc-item-num\">3.2&nbsp;&nbsp;</span>for 반복문으로 2차원 리스트 만들기</a></span></li><li><span><a href=\"#리스트-표현식으로-2차원-리스트-만들기\" data-toc-modified-id=\"리스트-표현식으로-2차원-리스트-만들기-3.3\"><span class=\"toc-item-num\">3.3&nbsp;&nbsp;</span>리스트 표현식으로 2차원 리스트 만들기</a></span></li><li><span><a href=\"#톱니형-리스트-만들기\" data-toc-modified-id=\"톱니형-리스트-만들기-3.4\"><span class=\"toc-item-num\">3.4&nbsp;&nbsp;</span>톱니형 리스트 만들기</a></span></li></ul></li><li><span><a href=\"#2차원-리스트의-할당과-복사-알아보기\" data-toc-modified-id=\"2차원-리스트의-할당과-복사-알아보기-4\"><span class=\"toc-item-num\">4&nbsp;&nbsp;</span>2차원 리스트의 할당과 복사 알아보기</a></span></li><li><span><a href=\"#퀴즈\" data-toc-modified-id=\"퀴즈-5\"><span class=\"toc-item-num\">5&nbsp;&nbsp;</span>퀴즈</a></span><ul class=\"toc-item\"><li><span><a href=\"#연습문제:-3차원-리스트-만들기\" data-toc-modified-id=\"연습문제:-3차원-리스트-만들기-5.1\"><span class=\"toc-item-num\">5.1&nbsp;&nbsp;</span>연습문제: 3차원 리스트 만들기</a></span><ul class=\"toc-item\"><li><span><a href=\"#정답!\" data-toc-modified-id=\"정답!-5.1.1\"><span class=\"toc-item-num\">5.1.1&nbsp;&nbsp;</span>정답!</a></span></li></ul></li><li><span><a href=\"#심사문제-:-지뢰찾기\" data-toc-modified-id=\"심사문제-:-지뢰찾기-5.2\"><span class=\"toc-item-num\">5.2&nbsp;&nbsp;</span>심사문제 : 지뢰찾기</a></span></li></ul></li></ul></div>"
   ]
  },
  {
   "cell_type": "markdown",
   "metadata": {},
   "source": [
    "## 2차원 리스트를 만들고 요소에 접근하기"
   ]
  },
  {
   "cell_type": "markdown",
   "metadata": {},
   "source": [
    "2차원 리스트는 리스트 안에 리스트를 넣어서 만들 수 있으며 안쪽의 각 리스트는 ,(콤마)로 구분한다.\n",
    "\n",
    "* 리스트 = [[값, 값], [값, 값], [값, 값]]"
   ]
  },
  {
   "cell_type": "code",
   "execution_count": 1,
   "metadata": {
    "ExecuteTime": {
     "end_time": "2020-11-23T09:44:54.905426Z",
     "start_time": "2020-11-23T09:44:54.877502Z"
    }
   },
   "outputs": [
    {
     "data": {
      "text/plain": [
       "[[10, 20], [30, 40], [50, 60]]"
      ]
     },
     "execution_count": 1,
     "metadata": {},
     "output_type": "execute_result"
    }
   ],
   "source": [
    "a = [[10, 20], [30, 40], [50, 60]]\n",
    "a"
   ]
  },
  {
   "cell_type": "code",
   "execution_count": 2,
   "metadata": {
    "ExecuteTime": {
     "end_time": "2020-11-23T09:45:38.930525Z",
     "start_time": "2020-11-23T09:45:38.913604Z"
    }
   },
   "outputs": [],
   "source": [
    "a = [[10, 20],\n",
    "     [30, 40],\n",
    "     [50, 60]]"
   ]
  },
  {
   "cell_type": "markdown",
   "metadata": {},
   "source": [
    "### 2차원 리스트의 요소에 접근하기"
   ]
  },
  {
   "cell_type": "markdown",
   "metadata": {},
   "source": [
    "2차원 리스트의 요소에 접근하거나 값을 할당할 때는 리스트 뒤에 [ ]\\(대괄호)를 두 번 사용하며 [ ] 안에 세로(row) 인덱스와 가로(column) 인덱스를 지정해주면 된다.\n",
    "\n",
    "* 리스트[세로인덱스][가로인덱스]\n",
    "* 리스트[세로인덱스][가로인덱스] = 값"
   ]
  },
  {
   "cell_type": "code",
   "execution_count": 3,
   "metadata": {
    "ExecuteTime": {
     "end_time": "2020-11-23T09:49:14.080226Z",
     "start_time": "2020-11-23T09:49:14.067275Z"
    }
   },
   "outputs": [
    {
     "data": {
      "text/plain": [
       "10"
      ]
     },
     "execution_count": 3,
     "metadata": {},
     "output_type": "execute_result"
    }
   ],
   "source": [
    "a = [[10, 20], [30, 40], [50, 60]]\n",
    "a[0][0] # 세로 인덱스 0, 가로 인덱스 0인 요소 출력"
   ]
  },
  {
   "cell_type": "code",
   "execution_count": 4,
   "metadata": {
    "ExecuteTime": {
     "end_time": "2020-11-23T09:49:19.296485Z",
     "start_time": "2020-11-23T09:49:19.288509Z"
    }
   },
   "outputs": [
    {
     "data": {
      "text/plain": [
       "40"
      ]
     },
     "execution_count": 4,
     "metadata": {},
     "output_type": "execute_result"
    }
   ],
   "source": [
    "a[1][1] # 세로 인덱스 1, 가로 인덱스 1인 요소 출력"
   ]
  },
  {
   "cell_type": "code",
   "execution_count": 5,
   "metadata": {
    "ExecuteTime": {
     "end_time": "2020-11-23T09:49:45.145314Z",
     "start_time": "2020-11-23T09:49:45.137339Z"
    }
   },
   "outputs": [
    {
     "data": {
      "text/plain": [
       "60"
      ]
     },
     "execution_count": 5,
     "metadata": {},
     "output_type": "execute_result"
    }
   ],
   "source": [
    "a[2][1] # 세로 인덱스 2, 가로 인덱스 0인 요소 출력"
   ]
  },
  {
   "cell_type": "code",
   "execution_count": 6,
   "metadata": {
    "ExecuteTime": {
     "end_time": "2020-11-23T09:50:02.623319Z",
     "start_time": "2020-11-23T09:50:02.616374Z"
    }
   },
   "outputs": [
    {
     "data": {
      "text/plain": [
       "[[10, 1000], [30, 40], [50, 60]]"
      ]
     },
     "execution_count": 6,
     "metadata": {},
     "output_type": "execute_result"
    }
   ],
   "source": [
    "a[0][1] = 1000 # 세로 인덱스 0, 가로 인덱스 1인 요소에 값 할당\n",
    "a"
   ]
  },
  {
   "cell_type": "markdown",
   "metadata": {},
   "source": [
    "> 톱니형 리스트\n",
    "\n",
    "2차원 리스트 [[10, 20], [30, 40], [50, 60]]은 가로 크기가 일정한 사각형 리스트이다. 특히 파이썬에서는 가로 크기가 불규칙한 톱니형 리스트(jagged list)도 만들 수 있다.\n",
    "\n",
    "```python\n",
    "a = [[10, 20],\n",
    "     [500, 600, 700],\n",
    "     [9],\n",
    "     [30, 40],\n",
    "     [8],\n",
    "     [800, 900, 1000]]\n",
    "```\n",
    "\n",
    "리스트 a는 가로 크기(행의 요소 개수)가 제각각이다. 이런 리스트는 요소가 배치된 모양이 톱니처럼 생겼다고 해서 톱니형 리스트라고 부른다.\n",
    "\n",
    "톱니형 리스트는 다음과 같이 append 메서드 등을 사용하여 동적으로 생성할 수도 있다."
   ]
  },
  {
   "cell_type": "code",
   "execution_count": 7,
   "metadata": {
    "ExecuteTime": {
     "end_time": "2020-11-23T09:54:01.241318Z",
     "start_time": "2020-11-23T09:54:01.219360Z"
    }
   },
   "outputs": [
    {
     "data": {
      "text/plain": [
       "[[10, 20], [500, 600, 700]]"
      ]
     },
     "execution_count": 7,
     "metadata": {},
     "output_type": "execute_result"
    }
   ],
   "source": [
    "a = []\n",
    "a.append([])\n",
    "a[0].append(10)\n",
    "a[0].append(20)\n",
    "a.append([])\n",
    "a[1].append(500)\n",
    "a[1].append(600)\n",
    "a[1].append(700)\n",
    "a"
   ]
  },
  {
   "cell_type": "markdown",
   "metadata": {},
   "source": [
    "> 2차원 튜플\n",
    "\n",
    "2차원 튜플도 있다. 튜플 안에 튜플을 넣는 방식, 튜플 안에 리스트를 넣는 방식, 리스트 안에 튜플을 넣는 방식 등이 가능하다.\n",
    "\n",
    "튜플 = ((값, 값), (값, 값), (값, 값))\n",
    "\n",
    "튜플 = ([값, 값], [값, 값], [값, 값])\n",
    "\n",
    "리스트 = [(값, 값), (값, 값), (값, 값)]\n",
    "\n",
    "```python\n",
    "a = ((10, 20), (30, 40), (50, 60))    # 튜플 안에 튜플을 넣은 2차원 튜플\n",
    "b = ([10, 20], [30, 40], [50, 60])    # 튜플 안에 리스트를 넣음\n",
    "c = [(10, 20), (30, 40), (50, 60)]    # 리스트 안에 튜플을 넣음\n",
    "```\n",
    "\n",
    "튜플의 내용을 변경할 수 없으므로 a는 안쪽과 바깥쪽 모두 요소를 변경할 수 없다. b는 안쪽 리스트만 요소를 변경할 수 있고, c는 바깥쪽 리스트만 요소를 변경할 수 있다.\n",
    "\n",
    "```python\n",
    "a[0][0] = 500        # 안쪽 튜플은 변경할 수 없음. TypeError 발생\n",
    "a[0] = (500, 600)    # 바깥쪽 튜플은 변경할 수 없음. TypeError 발생\n",
    "b[0][0] = 500        # 안쪽 리스트는 변경할 수 있음\n",
    "b[0] = (500, 600)    # 바깥쪽 튜플은 변경할 수 없음. TypeError 발생\n",
    "c[0][0] = 500        # 안쪽 튜플은 변경할 수 없음. TypeError 발생\n",
    "c[0] = (500, 600)    # 바깥쪽 리스트는 변경할 수 있음\n",
    "```"
   ]
  },
  {
   "cell_type": "markdown",
   "metadata": {},
   "source": [
    "> 사람이 알아보기 쉽게 출력하기\n",
    "\n",
    "2차원 리스트를 출렿가면 한 줄로 쭉 붙어서 출력된다."
   ]
  },
  {
   "cell_type": "code",
   "execution_count": 8,
   "metadata": {
    "ExecuteTime": {
     "end_time": "2020-11-23T09:58:29.662690Z",
     "start_time": "2020-11-23T09:58:29.653751Z"
    }
   },
   "outputs": [
    {
     "data": {
      "text/plain": [
       "[[10, 20], [30, 40], [50, 60]]"
      ]
     },
     "execution_count": 8,
     "metadata": {},
     "output_type": "execute_result"
    }
   ],
   "source": [
    "a = [[10, 20], [30, 40], [50, 60]]\n",
    "a"
   ]
  },
  {
   "cell_type": "markdown",
   "metadata": {},
   "source": [
    "만약 2차원 리스트의 사각형 구조를 유지하도록 출력하려면 pprint 모듈의 pprint 함수를 사용한다."
   ]
  },
  {
   "cell_type": "code",
   "execution_count": 10,
   "metadata": {
    "ExecuteTime": {
     "end_time": "2020-11-23T09:59:40.168679Z",
     "start_time": "2020-11-23T09:59:40.151691Z"
    }
   },
   "outputs": [
    {
     "name": "stdout",
     "output_type": "stream",
     "text": [
      "[   [10, 20],\n",
      "    [30, 40],\n",
      "    [50, 60]]\n"
     ]
    }
   ],
   "source": [
    "from pprint import pprint\n",
    "pprint(a, indent=4, width=20)"
   ]
  },
  {
   "cell_type": "markdown",
   "metadata": {},
   "source": [
    "indent는 들여쓰기 칸 수, width는 가로 폭이다. 각자 상황에 맞게 들여쓰기 칸 수와 가로 폭을 조절해서 사용하자."
   ]
  },
  {
   "cell_type": "markdown",
   "metadata": {},
   "source": [
    "## 반복문으로 2차원 리스트의 요소를 모두 출력하기"
   ]
  },
  {
   "cell_type": "markdown",
   "metadata": {},
   "source": [
    "### for 반복문을 한 번만 사용하기"
   ]
  },
  {
   "cell_type": "code",
   "execution_count": 11,
   "metadata": {
    "ExecuteTime": {
     "end_time": "2020-11-23T10:02:00.886559Z",
     "start_time": "2020-11-23T10:02:00.872561Z"
    }
   },
   "outputs": [
    {
     "name": "stdout",
     "output_type": "stream",
     "text": [
      "10 20\n",
      "30 40\n",
      "50 60\n"
     ]
    }
   ],
   "source": [
    "a = [[10, 20], [30, 40], [50, 60]]\n",
    "for x, y in a: # 리스트의 가로 한 줄(안쪽 리스트)에서 요소 두 개를 꺼냄\n",
    "    print(x, y)"
   ]
  },
  {
   "cell_type": "markdown",
   "metadata": {},
   "source": [
    "`for x, y in a:`와 같이 in 앞에 변수를 두 개 지정해주면 가로 한 줄(안쪽 리스트)에서 요소 두 개를 꺼내 온다.\n",
    "\n",
    "당연히 in 앞에 변수의 개수는 2차원 리스트에서 가로 크기(안쪽 리스트의 요소 개수)와 일치해아 한다. 특히 for 반복문을 한 번만 사용하는 방식은 2차원 리스트의 크기가 크지 않을 때 유용하다."
   ]
  },
  {
   "cell_type": "markdown",
   "metadata": {},
   "source": [
    "### for 반복문을 두 번 사용하기"
   ]
  },
  {
   "cell_type": "code",
   "execution_count": 14,
   "metadata": {
    "ExecuteTime": {
     "end_time": "2020-11-23T10:08:09.083959Z",
     "start_time": "2020-11-23T10:08:09.065012Z"
    }
   },
   "outputs": [
    {
     "name": "stdout",
     "output_type": "stream",
     "text": [
      "10 20 \n",
      "30 40 \n",
      "50 60 \n"
     ]
    }
   ],
   "source": [
    "a = [[10, 20], [30, 40], [50, 60]]\n",
    " \n",
    "for i in a:        # a에서 안쪽 리스트를 꺼냄\n",
    "    for j in i:    # 안쪽 리스트에서 요소를 하나씩 꺼냄\n",
    "        print(j, end=' ')\n",
    "    print()"
   ]
  },
  {
   "cell_type": "markdown",
   "metadata": {},
   "source": [
    "### for와 range 사용하기"
   ]
  },
  {
   "cell_type": "code",
   "execution_count": 15,
   "metadata": {
    "ExecuteTime": {
     "end_time": "2020-11-23T10:08:36.298839Z",
     "start_time": "2020-11-23T10:08:36.289862Z"
    }
   },
   "outputs": [
    {
     "name": "stdout",
     "output_type": "stream",
     "text": [
      "10 20 \n",
      "30 40 \n",
      "50 60 \n"
     ]
    }
   ],
   "source": [
    "a = [[10, 20], [30, 40], [50, 60]]\n",
    " \n",
    "for i in range(len(a)):            # 세로 크기\n",
    "    for j in range(len(a[i])):     # 가로 크기\n",
    "        print(a[i][j], end=' ')\n",
    "    print()"
   ]
  },
  {
   "cell_type": "markdown",
   "metadata": {},
   "source": [
    "```python\n",
    "for i in range(len(a)):            # 세로 크기\n",
    "    for j in range(len(a[i])):     # 가로 크기\n",
    "```"
   ]
  },
  {
   "cell_type": "markdown",
   "metadata": {},
   "source": [
    "### while 반복문을 한 번 사용하기"
   ]
  },
  {
   "cell_type": "code",
   "execution_count": 16,
   "metadata": {
    "ExecuteTime": {
     "end_time": "2020-11-23T10:08:49.579962Z",
     "start_time": "2020-11-23T10:08:49.561016Z"
    },
    "scrolled": true
   },
   "outputs": [
    {
     "name": "stdout",
     "output_type": "stream",
     "text": [
      "10 20\n",
      "30 40\n",
      "50 60\n"
     ]
    }
   ],
   "source": [
    "a = [[10, 20], [30, 40], [50, 60]]\n",
    " \n",
    "i = 0\n",
    "while i < len(a):    # 반복할 때 리스트의 크기 활용(세로 크기)\n",
    "    x, y = a[i]      # 요소 두 개를 한꺼번에 가져오기\n",
    "    print(x, y)\n",
    "    i += 1           # 인덱스를 1 증가시킴"
   ]
  },
  {
   "cell_type": "markdown",
   "metadata": {},
   "source": [
    "### while 반복문을 두 번 사용하기"
   ]
  },
  {
   "cell_type": "code",
   "execution_count": 17,
   "metadata": {
    "ExecuteTime": {
     "end_time": "2020-11-23T10:09:31.413061Z",
     "start_time": "2020-11-23T10:09:31.402124Z"
    }
   },
   "outputs": [
    {
     "name": "stdout",
     "output_type": "stream",
     "text": [
      "10 20 \n",
      "30 40 \n",
      "50 60 \n"
     ]
    }
   ],
   "source": [
    "a = [[10, 20], [30, 40], [50, 60]]\n",
    " \n",
    "i = 0\n",
    "while i < len(a):           # 세로 크기\n",
    "    j = 0\n",
    "    while j < len(a[i]):    # 가로 크기\n",
    "        print(a[i][j], end=' ')\n",
    "        j += 1              # 가로 인덱스를 1 증가시킴\n",
    "    print()\n",
    "    i += 1                  # 세로 인덱스를 1 증가시킴"
   ]
  },
  {
   "cell_type": "markdown",
   "metadata": {},
   "source": [
    "## 반복문으로 리스트 만들기"
   ]
  },
  {
   "cell_type": "markdown",
   "metadata": {},
   "source": [
    "### for 반복문으로 1차원 리스트 만들기"
   ]
  },
  {
   "cell_type": "code",
   "execution_count": 18,
   "metadata": {
    "ExecuteTime": {
     "end_time": "2020-11-23T10:11:03.205846Z",
     "start_time": "2020-11-23T10:11:03.192880Z"
    }
   },
   "outputs": [
    {
     "name": "stdout",
     "output_type": "stream",
     "text": [
      "[0, 0, 0, 0, 0, 0, 0, 0, 0, 0]\n"
     ]
    }
   ],
   "source": [
    "a = []    # 빈 리스트 생성\n",
    " \n",
    "for i in range(10):\n",
    "    a.append(0)    # append로 요소 추가\n",
    " \n",
    "print(a)"
   ]
  },
  {
   "cell_type": "markdown",
   "metadata": {},
   "source": [
    "### for 반복문으로 2차원 리스트 만들기"
   ]
  },
  {
   "cell_type": "code",
   "execution_count": 19,
   "metadata": {
    "ExecuteTime": {
     "end_time": "2020-11-23T10:11:53.733284Z",
     "start_time": "2020-11-23T10:11:53.722316Z"
    }
   },
   "outputs": [
    {
     "name": "stdout",
     "output_type": "stream",
     "text": [
      "[[0, 0], [0, 0], [0, 0]]\n"
     ]
    }
   ],
   "source": [
    "a = []    # 빈 리스트 생성\n",
    " \n",
    "for i in range(3):\n",
    "    line = []              # 안쪽 리스트로 사용할 빈 리스트 생성\n",
    "    for j in range(2):\n",
    "        line.append(0)     # 안쪽 리스트에 0 추가\n",
    "    a.append(line)         # 전체 리스트에 안쪽 리스트를 추가\n",
    " \n",
    "print(a)"
   ]
  },
  {
   "cell_type": "markdown",
   "metadata": {},
   "source": [
    "### 리스트 표현식으로 2차원 리스트 만들기"
   ]
  },
  {
   "cell_type": "code",
   "execution_count": 20,
   "metadata": {
    "ExecuteTime": {
     "end_time": "2020-11-23T10:12:51.107433Z",
     "start_time": "2020-11-23T10:12:51.097494Z"
    }
   },
   "outputs": [
    {
     "data": {
      "text/plain": [
       "[[0, 0], [0, 0], [0, 0]]"
      ]
     },
     "execution_count": 20,
     "metadata": {},
     "output_type": "execute_result"
    }
   ],
   "source": [
    "a = [[0 for j in range(2)] for i in range(3)]\n",
    "a"
   ]
  },
  {
   "cell_type": "code",
   "execution_count": 22,
   "metadata": {
    "ExecuteTime": {
     "end_time": "2020-11-23T10:13:54.086098Z",
     "start_time": "2020-11-23T10:13:54.073096Z"
    }
   },
   "outputs": [
    {
     "data": {
      "text/plain": [
       "[0, 0]"
      ]
     },
     "execution_count": 22,
     "metadata": {},
     "output_type": "execute_result"
    }
   ],
   "source": [
    "[0] * 2"
   ]
  },
  {
   "cell_type": "code",
   "execution_count": 21,
   "metadata": {
    "ExecuteTime": {
     "end_time": "2020-11-23T10:13:42.769793Z",
     "start_time": "2020-11-23T10:13:42.760817Z"
    }
   },
   "outputs": [
    {
     "data": {
      "text/plain": [
       "[[0, 0], [0, 0], [0, 0]]"
      ]
     },
     "execution_count": 21,
     "metadata": {},
     "output_type": "execute_result"
    }
   ],
   "source": [
    "a = [[0] * 2 for i in range(3)]\n",
    "a"
   ]
  },
  {
   "cell_type": "markdown",
   "metadata": {},
   "source": [
    "### 톱니형 리스트 만들기"
   ]
  },
  {
   "cell_type": "code",
   "execution_count": 25,
   "metadata": {
    "ExecuteTime": {
     "end_time": "2020-11-23T10:15:04.607959Z",
     "start_time": "2020-11-23T10:15:04.600944Z"
    }
   },
   "outputs": [
    {
     "name": "stdout",
     "output_type": "stream",
     "text": [
      "[[0, 0, 0], [0], [0, 0, 0], [0, 0], [0, 0, 0, 0, 0]]\n"
     ]
    }
   ],
   "source": [
    "a = [3, 1, 3, 2, 5]    # 가로 크기를 저장한 리스트\n",
    "b = []    # 빈 리스트 생성\n",
    " \n",
    "for i in a:      # 가로 크기를 저장한 리스트로 반복\n",
    "    line = []    # 안쪽 리스트로 사용할 빈 리스트 생성\n",
    "    for j in range(i):    # 리스트 a에 저장된 가로 크기만큼 반복\n",
    "        line.append(0)\n",
    "    b.append(line)        # 리스트 b에 안쪽 리스트를 추가\n",
    " \n",
    "print(b)"
   ]
  },
  {
   "cell_type": "code",
   "execution_count": 28,
   "metadata": {
    "ExecuteTime": {
     "end_time": "2020-11-23T10:15:50.962967Z",
     "start_time": "2020-11-23T10:15:50.952996Z"
    }
   },
   "outputs": [
    {
     "name": "stdout",
     "output_type": "stream",
     "text": [
      "[[0, 0, 0],\n",
      " [0],\n",
      " [0, 0, 0],\n",
      " [0, 0],\n",
      " [0, 0, 0, 0, 0]]\n"
     ]
    }
   ],
   "source": [
    "pprint(b, width=20)"
   ]
  },
  {
   "cell_type": "code",
   "execution_count": 29,
   "metadata": {
    "ExecuteTime": {
     "end_time": "2020-11-23T10:16:18.249151Z",
     "start_time": "2020-11-23T10:16:18.234191Z"
    }
   },
   "outputs": [
    {
     "data": {
      "text/plain": [
       "[[0, 0, 0], [0], [0, 0, 0], [0, 0], [0, 0, 0, 0, 0]]"
      ]
     },
     "execution_count": 29,
     "metadata": {},
     "output_type": "execute_result"
    }
   ],
   "source": [
    "a = [[0] * i for i in [3, 1, 3, 2, 5]]\n",
    "a"
   ]
  },
  {
   "cell_type": "code",
   "execution_count": 30,
   "metadata": {
    "ExecuteTime": {
     "end_time": "2020-11-23T10:16:25.995901Z",
     "start_time": "2020-11-23T10:16:25.984930Z"
    }
   },
   "outputs": [
    {
     "name": "stdout",
     "output_type": "stream",
     "text": [
      "[[0, 0, 0],\n",
      " [0],\n",
      " [0, 0, 0],\n",
      " [0, 0],\n",
      " [0, 0, 0, 0, 0]]\n"
     ]
    }
   ],
   "source": [
    "pprint(a, width=20)"
   ]
  },
  {
   "cell_type": "markdown",
   "metadata": {},
   "source": [
    "> sorted로 2차원 리스트 정렬하기\n",
    "\n",
    "2차원 리스트를 정렬할 때는 sorted 함수를 사용한다.\n",
    "\n",
    "`sorted(반복가능한객체, key=정렬함수, reverse=True 또는 False)`\n",
    "\n",
    "다음은 2차원 리스트를 정렬한다."
   ]
  },
  {
   "cell_type": "code",
   "execution_count": 31,
   "metadata": {
    "ExecuteTime": {
     "end_time": "2020-11-23T10:18:43.751289Z",
     "start_time": "2020-11-23T10:18:43.738325Z"
    }
   },
   "outputs": [
    {
     "name": "stdout",
     "output_type": "stream",
     "text": [
      "[['maria', 'A', 25], ['andrew', 'B', 7], ['john', 'C', 19]]\n",
      "[['andrew', 'B', 7], ['john', 'C', 19], ['maria', 'A', 25]]\n"
     ]
    }
   ],
   "source": [
    "students = [\n",
    "    ['john', 'C', 19],\n",
    "    ['maria', 'A', 25],\n",
    "    ['andrew', 'B', 7]\n",
    "]\n",
    " \n",
    "print(sorted(students, key=lambda student: student[1]))  # 안쪽 리스트의 인덱스 1을 기준으로 정렬\n",
    "print(sorted(students, key=lambda student: student[2]))  # 안쪽 리스트의 인덱스 2를 기준으로 정렬"
   ]
  },
  {
   "cell_type": "markdown",
   "metadata": {},
   "source": [
    "## 2차원 리스트의 할당과 복사 알아보기"
   ]
  },
  {
   "cell_type": "code",
   "execution_count": 32,
   "metadata": {
    "ExecuteTime": {
     "end_time": "2020-11-23T11:13:49.324308Z",
     "start_time": "2020-11-23T11:13:49.316928Z"
    }
   },
   "outputs": [
    {
     "data": {
      "text/plain": [
       "[[500, 20], [30, 40]]"
      ]
     },
     "execution_count": 32,
     "metadata": {},
     "output_type": "execute_result"
    }
   ],
   "source": [
    "a = [[10, 20], [30, 40]]\n",
    "b = a\n",
    "b[0][0] = 500\n",
    "a"
   ]
  },
  {
   "cell_type": "code",
   "execution_count": 37,
   "metadata": {
    "ExecuteTime": {
     "end_time": "2020-11-23T11:14:41.491918Z",
     "start_time": "2020-11-23T11:14:41.482978Z"
    }
   },
   "outputs": [
    {
     "data": {
      "text/plain": [
       "[[500, 20], [30, 40]]"
      ]
     },
     "execution_count": 37,
     "metadata": {},
     "output_type": "execute_result"
    }
   ],
   "source": [
    "a = [[10, 20], [30, 40]]\n",
    "b = a.copy()\n",
    "b[0][0] = 500\n",
    "a"
   ]
  },
  {
   "cell_type": "code",
   "execution_count": 36,
   "metadata": {
    "ExecuteTime": {
     "end_time": "2020-11-23T11:14:25.120846Z",
     "start_time": "2020-11-23T11:14:25.104957Z"
    }
   },
   "outputs": [
    {
     "data": {
      "text/plain": [
       "[[500, 20], [30, 40]]"
      ]
     },
     "execution_count": 36,
     "metadata": {},
     "output_type": "execute_result"
    }
   ],
   "source": [
    "b"
   ]
  },
  {
   "cell_type": "markdown",
   "metadata": {},
   "source": [
    "2차원 이상의 다차원 리스트는 리스트를 완전히 복사하려면 copy 메서드 대신 copy 모듈의 deepcopy 함수를 사용해야 한다."
   ]
  },
  {
   "cell_type": "code",
   "execution_count": 38,
   "metadata": {
    "ExecuteTime": {
     "end_time": "2020-11-23T11:16:02.109681Z",
     "start_time": "2020-11-23T11:16:02.098673Z"
    }
   },
   "outputs": [
    {
     "data": {
      "text/plain": [
       "[[10, 20], [30, 40]]"
      ]
     },
     "execution_count": 38,
     "metadata": {},
     "output_type": "execute_result"
    }
   ],
   "source": [
    "import copy\n",
    "\n",
    "a = [[10, 20], [30, 40]]\n",
    "b = copy.deepcopy(a)\n",
    "b[0][0] = 500\n",
    "a"
   ]
  },
  {
   "cell_type": "code",
   "execution_count": 39,
   "metadata": {
    "ExecuteTime": {
     "end_time": "2020-11-23T11:16:05.191934Z",
     "start_time": "2020-11-23T11:16:05.185955Z"
    }
   },
   "outputs": [
    {
     "data": {
      "text/plain": [
       "[[500, 20], [30, 40]]"
      ]
     },
     "execution_count": 39,
     "metadata": {},
     "output_type": "execute_result"
    }
   ],
   "source": [
    "b"
   ]
  },
  {
   "cell_type": "markdown",
   "metadata": {},
   "source": [
    "`copy.deepcopy` 함수는 중첩된 리스트(튜플)에 들어있는 모든 리스트(튜플)를 복사하는 깊은 복사(deep copy)를 해준다.\n",
    "\n",
    "어렵다면 일단 2차원 리스트는 세로, 가로 순으로 접근한다는 점만 기억하자!"
   ]
  },
  {
   "cell_type": "markdown",
   "metadata": {},
   "source": [
    "## 퀴즈"
   ]
  },
  {
   "cell_type": "code",
   "execution_count": 43,
   "metadata": {
    "ExecuteTime": {
     "end_time": "2020-11-23T11:21:32.297713Z",
     "start_time": "2020-11-23T11:21:32.289735Z"
    }
   },
   "outputs": [
    {
     "data": {
      "text/plain": [
       "[[[0], [0], [0]], [[0], [0], [0]], [[0], [0], [0]]]"
      ]
     },
     "execution_count": 43,
     "metadata": {},
     "output_type": "execute_result"
    }
   ],
   "source": [
    "[[[0] for j in range(3)] for i in range(3)]"
   ]
  },
  {
   "cell_type": "code",
   "execution_count": 44,
   "metadata": {
    "ExecuteTime": {
     "end_time": "2020-11-23T11:21:44.649725Z",
     "start_time": "2020-11-23T11:21:44.634732Z"
    }
   },
   "outputs": [
    {
     "data": {
      "text/plain": [
       "[[0, 0, 0], [0, 0, 0], [0, 0, 0]]"
      ]
     },
     "execution_count": 44,
     "metadata": {},
     "output_type": "execute_result"
    }
   ],
   "source": [
    "[[0 for j in range(3)] for i in range(3)]"
   ]
  },
  {
   "cell_type": "code",
   "execution_count": 42,
   "metadata": {
    "ExecuteTime": {
     "end_time": "2020-11-23T11:21:27.700358Z",
     "start_time": "2020-11-23T11:21:27.691382Z"
    }
   },
   "outputs": [
    {
     "data": {
      "text/plain": [
       "[[0, 0, 0], [0, 0, 0], [0, 0, 0]]"
      ]
     },
     "execution_count": 42,
     "metadata": {},
     "output_type": "execute_result"
    }
   ],
   "source": [
    "[[0, 0, 0] for i in range(3)]"
   ]
  },
  {
   "cell_type": "code",
   "execution_count": 45,
   "metadata": {
    "ExecuteTime": {
     "end_time": "2020-11-23T11:21:58.369867Z",
     "start_time": "2020-11-23T11:21:58.354836Z"
    }
   },
   "outputs": [
    {
     "data": {
      "text/plain": [
       "[[0, 0, 0, 0, 0, 0, 0, 0, 0]]"
      ]
     },
     "execution_count": 45,
     "metadata": {},
     "output_type": "execute_result"
    }
   ],
   "source": [
    "[[0, 0, 0] * 3]"
   ]
  },
  {
   "cell_type": "markdown",
   "metadata": {},
   "source": [
    "### 연습문제: 3차원 리스트 만들기\n",
    "\n",
    "```python\n",
    "a = [                                                                 ]\n",
    " \n",
    "print(a)\n",
    "```\n",
    "\n",
    "[[[0, 0, 0], [0, 0, 0], [0, 0, 0], [0, 0, 0]], [[0, 0, 0], [0, 0, 0], [0, 0, 0], [0, 0, 0]]]"
   ]
  },
  {
   "cell_type": "code",
   "execution_count": 51,
   "metadata": {
    "ExecuteTime": {
     "end_time": "2020-11-23T11:24:53.507247Z",
     "start_time": "2020-11-23T11:24:53.498266Z"
    },
    "scrolled": true
   },
   "outputs": [
    {
     "data": {
      "text/plain": [
       "[[[0, 0, 0], [0, 0, 0], [0, 0, 0], [0, 0, 0]],\n",
       " [[0, 0, 0], [0, 0, 0], [0, 0, 0], [0, 0, 0]]]"
      ]
     },
     "execution_count": 51,
     "metadata": {},
     "output_type": "execute_result"
    }
   ],
   "source": [
    "[[[0, 0, 0], [0, 0, 0], [0, 0, 0], [0, 0, 0]], [[0, 0, 0], [0, 0, 0], [0, 0, 0], [0, 0, 0]]]"
   ]
  },
  {
   "cell_type": "code",
   "execution_count": 46,
   "metadata": {
    "ExecuteTime": {
     "end_time": "2020-11-23T11:23:34.322169Z",
     "start_time": "2020-11-23T11:23:34.307207Z"
    }
   },
   "outputs": [
    {
     "name": "stdout",
     "output_type": "stream",
     "text": [
      "[[[0, 0, 0],\n",
      "  [0, 0, 0],\n",
      "  [0, 0, 0],\n",
      "  [0, 0, 0]],\n",
      " [[0, 0, 0],\n",
      "  [0, 0, 0],\n",
      "  [0, 0, 0],\n",
      "  [0, 0, 0]]]\n"
     ]
    }
   ],
   "source": [
    "pprint([[[0, 0, 0], [0, 0, 0], [0, 0, 0], [0, 0, 0]], [[0, 0, 0], [0, 0, 0], [0, 0, 0], [0, 0, 0]]], width=20)"
   ]
  },
  {
   "cell_type": "code",
   "execution_count": 50,
   "metadata": {
    "ExecuteTime": {
     "end_time": "2020-11-23T11:24:40.580902Z",
     "start_time": "2020-11-23T11:24:40.562914Z"
    }
   },
   "outputs": [
    {
     "data": {
      "text/plain": [
       "[[[0, 0, 0], [0, 0, 0], [0, 0, 0], [0, 0, 0]],\n",
       " [[0, 0, 0], [0, 0, 0], [0, 0, 0], [0, 0, 0]]]"
      ]
     },
     "execution_count": 50,
     "metadata": {},
     "output_type": "execute_result"
    }
   ],
   "source": [
    "[[[0 for i in range(3)] for i in range(4)] for i in range(2)]"
   ]
  },
  {
   "cell_type": "markdown",
   "metadata": {},
   "source": [
    "#### 정답!"
   ]
  },
  {
   "cell_type": "code",
   "execution_count": null,
   "metadata": {},
   "outputs": [],
   "source": [
    "[[[0 for col in range(3)] for row in range(4)] for depth in range(2)]"
   ]
  },
  {
   "cell_type": "markdown",
   "metadata": {},
   "source": [
    "3차원 리스트는 다음과 같이 높이×가로×세로 형태로 이루어져 있다.\n",
    "\n",
    "* 리스트 = [[[값, 값], [값, 값]], [[값, 값], [값, 값]], [[값, 값], [값, 값]]]\n",
    "* 리스트[높이인덱스][세로인덱스][가로인덱스]\n",
    "* 리스트[높이인덱스][세로인덱스][가로인덱스] = 값"
   ]
  },
  {
   "cell_type": "code",
   "execution_count": null,
   "metadata": {},
   "outputs": [],
   "source": []
  },
  {
   "cell_type": "code",
   "execution_count": null,
   "metadata": {},
   "outputs": [],
   "source": []
  },
  {
   "cell_type": "code",
   "execution_count": null,
   "metadata": {},
   "outputs": [],
   "source": []
  },
  {
   "cell_type": "code",
   "execution_count": null,
   "metadata": {},
   "outputs": [],
   "source": []
  },
  {
   "cell_type": "code",
   "execution_count": null,
   "metadata": {},
   "outputs": [],
   "source": []
  },
  {
   "cell_type": "code",
   "execution_count": null,
   "metadata": {},
   "outputs": [],
   "source": []
  },
  {
   "cell_type": "code",
   "execution_count": null,
   "metadata": {},
   "outputs": [],
   "source": []
  },
  {
   "cell_type": "code",
   "execution_count": null,
   "metadata": {},
   "outputs": [],
   "source": []
  },
  {
   "cell_type": "code",
   "execution_count": null,
   "metadata": {},
   "outputs": [],
   "source": []
  }
 ],
 "metadata": {
  "kernelspec": {
   "display_name": "Python 3",
   "language": "python",
   "name": "python3"
  },
  "language_info": {
   "codemirror_mode": {
    "name": "ipython",
    "version": 3
   },
   "file_extension": ".py",
   "mimetype": "text/x-python",
   "name": "python",
   "nbconvert_exporter": "python",
   "pygments_lexer": "ipython3",
   "version": "3.7.6"
  },
  "toc": {
   "base_numbering": 1,
   "nav_menu": {},
   "number_sections": true,
   "sideBar": true,
   "skip_h1_title": true,
   "title_cell": "Table of Contents",
   "title_sidebar": "Contents",
   "toc_cell": true,
   "toc_position": {
    "height": "calc(100% - 180px)",
    "left": "10px",
    "top": "150px",
    "width": "305px"
   },
   "toc_section_display": true,
   "toc_window_display": true
  }
 },
 "nbformat": 4,
 "nbformat_minor": 4
}
