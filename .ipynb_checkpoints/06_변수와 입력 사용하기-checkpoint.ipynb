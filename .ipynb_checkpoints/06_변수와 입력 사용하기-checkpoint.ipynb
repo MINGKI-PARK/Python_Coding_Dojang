{
 "cells": [
  {
   "cell_type": "markdown",
   "metadata": {},
   "source": [
    "# 06_변수와 입력 사용하기\n",
    "* 2020.11.06"
   ]
  },
  {
   "cell_type": "markdown",
   "metadata": {
    "toc": true
   },
   "source": [
    "<h1>Table of Contents<span class=\"tocSkip\"></span></h1>\n",
    "<div class=\"toc\"><ul class=\"toc-item\"><li><span><a href=\"#변수-만들기\" data-toc-modified-id=\"변수-만들기-1\"><span class=\"toc-item-num\">1&nbsp;&nbsp;</span>변수 만들기</a></span></li><li><span><a href=\"#변수로-계산하기\" data-toc-modified-id=\"변수로-계산하기-2\"><span class=\"toc-item-num\">2&nbsp;&nbsp;</span>변수로 계산하기</a></span></li><li><span><a href=\"#입력-값을-변수에-저장하기\" data-toc-modified-id=\"입력-값을-변수에-저장하기-3\"><span class=\"toc-item-num\">3&nbsp;&nbsp;</span>입력 값을 변수에 저장하기</a></span></li><li><span><a href=\"#입력-값을-변수-두-개에-저장하기\" data-toc-modified-id=\"입력-값을-변수-두-개에-저장하기-4\"><span class=\"toc-item-num\">4&nbsp;&nbsp;</span>입력 값을 변수 두 개에 저장하기</a></span><ul class=\"toc-item\"><li><span><a href=\"#두-숫자의-합-구하기\" data-toc-modified-id=\"두-숫자의-합-구하기-4.1\"><span class=\"toc-item-num\">4.1&nbsp;&nbsp;</span>두 숫자의 합 구하기</a></span></li><li><span><a href=\"#입력-값을-정수로-변환하기\" data-toc-modified-id=\"입력-값을-정수로-변환하기-4.2\"><span class=\"toc-item-num\">4.2&nbsp;&nbsp;</span>입력 값을 정수로 변환하기</a></span></li><li><span><a href=\"#map을-사용해서-정수로-변환하기\" data-toc-modified-id=\"map을-사용해서-정수로-변환하기-4.3\"><span class=\"toc-item-num\">4.3&nbsp;&nbsp;</span>map을 사용해서 정수로 변환하기</a></span></li><li><span><a href=\"#입력받은-값을-콤마를-기준으로-분리하기\" data-toc-modified-id=\"입력받은-값을-콤마를-기준으로-분리하기-4.4\"><span class=\"toc-item-num\">4.4&nbsp;&nbsp;</span>입력받은 값을 콤마를 기준으로 분리하기</a></span></li></ul></li></ul></div>"
   ]
  },
  {
   "cell_type": "markdown",
   "metadata": {},
   "source": [
    "## 변수 만들기"
   ]
  },
  {
   "cell_type": "markdown",
   "metadata": {},
   "source": [
    "> 변수 삭제하기\n",
    "\n",
    "변수 사가제는 `del`을 사용한다."
   ]
  },
  {
   "cell_type": "code",
   "execution_count": 1,
   "metadata": {
    "ExecuteTime": {
     "end_time": "2020-11-06T08:53:35.573429Z",
     "start_time": "2020-11-06T08:53:35.494692Z"
    }
   },
   "outputs": [
    {
     "ename": "NameError",
     "evalue": "name 'x' is not defined",
     "output_type": "error",
     "traceback": [
      "\u001b[1;31m---------------------------------------------------------------------------\u001b[0m",
      "\u001b[1;31mNameError\u001b[0m                                 Traceback (most recent call last)",
      "\u001b[1;32m<ipython-input-1-93ed282bee9f>\u001b[0m in \u001b[0;36m<module>\u001b[1;34m\u001b[0m\n\u001b[0;32m      3\u001b[0m \u001b[0mx\u001b[0m \u001b[1;33m=\u001b[0m \u001b[1;36m10\u001b[0m\u001b[1;33m\u001b[0m\u001b[1;33m\u001b[0m\u001b[0m\n\u001b[0;32m      4\u001b[0m \u001b[1;32mdel\u001b[0m \u001b[0mx\u001b[0m\u001b[1;33m\u001b[0m\u001b[1;33m\u001b[0m\u001b[0m\n\u001b[1;32m----> 5\u001b[1;33m \u001b[0mx\u001b[0m\u001b[1;33m\u001b[0m\u001b[1;33m\u001b[0m\u001b[0m\n\u001b[0m",
      "\u001b[1;31mNameError\u001b[0m: name 'x' is not defined"
     ]
    }
   ],
   "source": [
    "# del 변수\n",
    "\n",
    "x = 10\n",
    "del x\n",
    "x"
   ]
  },
  {
   "cell_type": "markdown",
   "metadata": {},
   "source": [
    "> 빈 변수 만들기\n",
    "\n",
    "변수를 만들 때 x = 10과 같이 할당할 값을 지정해주었다. 값이 들어있지 않은 빈 변수를 만들 때는 None을 할당해주면 된다."
   ]
  },
  {
   "cell_type": "code",
   "execution_count": 2,
   "metadata": {
    "ExecuteTime": {
     "end_time": "2020-11-06T08:54:43.369708Z",
     "start_time": "2020-11-06T08:54:43.356329Z"
    }
   },
   "outputs": [
    {
     "name": "stdout",
     "output_type": "stream",
     "text": [
      "None\n"
     ]
    }
   ],
   "source": [
    "x = None\n",
    "print(x)"
   ]
  },
  {
   "cell_type": "code",
   "execution_count": 3,
   "metadata": {
    "ExecuteTime": {
     "end_time": "2020-11-06T08:54:50.603693Z",
     "start_time": "2020-11-06T08:54:50.587736Z"
    }
   },
   "outputs": [],
   "source": [
    "x # 아무것도 출력되지 않음"
   ]
  },
  {
   "cell_type": "markdown",
   "metadata": {},
   "source": [
    "## 변수로 계산하기"
   ]
  },
  {
   "cell_type": "markdown",
   "metadata": {},
   "source": [
    "> 부호 붙이기\n",
    "\n",
    "값이나 변수 앞에 양수, 음수 부호를 붙이면 된다."
   ]
  },
  {
   "cell_type": "code",
   "execution_count": 4,
   "metadata": {
    "ExecuteTime": {
     "end_time": "2020-11-06T10:11:46.527216Z",
     "start_time": "2020-11-06T10:11:46.510298Z"
    }
   },
   "outputs": [
    {
     "data": {
      "text/plain": [
       "-10"
      ]
     },
     "execution_count": 4,
     "metadata": {},
     "output_type": "execute_result"
    }
   ],
   "source": [
    "x = -10\n",
    "+x"
   ]
  },
  {
   "cell_type": "code",
   "execution_count": 5,
   "metadata": {
    "ExecuteTime": {
     "end_time": "2020-11-06T10:11:50.548305Z",
     "start_time": "2020-11-06T10:11:50.529648Z"
    }
   },
   "outputs": [
    {
     "data": {
      "text/plain": [
       "10"
      ]
     },
     "execution_count": 5,
     "metadata": {},
     "output_type": "execute_result"
    }
   ],
   "source": [
    "-x"
   ]
  },
  {
   "cell_type": "markdown",
   "metadata": {},
   "source": [
    "## 입력 값을 변수에 저장하기"
   ]
  },
  {
   "cell_type": "markdown",
   "metadata": {},
   "source": [
    "* input()"
   ]
  },
  {
   "cell_type": "markdown",
   "metadata": {},
   "source": [
    "## 입력 값을 변수 두 개에 저장하기"
   ]
  },
  {
   "cell_type": "markdown",
   "metadata": {},
   "source": [
    "* 변수1, 변수2 = input().split()\n",
    "* 변수1, 변수2 = input().split('기준문자열')\n",
    "* 변수1, 변수2 = input('문자열').split()\n",
    "* 변수1, 변수2 = input('문자열').split('기준문자열')"
   ]
  },
  {
   "cell_type": "code",
   "execution_count": 8,
   "metadata": {
    "ExecuteTime": {
     "end_time": "2020-11-06T10:21:14.886699Z",
     "start_time": "2020-11-06T10:21:10.016843Z"
    }
   },
   "outputs": [
    {
     "name": "stdout",
     "output_type": "stream",
     "text": [
      "문자열 두 개를 입력하세요 : Hello Python\n",
      "Hello\n",
      "Python\n"
     ]
    }
   ],
   "source": [
    "a, b = input('문자열 두 개를 입력하세요 : ').split() # 입력받은 값을 공백을 기준으로 분리\n",
    "\n",
    "print(a)\n",
    "print(b)"
   ]
  },
  {
   "cell_type": "markdown",
   "metadata": {},
   "source": [
    "### 두 숫자의 합 구하기"
   ]
  },
  {
   "cell_type": "markdown",
   "metadata": {},
   "source": [
    "숫자 두 개를 입력받아서 두 숫자의 합 구해보기"
   ]
  },
  {
   "cell_type": "code",
   "execution_count": 9,
   "metadata": {
    "ExecuteTime": {
     "end_time": "2020-11-06T10:22:46.614807Z",
     "start_time": "2020-11-06T10:22:43.833712Z"
    }
   },
   "outputs": [
    {
     "name": "stdout",
     "output_type": "stream",
     "text": [
      "숫자 두 개를 입력하세요 : 10 20\n",
      "1020\n"
     ]
    }
   ],
   "source": [
    "a, b = input('숫자 두 개를 입력하세요 : ').split() # 입력받은 값을 공백을 기준으로 분리\n",
    "\n",
    "print(a + b)"
   ]
  },
  {
   "cell_type": "markdown",
   "metadata": {},
   "source": [
    "### 입력 값을 정수로 변환하기"
   ]
  },
  {
   "cell_type": "markdown",
   "metadata": {},
   "source": [
    "* 10 + 20의 결과가 30이 나오게 하려면 변수 a와 b를 정수로 변환해주어야 한다."
   ]
  },
  {
   "cell_type": "code",
   "execution_count": 11,
   "metadata": {
    "ExecuteTime": {
     "end_time": "2020-11-06T10:24:22.747782Z",
     "start_time": "2020-11-06T10:24:20.488929Z"
    }
   },
   "outputs": [
    {
     "name": "stdout",
     "output_type": "stream",
     "text": [
      "숫자 두 개를 입력하세요 : 10 20\n",
      "30\n"
     ]
    }
   ],
   "source": [
    "a, b = input('숫자 두 개를 입력하세요 : ').split() # 입력받은 값을 공백을 기준으로 분리\n",
    "a = int(a)\n",
    "b = int(b)\n",
    "\n",
    "print(a + b)"
   ]
  },
  {
   "cell_type": "code",
   "execution_count": 12,
   "metadata": {
    "ExecuteTime": {
     "end_time": "2020-11-06T10:24:43.915797Z",
     "start_time": "2020-11-06T10:24:43.905869Z"
    }
   },
   "outputs": [
    {
     "name": "stdout",
     "output_type": "stream",
     "text": [
      "30\n"
     ]
    }
   ],
   "source": [
    "print(int(a) + int(b)) # 요렇게도 가능!"
   ]
  },
  {
   "cell_type": "markdown",
   "metadata": {},
   "source": [
    "### map을 사용해서 정수로 변환하기"
   ]
  },
  {
   "cell_type": "markdown",
   "metadata": {},
   "source": [
    "map에 int와 input().split()을 넣으면 한방에 해결!\n",
    "\n",
    "* 변수1, 변수2 = map(int, input().split())\n",
    "* 변수1, 변수2 = map(int, input().split('기준문자열'))\n",
    "* 변수1, 변수2 = map(int, input('문자열').split())\n",
    "* 변수1, 변수2 = map(int, input('문자열').split('기준문자열'))"
   ]
  },
  {
   "cell_type": "code",
   "execution_count": 13,
   "metadata": {
    "ExecuteTime": {
     "end_time": "2020-11-06T10:27:26.041521Z",
     "start_time": "2020-11-06T10:27:24.125584Z"
    }
   },
   "outputs": [
    {
     "name": "stdout",
     "output_type": "stream",
     "text": [
      "숫자 두 개를 입력하세요 : 10 20\n",
      "30\n"
     ]
    }
   ],
   "source": [
    "a, b = map(int, input('숫자 두 개를 입력하세요 : ').split())\n",
    "\n",
    "print(a + b)"
   ]
  },
  {
   "cell_type": "markdown",
   "metadata": {},
   "source": [
    "### 입력받은 값을 콤마를 기준으로 분리하기"
   ]
  },
  {
   "cell_type": "code",
   "execution_count": 14,
   "metadata": {
    "ExecuteTime": {
     "end_time": "2020-11-06T10:28:33.142964Z",
     "start_time": "2020-11-06T10:28:31.657806Z"
    }
   },
   "outputs": [
    {
     "name": "stdout",
     "output_type": "stream",
     "text": [
      "숫자 두 개를 입력하세요 : 10,20\n",
      "30\n"
     ]
    }
   ],
   "source": [
    "a, b = map(int, input('숫자 두 개를 입력하세요 : ').split(','))\n",
    "\n",
    "print(a + b)"
   ]
  },
  {
   "cell_type": "code",
   "execution_count": 18,
   "metadata": {
    "ExecuteTime": {
     "end_time": "2020-11-06T10:39:25.485962Z",
     "start_time": "2020-11-06T10:39:19.272373Z"
    }
   },
   "outputs": [
    {
     "name": "stdout",
     "output_type": "stream",
     "text": [
      "국어, 영어, 수학, 과학의 점수를 순서대로 입력해주세요 : 32 53 22 95\n",
      "50\n"
     ]
    }
   ],
   "source": [
    "a, b, c, d = map(int, input('국어, 영어, 수학, 과학의 점수를 순서대로 입력해주세요 : ').split())\n",
    "\n",
    "print((a+b+c+d)//4)"
   ]
  }
 ],
 "metadata": {
  "kernelspec": {
   "display_name": "Python 3",
   "language": "python",
   "name": "python3"
  },
  "language_info": {
   "codemirror_mode": {
    "name": "ipython",
    "version": 3
   },
   "file_extension": ".py",
   "mimetype": "text/x-python",
   "name": "python",
   "nbconvert_exporter": "python",
   "pygments_lexer": "ipython3",
   "version": "3.7.6"
  },
  "toc": {
   "base_numbering": 1,
   "nav_menu": {},
   "number_sections": true,
   "sideBar": true,
   "skip_h1_title": true,
   "title_cell": "Table of Contents",
   "title_sidebar": "Contents",
   "toc_cell": true,
   "toc_position": {
    "height": "calc(100% - 180px)",
    "left": "10px",
    "top": "150px",
    "width": "314px"
   },
   "toc_section_display": true,
   "toc_window_display": true
  }
 },
 "nbformat": 4,
 "nbformat_minor": 4
}
