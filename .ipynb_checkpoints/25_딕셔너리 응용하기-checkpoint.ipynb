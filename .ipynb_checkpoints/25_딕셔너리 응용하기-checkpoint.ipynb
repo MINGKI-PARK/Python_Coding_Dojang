{
 "cells": [
  {
   "cell_type": "markdown",
   "metadata": {},
   "source": [
    "# 25_딕셔너리 응용하기"
   ]
  },
  {
   "cell_type": "markdown",
   "metadata": {
    "toc": true
   },
   "source": [
    "<h1>Table of Contents<span class=\"tocSkip\"></span></h1>\n",
    "<div class=\"toc\"><ul class=\"toc-item\"><li><span><a href=\"#딕셔너리-조작하기\" data-toc-modified-id=\"딕셔너리-조작하기-1\"><span class=\"toc-item-num\">1&nbsp;&nbsp;</span>딕셔너리 조작하기</a></span><ul class=\"toc-item\"><li><span><a href=\"#딕셔너리에-키-값-쌍-추가하기\" data-toc-modified-id=\"딕셔너리에-키-값-쌍-추가하기-1.1\"><span class=\"toc-item-num\">1.1&nbsp;&nbsp;</span>딕셔너리에 키-값 쌍 추가하기</a></span></li><li><span><a href=\"#딕셔너리에-키와-기본값-저장하기\" data-toc-modified-id=\"딕셔너리에-키와-기본값-저장하기-1.2\"><span class=\"toc-item-num\">1.2&nbsp;&nbsp;</span>딕셔너리에 키와 기본값 저장하기</a></span></li><li><span><a href=\"#딕셔너리에서-키의-값-수정하기\" data-toc-modified-id=\"딕셔너리에서-키의-값-수정하기-1.3\"><span class=\"toc-item-num\">1.3&nbsp;&nbsp;</span>딕셔너리에서 키의 값 수정하기</a></span></li><li><span><a href=\"#딕셔너리에서-키-값-쌍-삭제하기\" data-toc-modified-id=\"딕셔너리에서-키-값-쌍-삭제하기-1.4\"><span class=\"toc-item-num\">1.4&nbsp;&nbsp;</span>딕셔너리에서 키-값 쌍 삭제하기</a></span></li><li><span><a href=\"#딕셔너리에서-임의의-키-값-쌍-삭제하기\" data-toc-modified-id=\"딕셔너리에서-임의의-키-값-쌍-삭제하기-1.5\"><span class=\"toc-item-num\">1.5&nbsp;&nbsp;</span>딕셔너리에서 임의의 키-값 쌍 삭제하기</a></span></li><li><span><a href=\"#딕셔너리의-모든-키-값-쌍을-삭제하기\" data-toc-modified-id=\"딕셔너리의-모든-키-값-쌍을-삭제하기-1.6\"><span class=\"toc-item-num\">1.6&nbsp;&nbsp;</span>딕셔너리의 모든 키-값 쌍을 삭제하기</a></span></li><li><span><a href=\"#딕셔너리에서-키의-값을-가져오기\" data-toc-modified-id=\"딕셔너리에서-키의-값을-가져오기-1.7\"><span class=\"toc-item-num\">1.7&nbsp;&nbsp;</span>딕셔너리에서 키의 값을 가져오기</a></span></li><li><span><a href=\"#딕셔너리에서-키-값-쌍을-모두-가져오기\" data-toc-modified-id=\"딕셔너리에서-키-값-쌍을-모두-가져오기-1.8\"><span class=\"toc-item-num\">1.8&nbsp;&nbsp;</span>딕셔너리에서 키-값 쌍을 모두 가져오기</a></span></li><li><span><a href=\"#리스트와-튜플로-딕셔너리-만들기\" data-toc-modified-id=\"리스트와-튜플로-딕셔너리-만들기-1.9\"><span class=\"toc-item-num\">1.9&nbsp;&nbsp;</span>리스트와 튜플로 딕셔너리 만들기</a></span></li></ul></li><li><span><a href=\"#반복문으로-딕셔너리의-키-값-쌍을-모두-출력하기\" data-toc-modified-id=\"반복문으로-딕셔너리의-키-값-쌍을-모두-출력하기-2\"><span class=\"toc-item-num\">2&nbsp;&nbsp;</span>반복문으로 딕셔너리의 키-값 쌍을 모두 출력하기</a></span><ul class=\"toc-item\"><li><span><a href=\"#딕셔너리의-키만-출력하기\" data-toc-modified-id=\"딕셔너리의-키만-출력하기-2.1\"><span class=\"toc-item-num\">2.1&nbsp;&nbsp;</span>딕셔너리의 키만 출력하기</a></span></li><li><span><a href=\"#딕셔너리의-값만-출력하기\" data-toc-modified-id=\"딕셔너리의-값만-출력하기-2.2\"><span class=\"toc-item-num\">2.2&nbsp;&nbsp;</span>딕셔너리의 값만 출력하기</a></span></li></ul></li><li><span><a href=\"#딕셔너리-표현식-사용하기\" data-toc-modified-id=\"딕셔너리-표현식-사용하기-3\"><span class=\"toc-item-num\">3&nbsp;&nbsp;</span>딕셔너리 표현식 사용하기</a></span><ul class=\"toc-item\"><li><span><a href=\"#딕셔너리-표현식에서-if-조건문-사용하기\" data-toc-modified-id=\"딕셔너리-표현식에서-if-조건문-사용하기-3.1\"><span class=\"toc-item-num\">3.1&nbsp;&nbsp;</span>딕셔너리 표현식에서 if 조건문 사용하기</a></span></li></ul></li><li><span><a href=\"#딕셔너리-안에서-딕셔너리-사용하기\" data-toc-modified-id=\"딕셔너리-안에서-딕셔너리-사용하기-4\"><span class=\"toc-item-num\">4&nbsp;&nbsp;</span>딕셔너리 안에서 딕셔너리 사용하기</a></span></li><li><span><a href=\"#딕셔너리의-할당과-복사\" data-toc-modified-id=\"딕셔너리의-할당과-복사-5\"><span class=\"toc-item-num\">5&nbsp;&nbsp;</span>딕셔너리의 할당과 복사</a></span><ul class=\"toc-item\"><li><span><a href=\"#중첩-딕셔너리의-할당과-복사-알아보기\" data-toc-modified-id=\"중첩-딕셔너리의-할당과-복사-알아보기-5.1\"><span class=\"toc-item-num\">5.1&nbsp;&nbsp;</span>중첩 딕셔너리의 할당과 복사 알아보기</a></span></li></ul></li><li><span><a href=\"#퀴즈\" data-toc-modified-id=\"퀴즈-6\"><span class=\"toc-item-num\">6&nbsp;&nbsp;</span>퀴즈</a></span><ul class=\"toc-item\"><li><span><a href=\"#연습문제-:-평균-점수-구하기\" data-toc-modified-id=\"연습문제-:-평균-점수-구하기-6.1\"><span class=\"toc-item-num\">6.1&nbsp;&nbsp;</span>연습문제 : 평균 점수 구하기</a></span></li></ul></li></ul></div>"
   ]
  },
  {
   "cell_type": "markdown",
   "metadata": {},
   "source": [
    "## 딕셔너리 조작하기"
   ]
  },
  {
   "cell_type": "markdown",
   "metadata": {},
   "source": [
    "### 딕셔너리에 키-값 쌍 추가하기\n",
    "\n",
    "* setdefault : 키-값 쌍 추가\n",
    "* update : 키의 값 수정, 키가 없으면 키-값 쌍 추가"
   ]
  },
  {
   "cell_type": "markdown",
   "metadata": {},
   "source": [
    "### 딕셔너리에 키와 기본값 저장하기\n",
    "\n",
    "`setdefault(키)`는 딕셔너리에 키-값 쌍을 추가한다. setdefault에 키만 지정하면 값에 None을 저장한다."
   ]
  },
  {
   "cell_type": "code",
   "execution_count": 1,
   "metadata": {
    "ExecuteTime": {
     "end_time": "2020-11-25T11:01:55.615005Z",
     "start_time": "2020-11-25T11:01:55.591122Z"
    }
   },
   "outputs": [
    {
     "data": {
      "text/plain": [
       "{'a': 10, 'b': 20, 'c': 30, 'd': 40, 'e': None}"
      ]
     },
     "execution_count": 1,
     "metadata": {},
     "output_type": "execute_result"
    }
   ],
   "source": [
    "x = {'a': 10, 'b': 20, 'c': 30, 'd': 40}\n",
    "x.setdefault('e')\n",
    "x"
   ]
  },
  {
   "cell_type": "markdown",
   "metadata": {},
   "source": [
    "`setdefault(키, 기본값)`처럼 키와 기본값을 지정하면 값에 기본값을 저장한 뒤 해당 값을 반환한다."
   ]
  },
  {
   "cell_type": "code",
   "execution_count": 2,
   "metadata": {
    "ExecuteTime": {
     "end_time": "2020-11-25T11:03:03.788482Z",
     "start_time": "2020-11-25T11:03:03.771562Z"
    }
   },
   "outputs": [
    {
     "data": {
      "text/plain": [
       "{'a': 10, 'b': 20, 'c': 30, 'd': 40, 'e': None, 'f': 100}"
      ]
     },
     "execution_count": 2,
     "metadata": {},
     "output_type": "execute_result"
    }
   ],
   "source": [
    "x.setdefault('f', 100)\n",
    "x"
   ]
  },
  {
   "cell_type": "markdown",
   "metadata": {},
   "source": [
    "### 딕셔너리에서 키의 값 수정하기\n",
    "\n",
    "* update()\n",
    "\n",
    "`update(키=값)`은 딕셔너리에서 키의 값을 수정한다. 예를 들어 딕셔너리가 x = {'a': 10}이라면 x.update(a=90)과 같이 키에서 작은따옴표 또는 큰따옴표를 빼고 키 이름과 값을 지정한다."
   ]
  },
  {
   "cell_type": "code",
   "execution_count": 4,
   "metadata": {
    "ExecuteTime": {
     "end_time": "2020-11-25T11:05:00.727075Z",
     "start_time": "2020-11-25T11:05:00.706913Z"
    }
   },
   "outputs": [
    {
     "data": {
      "text/plain": [
       "{'a': 90, 'b': 20, 'c': 30, 'd': 40}"
      ]
     },
     "execution_count": 4,
     "metadata": {},
     "output_type": "execute_result"
    }
   ],
   "source": [
    "x = {'a': 10, 'b': 20, 'c': 30, 'd': 40}\n",
    "x.update(a=90)\n",
    "x"
   ]
  },
  {
   "cell_type": "markdown",
   "metadata": {},
   "source": [
    "만약 딕셔너리에 키가 없으면 키-값 쌍을 추가한다. 딕셔너리 x에는 키 'e'가 없으므로 x.update(e=50)을 실행하면 'e' : 50을 추가한다."
   ]
  },
  {
   "cell_type": "code",
   "execution_count": 5,
   "metadata": {
    "ExecuteTime": {
     "end_time": "2020-11-25T11:06:18.126908Z",
     "start_time": "2020-11-25T11:06:18.115532Z"
    }
   },
   "outputs": [
    {
     "data": {
      "text/plain": [
       "{'a': 90, 'b': 20, 'c': 30, 'd': 40, 'e': 50}"
      ]
     },
     "execution_count": 5,
     "metadata": {},
     "output_type": "execute_result"
    }
   ],
   "source": [
    "x.update(e=50)\n",
    "x"
   ]
  },
  {
   "cell_type": "markdown",
   "metadata": {},
   "source": [
    "update는 키-값 쌍 여러 개를 콤마로 구분해서 넣어주면 값을 한꺼번에 수정할 수 있다. 이때도 키가 있으면 해당 키의 값을 수정하고 없으면 키-값 쌍을 추가한다."
   ]
  },
  {
   "cell_type": "code",
   "execution_count": 6,
   "metadata": {
    "ExecuteTime": {
     "end_time": "2020-11-25T11:09:00.309900Z",
     "start_time": "2020-11-25T11:09:00.291950Z"
    }
   },
   "outputs": [
    {
     "data": {
      "text/plain": [
       "{'a': 900, 'b': 20, 'c': 30, 'd': 40, 'e': 50, 'f': 60}"
      ]
     },
     "execution_count": 6,
     "metadata": {},
     "output_type": "execute_result"
    }
   ],
   "source": [
    "x.update(a=900, f=60)\n",
    "x"
   ]
  },
  {
   "cell_type": "markdown",
   "metadata": {},
   "source": [
    "`update(키=값)`은 키가 문자열일 때만 사용할 수 있다. 만약 키가 숫자일 경우에는 `update(딕셔너리)`처럼 딕셔너리를 넣어서 값을 수정할 수 있다."
   ]
  },
  {
   "cell_type": "code",
   "execution_count": 7,
   "metadata": {
    "ExecuteTime": {
     "end_time": "2020-11-25T11:11:48.183027Z",
     "start_time": "2020-11-25T11:11:48.164078Z"
    }
   },
   "outputs": [
    {
     "data": {
      "text/plain": [
       "{1: 'ONE', 2: 'two', 3: 'THREE'}"
      ]
     },
     "execution_count": 7,
     "metadata": {},
     "output_type": "execute_result"
    }
   ],
   "source": [
    "y = {1: 'one', 2: 'two'}\n",
    "y.update({1 : 'ONE', 3 : 'THREE'})\n",
    "y"
   ]
  },
  {
   "cell_type": "markdown",
   "metadata": {},
   "source": [
    "다른 방법으로는 리스트와 튜플을 이용하는 방법도 있다. update(리스트), update(튜플)은 리스트와 튜플로 값을 수정한다.\n",
    "\n",
    "여기서 리스트는 [[키1, 값1], [키2, 값2]] 형식으로 키와 값을 리스트로 만들고 이 리스트를 다시 리스트 안에 넣어서 키-값 쌍을 나열해준다.(튜플도 같은 형식)"
   ]
  },
  {
   "cell_type": "code",
   "execution_count": 8,
   "metadata": {
    "ExecuteTime": {
     "end_time": "2020-11-25T11:38:33.416366Z",
     "start_time": "2020-11-25T11:38:33.396422Z"
    }
   },
   "outputs": [
    {
     "data": {
      "text/plain": [
       "{1: 'ONE', 2: 'TWO', 3: 'THREE', 4: 'FOUR'}"
      ]
     },
     "execution_count": 8,
     "metadata": {},
     "output_type": "execute_result"
    }
   ],
   "source": [
    "y.update([[2, 'TWO'], [4, 'FOUR']])\n",
    "y"
   ]
  },
  {
   "cell_type": "markdown",
   "metadata": {},
   "source": [
    "특히 `update(반복가능한객체)`는 키-값 쌍으로 된 반복 가능한 객체로 값을 수정한다. 즉, 다음과 같이 키 리스트와 값 리스트를 묶은 zip 객체로 값을 수정할 수 있다."
   ]
  },
  {
   "cell_type": "code",
   "execution_count": 9,
   "metadata": {
    "ExecuteTime": {
     "end_time": "2020-11-25T11:42:24.240938Z",
     "start_time": "2020-11-25T11:42:24.227975Z"
    }
   },
   "outputs": [
    {
     "data": {
      "text/plain": [
       "{1: 'one', 2: 'two', 3: 'THREE', 4: 'FOUR'}"
      ]
     },
     "execution_count": 9,
     "metadata": {},
     "output_type": "execute_result"
    }
   ],
   "source": [
    "y.update(zip([1, 2], ['one', 'two']))\n",
    "y"
   ]
  },
  {
   "cell_type": "markdown",
   "metadata": {},
   "source": [
    "> setdefault와 update의 차이\n",
    "\n",
    "setdefault는 키-값 쌍 추가만 할 수 있고, 이미 들어있는 키의 값은 수정할 수 없다. 하지만 update는 키-값 쌍 추가와 값 수정이 모두 가능하다."
   ]
  },
  {
   "cell_type": "code",
   "execution_count": 10,
   "metadata": {
    "ExecuteTime": {
     "end_time": "2020-11-25T11:44:09.523885Z",
     "start_time": "2020-11-25T11:44:09.507930Z"
    }
   },
   "outputs": [
    {
     "data": {
      "text/plain": [
       "{'a': 10, 'b': 20, 'c': 30, 'd': 40}"
      ]
     },
     "execution_count": 10,
     "metadata": {},
     "output_type": "execute_result"
    }
   ],
   "source": [
    "x = {'a': 10, 'b': 20, 'c': 30, 'd': 40}\n",
    "x.setdefault('a', 90)\n",
    "x"
   ]
  },
  {
   "cell_type": "markdown",
   "metadata": {},
   "source": [
    "### 딕셔너리에서 키-값 쌍 삭제하기\n",
    "\n",
    "`pop(키)`는 딕셔너리에서 특정 키-값 쌍을 삭제한 뒤 삭제한 값을 반환한다."
   ]
  },
  {
   "cell_type": "code",
   "execution_count": 11,
   "metadata": {
    "ExecuteTime": {
     "end_time": "2020-11-25T11:45:34.713638Z",
     "start_time": "2020-11-25T11:45:34.693690Z"
    }
   },
   "outputs": [
    {
     "data": {
      "text/plain": [
       "10"
      ]
     },
     "execution_count": 11,
     "metadata": {},
     "output_type": "execute_result"
    }
   ],
   "source": [
    "x = {'a': 10, 'b': 20, 'c': 30, 'd': 40}\n",
    "x.pop('a')"
   ]
  },
  {
   "cell_type": "code",
   "execution_count": 12,
   "metadata": {
    "ExecuteTime": {
     "end_time": "2020-11-25T11:45:36.536196Z",
     "start_time": "2020-11-25T11:45:36.524227Z"
    }
   },
   "outputs": [
    {
     "data": {
      "text/plain": [
       "{'b': 20, 'c': 30, 'd': 40}"
      ]
     },
     "execution_count": 12,
     "metadata": {},
     "output_type": "execute_result"
    }
   ],
   "source": [
    "x"
   ]
  },
  {
   "cell_type": "markdown",
   "metadata": {},
   "source": [
    "`pop(키, 기본값)`처럼 기본값을 지정하면 딕셔너리에 키가 있을 때는 해당 키-값 쌍을 삭제한 뒤 삭제한 값을 반환하지만 키가 없을 때는 기본값만 반환한다."
   ]
  },
  {
   "cell_type": "code",
   "execution_count": 15,
   "metadata": {
    "ExecuteTime": {
     "end_time": "2020-11-25T11:46:45.050165Z",
     "start_time": "2020-11-25T11:46:45.036165Z"
    }
   },
   "outputs": [
    {
     "data": {
      "text/plain": [
       "0"
      ]
     },
     "execution_count": 15,
     "metadata": {},
     "output_type": "execute_result"
    }
   ],
   "source": [
    "x.pop('z', 0)"
   ]
  },
  {
   "cell_type": "markdown",
   "metadata": {},
   "source": [
    "pop 대신 `del`로 특정 키-값 쌍을 삭제할 수도 있다. 이때는 [ ]에 키를 지정하여 del을 사용한다."
   ]
  },
  {
   "cell_type": "code",
   "execution_count": 16,
   "metadata": {
    "ExecuteTime": {
     "end_time": "2020-11-25T11:47:32.997378Z",
     "start_time": "2020-11-25T11:47:32.989400Z"
    }
   },
   "outputs": [
    {
     "data": {
      "text/plain": [
       "{'b': 20, 'c': 30, 'd': 40}"
      ]
     },
     "execution_count": 16,
     "metadata": {},
     "output_type": "execute_result"
    }
   ],
   "source": [
    "x = {'a': 10, 'b': 20, 'c': 30, 'd': 40}\n",
    "del x['a']\n",
    "x"
   ]
  },
  {
   "cell_type": "markdown",
   "metadata": {
    "ExecuteTime": {
     "end_time": "2020-11-25T11:48:14.562054Z",
     "start_time": "2020-11-25T11:48:14.549087Z"
    }
   },
   "source": [
    "### 딕셔너리에서 임의의 키-값 쌍 삭제하기\n",
    "\n",
    "`popitem()`은 딕셔너리에서 임의의 키-값 쌍을 삭제한 뒤 삭제한 키-값 쌍을 튜플로 반환한다.\n",
    "\n",
    "파이썬 3.6 이상에서는 마지막 키-값 쌍을 삭제한다."
   ]
  },
  {
   "cell_type": "code",
   "execution_count": 18,
   "metadata": {
    "ExecuteTime": {
     "end_time": "2020-11-25T11:50:14.685621Z",
     "start_time": "2020-11-25T11:50:14.668664Z"
    }
   },
   "outputs": [
    {
     "data": {
      "text/plain": [
       "('d', 40)"
      ]
     },
     "execution_count": 18,
     "metadata": {},
     "output_type": "execute_result"
    }
   ],
   "source": [
    "x = {'a': 10, 'b': 20, 'c': 30, 'd': 40}\n",
    "x.popitem()"
   ]
  },
  {
   "cell_type": "code",
   "execution_count": 19,
   "metadata": {
    "ExecuteTime": {
     "end_time": "2020-11-25T11:50:15.799391Z",
     "start_time": "2020-11-25T11:50:15.791420Z"
    }
   },
   "outputs": [
    {
     "data": {
      "text/plain": [
       "{'a': 10, 'b': 20, 'c': 30}"
      ]
     },
     "execution_count": 19,
     "metadata": {},
     "output_type": "execute_result"
    }
   ],
   "source": [
    "x"
   ]
  },
  {
   "cell_type": "markdown",
   "metadata": {
    "ExecuteTime": {
     "end_time": "2020-11-25T11:50:20.449063Z",
     "start_time": "2020-11-25T11:50:20.436130Z"
    }
   },
   "source": [
    "### 딕셔너리의 모든 키-값 쌍을 삭제하기\n",
    "\n",
    "`clear()`는 딕셔너리의 모든 키-값 쌍을 삭제한다."
   ]
  },
  {
   "cell_type": "code",
   "execution_count": 21,
   "metadata": {
    "ExecuteTime": {
     "end_time": "2020-11-25T11:51:47.274132Z",
     "start_time": "2020-11-25T11:51:47.253189Z"
    }
   },
   "outputs": [
    {
     "data": {
      "text/plain": [
       "{}"
      ]
     },
     "execution_count": 21,
     "metadata": {},
     "output_type": "execute_result"
    }
   ],
   "source": [
    "x = {'a': 10, 'b': 20, 'c': 30, 'd': 40}\n",
    "x.clear()\n",
    "x"
   ]
  },
  {
   "cell_type": "markdown",
   "metadata": {},
   "source": [
    "### 딕셔너리에서 키의 값을 가져오기\n",
    "\n",
    "`get(키)`는 딕셔너리에서 특정 키의 값을 가져온다."
   ]
  },
  {
   "cell_type": "code",
   "execution_count": 22,
   "metadata": {
    "ExecuteTime": {
     "end_time": "2020-11-25T11:52:33.977955Z",
     "start_time": "2020-11-25T11:52:33.958008Z"
    }
   },
   "outputs": [
    {
     "data": {
      "text/plain": [
       "10"
      ]
     },
     "execution_count": 22,
     "metadata": {},
     "output_type": "execute_result"
    }
   ],
   "source": [
    "x = {'a': 10, 'b': 20, 'c': 30, 'd': 40}\n",
    "x.get('a')"
   ]
  },
  {
   "cell_type": "markdown",
   "metadata": {
    "ExecuteTime": {
     "end_time": "2020-11-25T11:52:44.768491Z",
     "start_time": "2020-11-25T11:52:44.756494Z"
    }
   },
   "source": [
    "`get(키, 기본값)`처럼 기본값을 지정하면 딕셔너리에 키가 있을 때는 해당 키의 값을 반환하지만 키가 없을 때는 기본값을 반환한다."
   ]
  },
  {
   "cell_type": "code",
   "execution_count": 24,
   "metadata": {
    "ExecuteTime": {
     "end_time": "2020-11-25T11:53:30.856842Z",
     "start_time": "2020-11-25T11:53:30.843878Z"
    }
   },
   "outputs": [
    {
     "data": {
      "text/plain": [
       "0"
      ]
     },
     "execution_count": 24,
     "metadata": {},
     "output_type": "execute_result"
    }
   ],
   "source": [
    "x.get('z', 0)"
   ]
  },
  {
   "cell_type": "markdown",
   "metadata": {},
   "source": [
    "### 딕셔너리에서 키-값 쌍을 모두 가져오기\n",
    "\n",
    "* items : 키-값 쌍을 모두 가져옴\n",
    "* keys : 키를 모두 가져옴\n",
    "* values : 값을 모두 가져옴"
   ]
  },
  {
   "cell_type": "markdown",
   "metadata": {},
   "source": [
    "`items()`는 딕셔너리의 키-값 쌍을 모두 가져온다."
   ]
  },
  {
   "cell_type": "code",
   "execution_count": 25,
   "metadata": {
    "ExecuteTime": {
     "end_time": "2020-11-25T11:54:54.746392Z",
     "start_time": "2020-11-25T11:54:54.724450Z"
    }
   },
   "outputs": [
    {
     "data": {
      "text/plain": [
       "dict_items([('a', 10), ('b', 20), ('c', 30), ('d', 40)])"
      ]
     },
     "execution_count": 25,
     "metadata": {},
     "output_type": "execute_result"
    }
   ],
   "source": [
    "x = {'a': 10, 'b': 20, 'c': 30, 'd': 40}\n",
    "x.items()"
   ]
  },
  {
   "cell_type": "markdown",
   "metadata": {},
   "source": [
    "`keys()`는 키를 모두 가져온다."
   ]
  },
  {
   "cell_type": "code",
   "execution_count": 26,
   "metadata": {
    "ExecuteTime": {
     "end_time": "2020-11-25T11:55:18.751646Z",
     "start_time": "2020-11-25T11:55:18.732695Z"
    }
   },
   "outputs": [
    {
     "data": {
      "text/plain": [
       "dict_keys(['a', 'b', 'c', 'd'])"
      ]
     },
     "execution_count": 26,
     "metadata": {},
     "output_type": "execute_result"
    }
   ],
   "source": [
    "x.keys()"
   ]
  },
  {
   "cell_type": "markdown",
   "metadata": {},
   "source": [
    "`values()`는 값을 모두 가져온다."
   ]
  },
  {
   "cell_type": "code",
   "execution_count": null,
   "metadata": {},
   "outputs": [],
   "source": []
  },
  {
   "cell_type": "code",
   "execution_count": 27,
   "metadata": {
    "ExecuteTime": {
     "end_time": "2020-11-25T11:55:39.819278Z",
     "start_time": "2020-11-25T11:55:39.812295Z"
    }
   },
   "outputs": [
    {
     "data": {
      "text/plain": [
       "dict_values([10, 20, 30, 40])"
      ]
     },
     "execution_count": 27,
     "metadata": {},
     "output_type": "execute_result"
    }
   ],
   "source": [
    "x.values()"
   ]
  },
  {
   "cell_type": "markdown",
   "metadata": {},
   "source": [
    "이 메서드들은 보통 for 반복문과 조합해서 사용한다."
   ]
  },
  {
   "cell_type": "markdown",
   "metadata": {},
   "source": [
    "### 리스트와 튜플로 딕셔너리 만들기"
   ]
  },
  {
   "cell_type": "markdown",
   "metadata": {},
   "source": [
    "리스트(튜플)로 딕셔너리를 만들어보자\n",
    "\n",
    "1. 먼저 keys = ['a', 'b', 'c', 'd']처럼 키가 들어있는 리스트를 준비한다(튜플도 된다).\n",
    "2. 그리고 dict.fromkeys에 키가 들어있는 리스트를 넣으면 딕셔너리를 생성한다.\n",
    "\n",
    "`dict.fromkeys(키리스트)`는 키리스트로 딕셔너리를 생성하며 값은 모두 None으로 저장한다."
   ]
  },
  {
   "cell_type": "code",
   "execution_count": 28,
   "metadata": {
    "ExecuteTime": {
     "end_time": "2020-11-25T11:58:31.730543Z",
     "start_time": "2020-11-25T11:58:31.719564Z"
    }
   },
   "outputs": [
    {
     "data": {
      "text/plain": [
       "{'a': None, 'b': None, 'c': None, 'd': None}"
      ]
     },
     "execution_count": 28,
     "metadata": {},
     "output_type": "execute_result"
    }
   ],
   "source": [
    "keys = ['a', 'b', 'c', 'd']\n",
    "x = dict.fromkeys(keys)\n",
    "x"
   ]
  },
  {
   "cell_type": "markdown",
   "metadata": {},
   "source": [
    "`dict.fromkeys(키리스트, 값)`처럼 키 리스트와 값을 지정하면 해당 값이 키의 값으로 저장된다."
   ]
  },
  {
   "cell_type": "code",
   "execution_count": 29,
   "metadata": {
    "ExecuteTime": {
     "end_time": "2020-11-25T11:59:27.926784Z",
     "start_time": "2020-11-25T11:59:27.916810Z"
    }
   },
   "outputs": [
    {
     "data": {
      "text/plain": [
       "{'a': 100, 'b': 100, 'c': 100, 'd': 100}"
      ]
     },
     "execution_count": 29,
     "metadata": {},
     "output_type": "execute_result"
    }
   ],
   "source": [
    "y = dict.fromkeys(keys, 100)\n",
    "y"
   ]
  },
  {
   "cell_type": "markdown",
   "metadata": {},
   "source": [
    "> defauldict 사용하기\n",
    "\n",
    "지금까지 사용한 딕셔너리(dict)는 없는 키에 접근했을 경우 에러가 발생한다."
   ]
  },
  {
   "cell_type": "code",
   "execution_count": 30,
   "metadata": {
    "ExecuteTime": {
     "end_time": "2020-11-25T12:00:34.197767Z",
     "start_time": "2020-11-25T12:00:34.173139Z"
    }
   },
   "outputs": [
    {
     "ename": "KeyError",
     "evalue": "'z'",
     "output_type": "error",
     "traceback": [
      "\u001b[1;31m---------------------------------------------------------------------------\u001b[0m",
      "\u001b[1;31mKeyError\u001b[0m                                  Traceback (most recent call last)",
      "\u001b[1;32m<ipython-input-30-7867b3f4c074>\u001b[0m in \u001b[0;36m<module>\u001b[1;34m\u001b[0m\n\u001b[0;32m      1\u001b[0m \u001b[0mx\u001b[0m \u001b[1;33m=\u001b[0m \u001b[1;33m{\u001b[0m\u001b[1;34m'a'\u001b[0m\u001b[1;33m:\u001b[0m \u001b[1;36m0\u001b[0m\u001b[1;33m,\u001b[0m \u001b[1;34m'b'\u001b[0m\u001b[1;33m:\u001b[0m \u001b[1;36m0\u001b[0m\u001b[1;33m,\u001b[0m \u001b[1;34m'c'\u001b[0m\u001b[1;33m:\u001b[0m \u001b[1;36m0\u001b[0m\u001b[1;33m,\u001b[0m \u001b[1;34m'd'\u001b[0m\u001b[1;33m:\u001b[0m \u001b[1;36m0\u001b[0m\u001b[1;33m}\u001b[0m\u001b[1;33m\u001b[0m\u001b[1;33m\u001b[0m\u001b[0m\n\u001b[1;32m----> 2\u001b[1;33m \u001b[0mx\u001b[0m\u001b[1;33m[\u001b[0m\u001b[1;34m'z'\u001b[0m\u001b[1;33m]\u001b[0m\u001b[1;33m\u001b[0m\u001b[1;33m\u001b[0m\u001b[0m\n\u001b[0m",
      "\u001b[1;31mKeyError\u001b[0m: 'z'"
     ]
    }
   ],
   "source": [
    "x = {'a': 0, 'b': 0, 'c': 0, 'd': 0}\n",
    "x['z']"
   ]
  },
  {
   "cell_type": "markdown",
   "metadata": {},
   "source": [
    "이 때는 `defaultdict`를 사용한다.\n",
    "\n",
    "defaultdict는 없는 키에 접근하더라도 에러가 발생하지 않으며 기본값을 반환한다. defaultdict는 collections 모듈에 들어있으며 기본값 생성 함수를 넣는다.\n",
    "\n",
    "`defaultdict(기본값생성함수)`\n",
    "\n",
    "기본값이 0인 defaultdict 딕셔너리를 만들어보자"
   ]
  },
  {
   "cell_type": "code",
   "execution_count": 33,
   "metadata": {
    "ExecuteTime": {
     "end_time": "2020-11-25T12:03:00.487600Z",
     "start_time": "2020-11-25T12:03:00.468649Z"
    }
   },
   "outputs": [
    {
     "data": {
      "text/plain": [
       "defaultdict(int, {})"
      ]
     },
     "execution_count": 33,
     "metadata": {},
     "output_type": "execute_result"
    }
   ],
   "source": [
    "from collections import defaultdict    # collections 모듈에서 defaultdict를 가져옴\n",
    "\n",
    "y = defaultdict(int)    # int로 기본값 생성\n",
    "y"
   ]
  },
  {
   "cell_type": "markdown",
   "metadata": {},
   "source": [
    "기본값을 0으로 설정했기 때문에 0이 나온다."
   ]
  },
  {
   "cell_type": "code",
   "execution_count": 34,
   "metadata": {
    "ExecuteTime": {
     "end_time": "2020-11-25T12:03:08.736638Z",
     "start_time": "2020-11-25T12:03:08.716692Z"
    }
   },
   "outputs": [
    {
     "data": {
      "text/plain": [
       "0"
      ]
     },
     "execution_count": 34,
     "metadata": {},
     "output_type": "execute_result"
    }
   ],
   "source": [
    "y['z']"
   ]
  },
  {
   "cell_type": "markdown",
   "metadata": {},
   "source": [
    "defaultdict(int)처럼 int를 넣었는데 기본값이 왜 0인지 의문이 생길 수도 있다. \n",
    "\n",
    "int는 실수나 문자열을 정수로 변환하지만, 다음과 같이 int에 아무것도 넣지 않고 호출하면 0을 반환한다."
   ]
  },
  {
   "cell_type": "code",
   "execution_count": 35,
   "metadata": {
    "ExecuteTime": {
     "end_time": "2020-11-25T12:04:13.211544Z",
     "start_time": "2020-11-25T12:04:13.197583Z"
    }
   },
   "outputs": [
    {
     "data": {
      "text/plain": [
       "0"
      ]
     },
     "execution_count": 35,
     "metadata": {},
     "output_type": "execute_result"
    }
   ],
   "source": [
    "int()"
   ]
  },
  {
   "cell_type": "markdown",
   "metadata": {},
   "source": [
    "0이 아닌 다른 값을 기본값으로 설정하고 싶다면?"
   ]
  },
  {
   "cell_type": "code",
   "execution_count": 36,
   "metadata": {
    "ExecuteTime": {
     "end_time": "2020-11-25T12:04:55.587654Z",
     "start_time": "2020-11-25T12:04:55.581680Z"
    }
   },
   "outputs": [],
   "source": [
    "z = defaultdict(lambda: 'python')"
   ]
  },
  {
   "cell_type": "code",
   "execution_count": 37,
   "metadata": {
    "ExecuteTime": {
     "end_time": "2020-11-25T12:04:59.918996Z",
     "start_time": "2020-11-25T12:04:59.901010Z"
    }
   },
   "outputs": [
    {
     "data": {
      "text/plain": [
       "'python'"
      ]
     },
     "execution_count": 37,
     "metadata": {},
     "output_type": "execute_result"
    }
   ],
   "source": [
    "z['a']"
   ]
  },
  {
   "cell_type": "code",
   "execution_count": 38,
   "metadata": {
    "ExecuteTime": {
     "end_time": "2020-11-25T12:05:03.167338Z",
     "start_time": "2020-11-25T12:05:03.157400Z"
    }
   },
   "outputs": [
    {
     "data": {
      "text/plain": [
       "'python'"
      ]
     },
     "execution_count": 38,
     "metadata": {},
     "output_type": "execute_result"
    }
   ],
   "source": [
    "z[0]"
   ]
  },
  {
   "cell_type": "markdown",
   "metadata": {},
   "source": [
    "## 반복문으로 딕셔너리의 키-값 쌍을 모두 출력하기"
   ]
  },
  {
   "cell_type": "code",
   "execution_count": 39,
   "metadata": {
    "ExecuteTime": {
     "end_time": "2020-11-25T12:09:34.936755Z",
     "start_time": "2020-11-25T12:09:34.925748Z"
    }
   },
   "outputs": [
    {
     "name": "stdout",
     "output_type": "stream",
     "text": [
      "a b c d "
     ]
    }
   ],
   "source": [
    "x = {'a': 10, 'b': 20, 'c': 30, 'd': 40}\n",
    "for i in x:\n",
    "    print(i, end=' ')"
   ]
  },
  {
   "cell_type": "markdown",
   "metadata": {},
   "source": [
    "키만 출력된다."
   ]
  },
  {
   "cell_type": "markdown",
   "metadata": {},
   "source": [
    "```python\n",
    "for 키, 값 in 딕셔너리.items():\n",
    "     반복할 코드\n",
    "```"
   ]
  },
  {
   "cell_type": "code",
   "execution_count": 40,
   "metadata": {
    "ExecuteTime": {
     "end_time": "2020-11-25T12:10:48.798672Z",
     "start_time": "2020-11-25T12:10:48.789733Z"
    }
   },
   "outputs": [
    {
     "name": "stdout",
     "output_type": "stream",
     "text": [
      "a 10\n",
      "b 20\n",
      "c 30\n",
      "d 40\n"
     ]
    }
   ],
   "source": [
    "x = {'a': 10, 'b': 20, 'c': 30, 'd': 40}\n",
    "for key, value in x.items():\n",
    "    print(key, value)"
   ]
  },
  {
   "cell_type": "code",
   "execution_count": 41,
   "metadata": {
    "ExecuteTime": {
     "end_time": "2020-11-25T12:11:19.718695Z",
     "start_time": "2020-11-25T12:11:19.700763Z"
    }
   },
   "outputs": [
    {
     "name": "stdout",
     "output_type": "stream",
     "text": [
      "a 10\n",
      "b 20\n",
      "c 30\n",
      "d 40\n"
     ]
    }
   ],
   "source": [
    "for key, value in {'a': 10, 'b': 20, 'c': 30, 'd': 40}.items():\n",
    "    print(key, value)"
   ]
  },
  {
   "cell_type": "markdown",
   "metadata": {},
   "source": [
    "### 딕셔너리의 키만 출력하기\n",
    "\n",
    "키만 겨져오거나 값만 가져오면서 반복할 수도 있다.\n",
    "\n",
    "* items : 키-값 쌍을 모두 가져옴\n",
    "* keys : 키를 모두 가져옴\n",
    "* values : 값을 모두 가져옴"
   ]
  },
  {
   "cell_type": "markdown",
   "metadata": {},
   "source": [
    "for 반복문에서 keys로 키를 가져오기"
   ]
  },
  {
   "cell_type": "code",
   "execution_count": 42,
   "metadata": {
    "ExecuteTime": {
     "end_time": "2020-11-25T12:13:16.623362Z",
     "start_time": "2020-11-25T12:13:16.613354Z"
    }
   },
   "outputs": [
    {
     "name": "stdout",
     "output_type": "stream",
     "text": [
      "a b c d "
     ]
    }
   ],
   "source": [
    "x = {'a': 10, 'b': 20, 'c': 30, 'd': 40}\n",
    "for key in x.keys():\n",
    "    print(key, end=' ')"
   ]
  },
  {
   "cell_type": "markdown",
   "metadata": {},
   "source": [
    "### 딕셔너리의 값만 출력하기\n",
    "\n",
    "for 반복문에서 values를 사용해서 값만 가져오기"
   ]
  },
  {
   "cell_type": "code",
   "execution_count": 43,
   "metadata": {
    "ExecuteTime": {
     "end_time": "2020-11-25T12:14:08.172479Z",
     "start_time": "2020-11-25T12:14:08.158515Z"
    }
   },
   "outputs": [
    {
     "name": "stdout",
     "output_type": "stream",
     "text": [
      "10 20 30 40 "
     ]
    }
   ],
   "source": [
    "x = {'a': 10, 'b': 20, 'c': 30, 'd': 40}\n",
    "for value in x.values():\n",
    "    print(value, end=' ')"
   ]
  },
  {
   "cell_type": "markdown",
   "metadata": {},
   "source": [
    "## 딕셔너리 표현식 사용하기\n",
    "\n",
    "딕셔너리도 for 반복문과 if 조건문을 사용하여 딕셔너리를 생성할 수 있다.\n",
    "\n",
    "* {키 : 값 for 키, 값 in 딕셔너리}\n",
    "* dict({키: 값 for 키, 값 in 딕셔너리})"
   ]
  },
  {
   "cell_type": "code",
   "execution_count": 45,
   "metadata": {
    "ExecuteTime": {
     "end_time": "2020-11-25T12:16:25.255476Z",
     "start_time": "2020-11-25T12:16:25.243510Z"
    }
   },
   "outputs": [
    {
     "data": {
      "text/plain": [
       "{'a': None, 'b': None, 'c': None, 'd': None}"
      ]
     },
     "execution_count": 45,
     "metadata": {},
     "output_type": "execute_result"
    }
   ],
   "source": [
    "keys = ['a', 'b', 'c', 'd']\n",
    "x = {key : value for key, value in dict.fromkeys(keys).items()}\n",
    "x"
   ]
  },
  {
   "cell_type": "markdown",
   "metadata": {},
   "source": [
    "딕셔너리 표현식을 사용할 때는 for in 다음에 딕셔너리를 지정하고 items를 사용한다.\n",
    "\n",
    "그리고 키, 값을 가져온 뒤에는 키: 값 형식으로 변수나 값을 배치하여 딕셔너리를 생성하면 된다.\n",
    "\n",
    "```python\n",
    "x = {key: value for key, value in dict.fromkeys(keys).items()}\n",
    "```\n",
    "\n",
    "즉, dict.fromkeys(keys).items()로 키-값 쌍을 구한 뒤 키는 변수 key, 값은 변수 value에 꺼내고 최종적으로 key와 value를 이용하여 딕셔너리를 만든다."
   ]
  },
  {
   "cell_type": "markdown",
   "metadata": {},
   "source": [
    "keys로 키만 가져온 뒤 특정 값을 넣거나, values로 값을 가져온 뒤 값을 키로 사용할 수도 있다."
   ]
  },
  {
   "cell_type": "code",
   "execution_count": 46,
   "metadata": {
    "ExecuteTime": {
     "end_time": "2020-11-25T12:19:45.202540Z",
     "start_time": "2020-11-25T12:19:45.182590Z"
    }
   },
   "outputs": [
    {
     "data": {
      "text/plain": [
       "{'a': 0, 'b': 0, 'c': 0, 'd': 0}"
      ]
     },
     "execution_count": 46,
     "metadata": {},
     "output_type": "execute_result"
    }
   ],
   "source": [
    "{key: 0 for key in dict.fromkeys(['a', 'b', 'c', 'd']).keys()}               # 키만 가져옴"
   ]
  },
  {
   "cell_type": "code",
   "execution_count": 47,
   "metadata": {
    "ExecuteTime": {
     "end_time": "2020-11-25T12:20:06.683569Z",
     "start_time": "2020-11-25T12:20:06.669570Z"
    }
   },
   "outputs": [
    {
     "data": {
      "text/plain": [
       "{10: 0, 20: 0, 30: 0, 40: 0}"
      ]
     },
     "execution_count": 47,
     "metadata": {},
     "output_type": "execute_result"
    }
   ],
   "source": [
    "{value: 0 for value in {'a': 10, 'b': 20, 'c': 30, 'd': 40}.values()}        # 값을 키로 사용"
   ]
  },
  {
   "cell_type": "markdown",
   "metadata": {},
   "source": [
    "키와 값의 자리를 바꾸는 등 여러 가지로 응용이 가능하다."
   ]
  },
  {
   "cell_type": "code",
   "execution_count": 48,
   "metadata": {
    "ExecuteTime": {
     "end_time": "2020-11-25T12:20:37.696578Z",
     "start_time": "2020-11-25T12:20:37.686606Z"
    }
   },
   "outputs": [
    {
     "data": {
      "text/plain": [
       "{10: 'a', 20: 'b', 30: 'c', 40: 'd'}"
      ]
     },
     "execution_count": 48,
     "metadata": {},
     "output_type": "execute_result"
    }
   ],
   "source": [
    "{value: key for key, value in {'a': 10, 'b': 20, 'c': 30, 'd': 40}.items()}  # 키-값 자리를 바꿈"
   ]
  },
  {
   "cell_type": "markdown",
   "metadata": {},
   "source": [
    "### 딕셔너리 표현식에서 if 조건문 사용하기\n",
    "\n",
    "딕셔너리 표현식은 복잡하기만 하고 dic.fromkeys(함수)만 사용한 결과와 큰 차이점이 없다.\n",
    "\n",
    "대신 딕셔너리 표현식은 딕셔너리에서 특정 값을 찾아서 삭제할 때 유용하다!\n",
    "\n",
    "딕셔너리는 특정 키를 삭제하는 pop 메서드만 제공할 뿐 특정 값을 삭제하는 메서드는 제공하지 않는다.\n",
    "\n",
    "그래서 삭제하려면 간단하게 for 반복문으로 반복하면서 del로 삭제하는 방법이 있다."
   ]
  },
  {
   "cell_type": "code",
   "execution_count": 50,
   "metadata": {
    "ExecuteTime": {
     "end_time": "2020-11-25T12:26:01.816836Z",
     "start_time": "2020-11-25T12:26:01.795859Z"
    }
   },
   "outputs": [
    {
     "ename": "RuntimeError",
     "evalue": "dictionary changed size during iteration",
     "output_type": "error",
     "traceback": [
      "\u001b[1;31m---------------------------------------------------------------------------\u001b[0m",
      "\u001b[1;31mRuntimeError\u001b[0m                              Traceback (most recent call last)",
      "\u001b[1;32m<ipython-input-50-0c60be8a5af6>\u001b[0m in \u001b[0;36m<module>\u001b[1;34m\u001b[0m\n\u001b[0;32m      1\u001b[0m \u001b[0mx\u001b[0m \u001b[1;33m=\u001b[0m \u001b[1;33m{\u001b[0m\u001b[1;34m'a'\u001b[0m\u001b[1;33m:\u001b[0m \u001b[1;36m10\u001b[0m\u001b[1;33m,\u001b[0m \u001b[1;34m'b'\u001b[0m\u001b[1;33m:\u001b[0m \u001b[1;36m20\u001b[0m\u001b[1;33m,\u001b[0m \u001b[1;34m'c'\u001b[0m\u001b[1;33m:\u001b[0m \u001b[1;36m30\u001b[0m\u001b[1;33m,\u001b[0m \u001b[1;34m'd'\u001b[0m\u001b[1;33m:\u001b[0m \u001b[1;36m40\u001b[0m\u001b[1;33m}\u001b[0m\u001b[1;33m\u001b[0m\u001b[1;33m\u001b[0m\u001b[0m\n\u001b[0;32m      2\u001b[0m \u001b[1;33m\u001b[0m\u001b[0m\n\u001b[1;32m----> 3\u001b[1;33m \u001b[1;32mfor\u001b[0m \u001b[0mkey\u001b[0m\u001b[1;33m,\u001b[0m \u001b[0mvalue\u001b[0m \u001b[1;32min\u001b[0m \u001b[0mx\u001b[0m\u001b[1;33m.\u001b[0m\u001b[0mitems\u001b[0m\u001b[1;33m(\u001b[0m\u001b[1;33m)\u001b[0m\u001b[1;33m:\u001b[0m\u001b[1;33m\u001b[0m\u001b[1;33m\u001b[0m\u001b[0m\n\u001b[0m\u001b[0;32m      4\u001b[0m     \u001b[1;32mif\u001b[0m \u001b[0mvalue\u001b[0m \u001b[1;33m==\u001b[0m \u001b[1;36m20\u001b[0m\u001b[1;33m:\u001b[0m    \u001b[1;31m# 값이 20이면\u001b[0m\u001b[1;33m\u001b[0m\u001b[1;33m\u001b[0m\u001b[0m\n\u001b[0;32m      5\u001b[0m         \u001b[1;32mdel\u001b[0m \u001b[0mx\u001b[0m\u001b[1;33m[\u001b[0m\u001b[0mkey\u001b[0m\u001b[1;33m]\u001b[0m     \u001b[1;31m# 키-값 쌍 삭제\u001b[0m\u001b[1;33m\u001b[0m\u001b[1;33m\u001b[0m\u001b[0m\n",
      "\u001b[1;31mRuntimeError\u001b[0m: dictionary changed size during iteration"
     ]
    }
   ],
   "source": [
    "x = {'a': 10, 'b': 20, 'c': 30, 'd': 40}\n",
    " \n",
    "for key, value in x.items():\n",
    "    if value == 20:    # 값이 20이면\n",
    "        del x[key]     # 키-값 쌍 삭제\n",
    " \n",
    "print(x)"
   ]
  },
  {
   "cell_type": "markdown",
   "metadata": {},
   "source": [
    "반복 도중에 딕셔너리 크기가 바뀌었다는 에러가 발생. 즉, 딕셔너리는 for 반복문으로 반복하면서 키-값 쌍을 삭제하면 안 된다.\n",
    "\n",
    "이때는 딕셔너리 표현식에서 if 조건문을 사용하여 삭제할 값을 제외하면 된다.\n",
    "\n",
    "* {키: 값 for 키, 값 in 딕셔너리 if 조건식}\n",
    "* dict({키: 값 for 키, 값 in 딕셔너리 if 조건식})"
   ]
  },
  {
   "cell_type": "code",
   "execution_count": 51,
   "metadata": {
    "ExecuteTime": {
     "end_time": "2020-11-25T12:27:53.934851Z",
     "start_time": "2020-11-25T12:27:53.916902Z"
    }
   },
   "outputs": [
    {
     "data": {
      "text/plain": [
       "{'a': 10, 'c': 30, 'd': 40}"
      ]
     },
     "execution_count": 51,
     "metadata": {},
     "output_type": "execute_result"
    }
   ],
   "source": [
    "x = {'a': 10, 'b': 20, 'c': 30, 'd': 40}\n",
    "x = {key: value for key, value in x.items() if value != 20}\n",
    "x"
   ]
  },
  {
   "cell_type": "markdown",
   "metadata": {},
   "source": [
    "딕셔너리 표현식에서 if value != 20과 같이 if 조건문을 지정하면 값이 20이 아닌 키-값 쌍으로 다시 딕셔너리를 만든다.\n",
    "\n",
    "직접 키-값 쌍을 삭제하는 방식이 아니라 삭제할 키-값 쌍을 제외하고 남은 키-값싸으로 딕셔너리를 새로 만드는 것!"
   ]
  },
  {
   "cell_type": "markdown",
   "metadata": {},
   "source": [
    "## 딕셔너리 안에서 딕셔너리 사용하기\n",
    "\n",
    "딕셔너리 안에 딕셔너리를 사용하는 중첩 딕셔너리를 알아보자.\n",
    "\n",
    "딕셔너리를 값 부분에 딕셔너리가 계속 들어갈 수 있다.\n",
    "\n",
    "* 딕셔너리 = {키1: {키A: 값A}, 키2: {키B: 값B}}"
   ]
  },
  {
   "cell_type": "markdown",
   "metadata": {},
   "source": [
    "예를 들어 지구형 행성의 반지름, 질량, 공전주기를 딕셔너리로 표현해보자."
   ]
  },
  {
   "cell_type": "code",
   "execution_count": 52,
   "metadata": {
    "ExecuteTime": {
     "end_time": "2020-11-25T12:31:01.488744Z",
     "start_time": "2020-11-25T12:31:01.482748Z"
    }
   },
   "outputs": [
    {
     "name": "stdout",
     "output_type": "stream",
     "text": [
      "6051.8\n"
     ]
    }
   ],
   "source": [
    "terrestrial_planet = {\n",
    "    'Mercury': {\n",
    "        'mean_radius': 2439.7,\n",
    "        'mass': 3.3022E+23,\n",
    "        'orbital_period': 87.969\n",
    "    },\n",
    "    'Venus': {\n",
    "        'mean_radius': 6051.8,\n",
    "        'mass': 4.8676E+24,\n",
    "        'orbital_period': 224.70069,\n",
    "    },\n",
    "    'Earth': {\n",
    "        'mean_radius': 6371.0,\n",
    "        'mass': 5.97219E+24,\n",
    "        'orbital_period': 365.25641,\n",
    "    },\n",
    "    'Mars': {\n",
    "        'mean_radius': 3389.5,\n",
    "        'mass': 6.4185E+23,\n",
    "        'orbital_period': 686.9600,\n",
    "    }\n",
    "}\n",
    " \n",
    "print(terrestrial_planet['Venus']['mean_radius'])    # 6051.8"
   ]
  },
  {
   "cell_type": "markdown",
   "metadata": {},
   "source": [
    "딕셔너리 terrestrial_planet에 키 'Mercury', 'Venus', 'Earth', 'Mars'가 들어있고, 이 키들은 다시 값 부분에 딕셔너리를 가지고 있다. 즉, 중첩 딕셔너리는 계층형 데이터를 저장할 때 유용하다.\n",
    "\n",
    "딕셔너리 안에 들어있는 딕셔너리에 접근하려면 딕셔너리 뒤에 [ ]\\(대괄호)를 단계만큼 붙이고 키를 지정해주면 된다.\n",
    "\n",
    "* 딕셔너리[키][키]\n",
    "* 딕셔너리[키][키] = 값\n",
    "\n",
    "여기서는 딕셔너리가 두 단계로 구성되어 있으므로 대괄호를 두 번 사용한다. 그래서 금성(Venus)의 반지름(mean radius)를 출력하려면 다음과 같이 먼저 'Venus'를 찾아가고 다시 'mean_radius'의 값을 가져오면 된다."
   ]
  },
  {
   "cell_type": "code",
   "execution_count": 53,
   "metadata": {
    "ExecuteTime": {
     "end_time": "2020-11-25T12:32:39.439386Z",
     "start_time": "2020-11-25T12:32:39.429410Z"
    }
   },
   "outputs": [
    {
     "name": "stdout",
     "output_type": "stream",
     "text": [
      "6051.8\n"
     ]
    }
   ],
   "source": [
    "print(terrestrial_planet['Venus']['mean_radius'])    # 6051.8"
   ]
  },
  {
   "cell_type": "markdown",
   "metadata": {},
   "source": [
    "## 딕셔너리의 할당과 복사\n",
    "\n",
    "리스트와 마찬가지로 딕셔너리도 할당과 복사는 큰 차이점이 있다."
   ]
  },
  {
   "cell_type": "code",
   "execution_count": 54,
   "metadata": {
    "ExecuteTime": {
     "end_time": "2020-11-25T12:33:32.372522Z",
     "start_time": "2020-11-25T12:33:32.366540Z"
    }
   },
   "outputs": [],
   "source": [
    "x = {'a': 0, 'b': 0, 'c': 0, 'd': 0}\n",
    "y = x"
   ]
  },
  {
   "cell_type": "markdown",
   "metadata": {},
   "source": [
    "y = x와 같이 딕셔너리를 다른 변수에 할당하면 딕셔너리는 두 개가 될 것 같지만 실제로는 딕셔너리가 한 개이다.\n",
    "\n",
    "x와 y를 is 연산자로 비교해보면 True가 나온다. 즉, 변수 이름만 다를 뿐 딕셔너리 x와 y는 같은 객체이다."
   ]
  },
  {
   "cell_type": "code",
   "execution_count": 55,
   "metadata": {
    "ExecuteTime": {
     "end_time": "2020-11-25T12:34:09.714688Z",
     "start_time": "2020-11-25T12:34:09.709705Z"
    }
   },
   "outputs": [
    {
     "data": {
      "text/plain": [
       "True"
      ]
     },
     "execution_count": 55,
     "metadata": {},
     "output_type": "execute_result"
    }
   ],
   "source": [
    "x is y"
   ]
  },
  {
   "cell_type": "markdown",
   "metadata": {},
   "source": [
    "x와 y는 같으므로 y['a'] = 99와 같이 키 'a'의 값을 변경하면 딕셔너리 x와 y에 모두 반영된다."
   ]
  },
  {
   "cell_type": "code",
   "execution_count": 56,
   "metadata": {
    "ExecuteTime": {
     "end_time": "2020-11-25T12:34:33.627867Z",
     "start_time": "2020-11-25T12:34:33.621884Z"
    }
   },
   "outputs": [
    {
     "data": {
      "text/plain": [
       "{'a': 99, 'b': 0, 'c': 0, 'd': 0}"
      ]
     },
     "execution_count": 56,
     "metadata": {},
     "output_type": "execute_result"
    }
   ],
   "source": [
    "y['a'] = 99\n",
    "x"
   ]
  },
  {
   "cell_type": "code",
   "execution_count": 57,
   "metadata": {
    "ExecuteTime": {
     "end_time": "2020-11-25T12:34:43.669074Z",
     "start_time": "2020-11-25T12:34:43.653056Z"
    }
   },
   "outputs": [
    {
     "data": {
      "text/plain": [
       "{'a': 99, 'b': 0, 'c': 0, 'd': 0}"
      ]
     },
     "execution_count": 57,
     "metadata": {},
     "output_type": "execute_result"
    }
   ],
   "source": [
    "y"
   ]
  },
  {
   "cell_type": "markdown",
   "metadata": {},
   "source": [
    "딕셔너리 x와 y를 완전히 두 개로 만들려면 copy 메서드로 모든 키-값 쌍을 복사해야 한다."
   ]
  },
  {
   "cell_type": "code",
   "execution_count": 58,
   "metadata": {
    "ExecuteTime": {
     "end_time": "2020-11-25T12:35:20.849777Z",
     "start_time": "2020-11-25T12:35:20.838781Z"
    }
   },
   "outputs": [],
   "source": [
    "x = {'a': 0, 'b': 0, 'c': 0, 'd': 0}\n",
    "y = x.copy()"
   ]
  },
  {
   "cell_type": "markdown",
   "metadata": {},
   "source": [
    "이제 x와 y를 is 연산자로 비교해보면 False가 나온다. 즉, 두 딕셔너리는 다른 객체이다. 그러나 복사한 키-값 쌍은 같으므로 ==로 비교하면 True가 나온다."
   ]
  },
  {
   "cell_type": "code",
   "execution_count": 59,
   "metadata": {
    "ExecuteTime": {
     "end_time": "2020-11-25T12:35:50.613889Z",
     "start_time": "2020-11-25T12:35:50.597935Z"
    }
   },
   "outputs": [
    {
     "data": {
      "text/plain": [
       "False"
      ]
     },
     "execution_count": 59,
     "metadata": {},
     "output_type": "execute_result"
    }
   ],
   "source": [
    "x is y"
   ]
  },
  {
   "cell_type": "code",
   "execution_count": 60,
   "metadata": {
    "ExecuteTime": {
     "end_time": "2020-11-25T12:35:53.747907Z",
     "start_time": "2020-11-25T12:35:53.740947Z"
    }
   },
   "outputs": [
    {
     "data": {
      "text/plain": [
       "True"
      ]
     },
     "execution_count": 60,
     "metadata": {},
     "output_type": "execute_result"
    }
   ],
   "source": [
    "x == y"
   ]
  },
  {
   "cell_type": "markdown",
   "metadata": {},
   "source": [
    "딕셔너리 x와 y는 별개이므로 한쪽의 값을 변경해도 다른 딕셔너리에 영향을 미치지 않는다. 다음과 같이 딕셔너리 y에서 키 'a'의 값을 변경하면 딕셔너리 x는 그대로이고 딕셔너리 y만 바뀐다."
   ]
  },
  {
   "cell_type": "code",
   "execution_count": 61,
   "metadata": {
    "ExecuteTime": {
     "end_time": "2020-11-25T12:36:33.258030Z",
     "start_time": "2020-11-25T12:36:33.246064Z"
    }
   },
   "outputs": [
    {
     "name": "stdout",
     "output_type": "stream",
     "text": [
      "{'a': 0, 'b': 0, 'c': 0, 'd': 0}\n",
      "{'a': 99, 'b': 0, 'c': 0, 'd': 0}\n"
     ]
    }
   ],
   "source": [
    "y['a'] = 99\n",
    "print(x)\n",
    "print(y)"
   ]
  },
  {
   "cell_type": "markdown",
   "metadata": {},
   "source": [
    "### 중첩 딕셔너리의 할당과 복사 알아보기\n",
    "\n",
    "중첩 딕셔너리를 만든 뒤 copy 메서드로 복사해보자!"
   ]
  },
  {
   "cell_type": "code",
   "execution_count": 63,
   "metadata": {
    "ExecuteTime": {
     "end_time": "2020-11-25T12:38:02.906886Z",
     "start_time": "2020-11-25T12:38:02.885906Z"
    }
   },
   "outputs": [
    {
     "data": {
      "text/plain": [
       "{'a': {'python': '2.7'}, 'b': {'python': '3.6'}}"
      ]
     },
     "execution_count": 63,
     "metadata": {},
     "output_type": "execute_result"
    }
   ],
   "source": [
    "x = {'a': {'python': '2.7'}, 'b': {'python': '3.6'}}\n",
    "y = x.copy()\n",
    "x"
   ]
  },
  {
   "cell_type": "markdown",
   "metadata": {},
   "source": [
    "이제 y['a']['python'] = '2.7.15'와 같이 y의 값을 변경해보면 x와 y에 모두 반영된다."
   ]
  },
  {
   "cell_type": "code",
   "execution_count": 64,
   "metadata": {
    "ExecuteTime": {
     "end_time": "2020-11-25T12:38:20.366343Z",
     "start_time": "2020-11-25T12:38:20.356369Z"
    }
   },
   "outputs": [
    {
     "name": "stdout",
     "output_type": "stream",
     "text": [
      "{'a': {'python': '2.7.15'}, 'b': {'python': '3.6'}}\n",
      "{'a': {'python': '2.7.15'}, 'b': {'python': '3.6'}}\n"
     ]
    }
   ],
   "source": [
    "y['a']['python'] = '2.7.15'\n",
    "print(x)\n",
    "print(y)"
   ]
  },
  {
   "cell_type": "markdown",
   "metadata": {},
   "source": [
    "중첩 딕셔너리를 완전히 복사하려면 copy 메서드 대신 copy 모듈의 deepcopy 함수를 사용해야 한다."
   ]
  },
  {
   "cell_type": "code",
   "execution_count": 65,
   "metadata": {
    "ExecuteTime": {
     "end_time": "2020-11-25T12:39:23.346103Z",
     "start_time": "2020-11-25T12:39:23.325970Z"
    }
   },
   "outputs": [
    {
     "name": "stdout",
     "output_type": "stream",
     "text": [
      "{'a': {'python': '2.7'}, 'b': {'python': '3.6'}}\n",
      "{'a': {'python': '2.7.15'}, 'b': {'python': '3.6'}}\n"
     ]
    }
   ],
   "source": [
    "x = {'a': {'python': '2.7'}, 'b': {'python': '3.6'}}\n",
    "\n",
    "import copy             # copy 모듈을 가져옴\n",
    "\n",
    "y = copy.deepcopy(x)    # copy.deepcopy 함수를 사용하여 깊은 복사\n",
    "y['a']['python'] = '2.7.15'\n",
    "\n",
    "print(x)\n",
    "print(y)"
   ]
  },
  {
   "cell_type": "markdown",
   "metadata": {},
   "source": [
    "이제 딕셔너리 y의 값을 변경해도 딕셔너리 x에는 영향을 미치지 않는다. copy.deepcopy 함수는 중첩된 딕셔너리에 들어있는 모든 딕셔너리를 복사하는 깊은 복사(deep copy)를 해준다."
   ]
  },
  {
   "cell_type": "markdown",
   "metadata": {},
   "source": [
    "## 퀴즈\n",
    "\n",
    "### 연습문제 : 평균 점수 구하기\n",
    "\n",
    "평균 점수가 출력되게 만드세요."
   ]
  },
  {
   "cell_type": "code",
   "execution_count": 68,
   "metadata": {
    "ExecuteTime": {
     "end_time": "2020-11-25T14:41:01.518998Z",
     "start_time": "2020-11-25T14:41:01.507028Z"
    }
   },
   "outputs": [
    {
     "name": "stdout",
     "output_type": "stream",
     "text": [
      "89.25\n"
     ]
    }
   ],
   "source": [
    "maria = {'korean': 94, 'english': 91, 'mathematics': 89, 'science': 83}\n",
    "result = 0\n",
    "for score in maria.values():\n",
    "    result += score\n",
    "average = result / len(maria)\n",
    "print(average)    "
   ]
  },
  {
   "cell_type": "code",
   "execution_count": 70,
   "metadata": {
    "ExecuteTime": {
     "end_time": "2020-11-25T14:41:39.128679Z",
     "start_time": "2020-11-25T14:41:39.121701Z"
    }
   },
   "outputs": [
    {
     "name": "stdout",
     "output_type": "stream",
     "text": [
      "89.25\n"
     ]
    }
   ],
   "source": [
    "average = sum(maria.values()) / len(maria)\n",
    "print(average)"
   ]
  }
 ],
 "metadata": {
  "kernelspec": {
   "display_name": "Python 3",
   "language": "python",
   "name": "python3"
  },
  "language_info": {
   "codemirror_mode": {
    "name": "ipython",
    "version": 3
   },
   "file_extension": ".py",
   "mimetype": "text/x-python",
   "name": "python",
   "nbconvert_exporter": "python",
   "pygments_lexer": "ipython3",
   "version": "3.7.6"
  },
  "toc": {
   "base_numbering": 1,
   "nav_menu": {},
   "number_sections": true,
   "sideBar": true,
   "skip_h1_title": true,
   "title_cell": "Table of Contents",
   "title_sidebar": "Contents",
   "toc_cell": true,
   "toc_position": {
    "height": "calc(100% - 180px)",
    "left": "10px",
    "top": "150px",
    "width": "384px"
   },
   "toc_section_display": true,
   "toc_window_display": true
  }
 },
 "nbformat": 4,
 "nbformat_minor": 4
}
