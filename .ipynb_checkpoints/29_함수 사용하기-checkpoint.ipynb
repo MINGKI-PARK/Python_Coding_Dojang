{
 "cells": [
  {
   "cell_type": "markdown",
   "metadata": {},
   "source": [
    "# 29_함수 사용하기"
   ]
  },
  {
   "cell_type": "markdown",
   "metadata": {
    "toc": true
   },
   "source": [
    "<h1>Table of Contents<span class=\"tocSkip\"></span></h1>\n",
    "<div class=\"toc\"><ul class=\"toc-item\"><li><span><a href=\"#Hello,-world!-출력-함수-만들기\" data-toc-modified-id=\"Hello,-world!-출력-함수-만들기-1\"><span class=\"toc-item-num\">1&nbsp;&nbsp;</span>Hello, world! 출력 함수 만들기</a></span><ul class=\"toc-item\"><li><span><a href=\"#함수-만들기\" data-toc-modified-id=\"함수-만들기-1.1\"><span class=\"toc-item-num\">1.1&nbsp;&nbsp;</span>함수 만들기</a></span></li><li><span><a href=\"#함수-호출하기\" data-toc-modified-id=\"함수-호출하기-1.2\"><span class=\"toc-item-num\">1.2&nbsp;&nbsp;</span>함수 호출하기</a></span></li><li><span><a href=\"#소스-파일에서-함수를-만들고-호출하기\" data-toc-modified-id=\"소스-파일에서-함수를-만들고-호출하기-1.3\"><span class=\"toc-item-num\">1.3&nbsp;&nbsp;</span>소스 파일에서 함수를 만들고 호출하기</a></span></li><li><span><a href=\"#함수의-실행-순서\" data-toc-modified-id=\"함수의-실행-순서-1.4\"><span class=\"toc-item-num\">1.4&nbsp;&nbsp;</span>함수의 실행 순서</a></span></li><li><span><a href=\"#함수-작성과-함수-호출-순서\" data-toc-modified-id=\"함수-작성과-함수-호출-순서-1.5\"><span class=\"toc-item-num\">1.5&nbsp;&nbsp;</span>함수 작성과 함수 호출 순서</a></span></li></ul></li><li><span><a href=\"#덧셈-함수-만들기\" data-toc-modified-id=\"덧셈-함수-만들기-2\"><span class=\"toc-item-num\">2&nbsp;&nbsp;</span>덧셈 함수 만들기</a></span></li><li><span><a href=\"#함수의-결과를-반환하기\" data-toc-modified-id=\"함수의-결과를-반환하기-3\"><span class=\"toc-item-num\">3&nbsp;&nbsp;</span>함수의 결과를 반환하기</a></span></li><li><span><a href=\"#함수에서-값을-여러-개-반환하기\" data-toc-modified-id=\"함수에서-값을-여러-개-반환하기-4\"><span class=\"toc-item-num\">4&nbsp;&nbsp;</span>함수에서 값을 여러 개 반환하기</a></span></li><li><span><a href=\"#함수의-호출-과정-알아보기\" data-toc-modified-id=\"함수의-호출-과정-알아보기-5\"><span class=\"toc-item-num\">5&nbsp;&nbsp;</span>함수의 호출 과정 알아보기</a></span></li><li><span><a href=\"#연습문제:-몫과-나머지를-구하는-함수-만들기\" data-toc-modified-id=\"연습문제:-몫과-나머지를-구하는-함수-만들기-6\"><span class=\"toc-item-num\">6&nbsp;&nbsp;</span>연습문제: 몫과 나머지를 구하는 함수 만들기</a></span></li></ul></div>"
   ]
  },
  {
   "cell_type": "markdown",
   "metadata": {},
   "source": [
    "프로그래밍을 하다 보면 들어가는 값만 바뀔 뿐 같은 코드가 계속 반복되는 경우가 많습니다. 특히 같은 코드를 반복해서 작성하면 코드도 길어지고 중간에 실수할 가능성이 높아집니다.\n",
    "\n",
    "파이썬은 함수(function)라는 기능을 제공하는데 특정 용도의 코드를 한 곳에 모아 놓은 것을 뜻합니다. 그래서 함수는 처음 한 번만 작성해 놓으면 나중에 필요할 때 계속 불러 쓸 수 있습니다. 예를 들어 지금까지 사용했던 print, input 등도 모두 파이썬에서 미리 만들어 둔 함수입니다.\n",
    "\n",
    "**함수를 사용하면 좋은점!**\n",
    "\n",
    "+ 코드의 용도를 구분할 수 있다.\n",
    "+ 코드를 재사용할 수 있다.\n",
    "+ 실수를 줄일 수 있다."
   ]
  },
  {
   "cell_type": "markdown",
   "metadata": {},
   "source": [
    "## Hello, world! 출력 함수 만들기\n",
    "\n",
    "함수는 def에 함수 이름을 지정하고 ( )(괄호)와 :(콜론)을 붙인 뒤 다음 줄에 원하는 코드를 작성합니다(함수의 이름을 짓는 방법은 변수와 같습니다). 이때 코드는 반드시 들여쓰기를 해야 합니다(들여쓰기 규칙은 if, for, while과 같습니다).\n",
    "\n",
    "```python\n",
    "def 함수이름():\n",
    "     코드\n",
    "```\n",
    "\n",
    "여기서 def는 정의하다(define)에서 따온 키워드입니다."
   ]
  },
  {
   "cell_type": "markdown",
   "metadata": {},
   "source": [
    "### 함수 만들기"
   ]
  },
  {
   "cell_type": "code",
   "execution_count": 1,
   "metadata": {
    "ExecuteTime": {
     "end_time": "2020-12-07T22:25:13.879734Z",
     "start_time": "2020-12-07T22:25:13.861871Z"
    }
   },
   "outputs": [],
   "source": [
    "def hello():\n",
    "    print('Hello, world!')"
   ]
  },
  {
   "cell_type": "markdown",
   "metadata": {},
   "source": [
    "### 함수 호출하기\n",
    "\n",
    "함수를 만든 부분 아래에서 hello()와 같이 함수 이름과 ()를 적어주면 함수를 사용할 수 있습니다.\n",
    "\n",
    "+ 함수()"
   ]
  },
  {
   "cell_type": "code",
   "execution_count": 2,
   "metadata": {
    "ExecuteTime": {
     "end_time": "2020-12-07T22:26:04.846536Z",
     "start_time": "2020-12-07T22:26:04.825556Z"
    }
   },
   "outputs": [
    {
     "name": "stdout",
     "output_type": "stream",
     "text": [
      "Hello, world!\n"
     ]
    }
   ],
   "source": [
    "hello()"
   ]
  },
  {
   "cell_type": "markdown",
   "metadata": {},
   "source": [
    "### 소스 파일에서 함수를 만들고 호출하기"
   ]
  },
  {
   "cell_type": "code",
   "execution_count": 3,
   "metadata": {
    "ExecuteTime": {
     "end_time": "2020-12-07T22:26:27.762621Z",
     "start_time": "2020-12-07T22:26:27.753648Z"
    }
   },
   "outputs": [
    {
     "name": "stdout",
     "output_type": "stream",
     "text": [
      "Hello, world!\n"
     ]
    }
   ],
   "source": [
    "def hello():\n",
    "    print('Hello, world!')\n",
    " \n",
    "hello()"
   ]
  },
  {
   "cell_type": "markdown",
   "metadata": {},
   "source": [
    "### 함수의 실행 순서\n",
    "\n",
    "이제 파이썬 스크립트에서 함수의 실행 순서를 알아보겠습니다. hello 함수는 다음과 같은 순서로 실행됩니다.\n",
    "\n",
    "1. 파이썬 스크립트 최초 실행\n",
    "2. hello 함수 호출\n",
    "3. hello 함수 실행\n",
    "4. print 함수 실행 및 'Hello, world!' 출력\n",
    "5. hello 함수 종료\n",
    "6. 파이썬 스크립트 종료"
   ]
  },
  {
   "cell_type": "markdown",
   "metadata": {},
   "source": [
    "### 함수 작성과 함수 호출 순서\n",
    "\n",
    "함수를 만들고 호출할 때 주의할 점이 있는데, 바로 함수를 만들기 전에 함수를 먼저 호출하면 안 된다는 점입니다. 즉, 다음과 같이 함수를 먼저 호출한 뒤 함수를 만들 수는 없습니다."
   ]
  },
  {
   "cell_type": "code",
   "execution_count": 5,
   "metadata": {
    "ExecuteTime": {
     "end_time": "2020-12-07T22:30:07.130577Z",
     "start_time": "2020-12-07T22:30:07.113621Z"
    }
   },
   "outputs": [],
   "source": [
    "del hello"
   ]
  },
  {
   "cell_type": "code",
   "execution_count": 6,
   "metadata": {
    "ExecuteTime": {
     "end_time": "2020-12-07T22:30:09.020316Z",
     "start_time": "2020-12-07T22:30:08.936666Z"
    }
   },
   "outputs": [
    {
     "ename": "NameError",
     "evalue": "name 'hello' is not defined",
     "output_type": "error",
     "traceback": [
      "\u001b[1;31m---------------------------------------------------------------------------\u001b[0m",
      "\u001b[1;31mNameError\u001b[0m                                 Traceback (most recent call last)",
      "\u001b[1;32m<ipython-input-6-ebb88fb9e37a>\u001b[0m in \u001b[0;36m<module>\u001b[1;34m\u001b[0m\n\u001b[1;32m----> 1\u001b[1;33m \u001b[0mhello\u001b[0m\u001b[1;33m(\u001b[0m\u001b[1;33m)\u001b[0m         \u001b[1;31m# hello 함수를 만들기 전에 함수를 먼저 호출\u001b[0m\u001b[1;33m\u001b[0m\u001b[1;33m\u001b[0m\u001b[0m\n\u001b[0m\u001b[0;32m      2\u001b[0m \u001b[1;33m\u001b[0m\u001b[0m\n\u001b[0;32m      3\u001b[0m \u001b[1;32mdef\u001b[0m \u001b[0mhello\u001b[0m\u001b[1;33m(\u001b[0m\u001b[1;33m)\u001b[0m\u001b[1;33m:\u001b[0m    \u001b[1;31m# hello 함수를 만듦\u001b[0m\u001b[1;33m\u001b[0m\u001b[1;33m\u001b[0m\u001b[0m\n\u001b[0;32m      4\u001b[0m     \u001b[0mprint\u001b[0m\u001b[1;33m(\u001b[0m\u001b[1;34m'Hello, world!'\u001b[0m\u001b[1;33m)\u001b[0m\u001b[1;33m\u001b[0m\u001b[1;33m\u001b[0m\u001b[0m\n",
      "\u001b[1;31mNameError\u001b[0m: name 'hello' is not defined"
     ]
    }
   ],
   "source": [
    "hello()         # hello 함수를 만들기 전에 함수를 먼저 호출\n",
    " \n",
    "def hello():    # hello 함수를 만듦\n",
    "    print('Hello, world!')"
   ]
  },
  {
   "cell_type": "markdown",
   "metadata": {},
   "source": [
    "> 빈 함수 만들기\n",
    "\n",
    "내용이 없는 빈 함수를 만들 때는 코드 부분에 pass를 넣어줍니다."
   ]
  },
  {
   "cell_type": "code",
   "execution_count": 7,
   "metadata": {
    "ExecuteTime": {
     "end_time": "2020-12-07T22:30:40.697378Z",
     "start_time": "2020-12-07T22:30:40.682420Z"
    }
   },
   "outputs": [],
   "source": [
    "def hello():\n",
    "    pass"
   ]
  },
  {
   "cell_type": "markdown",
   "metadata": {},
   "source": [
    "나중에 다른 사람이 만든 파이썬 소스 코드를 보다 보면 pass를 자주 접할 수 있습니다. pass는 아무 일을 하지 않아도 함수의 틀을 유지할 필요가 있을 때 사용합니다."
   ]
  },
  {
   "cell_type": "markdown",
   "metadata": {},
   "source": [
    "## 덧셈 함수 만들기\n",
    "\n",
    "지금까지 만들어본 hello 함수는 동작이 고정되어 있습니다. 즉, 같은 문자열만 출력하죠. 이러면 함수를 사용하는 의미가 없습니다. 이번에는 함수에 값을 넣어서 동작을 바꿔보겠습니다.\n",
    "\n",
    "함수에서 값을 받으려면 ( )(괄호) 안에 변수 이름을 지정해주면 됩니다. 특히 이 변수를 매개변수(parameter)라고 부릅니다.\n",
    "\n",
    "```python\n",
    "def 함수이름(매개변수1, 매개변수2):\n",
    "    코드\n",
    "```"
   ]
  },
  {
   "cell_type": "markdown",
   "metadata": {},
   "source": [
    "이제 두 수를 더하는 함수를 만들어보겠습니다. 다음과 같이 함수의 괄호 안에 매개변수 a와 b를 지정하고, 그다음 줄에서 print로 a와 b의 합을 출력합니다."
   ]
  },
  {
   "cell_type": "code",
   "execution_count": 8,
   "metadata": {
    "ExecuteTime": {
     "end_time": "2020-12-07T22:32:11.640561Z",
     "start_time": "2020-12-07T22:32:11.630550Z"
    }
   },
   "outputs": [],
   "source": [
    "def add_number(a, b):\n",
    "    print(a + b)"
   ]
  },
  {
   "cell_type": "code",
   "execution_count": 9,
   "metadata": {
    "ExecuteTime": {
     "end_time": "2020-12-07T22:32:20.261249Z",
     "start_time": "2020-12-07T22:32:20.252276Z"
    }
   },
   "outputs": [
    {
     "name": "stdout",
     "output_type": "stream",
     "text": [
      "30\n"
     ]
    }
   ],
   "source": [
    "add_number(10, 20)"
   ]
  },
  {
   "cell_type": "markdown",
   "metadata": {},
   "source": [
    "10과 20을 더한 값인 30이 출력되었습니다. 여기서 함수를 호출할 때 넣는 값을 인수(argument)라고 부릅니다. 즉, add(10, 20)에서 10과 20이 인수입니다."
   ]
  },
  {
   "cell_type": "markdown",
   "metadata": {},
   "source": [
    "> 함수 독스트링 사용하기\n",
    "\n",
    "파이썬에서는 함수의 :(콜론) 바로 다음 줄에 \"\"\" \"\"\"(큰따옴표 세 개)로 문자열을 입력하면 함수에 대한 설명을 넣을 수 있습니다. 이런 방식의 문자열을 독스트링(문서화 문자열, documentation strings, docstrings)이라고 합니다. 단, 독스트링의 윗줄에 다른 코드가 오면 안 됩니다.\n",
    "\n",
    "```python\n",
    "def 함수이름(매개변수):\n",
    "    \"\"\"독스트링\"\"\"\n",
    "    코드\n",
    " \n",
    "def 함수이름(매개변수):\n",
    "    \"\"\"\n",
    "    여러 줄로 된 \n",
    "    독스트링\n",
    "    \"\"\"\n",
    "    코드\n",
    "```\n",
    "\n",
    "독스트링은 ' '(작은따옴표), \" \"(큰따옴표), ''' '''(작은따옴표 세 개)로 만들어도 되지만, 파이썬 코딩 스타일 가이드(PEP 8)에서는 \"\"\" \"\"\"(큰따옴표 세 개)를 권장합니다."
   ]
  },
  {
   "cell_type": "code",
   "execution_count": 10,
   "metadata": {
    "ExecuteTime": {
     "end_time": "2020-12-07T22:34:34.389430Z",
     "start_time": "2020-12-07T22:34:34.370481Z"
    }
   },
   "outputs": [
    {
     "name": "stdout",
     "output_type": "stream",
     "text": [
      "30\n",
      "이 함수는 a와 b를 더한 뒤 결과를 반환하는 함수입니다.\n"
     ]
    }
   ],
   "source": [
    "def add(a, b):\n",
    "    \"\"\"이 함수는 a와 b를 더한 뒤 결과를 반환하는 함수입니다.\"\"\"\n",
    "    return a + b\n",
    " \n",
    "x = add(10, 20)       # 함수를 호출해도 독스트링은 출력되지 않음\n",
    "print(x)\n",
    " \n",
    "print(add.__doc__)    # 함수의 __doc__로 독스트링 출력"
   ]
  },
  {
   "cell_type": "markdown",
   "metadata": {},
   "source": [
    "독스트링을 적절히 작성해두면 나중에 본인이 만든 코드를 다른 사람이 사용할 때 좀 더 편리하게 사용할 수 있습니다."
   ]
  },
  {
   "cell_type": "markdown",
   "metadata": {},
   "source": [
    "## 함수의 결과를 반환하기\n",
    "\n",
    "앞에서 만든 add 함수는 두 수를 더해서 바로 출력했습니다. 그러면 함수에서 값을 꺼내 올 수는 없을까요?\n",
    "\n",
    "다음과 같이 함수 안에서 return을 사용하면 값을 함수 바깥으로 반환합니다(return에 값을 지정하지 않으면 None을 반환).\n",
    "\n",
    "```python\n",
    "def 함수이름(매개변수):\n",
    "    return 반환값\n",
    "```\n",
    "\n",
    "그럼 두 수를 더해서 반환하는 add 함수를 만들어보겠습니다. 함수 add에 매개변수에 a와 b를 지정하고 그다음 줄에서 return으로 a와 b를 더한 값을 반환하도록 만듭니다."
   ]
  },
  {
   "cell_type": "code",
   "execution_count": 11,
   "metadata": {
    "ExecuteTime": {
     "end_time": "2020-12-07T22:36:15.705809Z",
     "start_time": "2020-12-07T22:36:15.690852Z"
    }
   },
   "outputs": [],
   "source": [
    "def add(a, b):\n",
    "    return a + b"
   ]
  },
  {
   "cell_type": "code",
   "execution_count": 12,
   "metadata": {
    "ExecuteTime": {
     "end_time": "2020-12-07T22:36:22.461453Z",
     "start_time": "2020-12-07T22:36:22.442362Z"
    }
   },
   "outputs": [
    {
     "data": {
      "text/plain": [
       "30"
      ]
     },
     "execution_count": 12,
     "metadata": {},
     "output_type": "execute_result"
    }
   ],
   "source": [
    "x = add(10, 20)\n",
    "x"
   ]
  },
  {
   "cell_type": "markdown",
   "metadata": {},
   "source": [
    "x의 값을 출력해보면 10과 20을 더한 값인 30이 나옵니다. 이처럼 return을 사용하면 값을 함수 바깥으로 반환할 수 있고, 함수에서 나온 값을 변수에 저장할 수 있습니다.\n",
    "\n",
    "즉, return으로 반환하는 값은 반환값이라고 하며 함수를 호출해준 바깥에 결과를 알려주기 위해 사용합니다."
   ]
  },
  {
   "cell_type": "markdown",
   "metadata": {},
   "source": [
    "반환값은 변수에 저장하지 않고 바로 다른 함수에 넣을 수도 있습니다. 다음은 print에서 바로 add를 호출하여 결과를 출력합니다."
   ]
  },
  {
   "cell_type": "code",
   "execution_count": 13,
   "metadata": {
    "ExecuteTime": {
     "end_time": "2020-12-07T22:37:22.637084Z",
     "start_time": "2020-12-07T22:37:22.627114Z"
    }
   },
   "outputs": [
    {
     "name": "stdout",
     "output_type": "stream",
     "text": [
      "30\n"
     ]
    }
   ],
   "source": [
    "print(add(10, 20))"
   ]
  },
  {
   "cell_type": "markdown",
   "metadata": {},
   "source": [
    "> 매개변수는 없고 반환값만 있는 함수\n",
    "\n",
    "함수를 만들 때 매개변수는 없지만 값만 반환하는 함수를 만들 수도 있습니다. 다음은 매개변수 없이 1만 반환합니다."
   ]
  },
  {
   "cell_type": "code",
   "execution_count": 15,
   "metadata": {
    "ExecuteTime": {
     "end_time": "2020-12-07T22:38:16.855783Z",
     "start_time": "2020-12-07T22:38:16.833827Z"
    }
   },
   "outputs": [
    {
     "data": {
      "text/plain": [
       "1"
      ]
     },
     "execution_count": 15,
     "metadata": {},
     "output_type": "execute_result"
    }
   ],
   "source": [
    "def one():\n",
    "    return 1\n",
    "\n",
    "x = one()\n",
    "x"
   ]
  },
  {
   "cell_type": "markdown",
   "metadata": {},
   "source": [
    "> return으로 함수 중간에서 빠져나오기\n",
    "\n",
    "return은 값을 반환하는 기능뿐만 아니라 함수 중간에서 바로 빠져나오는 기능도 있습니다. 다음은 매개변수 a가 10이면 함수를 그냥 빠져나옵니다."
   ]
  },
  {
   "cell_type": "code",
   "execution_count": 17,
   "metadata": {
    "ExecuteTime": {
     "end_time": "2020-12-07T22:39:32.736251Z",
     "start_time": "2020-12-07T22:39:32.730318Z"
    }
   },
   "outputs": [],
   "source": [
    "def not_ten(a):\n",
    "    if a == 10:\n",
    "        return\n",
    "    print(a, '입니다.', sep='')"
   ]
  },
  {
   "cell_type": "code",
   "execution_count": 18,
   "metadata": {
    "ExecuteTime": {
     "end_time": "2020-12-07T22:39:32.875204Z",
     "start_time": "2020-12-07T22:39:32.865230Z"
    }
   },
   "outputs": [
    {
     "name": "stdout",
     "output_type": "stream",
     "text": [
      "5입니다.\n"
     ]
    }
   ],
   "source": [
    "not_ten(5)"
   ]
  },
  {
   "cell_type": "code",
   "execution_count": 19,
   "metadata": {
    "ExecuteTime": {
     "end_time": "2020-12-07T22:39:37.889489Z",
     "start_time": "2020-12-07T22:39:37.874530Z"
    }
   },
   "outputs": [],
   "source": [
    "not_ten(10)"
   ]
  },
  {
   "cell_type": "markdown",
   "metadata": {},
   "source": [
    "not_ten 함수에 5를 넣으면 print로 '5입니다.'를 출력하지만, 10을 넣으면 return으로 함수 중간에서 바로 빠져나오므로 그 아래에 있는 print는 실행하지 않습니다. 따라서 아무것도 출력되지 않습니다.\n",
    "\n",
    "이처럼 return은 함수 중간에서 빠져나올 때 자주 사용합니다. 보통은 if와 조합해서 특정 조건일 때 함수 중간에서 빠져나옵니다."
   ]
  },
  {
   "cell_type": "markdown",
   "metadata": {},
   "source": [
    "## 함수에서 값을 여러 개 반환하기\n",
    "\n",
    "함수에서 값을 여러 개 반환할 때는 다음과 같이 return에 값이나 변수를 ,(콤마)로 구분해서 지정하면 됩니다.\n",
    "\n",
    "```python\n",
    "def 함수이름(매개변수):\n",
    "    return 반환값1, 반환값2\n",
    "```"
   ]
  },
  {
   "cell_type": "markdown",
   "metadata": {},
   "source": [
    "그럼 두 수를 더한 값과 뺀 값을 반환하는 함수를 만들어보겠습니다. 다음과 같이 return으로 a와 b를 더한 값과 a에서 b를 뺀 값을 반환하도록 만듭니다."
   ]
  },
  {
   "cell_type": "code",
   "execution_count": 21,
   "metadata": {
    "ExecuteTime": {
     "end_time": "2020-12-07T22:41:35.526641Z",
     "start_time": "2020-12-07T22:41:35.515667Z"
    }
   },
   "outputs": [
    {
     "data": {
      "text/plain": [
       "(30, -10)"
      ]
     },
     "execution_count": 21,
     "metadata": {},
     "output_type": "execute_result"
    }
   ],
   "source": [
    "def add_sub(a, b):\n",
    "    return a + b, a - b\n",
    "\n",
    "x, y = add_sub(10, 20)\n",
    "\n",
    "x, y"
   ]
  },
  {
   "cell_type": "markdown",
   "metadata": {},
   "source": [
    "이렇게 return으로 값을 여러 개 반환하면 실제로는 튜플이 반환됩니다. 다음과 같이 add_sub의 결과를 변수 한 개에 저장해서 출력해보면 튜플이 반환되는 것을 볼 수 있습니다."
   ]
  },
  {
   "cell_type": "code",
   "execution_count": 22,
   "metadata": {
    "ExecuteTime": {
     "end_time": "2020-12-07T22:42:29.985037Z",
     "start_time": "2020-12-07T22:42:29.978058Z"
    }
   },
   "outputs": [
    {
     "data": {
      "text/plain": [
       "(30, -10)"
      ]
     },
     "execution_count": 22,
     "metadata": {},
     "output_type": "execute_result"
    }
   ],
   "source": [
    "x = add_sub(10, 20)\n",
    "x"
   ]
  },
  {
   "cell_type": "markdown",
   "metadata": {},
   "source": [
    "즉, 튜플이 변수 여러 개에 할당되는 특성을 이용한 것입니다(언패킹)."
   ]
  },
  {
   "cell_type": "code",
   "execution_count": 23,
   "metadata": {
    "ExecuteTime": {
     "end_time": "2020-12-07T22:42:53.807332Z",
     "start_time": "2020-12-07T22:42:53.802342Z"
    }
   },
   "outputs": [
    {
     "data": {
      "text/plain": [
       "(30, -10)"
      ]
     },
     "execution_count": 23,
     "metadata": {},
     "output_type": "execute_result"
    }
   ],
   "source": [
    "x, y = (30, -10)\n",
    "x, y"
   ]
  },
  {
   "cell_type": "markdown",
   "metadata": {},
   "source": [
    "> 값 여러 개를 직접 반환하기\n",
    "\n",
    "함수에서 값 여러 개를 직접 반환할 때는 다음과 같이 return에 튜플을 지정해주면 됩니다.\n",
    "\n",
    "```python\n",
    "def one_two():\n",
    "    return (1, 2)\n",
    "```\n",
    "\n",
    "사실 파이썬에서는 괄호 없이 값을 콤마로 구분하면 튜플이 되죠? 즉, 튜플 1, 2는 튜플 (1, 2)와 같습니다."
   ]
  },
  {
   "cell_type": "code",
   "execution_count": 24,
   "metadata": {
    "ExecuteTime": {
     "end_time": "2020-12-07T22:43:48.680096Z",
     "start_time": "2020-12-07T22:43:48.665587Z"
    }
   },
   "outputs": [
    {
     "data": {
      "text/plain": [
       "(1, 2)"
      ]
     },
     "execution_count": 24,
     "metadata": {},
     "output_type": "execute_result"
    }
   ],
   "source": [
    "1, 2"
   ]
  },
  {
   "cell_type": "markdown",
   "metadata": {},
   "source": [
    "따라서 return 1, 2는 return (1, 2)와 의미가 같습니다.\n",
    "\n",
    "```python\n",
    "def one_two():\n",
    "    return 1, 2    # return (1, 2)와 같음\n",
    "```"
   ]
  },
  {
   "cell_type": "markdown",
   "metadata": {},
   "source": [
    "물론 return에서 리스트를 직접 반환해도 됩니다. 이때도 반환값을 변수 여러 개에 저장할 수 있습니다."
   ]
  },
  {
   "cell_type": "code",
   "execution_count": 26,
   "metadata": {
    "ExecuteTime": {
     "end_time": "2020-12-07T22:45:05.207150Z",
     "start_time": "2020-12-07T22:45:05.187204Z"
    }
   },
   "outputs": [
    {
     "name": "stdout",
     "output_type": "stream",
     "text": [
      "1 2\n"
     ]
    }
   ],
   "source": [
    "def one_two():\n",
    "    return [1, 2]\n",
    "\n",
    "x, y = one_two()\n",
    "print(x, y)"
   ]
  },
  {
   "cell_type": "markdown",
   "metadata": {},
   "source": [
    "## 함수의 호출 과정 알아보기\n",
    "\n",
    "이번에는 함수 여러 개를 만든 뒤에 각 함수의 호출 과정을 스택 다이어그램(stack diagram)으로 알아보겠습니다. 스택은 접시 쌓기와 같은데 접시를 차곡차곡 쌓고 꺼낼 때는 위쪽부터 차례대로 꺼내는 방식입니다(단, 중간에 있는 접시는 뺄 수 없습니다). 파이썬에서는 접시 쌓기와 방향이 반대인데, 함수가 아래쪽 방향으로 추가되고 함수가 끝나면 위쪽 방향으로 사라집니다."
   ]
  },
  {
   "cell_type": "markdown",
   "metadata": {},
   "source": [
    "다음은 덧셈 함수 add와 곱셈 함수 mul이 있고, add 함수 안에서 mul 함수를 호출하는 방식으로 만들어져 있습니다."
   ]
  },
  {
   "cell_type": "code",
   "execution_count": 27,
   "metadata": {
    "ExecuteTime": {
     "end_time": "2020-12-07T22:47:02.633065Z",
     "start_time": "2020-12-07T22:47:02.610352Z"
    }
   },
   "outputs": [
    {
     "name": "stdout",
     "output_type": "stream",
     "text": [
      "30\n",
      "200\n"
     ]
    }
   ],
   "source": [
    "def mul(a, b):\n",
    "    c = a * b\n",
    "    return c\n",
    " \n",
    "def add(a, b):\n",
    "    c = a + b\n",
    "    print(c)\n",
    "    d = mul(a, b)\n",
    "    print(d)\n",
    " \n",
    "x = 10\n",
    "y = 20\n",
    "add(x, y)"
   ]
  },
  {
   "cell_type": "markdown",
   "metadata": {},
   "source": [
    "지금까지 설명한 과정처럼 함수는 스택(stack) 방식으로 호출됩니다. 즉, 함수를 호출하면 스택의 아래쪽 방향으로 함수가 추가되고 함수가 끝나면 위쪽 방향으로 사라집니다. 특히 프레임은 스택 안에 있어서 각 프레임을 스택 프레임이라고 부릅니다.\n",
    "\n",
    "참고로 전역 프레임은 스크립트 파일의 실행이 끝나면 사라집니다.\n",
    "\n",
    "지금까지 함수를 만드는 방법과 호출하는 방법을 배웠습니다. 앞으로 파이썬 프로그래밍을 하면 함수를 만들고 호출할 일이 많이 생깁니다. 함수는 중요한 부분이므로 함수를 만드는 방법, 반환값을 사용하는 방법, 함수를 호출하는 방법은 꼭 익혀 두기 바랍니다."
   ]
  },
  {
   "cell_type": "markdown",
   "metadata": {},
   "source": [
    "## 연습문제: 몫과 나머지를 구하는 함수 만들기\n",
    "\n",
    "다음 소스 코드를 완성하여 x를 y로 나누었을 때의 몫과 나머지가 출력되게 만드세요."
   ]
  },
  {
   "cell_type": "code",
   "execution_count": 28,
   "metadata": {
    "ExecuteTime": {
     "end_time": "2020-12-07T23:00:07.639942Z",
     "start_time": "2020-12-07T23:00:07.622988Z"
    }
   },
   "outputs": [
    {
     "name": "stdout",
     "output_type": "stream",
     "text": [
      "몫: 3, 나머지: 1\n"
     ]
    }
   ],
   "source": [
    "x = 10\n",
    "y = 3\n",
    "\n",
    "def get_quotient_remainder(x, y):\n",
    "    return x//y, x%y\n",
    "\n",
    "quotient, remainder = get_quotient_remainder(x, y)\n",
    "print('몫: {0}, 나머지: {1}'.format(quotient, remainder))"
   ]
  }
 ],
 "metadata": {
  "kernelspec": {
   "display_name": "Python 3",
   "language": "python",
   "name": "python3"
  },
  "language_info": {
   "codemirror_mode": {
    "name": "ipython",
    "version": 3
   },
   "file_extension": ".py",
   "mimetype": "text/x-python",
   "name": "python",
   "nbconvert_exporter": "python",
   "pygments_lexer": "ipython3",
   "version": "3.7.6"
  },
  "toc": {
   "base_numbering": 1,
   "nav_menu": {},
   "number_sections": true,
   "sideBar": true,
   "skip_h1_title": true,
   "title_cell": "Table of Contents",
   "title_sidebar": "Contents",
   "toc_cell": true,
   "toc_position": {
    "height": "calc(100% - 180px)",
    "left": "10px",
    "top": "150px",
    "width": "384px"
   },
   "toc_section_display": true,
   "toc_window_display": true
  }
 },
 "nbformat": 4,
 "nbformat_minor": 4
}
