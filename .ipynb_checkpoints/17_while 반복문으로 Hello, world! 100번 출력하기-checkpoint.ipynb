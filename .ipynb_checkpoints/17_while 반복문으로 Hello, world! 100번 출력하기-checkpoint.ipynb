{
 "cells": [
  {
   "cell_type": "markdown",
   "metadata": {},
   "source": [
    "# while 반복문으로 Hello, world! 100번 출력하기\n",
    "\n",
    "* 2020.11.12"
   ]
  },
  {
   "cell_type": "markdown",
   "metadata": {
    "toc": true
   },
   "source": [
    "<h1>Table of Contents<span class=\"tocSkip\"></span></h1>\n",
    "<div class=\"toc\"><ul class=\"toc-item\"><li><span><a href=\"#while-반복문-사용하기\" data-toc-modified-id=\"while-반복문-사용하기-1\"><span class=\"toc-item-num\">1&nbsp;&nbsp;</span>while 반복문 사용하기</a></span></li><li><span><a href=\"#반복-횟수가-정해지지-않은-경우\" data-toc-modified-id=\"반복-횟수가-정해지지-않은-경우-2\"><span class=\"toc-item-num\">2&nbsp;&nbsp;</span>반복 횟수가 정해지지 않은 경우</a></span></li><li><span><a href=\"#while-반복문으로-무한-루프-만들기\" data-toc-modified-id=\"while-반복문으로-무한-루프-만들기-3\"><span class=\"toc-item-num\">3&nbsp;&nbsp;</span>while 반복문으로 무한 루프 만들기</a></span></li><li><span><a href=\"#퀴즈\" data-toc-modified-id=\"퀴즈-4\"><span class=\"toc-item-num\">4&nbsp;&nbsp;</span>퀴즈</a></span></li></ul></div>"
   ]
  },
  {
   "cell_type": "markdown",
   "metadata": {},
   "source": [
    "## while 반복문 사용하기"
   ]
  },
  {
   "cell_type": "code",
   "execution_count": 3,
   "metadata": {
    "ExecuteTime": {
     "end_time": "2020-11-15T14:11:22.903322Z",
     "start_time": "2020-11-15T14:11:22.890109Z"
    }
   },
   "outputs": [
    {
     "name": "stdout",
     "output_type": "stream",
     "text": [
      "Hello, world! 0\n",
      "Hello, world! 1\n",
      "Hello, world! 2\n",
      "Hello, world! 3\n",
      "Hello, world! 4\n",
      "Hello, world! 5\n",
      "Hello, world! 6\n",
      "Hello, world! 7\n",
      "Hello, world! 8\n",
      "Hello, world! 9\n"
     ]
    }
   ],
   "source": [
    "i = 0                     # 초기식\n",
    "while i < 10:            # while 조건식\n",
    "     print('Hello, world!', i)    # 반복할 코드\n",
    "     i += 1                    # 변화식"
   ]
  },
  {
   "cell_type": "markdown",
   "metadata": {},
   "source": [
    "```python\n",
    "초기식\n",
    "while 조건식:\n",
    "     반복할 코드\n",
    "     변화식\n",
    "```"
   ]
  },
  {
   "cell_type": "markdown",
   "metadata": {},
   "source": [
    "## 반복 횟수가 정해지지 않은 경우"
   ]
  },
  {
   "cell_type": "markdown",
   "metadata": {},
   "source": [
    "난수(random number)란 특정 주기로 반복되지 않으며 규칙 없이 무작위로 나열되는 숫자를 뜻한다. 현실에서 쉽게 접할 수 있는 난수가 주사위를 굴려서 나온 숫자다."
   ]
  },
  {
   "cell_type": "code",
   "execution_count": 4,
   "metadata": {
    "ExecuteTime": {
     "end_time": "2020-11-15T14:17:20.036087Z",
     "start_time": "2020-11-15T14:17:20.025094Z"
    }
   },
   "outputs": [],
   "source": [
    "import random"
   ]
  },
  {
   "cell_type": "code",
   "execution_count": 6,
   "metadata": {
    "ExecuteTime": {
     "end_time": "2020-11-15T14:17:31.757228Z",
     "start_time": "2020-11-15T14:17:31.736341Z"
    }
   },
   "outputs": [
    {
     "data": {
      "text/plain": [
       "0.2641908005057614"
      ]
     },
     "execution_count": 6,
     "metadata": {},
     "output_type": "execute_result"
    }
   ],
   "source": [
    "random.random()"
   ]
  },
  {
   "cell_type": "markdown",
   "metadata": {},
   "source": [
    "random.randint(a, b)"
   ]
  },
  {
   "cell_type": "code",
   "execution_count": 8,
   "metadata": {
    "ExecuteTime": {
     "end_time": "2020-11-15T14:19:38.662372Z",
     "start_time": "2020-11-15T14:19:38.657201Z"
    }
   },
   "outputs": [
    {
     "data": {
      "text/plain": [
       "4"
      ]
     },
     "execution_count": 8,
     "metadata": {},
     "output_type": "execute_result"
    }
   ],
   "source": [
    "random.randint(1, 6)"
   ]
  },
  {
   "cell_type": "code",
   "execution_count": 10,
   "metadata": {
    "ExecuteTime": {
     "end_time": "2020-11-15T14:21:57.350338Z",
     "start_time": "2020-11-15T14:21:57.344112Z"
    }
   },
   "outputs": [
    {
     "name": "stdout",
     "output_type": "stream",
     "text": [
      "6\n",
      "2\n",
      "6\n",
      "6\n",
      "2\n",
      "5\n",
      "6\n",
      "2\n",
      "6\n",
      "1\n",
      "3\n"
     ]
    }
   ],
   "source": [
    "i = 0\n",
    "while i != 3:\n",
    "    i = random.randint(1,6)\n",
    "    print(i)"
   ]
  },
  {
   "cell_type": "markdown",
   "metadata": {},
   "source": [
    "**while 반복문은 반복 횟수가 정해져 있지 않을 때 유용하다.**"
   ]
  },
  {
   "cell_type": "markdown",
   "metadata": {},
   "source": [
    "> random.choice\n",
    "\n",
    "random.choice 함수를 사용하면 시퀀스 객체에서 요소를 무작위로 선택 할 수 있다."
   ]
  },
  {
   "cell_type": "code",
   "execution_count": 11,
   "metadata": {
    "ExecuteTime": {
     "end_time": "2020-11-15T14:24:21.560891Z",
     "start_time": "2020-11-15T14:24:21.545558Z"
    }
   },
   "outputs": [
    {
     "data": {
      "text/plain": [
       "2"
      ]
     },
     "execution_count": 11,
     "metadata": {},
     "output_type": "execute_result"
    }
   ],
   "source": [
    "dice = [1, 2, 3, 4, 5, 6]\n",
    "\n",
    "random.choice(dice)"
   ]
  },
  {
   "cell_type": "markdown",
   "metadata": {},
   "source": [
    "random.choice 함수는 시퀀스 객체를 받으므로 리스트뿐만 아니라 튜플, range, 문자열 등을 넣어도 된다."
   ]
  },
  {
   "cell_type": "markdown",
   "metadata": {},
   "source": [
    "## while 반복문으로 무한 루프 만들기"
   ]
  },
  {
   "cell_type": "markdown",
   "metadata": {},
   "source": [
    "## 퀴즈"
   ]
  },
  {
   "cell_type": "code",
   "execution_count": 12,
   "metadata": {
    "ExecuteTime": {
     "end_time": "2020-11-15T14:31:32.316898Z",
     "start_time": "2020-11-15T14:31:32.297224Z"
    }
   },
   "outputs": [
    {
     "name": "stdout",
     "output_type": "stream",
     "text": [
      "2 5\n",
      "4 4\n",
      "8 3\n",
      "16 2\n",
      "32 1\n"
     ]
    }
   ],
   "source": [
    "i = 2\n",
    "j = 5\n",
    "\n",
    "while i <= 32 or j >= 1:   \n",
    "    print(i, j)\n",
    "    i *= 2\n",
    "    j -= 1   "
   ]
  },
  {
   "cell_type": "code",
   "execution_count": 15,
   "metadata": {
    "ExecuteTime": {
     "end_time": "2020-11-15T14:34:47.606270Z",
     "start_time": "2020-11-15T14:34:44.952427Z"
    }
   },
   "outputs": [
    {
     "name": "stdout",
     "output_type": "stream",
     "text": [
      "13500\n",
      "12150\n",
      "10800\n",
      "9450\n",
      "8100\n",
      "6750\n",
      "5400\n",
      "4050\n",
      "2700\n",
      "1350\n",
      "0\n"
     ]
    }
   ],
   "source": [
    "money = int(input())\n",
    "while money >= 1350:\n",
    "    money -= 1350\n",
    "    print(money)"
   ]
  }
 ],
 "metadata": {
  "kernelspec": {
   "display_name": "Python 3",
   "language": "python",
   "name": "python3"
  },
  "language_info": {
   "codemirror_mode": {
    "name": "ipython",
    "version": 3
   },
   "file_extension": ".py",
   "mimetype": "text/x-python",
   "name": "python",
   "nbconvert_exporter": "python",
   "pygments_lexer": "ipython3",
   "version": "3.7.6"
  },
  "toc": {
   "base_numbering": 1,
   "nav_menu": {},
   "number_sections": true,
   "sideBar": true,
   "skip_h1_title": true,
   "title_cell": "Table of Contents",
   "title_sidebar": "Contents",
   "toc_cell": true,
   "toc_position": {},
   "toc_section_display": true,
   "toc_window_display": true
  }
 },
 "nbformat": 4,
 "nbformat_minor": 4
}
