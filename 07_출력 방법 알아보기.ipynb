{
 "cells": [
  {
   "cell_type": "markdown",
   "metadata": {},
   "source": [
    "# 07_출력 방법 알아보기\n",
    "* 2020.11.06"
   ]
  },
  {
   "cell_type": "markdown",
   "metadata": {
    "toc": true
   },
   "source": [
    "<h1>Table of Contents<span class=\"tocSkip\"></span></h1>\n",
    "<div class=\"toc\"><ul class=\"toc-item\"><li><span><a href=\"#값을-여러-개-출력하기\" data-toc-modified-id=\"값을-여러-개-출력하기-1\"><span class=\"toc-item-num\">1&nbsp;&nbsp;</span>값을 여러 개 출력하기</a></span><ul class=\"toc-item\"><li><span><a href=\"#sep로-값-사이에-문자-넣기\" data-toc-modified-id=\"sep로-값-사이에-문자-넣기-1.1\"><span class=\"toc-item-num\">1.1&nbsp;&nbsp;</span>sep로 값 사이에 문자 넣기</a></span></li></ul></li><li><span><a href=\"#줄바꿈-활용하기\" data-toc-modified-id=\"줄바꿈-활용하기-2\"><span class=\"toc-item-num\">2&nbsp;&nbsp;</span>줄바꿈 활용하기</a></span><ul class=\"toc-item\"><li><span><a href=\"#end-사용하기\" data-toc-modified-id=\"end-사용하기-2.1\"><span class=\"toc-item-num\">2.1&nbsp;&nbsp;</span>end 사용하기</a></span></li></ul></li></ul></div>"
   ]
  },
  {
   "cell_type": "markdown",
   "metadata": {},
   "source": [
    "## 값을 여러 개 출력하기"
   ]
  },
  {
   "cell_type": "markdown",
   "metadata": {},
   "source": [
    "`print`에는 변수나 값 여러 개를 ,(콤마)로 구분해서 넣을 수 있다.\n",
    "\n",
    "* print(값1, 값2, 값3)\n",
    "* print(변수1, 변수2, 변수3)"
   ]
  },
  {
   "cell_type": "markdown",
   "metadata": {},
   "source": [
    "### sep로 값 사이에 문자 넣기"
   ]
  },
  {
   "cell_type": "markdown",
   "metadata": {},
   "source": [
    "값 사이에 공백이 아닌 다른 문자를 넣고 싶을 때, print의 sep에 문자 또는 문자열을 지정해주면 된다. (sep은 구분자라는 뜻의 **sep**arator에서 따왔다.)\n",
    "\n",
    "* print(값1, 값2, sep='문자 또는 문자열')\n",
    "* print(변수1, 변수2, sep='문자 또는 문자열')"
   ]
  },
  {
   "cell_type": "code",
   "execution_count": 1,
   "metadata": {
    "ExecuteTime": {
     "end_time": "2020-11-06T12:30:11.423937Z",
     "start_time": "2020-11-06T12:30:11.413975Z"
    }
   },
   "outputs": [
    {
     "name": "stdout",
     "output_type": "stream",
     "text": [
      "1, 2, 3\n",
      "4,5,6\n",
      "HelloPython\n",
      "1920x1080\n"
     ]
    }
   ],
   "source": [
    "print(1, 2, 3, sep=', ') # sep에 콤마와 공백을 지정\n",
    "\n",
    "print(4, 5, 6, sep=',') # sep에 콤마만 지정\n",
    "\n",
    "print('Hello', 'Python', sep='') # sep에 빈 문자열을 지정\n",
    "\n",
    "print(1920, 1080, sep='x') # sep에 x를 지정"
   ]
  },
  {
   "cell_type": "markdown",
   "metadata": {},
   "source": [
    "## 줄바꿈 활용하기"
   ]
  },
  {
   "cell_type": "markdown",
   "metadata": {},
   "source": [
    "print 한 번으로 값을 여러 줄에 출력하기. print의 sep에 개행 문자(\\n)라는 특별한 문자를 지정하면 값을 한 줄에 하나씩 출력할 수 있다."
   ]
  },
  {
   "cell_type": "code",
   "execution_count": 2,
   "metadata": {
    "ExecuteTime": {
     "end_time": "2020-11-06T12:33:05.593470Z",
     "start_time": "2020-11-06T12:33:05.574405Z"
    }
   },
   "outputs": [
    {
     "name": "stdout",
     "output_type": "stream",
     "text": [
      "1\n",
      "2\n",
      "3\n"
     ]
    }
   ],
   "source": [
    "print(1, 2, 3, sep='\\n')"
   ]
  },
  {
   "cell_type": "markdown",
   "metadata": {},
   "source": [
    "\\n은 값을 다음 줄에 출력하게 만드는 제어 문자이다. 따라서 sep에 \\n을 지정하면 1 2 3 사이에 \\n이 들어가므로 1을 출력한 뒤 다음 줄에 2를 출력하고 다시 다음 줄에 3을 출력하게 된다. 단, \\n 자체는 제어 문자이므로 화면에 출력되지 않는다."
   ]
  },
  {
   "cell_type": "code",
   "execution_count": 4,
   "metadata": {
    "ExecuteTime": {
     "end_time": "2020-11-06T13:02:05.284310Z",
     "start_time": "2020-11-06T13:02:05.277336Z"
    }
   },
   "outputs": [
    {
     "name": "stdout",
     "output_type": "stream",
     "text": [
      "1\n",
      "2\n",
      "3\n"
     ]
    }
   ],
   "source": [
    "print('1\\n2\\n3') # 문자열 안에 \\n을 사용하여 줄바꿈"
   ]
  },
  {
   "cell_type": "markdown",
   "metadata": {},
   "source": [
    "> 제어 문자\n",
    "\n",
    "제어 문자는 화면에 출력되지는 않지만 출력 결과를 제어한다고 해서 제어 문자라고 부른다. 또한, 제어 문자는 \\로 시작하는 이스케이프 시퀀스이다.\n",
    "\n",
    "* \\n : 다음 줄로 이동하며 개행이라고도 부른다.\n",
    "* \\t : 탭 문자, 키보드의 Tab 키와 같으며 여러 칸을 띄운다.\n",
    "* \\\\\\ : \\ 문자 자체를 출력할 때는 \\를 두 번 써야 한다."
   ]
  },
  {
   "cell_type": "markdown",
   "metadata": {},
   "source": [
    "### end 사용하기"
   ]
  },
  {
   "cell_type": "markdown",
   "metadata": {},
   "source": [
    "print는 기본적으로 출력하는 값 끝에 \\n을 붙인다. 그래서 print를 여러 번 사용하면 값이 여러 줄에 출력된다.\n",
    "\n",
    "print를 여러 번 사용해서 한 줄에 여러 개의 값을 출력하려면 print의 end에 빈 문자열을 지정해주면 된다.\n",
    "\n",
    "* print(값, end='문자 또는 문자열')\n",
    "* print(변수, end='문자 또는 문자열')"
   ]
  },
  {
   "cell_type": "code",
   "execution_count": 5,
   "metadata": {
    "ExecuteTime": {
     "end_time": "2020-11-06T13:08:46.005919Z",
     "start_time": "2020-11-06T13:08:45.990962Z"
    }
   },
   "outputs": [
    {
     "name": "stdout",
     "output_type": "stream",
     "text": [
      "123\n"
     ]
    }
   ],
   "source": [
    "print(1, end='') # end에 빈 문자열을 지정하면 다음 번 출력이 바로 뒤에 오게 됨.\n",
    "print(2, end='')\n",
    "print(3)"
   ]
  },
  {
   "cell_type": "code",
   "execution_count": 6,
   "metadata": {
    "ExecuteTime": {
     "end_time": "2020-11-06T13:09:20.810008Z",
     "start_time": "2020-11-06T13:09:20.805025Z"
    }
   },
   "outputs": [
    {
     "name": "stdout",
     "output_type": "stream",
     "text": [
      "1 2 3\n"
     ]
    }
   ],
   "source": [
    "print(1, end=' ') # end에 공백 한 칸 지정\n",
    "print(2, end=' ')\n",
    "print(3)"
   ]
  }
 ],
 "metadata": {
  "kernelspec": {
   "display_name": "Python 3",
   "language": "python",
   "name": "python3"
  },
  "language_info": {
   "codemirror_mode": {
    "name": "ipython",
    "version": 3
   },
   "file_extension": ".py",
   "mimetype": "text/x-python",
   "name": "python",
   "nbconvert_exporter": "python",
   "pygments_lexer": "ipython3",
   "version": "3.7.6"
  },
  "toc": {
   "base_numbering": 1,
   "nav_menu": {},
   "number_sections": true,
   "sideBar": true,
   "skip_h1_title": true,
   "title_cell": "Table of Contents",
   "title_sidebar": "Contents",
   "toc_cell": true,
   "toc_position": {},
   "toc_section_display": true,
   "toc_window_display": true
  }
 },
 "nbformat": 4,
 "nbformat_minor": 4
}
