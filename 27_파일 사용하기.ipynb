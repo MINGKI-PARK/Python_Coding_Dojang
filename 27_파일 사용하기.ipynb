{
 "cells": [
  {
   "cell_type": "markdown",
   "metadata": {},
   "source": [
    "# 27_파일 사용하기"
   ]
  },
  {
   "cell_type": "markdown",
   "metadata": {
    "toc": true
   },
   "source": [
    "<h1>Table of Contents<span class=\"tocSkip\"></span></h1>\n",
    "<div class=\"toc\"><ul class=\"toc-item\"><li><span><a href=\"#파일에-문자열-쓰기,-읽기\" data-toc-modified-id=\"파일에-문자열-쓰기,-읽기-1\"><span class=\"toc-item-num\">1&nbsp;&nbsp;</span>파일에 문자열 쓰기, 읽기</a></span><ul class=\"toc-item\"><li><span><a href=\"#파일에-문자열-쓰기\" data-toc-modified-id=\"파일에-문자열-쓰기-1.1\"><span class=\"toc-item-num\">1.1&nbsp;&nbsp;</span>파일에 문자열 쓰기</a></span></li><li><span><a href=\"#파일에서-문자열-읽기\" data-toc-modified-id=\"파일에서-문자열-읽기-1.2\"><span class=\"toc-item-num\">1.2&nbsp;&nbsp;</span>파일에서 문자열 읽기</a></span></li><li><span><a href=\"#자동으로-파일-객체-닫기\" data-toc-modified-id=\"자동으로-파일-객체-닫기-1.3\"><span class=\"toc-item-num\">1.3&nbsp;&nbsp;</span>자동으로 파일 객체 닫기</a></span></li></ul></li><li><span><a href=\"#문자열-여러-줄을-파일에-쓰기,-읽기\" data-toc-modified-id=\"문자열-여러-줄을-파일에-쓰기,-읽기-2\"><span class=\"toc-item-num\">2&nbsp;&nbsp;</span>문자열 여러 줄을 파일에 쓰기, 읽기</a></span><ul class=\"toc-item\"><li><span><a href=\"#반복문으로-문자열-여러-줄을-파일에-쓰기\" data-toc-modified-id=\"반복문으로-문자열-여러-줄을-파일에-쓰기-2.1\"><span class=\"toc-item-num\">2.1&nbsp;&nbsp;</span>반복문으로 문자열 여러 줄을 파일에 쓰기</a></span></li><li><span><a href=\"#리스트에-들어있는-문자열을-파일에-쓰기\" data-toc-modified-id=\"리스트에-들어있는-문자열을-파일에-쓰기-2.2\"><span class=\"toc-item-num\">2.2&nbsp;&nbsp;</span>리스트에 들어있는 문자열을 파일에 쓰기</a></span></li><li><span><a href=\"#파일의-내용을-한-줄씩-리스트로-가져오기\" data-toc-modified-id=\"파일의-내용을-한-줄씩-리스트로-가져오기-2.3\"><span class=\"toc-item-num\">2.3&nbsp;&nbsp;</span>파일의 내용을 한 줄씩 리스트로 가져오기</a></span></li><li><span><a href=\"#파일의-내용을-한-줄씩-읽기\" data-toc-modified-id=\"파일의-내용을-한-줄씩-읽기-2.4\"><span class=\"toc-item-num\">2.4&nbsp;&nbsp;</span>파일의 내용을 한 줄씩 읽기</a></span></li><li><span><a href=\"#for-반복문으로-파일의-내용을-줄-단위로-읽기\" data-toc-modified-id=\"for-반복문으로-파일의-내용을-줄-단위로-읽기-2.5\"><span class=\"toc-item-num\">2.5&nbsp;&nbsp;</span>for 반복문으로 파일의 내용을 줄 단위로 읽기</a></span></li></ul></li><li><span><a href=\"#파이썬-객체를-파일에-저장하기,-가져오기\" data-toc-modified-id=\"파이썬-객체를-파일에-저장하기,-가져오기-3\"><span class=\"toc-item-num\">3&nbsp;&nbsp;</span>파이썬 객체를 파일에 저장하기, 가져오기</a></span><ul class=\"toc-item\"><li><span><a href=\"#파이썬-객체를-파일에-저장하기\" data-toc-modified-id=\"파이썬-객체를-파일에-저장하기-3.1\"><span class=\"toc-item-num\">3.1&nbsp;&nbsp;</span>파이썬 객체를 파일에 저장하기</a></span></li><li><span><a href=\"#파일에서-파이썬-객체-읽기\" data-toc-modified-id=\"파일에서-파이썬-객체-읽기-3.2\"><span class=\"toc-item-num\">3.2&nbsp;&nbsp;</span>파일에서 파이썬 객체 읽기</a></span></li></ul></li><li><span><a href=\"#퀴즈\" data-toc-modified-id=\"퀴즈-4\"><span class=\"toc-item-num\">4&nbsp;&nbsp;</span>퀴즈</a></span><ul class=\"toc-item\"><li><span><a href=\"#연습문제-:-파일에서-10자-이하인-단어-개수-세기\" data-toc-modified-id=\"연습문제-:-파일에서-10자-이하인-단어-개수-세기-4.1\"><span class=\"toc-item-num\">4.1&nbsp;&nbsp;</span>연습문제 : 파일에서 10자 이하인 단어 개수 세기</a></span></li></ul></li></ul></div>"
   ]
  },
  {
   "cell_type": "markdown",
   "metadata": {},
   "source": [
    "## 파일에 문자열 쓰기, 읽기\n",
    "\n",
    "파일에 문자열을 써서 파일을 만든 뒤에 만든 파일을 읽는 순서로 진행."
   ]
  },
  {
   "cell_type": "markdown",
   "metadata": {},
   "source": [
    "### 파일에 문자열 쓰기\n",
    "\n",
    "파일에 문자열을 쓸 때는 open 함수로 파일을 열어서 파일 객체(file object)를 얻은 뒤에 write 메서드를 사용한다.\n",
    "\n",
    "* 파일객체 = open(파일이름, 파일모드)\n",
    "* 파일객체.wirte('문자열')\n",
    "* 파일객체.close()"
   ]
  },
  {
   "cell_type": "code",
   "execution_count": 1,
   "metadata": {
    "ExecuteTime": {
     "end_time": "2020-11-30T13:21:02.604220Z",
     "start_time": "2020-11-30T13:21:02.597250Z"
    }
   },
   "outputs": [],
   "source": [
    "file = open('hello.txt', 'w')    # hello.txt 파일을 쓰기 모드(w)로 열기. 파일 객체 반환\n",
    "file.write('Hello, world!')      # 파일에 문자열 저장\n",
    "file.close()                     # 파일 객체 닫기"
   ]
  },
  {
   "cell_type": "markdown",
   "metadata": {},
   "source": [
    "파일을 사용하기 위해서는 먼저 open 함수로 파일을 열어서 파일 객체를 얻어야 한다.\n",
    "\n",
    "다음과 같이 파일 이름은 'hello.txt'로 지정하고, 파일에 내용을 쓸 것이므로 파일 모드를 'w'로 지정해준다.\n",
    "\n",
    "여기서 'w'는 쓰다( write)의 w이다."
   ]
  },
  {
   "cell_type": "markdown",
   "metadata": {},
   "source": [
    "### 파일에서 문자열 읽기\n",
    "\n",
    "파일을 읽을 때도 open 함수로 파일을 열어서 파일 객체를 얻은 뒤 read 메서드로 파일의 내용을 읽는다.\n",
    "\n",
    "단, 이때는 파일 모드를 읽기 모드 'r'로 지정한다.\n",
    "\n",
    "* 변수 = 파일객체.read()"
   ]
  },
  {
   "cell_type": "code",
   "execution_count": 2,
   "metadata": {
    "ExecuteTime": {
     "end_time": "2020-11-30T13:23:09.771320Z",
     "start_time": "2020-11-30T13:23:09.758544Z"
    }
   },
   "outputs": [
    {
     "name": "stdout",
     "output_type": "stream",
     "text": [
      "Hello, world!\n"
     ]
    }
   ],
   "source": [
    "file = open('hello.txt', 'r')    # hello.txt 파일을 읽기 모드(r)로 열기. 파일 객체 반환\n",
    "s = file.read()                  # 파일에서 문자열 읽기\n",
    "print(s)                         # Hello, world!\n",
    "file.close()                     # 파일 객체 닫기"
   ]
  },
  {
   "cell_type": "markdown",
   "metadata": {},
   "source": [
    "먼저 open을 사용하여 hello.txt 파일을 읽기 모드 'r'로 연다.\n",
    "\n",
    "여기서 'r'은 읽다(read)의 r이다."
   ]
  },
  {
   "cell_type": "markdown",
   "metadata": {},
   "source": [
    "### 자동으로 파일 객체 닫기\n",
    "\n",
    "파일을 열 때마다 매번 close로 닫으려니 좀 귀찮다. 파이썬에서는 with as를 사용하면 파일을 사용한 뒤 자동으로 파일 객체를 닫아준다. 다음과 같이 with 다음에 open으로 파일을 열고 as 뒤에 파일 객체를 지정한다.\n",
    "\n",
    "```python\n",
    "with open(파일이름, 파일모드) as 파일객체:\n",
    "    코드\n",
    "```"
   ]
  },
  {
   "cell_type": "code",
   "execution_count": 3,
   "metadata": {
    "ExecuteTime": {
     "end_time": "2020-11-30T13:24:37.333587Z",
     "start_time": "2020-11-30T13:24:37.318072Z"
    }
   },
   "outputs": [
    {
     "name": "stdout",
     "output_type": "stream",
     "text": [
      "Hello, world!\n"
     ]
    }
   ],
   "source": [
    "with open('hello.txt', 'r') as file:    # hello.txt 파일을 읽기 모드(r)로 열기\n",
    "    s = file.read()                     # 파일에서 문자열 읽기\n",
    "    print(s)                            # Hello, world!"
   ]
  },
  {
   "cell_type": "markdown",
   "metadata": {},
   "source": [
    "## 문자열 여러 줄을 파일에 쓰기, 읽기"
   ]
  },
  {
   "cell_type": "markdown",
   "metadata": {},
   "source": [
    "### 반복문으로 문자열 여러 줄을 파일에 쓰기"
   ]
  },
  {
   "cell_type": "code",
   "execution_count": 4,
   "metadata": {
    "ExecuteTime": {
     "end_time": "2020-11-30T13:27:07.298311Z",
     "start_time": "2020-11-30T13:27:07.279362Z"
    }
   },
   "outputs": [],
   "source": [
    "with open('hello.txt', 'w') as file:    # hello.txt 파일을 쓰기 모드(w)로 열기\n",
    "    for i in range(3):\n",
    "        file.write('Hello, world! {0}\\n'.format(i))"
   ]
  },
  {
   "cell_type": "markdown",
   "metadata": {},
   "source": [
    "파일에 문자열 여러 줄을 저장할 때 주의할 부분은 개행 문자 부분이다.\n",
    "\n",
    "'Hello, world! {0}\\n'와 같이 문자열 끝에 개행 문자 \\n를 지정해주어야 줄바꿈이 된다.\n",
    "\n",
    "만약 \\n을 붙이지 않으면 문자열이 모두 한 줄로 붙어서 저장되므로 주의해야 한다."
   ]
  },
  {
   "cell_type": "markdown",
   "metadata": {},
   "source": [
    "### 리스트에 들어있는 문자열을 파일에 쓰기\n",
    "\n",
    "* 파일객체.writelines(문자열리스트)"
   ]
  },
  {
   "cell_type": "code",
   "execution_count": 5,
   "metadata": {
    "ExecuteTime": {
     "end_time": "2020-11-30T13:28:32.451580Z",
     "start_time": "2020-11-30T13:28:32.439100Z"
    }
   },
   "outputs": [],
   "source": [
    "lines = ['안녕하세요.\\n', '파이썬\\n', '코딩 도장입니다.\\n']\n",
    " \n",
    "with open('hello.txt', 'w') as file:    # hello.txt 파일을 쓰기 모드(w)로 열기\n",
    "    file.writelines(lines)"
   ]
  },
  {
   "cell_type": "markdown",
   "metadata": {},
   "source": [
    "writelines는 리스트에 들어있는 문자열을 파일에 쓴다. \n",
    "\n",
    "특히 writelines를 사용할 때는 반드시 리스트의 각 문자열 끝에 개행 문자 \\n을 붙여주어야 한다.\n",
    "\n",
    "그렇지 않으면 문자열이 모두 한 줄로 붙어서 저장되므로 주의해야 한다."
   ]
  },
  {
   "cell_type": "markdown",
   "metadata": {},
   "source": [
    "### 파일의 내용을 한 줄씩 리스트로 가져오기\n",
    "\n",
    "read는 파일의 내용을 읽어서 문자열로 가져오지만 readlines는 파일의 내용을 한 줄씩 리스트 형태로 가져온다.\n",
    "\n",
    "* 변수 = 파일객체.readlines()"
   ]
  },
  {
   "cell_type": "code",
   "execution_count": 6,
   "metadata": {
    "ExecuteTime": {
     "end_time": "2020-11-30T13:30:33.242452Z",
     "start_time": "2020-11-30T13:30:33.222500Z"
    }
   },
   "outputs": [
    {
     "name": "stdout",
     "output_type": "stream",
     "text": [
      "['안녕하세요.\\n', '파이썬\\n', '코딩 도장입니다.\\n']\n"
     ]
    }
   ],
   "source": [
    "with open('hello.txt', 'r') as file:    # hello.txt 파일을 읽기 모드(r)로 열기\n",
    "    lines = file.readlines()\n",
    "    print(lines)"
   ]
  },
  {
   "cell_type": "markdown",
   "metadata": {},
   "source": [
    "### 파일의 내용을 한 줄씩 읽기\n",
    "\n",
    "만약 파일의 내용을 한 줄씩 순차적으로 읽으려면 readline을 사용한다.\n",
    "\n",
    "* 변수 = 파일객체.readline()"
   ]
  },
  {
   "cell_type": "code",
   "execution_count": 7,
   "metadata": {
    "ExecuteTime": {
     "end_time": "2020-11-30T13:34:02.589396Z",
     "start_time": "2020-11-30T13:34:02.574425Z"
    }
   },
   "outputs": [
    {
     "name": "stdout",
     "output_type": "stream",
     "text": [
      "안녕하세요.\n",
      "파이썬\n",
      "코딩 도장입니다.\n",
      "\n"
     ]
    }
   ],
   "source": [
    "with open('hello.txt', 'r') as file:    # hello.txt 파일을 읽기 모드(r)로 열기\n",
    "    line = None    # 변수 line을 None으로 초기화\n",
    "    while line != '':\n",
    "        line = file.readline()\n",
    "        print(line.strip('\\n'))    # 파일에서 읽어온 문자열에서 \\n 삭제하여 출력"
   ]
  },
  {
   "cell_type": "markdown",
   "metadata": {},
   "source": [
    "readline으로 파일을 읽을 때는 while 반복문을 활용해야 한다.\n",
    "\n",
    "왜냐하면 파일에 문자열이 몇 줄이나 있는지 모르기 때문이다.\n",
    "\n",
    "while은 특정 조건이 만족할 때 계속 반복하므로 파일의 크기에 상관없이 문자열을 읽어올 수 있다."
   ]
  },
  {
   "cell_type": "markdown",
   "metadata": {},
   "source": [
    "readline은 더 이상 읽을 줄이 없을 때는 빈 문자열을 반환하는데, while에는 이런 특성을 이용하여 조건식을 만들어준다.\n",
    "\n",
    "즉, line != ''와 같이 빈 문자열이 아닐 때 계속 반복하도록 만든다.\n",
    "\n",
    "그리고 반복문 안에서는 line = file.readline()과 같이 문자열 한 줄을 읽어서 변수 line에 저장해주면 된다."
   ]
  },
  {
   "cell_type": "markdown",
   "metadata": {},
   "source": [
    "### for 반복문으로 파일의 내용을 줄 단위로 읽기"
   ]
  },
  {
   "cell_type": "code",
   "execution_count": 8,
   "metadata": {
    "ExecuteTime": {
     "end_time": "2020-11-30T13:44:30.272606Z",
     "start_time": "2020-11-30T13:44:30.263630Z"
    }
   },
   "outputs": [
    {
     "name": "stdout",
     "output_type": "stream",
     "text": [
      "안녕하세요.\n",
      "파이썬\n",
      "코딩 도장입니다.\n"
     ]
    }
   ],
   "source": [
    "with open('hello.txt', 'r') as file:    # hello.txt 파일을 읽기 모드(r)로 열기\n",
    "    for line in file:    # for에 파일 객체를 지정하면 파일의 내용을 한 줄씩 읽어서 변수에 저장함\n",
    "        print(line.strip('\\n'))    # 파일에서 읽어온 문자열에서 \\n 삭제하여 출력"
   ]
  },
  {
   "cell_type": "markdown",
   "metadata": {},
   "source": [
    "> 파일 객체는 이터레이터\n",
    "\n",
    "파일 객체는 이터레이터이다. 따라서 변수 여러 개에 저장하는 언패킹(unpacking)도 가능하다."
   ]
  },
  {
   "cell_type": "code",
   "execution_count": 9,
   "metadata": {
    "ExecuteTime": {
     "end_time": "2020-11-30T13:45:58.366205Z",
     "start_time": "2020-11-30T13:45:58.342269Z"
    }
   },
   "outputs": [
    {
     "data": {
      "text/plain": [
       "('안녕하세요.\\n', '파이썬\\n', '코딩 도장입니다.\\n')"
      ]
     },
     "execution_count": 9,
     "metadata": {},
     "output_type": "execute_result"
    }
   ],
   "source": [
    "file = open('hello.txt', 'r')\n",
    "a, b, c = file\n",
    "a, b, c"
   ]
  },
  {
   "cell_type": "markdown",
   "metadata": {},
   "source": [
    "물론 a, b, c = file과 같이 사용하려면 hello.txt에는 문자열 3줄이 들어있어야 한다. 즉, 할당할 변수의 개수와 파일에 저장된 문자열의 줄 수가 일치해야 한다."
   ]
  },
  {
   "cell_type": "markdown",
   "metadata": {},
   "source": [
    "## 파이썬 객체를 파일에 저장하기, 가져오기\n",
    "\n",
    "파이썬은 객체를 파일에 저장하는 pickle 모듈을 제공한다.\n",
    "\n",
    "다음과 같이 파이썬 객체를 파일에 저장하는 과정을 피클링(pickling)이라고 하고, 파일에서 객체를 읽어오는 과정을 언피클링(unpickling)이라고 한다."
   ]
  },
  {
   "cell_type": "markdown",
   "metadata": {},
   "source": [
    "### 파이썬 객체를 파일에 저장하기\n",
    "\n",
    "피클링은 pickle 모듈의 dump 메서드를 사용한다."
   ]
  },
  {
   "cell_type": "code",
   "execution_count": 10,
   "metadata": {
    "ExecuteTime": {
     "end_time": "2020-11-30T13:56:59.516231Z",
     "start_time": "2020-11-30T13:56:59.499274Z"
    }
   },
   "outputs": [],
   "source": [
    "import pickle\n",
    " \n",
    "name = 'james'\n",
    "age = 17\n",
    "address = '서울시 서초구 반포동'\n",
    "scores = {'korean': 90, 'english': 95, 'mathematics': 85, 'science': 82}\n",
    " \n",
    "with open('james.p', 'wb') as file:    # james.p 파일을 바이너리 쓰기 모드(wb)로 열기\n",
    "    pickle.dump(name, file)\n",
    "    pickle.dump(age, file)\n",
    "    pickle.dump(address, file)\n",
    "    pickle.dump(scores, file)"
   ]
  },
  {
   "cell_type": "markdown",
   "metadata": {},
   "source": [
    "특히 pickle.dump로 객체(값)를 저장할 때는 open('james.p', 'wb')와 같이 파일 모드를 'wb'로 지정해야 한다. b는 바이너리(binary)를 뜻하는데, 바이너리 파일은 컴퓨터가 처리하는 파일 형식이다. 따라서 메모장 같은 텍스트 편집기로 열어도 사람이 알아보기 어렵다."
   ]
  },
  {
   "cell_type": "markdown",
   "metadata": {},
   "source": [
    "### 파일에서 파이썬 객체 읽기\n",
    "\n",
    "파일에서 파이썬 객체를 읽어오는 언피클링을 해보자. 언피클링은 pickle 모듈의 load를 사용한다.\n",
    "\n",
    "그리고 언피클링을 할 때는 반드시 파일 모드를 바이너리 읽기 모드 'rb'로 지정해야 한다."
   ]
  },
  {
   "cell_type": "code",
   "execution_count": 11,
   "metadata": {
    "ExecuteTime": {
     "end_time": "2020-11-30T13:59:12.396740Z",
     "start_time": "2020-11-30T13:59:12.383774Z"
    }
   },
   "outputs": [
    {
     "name": "stdout",
     "output_type": "stream",
     "text": [
      "james\n",
      "17\n",
      "서울시 서초구 반포동\n",
      "{'korean': 90, 'english': 95, 'mathematics': 85, 'science': 82}\n"
     ]
    }
   ],
   "source": [
    "import pickle\n",
    " \n",
    "with open('james.p', 'rb') as file:    # james.p 파일을 바이너리 읽기 모드(rb)로 열기\n",
    "    name = pickle.load(file)\n",
    "    age = pickle.load(file)\n",
    "    address = pickle.load(file)\n",
    "    scores = pickle.load(file)\n",
    "    print(name)\n",
    "    print(age)\n",
    "    print(address)\n",
    "    print(scores)"
   ]
  },
  {
   "cell_type": "markdown",
   "metadata": {},
   "source": [
    "앞에서 james.p 파일을 저장할 때 pickle.dump를 네 번 사용했다. 마찬가지로 파일에서 객체(값)를 가져올 때도 pickle.load를 네 번 사용해야 한다. 즉, name, age, address, scores 순으로 저장했으므로 가져올 때도 같은 순서로 가져오면 된다."
   ]
  },
  {
   "cell_type": "markdown",
   "metadata": {},
   "source": [
    "> 다른 파일 모드는 없나요?\n",
    "\n",
    "파일 모드는 조합에 따라 여러 종류가 있다. 읽기 'r', 쓰기 'w', 이외에 추가 'a', 배타적 생성 'x'도 있다.\n",
    "\n",
    "추가 모드는 이미 있는 파일에서 끝에 새로운 내용을 추가할 때 사용하고, 배타적 생성 모드는 파일이 이미 있으면 에러(FileExistsError)를 발생시키고 없으면 파일을 만든다. 'x'는 베타적 생성(exclusive creation)의 x이다.\n",
    "\n",
    "또한, 파일의 형식도 함께 지정할 수 있는데, 텍스트 모드 't'와 바이너리 모드 'b'가 있다. 이 파일 형식과 읽기, 쓰기 모드를 조합한 텍스트 모드 'rt', 'wt'는 파일을 텍스트 모드로 연다. 특히 텍스트 모드는 생략할 수 있어서 그냥 'r', 'w'도 텍스트 모드이다. 그리고 바이너리 모드 'rb', 'wb' 등은 피클링을 사용하거나 바이너리 데이터를 직접 저장할 때 사용한다.\n",
    "\n",
    "그 다음에 '+'가 있는데 파일을 읽기/쓰기 모드로 연다. 이 모드는 'r+t', 'w+t', 'r+', 'r+b', 'w+b' 등으로 조합할 수 있으며 읽기/쓰기 모드인 것은 같지만 파일 처리 방법이 조금씩 다르다."
   ]
  },
  {
   "cell_type": "markdown",
   "metadata": {},
   "source": [
    "## 퀴즈\n",
    "\n",
    "### 연습문제 : 파일에서 10자 이하인 단어 개수 세기\n",
    "\n",
    "단어가 줄 단위로 저장된 words.txt 파일이 주어집니다. 다음 소스 코드를 완성하여 10자 이하인 단어의 개수가 출력되게 만드세요."
   ]
  },
  {
   "cell_type": "code",
   "execution_count": 14,
   "metadata": {
    "ExecuteTime": {
     "end_time": "2020-11-30T20:15:28.183949Z",
     "start_time": "2020-11-30T20:15:28.164998Z"
    }
   },
   "outputs": [
    {
     "name": "stdout",
     "output_type": "stream",
     "text": [
      "['anonymously\\n', 'compatibility\\n', 'dashboard\\n', 'experience\\n', 'photography\\n', 'spotlight\\n', 'warehouse']\n",
      "anonymously\n",
      "compatibility\n",
      "dashboard\n",
      "experience\n",
      "photography\n",
      "spotlight\n",
      "warehouse\n",
      "4\n"
     ]
    }
   ],
   "source": [
    "with open('words.txt', 'r') as file:\n",
    "    count = 0\n",
    "    words = file.readlines()\n",
    "    print(words)\n",
    "    for word in words:\n",
    "        print(word.strip('\\n'))\n",
    "        if len(word.strip('\\n')) <= 10:\n",
    "            count += 1\n",
    "    print(count)\n"
   ]
  }
 ],
 "metadata": {
  "kernelspec": {
   "display_name": "Python 3",
   "language": "python",
   "name": "python3"
  },
  "language_info": {
   "codemirror_mode": {
    "name": "ipython",
    "version": 3
   },
   "file_extension": ".py",
   "mimetype": "text/x-python",
   "name": "python",
   "nbconvert_exporter": "python",
   "pygments_lexer": "ipython3",
   "version": "3.7.6"
  },
  "toc": {
   "base_numbering": 1,
   "nav_menu": {},
   "number_sections": true,
   "sideBar": true,
   "skip_h1_title": true,
   "title_cell": "Table of Contents",
   "title_sidebar": "Contents",
   "toc_cell": true,
   "toc_position": {
    "height": "calc(100% - 180px)",
    "left": "10px",
    "top": "150px",
    "width": "265px"
   },
   "toc_section_display": true,
   "toc_window_display": true
  }
 },
 "nbformat": 4,
 "nbformat_minor": 4
}
