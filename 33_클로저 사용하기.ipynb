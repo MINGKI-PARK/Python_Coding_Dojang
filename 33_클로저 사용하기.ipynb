{
 "cells": [
  {
   "cell_type": "markdown",
   "metadata": {},
   "source": [
    "# 33_클로저 사용하기"
   ]
  },
  {
   "cell_type": "markdown",
   "metadata": {
    "toc": true
   },
   "source": [
    "<h1>Table of Contents<span class=\"tocSkip\"></span></h1>\n",
    "<div class=\"toc\"><ul class=\"toc-item\"><li><span><a href=\"#변수의-사용-범위-알아보기\" data-toc-modified-id=\"변수의-사용-범위-알아보기-1\"><span class=\"toc-item-num\">1&nbsp;&nbsp;</span>변수의 사용 범위 알아보기</a></span><ul class=\"toc-item\"><li><span><a href=\"#함수-안에서-전역-변수-변경하기\" data-toc-modified-id=\"함수-안에서-전역-변수-변경하기-1.1\"><span class=\"toc-item-num\">1.1&nbsp;&nbsp;</span>함수 안에서 전역 변수 변경하기</a></span></li></ul></li><li><span><a href=\"#함수-안에서-함수-만들기\" data-toc-modified-id=\"함수-안에서-함수-만들기-2\"><span class=\"toc-item-num\">2&nbsp;&nbsp;</span>함수 안에서 함수 만들기</a></span><ul class=\"toc-item\"><li><span><a href=\"#지역-변수의-범위\" data-toc-modified-id=\"지역-변수의-범위-2.1\"><span class=\"toc-item-num\">2.1&nbsp;&nbsp;</span>지역 변수의 범위</a></span></li><li><span><a href=\"#지역-변수-변경하기\" data-toc-modified-id=\"지역-변수-변경하기-2.2\"><span class=\"toc-item-num\">2.2&nbsp;&nbsp;</span>지역 변수 변경하기</a></span></li><li><span><a href=\"#nonlocal이-변수를-찾는-순서\" data-toc-modified-id=\"nonlocal이-변수를-찾는-순서-2.3\"><span class=\"toc-item-num\">2.3&nbsp;&nbsp;</span>nonlocal이 변수를 찾는 순서</a></span></li><li><span><a href=\"#global로-전역-변수-사용하기\" data-toc-modified-id=\"global로-전역-변수-사용하기-2.4\"><span class=\"toc-item-num\">2.4&nbsp;&nbsp;</span>global로 전역 변수 사용하기</a></span></li></ul></li><li><span><a href=\"#클로저-사용하기\" data-toc-modified-id=\"클로저-사용하기-3\"><span class=\"toc-item-num\">3&nbsp;&nbsp;</span>클로저 사용하기</a></span><ul class=\"toc-item\"><li><span><a href=\"#lambda로-클로저-만들기\" data-toc-modified-id=\"lambda로-클로저-만들기-3.1\"><span class=\"toc-item-num\">3.1&nbsp;&nbsp;</span>lambda로 클로저 만들기</a></span></li><li><span><a href=\"#클로저의-지역-변수-변경하기\" data-toc-modified-id=\"클로저의-지역-변수-변경하기-3.2\"><span class=\"toc-item-num\">3.2&nbsp;&nbsp;</span>클로저의 지역 변수 변경하기</a></span></li></ul></li><li><span><a href=\"#연습문제-:-호출-횟수를-세는-함수-만들기\" data-toc-modified-id=\"연습문제-:-호출-횟수를-세는-함수-만들기-4\"><span class=\"toc-item-num\">4&nbsp;&nbsp;</span>연습문제 : 호출 횟수를 세는 함수 만들기</a></span></li></ul></div>"
   ]
  },
  {
   "cell_type": "markdown",
   "metadata": {},
   "source": [
    "이번에는 변수의 사용 범위와 함수를 클로저 형태로 만드는 방법을 알아보겠습니다.\n",
    "\n",
    "참고로 클로저는 개념이 다소 어려울 수 있으므로 변수의 사용 범위부터 알아본 뒤에 설명하겠습니다."
   ]
  },
  {
   "cell_type": "markdown",
   "metadata": {},
   "source": [
    "## 변수의 사용 범위 알아보기\n",
    "\n",
    "파이썬 스크립트에서 변수를 만들면 다음과 같이 함수 안에서도 사용할 수 있습니다."
   ]
  },
  {
   "cell_type": "code",
   "execution_count": 1,
   "metadata": {
    "ExecuteTime": {
     "end_time": "2020-12-14T14:26:47.937526Z",
     "start_time": "2020-12-14T14:26:47.917245Z"
    }
   },
   "outputs": [
    {
     "name": "stdout",
     "output_type": "stream",
     "text": [
      "10\n",
      "10\n"
     ]
    }
   ],
   "source": [
    "x = 10          # 전역 변수\n",
    "def foo():\n",
    "    print(x)    # 전역 변수 출력\n",
    " \n",
    "foo()\n",
    "print(x)        # 전역 변수 출력"
   ]
  },
  {
   "cell_type": "markdown",
   "metadata": {},
   "source": [
    "foo 함수에서 함수 바깥에 있는 변수 x의 값을 출력했습니다. 물론 함수 바깥에서도 x의 값을 출력할 수 있습니다. 이처럼 함수를 포함하여 스크립트 전체에서 접근할 수 있는 변수를 전역 변수(global variable)라고 부릅니다. 특히 전역 변수에 접근할 수 있는 범위를 전역 범위(global scope)라고 합니다."
   ]
  },
  {
   "cell_type": "markdown",
   "metadata": {},
   "source": [
    "그럼 변수 x를 함수 foo 안에서 만들면 어떻게 될까요?"
   ]
  },
  {
   "cell_type": "code",
   "execution_count": 3,
   "metadata": {
    "ExecuteTime": {
     "end_time": "2020-12-14T14:27:39.729173Z",
     "start_time": "2020-12-14T14:27:39.645980Z"
    }
   },
   "outputs": [
    {
     "name": "stdout",
     "output_type": "stream",
     "text": [
      "10\n"
     ]
    },
    {
     "ename": "NameError",
     "evalue": "name 'x' is not defined",
     "output_type": "error",
     "traceback": [
      "\u001b[1;31m---------------------------------------------------------------------------\u001b[0m",
      "\u001b[1;31mNameError\u001b[0m                                 Traceback (most recent call last)",
      "\u001b[1;32m<ipython-input-3-0c682a113c09>\u001b[0m in \u001b[0;36m<module>\u001b[1;34m\u001b[0m\n\u001b[0;32m      5\u001b[0m \u001b[1;33m\u001b[0m\u001b[0m\n\u001b[0;32m      6\u001b[0m \u001b[0mfoo\u001b[0m\u001b[1;33m(\u001b[0m\u001b[1;33m)\u001b[0m\u001b[1;33m\u001b[0m\u001b[1;33m\u001b[0m\u001b[0m\n\u001b[1;32m----> 7\u001b[1;33m \u001b[0mprint\u001b[0m\u001b[1;33m(\u001b[0m\u001b[0mx\u001b[0m\u001b[1;33m)\u001b[0m        \u001b[1;31m# 에러. foo의 지역 변수는 출력할 수 없음\u001b[0m\u001b[1;33m\u001b[0m\u001b[1;33m\u001b[0m\u001b[0m\n\u001b[0m",
      "\u001b[1;31mNameError\u001b[0m: name 'x' is not defined"
     ]
    }
   ],
   "source": [
    "del x\n",
    "def foo():\n",
    "    x = 10      # foo의 지역 변수\n",
    "    print(x)    # foo의 지역 변수 출력\n",
    " \n",
    "foo()\n",
    "print(x)        # 에러. foo의 지역 변수는 출력할 수 없음"
   ]
  },
  {
   "cell_type": "markdown",
   "metadata": {},
   "source": [
    "실행을 해보면 x가 정의되지 않았다는 에러가 발생합니다. 왜냐하면 변수 x는 함수 foo 안에서 만들었기 때문에 foo의 지역 변수(local variable)입니다. 따라서 지역 변수는 변수를 만든 함수 안에서만 접근할 수 있고, 함수 바깥에서는 접근할 수 없습니다. 특히 지역 변수를 접근할 수 있는 범위를 지역 범위(local scope)라고 합니다."
   ]
  },
  {
   "cell_type": "markdown",
   "metadata": {},
   "source": [
    "이렇게 전역 변수와 지역 변수를 사용해보았습니다."
   ]
  },
  {
   "cell_type": "markdown",
   "metadata": {},
   "source": [
    "### 함수 안에서 전역 변수 변경하기\n",
    "\n",
    "만약 함수 안에서 전역 변수의 값을 변경하면 어떻게 될까요?"
   ]
  },
  {
   "cell_type": "code",
   "execution_count": 4,
   "metadata": {
    "ExecuteTime": {
     "end_time": "2020-12-14T14:28:34.530490Z",
     "start_time": "2020-12-14T14:28:34.509902Z"
    }
   },
   "outputs": [
    {
     "name": "stdout",
     "output_type": "stream",
     "text": [
      "20\n",
      "10\n"
     ]
    }
   ],
   "source": [
    "x = 10          # 전역 변수\n",
    "def foo():\n",
    "    x = 20      # x는 foo의 지역 변수\n",
    "    print(x)    # foo의 지역 변수 출력\n",
    " \n",
    "foo()\n",
    "print(x)        # 전역 변수 출력"
   ]
  },
  {
   "cell_type": "markdown",
   "metadata": {},
   "source": [
    "분명 함수 foo 안에서 x = 20처럼 x의 값을 20으로 변경했습니다. 하지만 함수 바깥에서 print로 x의 값을 출력해보면 10이 나옵니다. 겉으로 보기에는 foo 안의 x는 전역 변수인 것 같지만 실제로는 foo의 지역 변수입니다. 즉, 전역 변수 x가 있고, foo에서 지역 변수 x를 새로 만들게 됩니다. 이 둘은 이름만 같을 뿐 서로 다른 변수입니다.\n",
    "\n",
    "함수 안에서 전역 변수의 값을 변경하려면 global 키워드를 사용해야 합니다. 다음과 같이 함수 안에서 global에 전역 변수의 이름을 지정해줍니다.\n",
    "\n",
    "+ global 전역변수"
   ]
  },
  {
   "cell_type": "code",
   "execution_count": 5,
   "metadata": {
    "ExecuteTime": {
     "end_time": "2020-12-14T14:29:04.839422Z",
     "start_time": "2020-12-14T14:29:04.823156Z"
    }
   },
   "outputs": [
    {
     "name": "stdout",
     "output_type": "stream",
     "text": [
      "20\n",
      "20\n"
     ]
    }
   ],
   "source": [
    "x = 10          # 전역 변수\n",
    "def foo():\n",
    "    global x    # 전역 변수 x를 사용하겠다고 설정\n",
    "    x = 20      # x는 전역 변수\n",
    "    print(x)    # 전역 변수 출력\n",
    " \n",
    "foo()\n",
    "print(x)        # 전역 변수 출력"
   ]
  },
  {
   "cell_type": "markdown",
   "metadata": {},
   "source": [
    "이제 함수 안에서 x를 20으로 변경하면 함수 바깥에서 x를 출력했을 때 20이 나옵니다. 이렇게 함수 안에서 변수를 global로 지정하면 전역 변수를 사용하게 됩니다.\n",
    "\n",
    "만약 전역 변수가 없을 때 함수 안에서 global을 사용하면 해당 변수는 전역 변수가 됩니다."
   ]
  },
  {
   "cell_type": "code",
   "execution_count": 6,
   "metadata": {
    "ExecuteTime": {
     "end_time": "2020-12-14T14:29:25.368353Z",
     "start_time": "2020-12-14T14:29:25.356629Z"
    }
   },
   "outputs": [
    {
     "name": "stdout",
     "output_type": "stream",
     "text": [
      "20\n",
      "20\n"
     ]
    }
   ],
   "source": [
    "# 전역 변수 x가 없는 상태\n",
    "def foo():\n",
    "    global x    # x를 전역 변수로 만듦\n",
    "    x = 20      # x는 전역 변수\n",
    "    print(x)    # 전역 변수 출력\n",
    " \n",
    "foo()\n",
    "print(x)        # 전역 변수 출력"
   ]
  },
  {
   "cell_type": "markdown",
   "metadata": {},
   "source": [
    "> 네임스페이스\n",
    "\n",
    "파이썬에서 변수는 네임스페이스(namespace, 이름공간)에 저장됩니다. 다음과 같이 locals 함수를 사용하면 현재 네임스페이스를 딕셔너리 형태로 출력할 수 있습니다."
   ]
  },
  {
   "cell_type": "code",
   "execution_count": 7,
   "metadata": {
    "ExecuteTime": {
     "end_time": "2020-12-14T14:29:57.853338Z",
     "start_time": "2020-12-14T14:29:57.829597Z"
    }
   },
   "outputs": [
    {
     "data": {
      "text/plain": [
       "{'__name__': '__main__',\n",
       " '__doc__': 'Automatically created module for IPython interactive environment',\n",
       " '__package__': None,\n",
       " '__loader__': None,\n",
       " '__spec__': None,\n",
       " '__builtin__': <module 'builtins' (built-in)>,\n",
       " '__builtins__': <module 'builtins' (built-in)>,\n",
       " '_ih': ['',\n",
       "  'x = 10          # 전역 변수\\ndef foo():\\n    print(x)    # 전역 변수 출력\\n \\nfoo()\\nprint(x)        # 전역 변수 출력',\n",
       "  'def foo():\\n    x = 10      # foo의 지역 변수\\n    print(x)    # foo의 지역 변수 출력\\n \\nfoo()\\nprint(x)        # 에러. foo의 지역 변수는 출력할 수 없음',\n",
       "  'del x\\ndef foo():\\n    x = 10      # foo의 지역 변수\\n    print(x)    # foo의 지역 변수 출력\\n \\nfoo()\\nprint(x)        # 에러. foo의 지역 변수는 출력할 수 없음',\n",
       "  'x = 10          # 전역 변수\\ndef foo():\\n    x = 20      # x는 foo의 지역 변수\\n    print(x)    # foo의 지역 변수 출력\\n \\nfoo()\\nprint(x)        # 전역 변수 출력',\n",
       "  'x = 10          # 전역 변수\\ndef foo():\\n    global x    # 전역 변수 x를 사용하겠다고 설정\\n    x = 20      # x는 전역 변수\\n    print(x)    # 전역 변수 출력\\n \\nfoo()\\nprint(x)        # 전역 변수 출력',\n",
       "  '# 전역 변수 x가 없는 상태\\ndef foo():\\n    global x    # x를 전역 변수로 만듦\\n    x = 20      # x는 전역 변수\\n    print(x)    # 전역 변수 출력\\n \\nfoo()\\nprint(x)        # 전역 변수 출력',\n",
       "  'x = 10\\nlocals()'],\n",
       " '_oh': {},\n",
       " '_dh': ['C:\\\\Users\\\\Playdata\\\\Google 드라이브\\\\reposit\\\\파이썬 코딩 도장'],\n",
       " 'In': ['',\n",
       "  'x = 10          # 전역 변수\\ndef foo():\\n    print(x)    # 전역 변수 출력\\n \\nfoo()\\nprint(x)        # 전역 변수 출력',\n",
       "  'def foo():\\n    x = 10      # foo의 지역 변수\\n    print(x)    # foo의 지역 변수 출력\\n \\nfoo()\\nprint(x)        # 에러. foo의 지역 변수는 출력할 수 없음',\n",
       "  'del x\\ndef foo():\\n    x = 10      # foo의 지역 변수\\n    print(x)    # foo의 지역 변수 출력\\n \\nfoo()\\nprint(x)        # 에러. foo의 지역 변수는 출력할 수 없음',\n",
       "  'x = 10          # 전역 변수\\ndef foo():\\n    x = 20      # x는 foo의 지역 변수\\n    print(x)    # foo의 지역 변수 출력\\n \\nfoo()\\nprint(x)        # 전역 변수 출력',\n",
       "  'x = 10          # 전역 변수\\ndef foo():\\n    global x    # 전역 변수 x를 사용하겠다고 설정\\n    x = 20      # x는 전역 변수\\n    print(x)    # 전역 변수 출력\\n \\nfoo()\\nprint(x)        # 전역 변수 출력',\n",
       "  '# 전역 변수 x가 없는 상태\\ndef foo():\\n    global x    # x를 전역 변수로 만듦\\n    x = 20      # x는 전역 변수\\n    print(x)    # 전역 변수 출력\\n \\nfoo()\\nprint(x)        # 전역 변수 출력',\n",
       "  'x = 10\\nlocals()'],\n",
       " 'Out': {},\n",
       " 'get_ipython': <bound method InteractiveShell.get_ipython of <ipykernel.zmqshell.ZMQInteractiveShell object at 0x0000023C4351EEC8>>,\n",
       " 'exit': <IPython.core.autocall.ZMQExitAutocall at 0x23c435a2188>,\n",
       " 'quit': <IPython.core.autocall.ZMQExitAutocall at 0x23c435a2188>,\n",
       " '_': '',\n",
       " '__': '',\n",
       " '___': '',\n",
       " '_i': '# 전역 변수 x가 없는 상태\\ndef foo():\\n    global x    # x를 전역 변수로 만듦\\n    x = 20      # x는 전역 변수\\n    print(x)    # 전역 변수 출력\\n \\nfoo()\\nprint(x)        # 전역 변수 출력',\n",
       " '_ii': 'x = 10          # 전역 변수\\ndef foo():\\n    global x    # 전역 변수 x를 사용하겠다고 설정\\n    x = 20      # x는 전역 변수\\n    print(x)    # 전역 변수 출력\\n \\nfoo()\\nprint(x)        # 전역 변수 출력',\n",
       " '_iii': 'x = 10          # 전역 변수\\ndef foo():\\n    x = 20      # x는 foo의 지역 변수\\n    print(x)    # foo의 지역 변수 출력\\n \\nfoo()\\nprint(x)        # 전역 변수 출력',\n",
       " '_i1': 'x = 10          # 전역 변수\\ndef foo():\\n    print(x)    # 전역 변수 출력\\n \\nfoo()\\nprint(x)        # 전역 변수 출력',\n",
       " 'foo': <function __main__.foo()>,\n",
       " '_i2': 'def foo():\\n    x = 10      # foo의 지역 변수\\n    print(x)    # foo의 지역 변수 출력\\n \\nfoo()\\nprint(x)        # 에러. foo의 지역 변수는 출력할 수 없음',\n",
       " '_i3': 'del x\\ndef foo():\\n    x = 10      # foo의 지역 변수\\n    print(x)    # foo의 지역 변수 출력\\n \\nfoo()\\nprint(x)        # 에러. foo의 지역 변수는 출력할 수 없음',\n",
       " '_i4': 'x = 10          # 전역 변수\\ndef foo():\\n    x = 20      # x는 foo의 지역 변수\\n    print(x)    # foo의 지역 변수 출력\\n \\nfoo()\\nprint(x)        # 전역 변수 출력',\n",
       " 'x': 10,\n",
       " '_i5': 'x = 10          # 전역 변수\\ndef foo():\\n    global x    # 전역 변수 x를 사용하겠다고 설정\\n    x = 20      # x는 전역 변수\\n    print(x)    # 전역 변수 출력\\n \\nfoo()\\nprint(x)        # 전역 변수 출력',\n",
       " '_i6': '# 전역 변수 x가 없는 상태\\ndef foo():\\n    global x    # x를 전역 변수로 만듦\\n    x = 20      # x는 전역 변수\\n    print(x)    # 전역 변수 출력\\n \\nfoo()\\nprint(x)        # 전역 변수 출력',\n",
       " '_i7': 'x = 10\\nlocals()'}"
      ]
     },
     "execution_count": 7,
     "metadata": {},
     "output_type": "execute_result"
    }
   ],
   "source": [
    "x = 10\n",
    "locals()"
   ]
  },
  {
   "cell_type": "markdown",
   "metadata": {},
   "source": [
    "출력된 네임스페이스를 보면 'x': 10처럼 변수 x와 값 10이 저장되어 있습니다. 여기서는 전역 범위에서 네임스페이스를 출력했으므로 전역 네임스페이스를 가져옵니다.\n",
    "\n",
    "마찬가지로 함수 안에서 locals를 사용할 수도 있습니다."
   ]
  },
  {
   "cell_type": "code",
   "execution_count": 8,
   "metadata": {
    "ExecuteTime": {
     "end_time": "2020-12-14T14:31:00.477390Z",
     "start_time": "2020-12-14T14:31:00.462629Z"
    }
   },
   "outputs": [
    {
     "name": "stdout",
     "output_type": "stream",
     "text": [
      "{'x': 10}\n"
     ]
    }
   ],
   "source": [
    "def foo():\n",
    "    x = 10\n",
    "    print(locals())\n",
    "    \n",
    "foo()"
   ]
  },
  {
   "cell_type": "markdown",
   "metadata": {},
   "source": [
    "네임스페이스를 보면 'x': 10만 저장되어 있습니다. 이때는 지역 범위에서 네임스페이스를 출력했으므로 지역 네임스페이스를 가져옵니다."
   ]
  },
  {
   "cell_type": "markdown",
   "metadata": {},
   "source": [
    "## 함수 안에서 함수 만들기\n",
    "\n",
    "이번에는 함수 안에서 함수를 만드는 방법을 알아보겠습니다. 다음과 같이 def로 함수를 만들고 그 안에서 다시 def로 함수를 만들면 됩니다.\n",
    "\n",
    "```python\n",
    "def 함수이름1():\n",
    "    코드\n",
    "    def 함수이름2():\n",
    "        코드\n",
    "```"
   ]
  },
  {
   "cell_type": "markdown",
   "metadata": {},
   "source": [
    "간단하게 함수 안에서 문자열을 출력하는 함수를 만들고 호출해봅니다."
   ]
  },
  {
   "cell_type": "code",
   "execution_count": 9,
   "metadata": {
    "ExecuteTime": {
     "end_time": "2020-12-14T14:32:16.288635Z",
     "start_time": "2020-12-14T14:32:16.270394Z"
    }
   },
   "outputs": [
    {
     "name": "stdout",
     "output_type": "stream",
     "text": [
      "Hello, world!\n"
     ]
    }
   ],
   "source": [
    "def print_hello():\n",
    "    hello = 'Hello, world!'\n",
    "    def print_message():\n",
    "        print(hello)\n",
    "    print_message()\n",
    " \n",
    "print_hello()"
   ]
  },
  {
   "cell_type": "markdown",
   "metadata": {},
   "source": [
    "함수 print_hello 안에서 다시 def로 함수 print_message를 만들었습니다. 그리고 print_hello 안에서 print_message()처럼 함수를 호출했습니다. 하지만 아직 함수를 정의만 한 상태이므로 아무것도 출력되지 않습니다.\n",
    "\n",
    "두 함수가 실제로 동작하려면 바깥쪽에 있는 print_hello를 호출해주어야 합니다. 즉, print_hello > print_message 순으로 실행됩니다."
   ]
  },
  {
   "cell_type": "markdown",
   "metadata": {},
   "source": [
    "### 지역 변수의 범위\n",
    "\n",
    "그럼 print_hello 함수와 print_message 함수에서 지역 변수의 범위를 살펴보겠습니다. 안쪽 함수 print_message에서는 바깥쪽 함수 print_hello의 지역 변수 hello를 사용할 수 있습니다."
   ]
  },
  {
   "cell_type": "code",
   "execution_count": 10,
   "metadata": {
    "ExecuteTime": {
     "end_time": "2020-12-14T14:33:49.357672Z",
     "start_time": "2020-12-14T14:33:49.349397Z"
    }
   },
   "outputs": [],
   "source": [
    "def print_hello():\n",
    "    hello = 'Hello, world!'\n",
    "    def print_message():\n",
    "        print(hello)    # 바깥쪽 함수의 지역 변수를 사용"
   ]
  },
  {
   "cell_type": "markdown",
   "metadata": {},
   "source": [
    "즉, 바깥쪽 함수의 지역 변수는 그 안에 속한 모든 함수에서 접근할 수 있습니다."
   ]
  },
  {
   "cell_type": "markdown",
   "metadata": {},
   "source": [
    "### 지역 변수 변경하기\n",
    "\n",
    "지금까지 바깥쪽 함수의 지역 변수를 안쪽 함수에서 사용해봤습니다. 그럼 바깥쪽 함수의 지역 변수를 안쪽 함수에서 변경하면 어떻게 될까요?\n",
    "\n",
    "다음과 같이 안쪽 함수 B에서 바깥쪽 함수 A의 지역 변수 x를 변경해봅니다."
   ]
  },
  {
   "cell_type": "code",
   "execution_count": 11,
   "metadata": {
    "ExecuteTime": {
     "end_time": "2020-12-14T14:34:35.421402Z",
     "start_time": "2020-12-14T14:34:35.406146Z"
    }
   },
   "outputs": [
    {
     "name": "stdout",
     "output_type": "stream",
     "text": [
      "10\n"
     ]
    }
   ],
   "source": [
    "def A():\n",
    "    x = 10        # A의 지역 변수 x\n",
    "    def B():\n",
    "        x = 20    # x에 20 할당\n",
    " \n",
    "    B()\n",
    "    print(x)      # A의 지역 변수 x 출력\n",
    " \n",
    "A()"
   ]
  },
  {
   "cell_type": "markdown",
   "metadata": {},
   "source": [
    "실행을 해보면 20이 나와야 할 것 같은데 10이 나왔습니다. 왜냐하면 겉으로 보기에는 바깥쪽 함수 A의 지역 변수 x를 변경하는 것 같지만, 실제로는 안쪽 함수 B에서 이름이 같은 지역 변수 x를 새로 만들게 됩니다. 즉, 파이썬에서는 함수에서 변수를 만들면 항상 현재 함수의 지역 변수가 됩니다."
   ]
  },
  {
   "cell_type": "code",
   "execution_count": 12,
   "metadata": {
    "ExecuteTime": {
     "end_time": "2020-12-14T14:34:58.045972Z",
     "start_time": "2020-12-14T14:34:58.037996Z"
    }
   },
   "outputs": [],
   "source": [
    "def A():\n",
    "    x = 10        # A의 지역 변수 x\n",
    "    def B():\n",
    "        x = 20    # B의 지역 변수 x를 새로 만듦"
   ]
  },
  {
   "cell_type": "markdown",
   "metadata": {},
   "source": [
    "현재 함수의 바깥쪽에 있는 지역 변수의 값을 변경하려면 nonlocal 키워드를 사용해야 합니다. 다음과 같이 함수 안에서 nonlocal에 지역 변수의 이름을 지정해줍니다.\n",
    "\n",
    "+ nonlocal 지역변수"
   ]
  },
  {
   "cell_type": "code",
   "execution_count": 13,
   "metadata": {
    "ExecuteTime": {
     "end_time": "2020-12-14T14:35:56.202322Z",
     "start_time": "2020-12-14T14:35:56.182247Z"
    }
   },
   "outputs": [
    {
     "name": "stdout",
     "output_type": "stream",
     "text": [
      "20\n"
     ]
    }
   ],
   "source": [
    "def A():\n",
    "    x = 10        # A의 지역 변수 x\n",
    "    def B():\n",
    "        nonlocal x    # 현재 함수의 바깥쪽에 있는 지역 변수 사용\n",
    "        x = 20        # A의 지역 변수 x에 20 할당\n",
    " \n",
    "    B()\n",
    "    print(x)      # A의 지역 변수 x 출력\n",
    " \n",
    "A()"
   ]
  },
  {
   "cell_type": "markdown",
   "metadata": {},
   "source": [
    "이제 함수 B에서 함수 A의 지역 변수 x를 변경할 수 있습니다. 즉, nonlocal은 현재 함수의 지역 변수가 아니라는 뜻이며 바깥쪽 함수의 지역 변수를 사용합니다."
   ]
  },
  {
   "cell_type": "markdown",
   "metadata": {},
   "source": [
    "### nonlocal이 변수를 찾는 순서\n",
    "\n",
    "nonlocal은 현재 함수의 바깥쪽에 있는 지역 변수를 찾을 때 가장 가까운 함수부터 먼저 찾습니다. 이번에는 함수의 단계를 A, B, C로 만들었습니다."
   ]
  },
  {
   "cell_type": "code",
   "execution_count": 14,
   "metadata": {
    "ExecuteTime": {
     "end_time": "2020-12-14T14:36:55.661659Z",
     "start_time": "2020-12-14T14:36:55.653683Z"
    }
   },
   "outputs": [
    {
     "name": "stdout",
     "output_type": "stream",
     "text": [
      "50\n",
      "400\n"
     ]
    }
   ],
   "source": [
    "def A():\n",
    "    x = 10\n",
    "    y = 100\n",
    "    def B():\n",
    "        x = 20\n",
    "        def C():\n",
    "            nonlocal x\n",
    "            nonlocal y\n",
    "            x = x + 30\n",
    "            y = y + 300\n",
    "            print(x)\n",
    "            print(y)\n",
    "        C()\n",
    "    B()\n",
    " \n",
    "A()"
   ]
  },
  {
   "cell_type": "markdown",
   "metadata": {},
   "source": [
    "함수 C에서 nonlocal x를 사용하면 바깥쪽에 있는 함수 B의 지역 변수 x = 20을 사용하게 됩니다. 따라서 x = x + 30은 50이 나옵니다. 그리고 함수 C에서 nonlocal y를 사용하면 바깥쪽에 있는 함수의 지역 변수 y를 사용해야 하는데 함수 B에는 y가 없습니다. 이때는 한 단계 더 바깥으로 나가서 함수 A의 지역 변수 y를 사용하게 됩니다. 즉, 가까운 함수부터 지역 변수를 찾고, 지역 변수가 없으면 계속 바깥쪽으로 나가서 찾습니다.\n",
    "\n",
    "실무에서는 이렇게 여러 단계로 함수를 만들 일은 거의 없습니다. 그리고 함수마다 이름이 같은 변수를 사용하기 보다는 변수 이름을 다르게 짓는 것이 좋습니다."
   ]
  },
  {
   "cell_type": "markdown",
   "metadata": {},
   "source": [
    "### global로 전역 변수 사용하기\n",
    "\n",
    "특히, 함수가 몇 단계든 상관없이 global 키워드를 사용하면 무조건 전역 변수를 사용하게 됩니다."
   ]
  },
  {
   "cell_type": "code",
   "execution_count": 15,
   "metadata": {
    "ExecuteTime": {
     "end_time": "2020-12-14T14:38:25.972706Z",
     "start_time": "2020-12-14T14:38:25.959314Z"
    }
   },
   "outputs": [
    {
     "name": "stdout",
     "output_type": "stream",
     "text": [
      "31\n"
     ]
    }
   ],
   "source": [
    "x = 1\n",
    "def A():\n",
    "    x = 10\n",
    "    def B():\n",
    "        x = 20\n",
    "        def C():\n",
    "            global x\n",
    "            x = x + 30\n",
    "            print(x)\n",
    "        C()\n",
    "    B()\n",
    " \n",
    "A()"
   ]
  },
  {
   "cell_type": "markdown",
   "metadata": {},
   "source": [
    "함수 C에서 global x를 사용하면 전역 변수 x = 1을 사용하게 됩니다. 따라서 x = x + 30은 31이 나옵니다.\n",
    "\n",
    "파이썬에서 global을 제공하지만 함수에서 값을 주고받을 때는 매개변수와 반환값을 사용하는 것이 좋습니다. 특히 전역 변수는 코드가 복잡해졌을 때 변수의 값을 어디서 바꾸는지 알기가 힘듭니다. 따라서 전역 변수는 가급적이면 사용하지 않는 것을 권장합니다."
   ]
  },
  {
   "cell_type": "markdown",
   "metadata": {},
   "source": [
    "## 클로저 사용하기\n",
    "\n",
    "이제 함수를 클로저 형태로 만드는 방법을 알아보겠습니다. 다음은 함수 바깥쪽에 있는 지역 변수 a, b를 사용하여 a * x + b를 계산하는 함수 mul_add를 만든 뒤에 함수 mul_add 자체를 반환합니다."
   ]
  },
  {
   "cell_type": "code",
   "execution_count": 17,
   "metadata": {
    "ExecuteTime": {
     "end_time": "2020-12-14T14:41:22.511636Z",
     "start_time": "2020-12-14T14:41:22.494520Z"
    }
   },
   "outputs": [
    {
     "name": "stdout",
     "output_type": "stream",
     "text": [
      "8 11 14 17 20\n"
     ]
    }
   ],
   "source": [
    "def calc():\n",
    "    a = 3\n",
    "    b = 5\n",
    "    def mul_add(x):\n",
    "        return a * x + b    # 함수 바깥쪽에 있는 지역 변수 a, b를 사용하여 계산\n",
    "    return mul_add          # mul_add 함수를 반환\n",
    " \n",
    "c = calc()\n",
    "print(c(1), c(2), c(3), c(4), c(5))"
   ]
  },
  {
   "cell_type": "markdown",
   "metadata": {},
   "source": [
    "먼저 calc에 지역 변수 a와 b를 만들고 3과 5를 저장했습니다. 그다음에 함수 mul_add에서 a와 b를 사용하여 a * x + b를 계산한 뒤 반환합니다.\n",
    "\n",
    "```python\n",
    "def calc():\n",
    "    a = 3\n",
    "    b = 5\n",
    "    def mul_add(x):\n",
    "        return a * x + b    # 함수 바깥쪽에 있는 지역 변수 a, b를 사용하여 계산\n",
    "```\n",
    "\n",
    "함수 mul_add를 만든 뒤에는 이 함수를 바로 호출하지 않고 return으로 함수 자체를 반환합니다(함수를 반환할 때는 함수 이름만 반환해야 하며 ( )(괄호)를 붙이면 안 됩니다).\n",
    "\n",
    "```python\n",
    "    return mul_add          # mul_add 함수를 반환\n",
    "```"
   ]
  },
  {
   "cell_type": "markdown",
   "metadata": {},
   "source": [
    "이제 클로저를 사용해보겠습니다. 다음과 같이 함수 calc를 호출한 뒤 반환값을 c에 저장합니다. calc에서 mul_add를 반환했으므로 c에는 함수 mul_add가 들어갑니다. 그리고 c에 숫자를 넣어서 호출해보면 a * x + b 계산식에 따라 값이 출력됩니다."
   ]
  },
  {
   "cell_type": "code",
   "execution_count": 18,
   "metadata": {
    "ExecuteTime": {
     "end_time": "2020-12-14T14:43:09.931848Z",
     "start_time": "2020-12-14T14:43:09.919228Z"
    }
   },
   "outputs": [
    {
     "name": "stdout",
     "output_type": "stream",
     "text": [
      "8 11 14 17 20\n"
     ]
    }
   ],
   "source": [
    "c = calc()\n",
    "print(c(1), c(2), c(3), c(4), c(5))    # 8 11 14 17 20"
   ]
  },
  {
   "cell_type": "markdown",
   "metadata": {},
   "source": [
    "이처럼 클로저를 사용하면 프로그램의 흐름을 변수에 저장할 수 있습니다. 즉, 클로저는 지역 변수와 코드를 묶어서 사용하고 싶을 때 활용합니다. 또한, 클로저에 속한 지역 변수는 바깥에서 직접 접근할 수 없으므로 데이터를 숨기고 싶을 때 활용합니다."
   ]
  },
  {
   "cell_type": "markdown",
   "metadata": {},
   "source": [
    "### lambda로 클로저 만들기\n",
    "\n",
    "클로저는 다음과 같이 lambda로도 만들 수 있습니다."
   ]
  },
  {
   "cell_type": "code",
   "execution_count": 19,
   "metadata": {
    "ExecuteTime": {
     "end_time": "2020-12-14T14:44:31.171608Z",
     "start_time": "2020-12-14T14:44:31.151063Z"
    }
   },
   "outputs": [
    {
     "name": "stdout",
     "output_type": "stream",
     "text": [
      "8 11 14 17 20\n"
     ]
    }
   ],
   "source": [
    "def calc():\n",
    "    a = 3\n",
    "    b = 5\n",
    "    return lambda x: a * x + b    # 람다 표현식을 반환\n",
    " \n",
    "c = calc()\n",
    "print(c(1), c(2), c(3), c(4), c(5))"
   ]
  },
  {
   "cell_type": "markdown",
   "metadata": {},
   "source": [
    "return lambda x: a * x + b처럼 람다 표현식을 만든 뒤 람다 표현식 자체를 반환했습니다. 이렇게 람다를 사용하면 클로저를 좀 더 간단하게 만들 수 있습니다.\n",
    "\n",
    "보통 클로저는 람다 표현식과 함께 사용하는 경우가 많아 둘을 혼동하기 쉽습니다. 람다는 이름이 없는 익명 함수를 뜻하고, 클로저는 함수를 둘러싼 환경을 유지했다가 나중에 다시 사용하는 함수를 뜻합니다."
   ]
  },
  {
   "cell_type": "markdown",
   "metadata": {},
   "source": [
    "### 클로저의 지역 변수 변경하기\n",
    "\n",
    "지금까지 클로저의 지역 변수를 가져오기만 했는데, 클로저의 지역 변수를 변경하고 싶다면 nonlocal을 사용하면 됩니다. 다음은 a * x + b의 결과를 함수 calc의 지역 변수 total에 누적합니다."
   ]
  },
  {
   "cell_type": "code",
   "execution_count": 20,
   "metadata": {
    "ExecuteTime": {
     "end_time": "2020-12-14T14:45:56.610591Z",
     "start_time": "2020-12-14T14:45:56.599027Z"
    }
   },
   "outputs": [
    {
     "name": "stdout",
     "output_type": "stream",
     "text": [
      "8\n",
      "19\n",
      "33\n"
     ]
    }
   ],
   "source": [
    "def calc():\n",
    "    a = 3\n",
    "    b = 5\n",
    "    total = 0\n",
    "    def mul_add(x):\n",
    "        nonlocal total\n",
    "        total = total + a * x + b\n",
    "        print(total)\n",
    "    return mul_add\n",
    " \n",
    "c = calc()\n",
    "c(1)\n",
    "c(2)\n",
    "c(3)"
   ]
  },
  {
   "cell_type": "markdown",
   "metadata": {},
   "source": [
    "지금까지 전역 변수, 지역 변수, 변수의 범위, 클로저에 대해 알아보았습니다. 클로저는 다소 어려운 개념이므로 지금 당장 완벽하게 이해하지 않아도 상관없습니다. 나중에 파이썬에 익숙해지면 자연스럽게 익히게 됩니다."
   ]
  },
  {
   "cell_type": "markdown",
   "metadata": {},
   "source": [
    "## 연습문제 : 호출 횟수를 세는 함수 만들기\n",
    "\n",
    "다음 소스 코드를 완성하여 함수 c를 호출할 때마다 호출 횟수가 출력되게 만드세요. 여기서는 함수를 클로저로 만들어야 합니다.\n",
    "\n",
    "```python\n",
    "def counter():\n",
    "    i = 0\n",
    "    def count():\n",
    "                       \n",
    "        ...\n",
    "                       \n",
    " \n",
    "c = counter()\n",
    "for i in range(10):\n",
    "    print(c(), end=' ')\n",
    "```"
   ]
  },
  {
   "cell_type": "code",
   "execution_count": 24,
   "metadata": {
    "ExecuteTime": {
     "end_time": "2020-12-14T14:50:32.408919Z",
     "start_time": "2020-12-14T14:50:32.389638Z"
    }
   },
   "outputs": [
    {
     "name": "stdout",
     "output_type": "stream",
     "text": [
      "1 2 3 4 5 6 7 8 9 10 "
     ]
    }
   ],
   "source": [
    "def counter():\n",
    "    i = 0\n",
    "    def count():\n",
    "        nonlocal i\n",
    "        i += 1\n",
    "        return i\n",
    "    return count\n",
    "c = counter()\n",
    "for i in range(10):\n",
    "    print(c(), end=' ')"
   ]
  }
 ],
 "metadata": {
  "kernelspec": {
   "display_name": "Python 3",
   "language": "python",
   "name": "python3"
  },
  "language_info": {
   "codemirror_mode": {
    "name": "ipython",
    "version": 3
   },
   "file_extension": ".py",
   "mimetype": "text/x-python",
   "name": "python",
   "nbconvert_exporter": "python",
   "pygments_lexer": "ipython3",
   "version": "3.7.6"
  },
  "toc": {
   "base_numbering": 1,
   "nav_menu": {},
   "number_sections": true,
   "sideBar": true,
   "skip_h1_title": true,
   "title_cell": "Table of Contents",
   "title_sidebar": "Contents",
   "toc_cell": true,
   "toc_position": {
    "height": "calc(100% - 180px)",
    "left": "10px",
    "top": "150px",
    "width": "384px"
   },
   "toc_section_display": true,
   "toc_window_display": true
  }
 },
 "nbformat": 4,
 "nbformat_minor": 4
}
