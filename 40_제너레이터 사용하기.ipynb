{
 "cells": [
  {
   "cell_type": "markdown",
   "metadata": {},
   "source": [
    "# 40_제너레이터 사용하기"
   ]
  },
  {
   "cell_type": "markdown",
   "metadata": {
    "toc": true
   },
   "source": [
    "<h1>Table of Contents<span class=\"tocSkip\"></span></h1>\n",
    "<div class=\"toc\"><ul class=\"toc-item\"><li><span><a href=\"#제너레이터와-yield-알아보기\" data-toc-modified-id=\"제너레이터와-yield-알아보기-1\"><span class=\"toc-item-num\">1&nbsp;&nbsp;</span>제너레이터와 yield 알아보기</a></span><ul class=\"toc-item\"><li><span><a href=\"#제너레이터-객체가-이터레이터인지-확인하기\" data-toc-modified-id=\"제너레이터-객체가-이터레이터인지-확인하기-1.1\"><span class=\"toc-item-num\">1.1&nbsp;&nbsp;</span>제너레이터 객체가 이터레이터인지 확인하기</a></span></li><li><span><a href=\"#for와-제너레이터\" data-toc-modified-id=\"for와-제너레이터-1.2\"><span class=\"toc-item-num\">1.2&nbsp;&nbsp;</span>for와 제너레이터</a></span></li><li><span><a href=\"#yield의-동작-과정-알아보기\" data-toc-modified-id=\"yield의-동작-과정-알아보기-1.3\"><span class=\"toc-item-num\">1.3&nbsp;&nbsp;</span>yield의 동작 과정 알아보기</a></span></li></ul></li><li><span><a href=\"#제너레이터-만들기\" data-toc-modified-id=\"제너레이터-만들기-2\"><span class=\"toc-item-num\">2&nbsp;&nbsp;</span>제너레이터 만들기</a></span><ul class=\"toc-item\"><li><span><a href=\"#yield에서-함수-호출하기\" data-toc-modified-id=\"yield에서-함수-호출하기-2.1\"><span class=\"toc-item-num\">2.1&nbsp;&nbsp;</span>yield에서 함수 호출하기</a></span></li></ul></li><li><span><a href=\"#yield-from으로-값을-여러-번-바깥으로-전달하기\" data-toc-modified-id=\"yield-from으로-값을-여러-번-바깥으로-전달하기-3\"><span class=\"toc-item-num\">3&nbsp;&nbsp;</span>yield from으로 값을 여러 번 바깥으로 전달하기</a></span><ul class=\"toc-item\"><li><span><a href=\"#yield-from에-제너레이터-객체-지정하기\" data-toc-modified-id=\"yield-from에-제너레이터-객체-지정하기-3.1\"><span class=\"toc-item-num\">3.1&nbsp;&nbsp;</span>yield from에 제너레이터 객체 지정하기</a></span></li></ul></li><li><span><a href=\"#연습문제-:-파일-읽기-제너레이터-만들기\" data-toc-modified-id=\"연습문제-:-파일-읽기-제너레이터-만들기-4\"><span class=\"toc-item-num\">4&nbsp;&nbsp;</span>연습문제 : 파일 읽기 제너레이터 만들기</a></span><ul class=\"toc-item\"><li><span><a href=\"#나의-풀이\" data-toc-modified-id=\"나의-풀이-4.1\"><span class=\"toc-item-num\">4.1&nbsp;&nbsp;</span>나의 풀이</a></span></li><li><span><a href=\"#정답!\" data-toc-modified-id=\"정답!-4.2\"><span class=\"toc-item-num\">4.2&nbsp;&nbsp;</span>정답!</a></span></li></ul></li></ul></div>"
   ]
  },
  {
   "cell_type": "markdown",
   "metadata": {},
   "source": [
    "제너레이터는 이터레이터를 생성해주는 함수입니다. 이터레이터는 클래스에 \\_\\_iter\\_\\_, \\_\\_next\\_\\_ 또는 \\_\\_getitem\\_\\_ 메서드를 구현해야 하지만 제너레이터는 함수 안에서 yield라는 키워드만 사용하면 끝입니다. 그래서 제너레이터는 이터레이터보다 훨씬 간단하게 작성할 수 있습니다.\n",
    "\n",
    "참고로 제너레이터는 발생자라고 부르기도 합니다. 이 책에서는 제너레이터를 사용하겠습니다."
   ]
  },
  {
   "cell_type": "markdown",
   "metadata": {},
   "source": [
    "## 제너레이터와 yield 알아보기\n",
    "\n",
    "함수 안에서 yield를 사용하면 함수는 제너레이터가 되며 yield에는 값(변수)을 지정합니다.\n",
    "\n",
    "+ yield 값\n",
    "\n",
    "이제 yield를 사용해서 제너레이터를 만들고 for 반복문에서 0, 1, 2 숫자 세 개를 출력해보겠습니다."
   ]
  },
  {
   "cell_type": "code",
   "execution_count": 1,
   "metadata": {
    "ExecuteTime": {
     "end_time": "2020-12-26T13:48:51.471256Z",
     "start_time": "2020-12-26T13:48:51.447308Z"
    }
   },
   "outputs": [
    {
     "name": "stdout",
     "output_type": "stream",
     "text": [
      "0\n",
      "1\n",
      "2\n"
     ]
    }
   ],
   "source": [
    "def number_generator():\n",
    "    yield 0\n",
    "    yield 1\n",
    "    yield 2\n",
    " \n",
    "for i in number_generator():\n",
    "    print(i)"
   ]
  },
  {
   "cell_type": "markdown",
   "metadata": {},
   "source": [
    "for 반복문에 number_generator()를 지정해서 값을 출력해보면 yield에 지정했던 0, 1, 2가 나옵니다. 이터레이터와 사용 방법이 똑같죠?"
   ]
  },
  {
   "cell_type": "markdown",
   "metadata": {},
   "source": [
    "### 제너레이터 객체가 이터레이터인지 확인하기\n",
    "\n",
    "그럼 number_generator 함수로 만든 객체가 정말 이터레이터인지 살펴보겠습니다. 다음과 같이 dir 함수로 메서드 목록을 확인해봅니다."
   ]
  },
  {
   "cell_type": "code",
   "execution_count": 2,
   "metadata": {
    "ExecuteTime": {
     "end_time": "2020-12-26T13:49:42.366453Z",
     "start_time": "2020-12-26T13:49:42.339522Z"
    }
   },
   "outputs": [
    {
     "data": {
      "text/plain": [
       "<generator object number_generator at 0x000002591CCAC148>"
      ]
     },
     "execution_count": 2,
     "metadata": {},
     "output_type": "execute_result"
    }
   ],
   "source": [
    "g = number_generator()\n",
    "g"
   ]
  },
  {
   "cell_type": "code",
   "execution_count": 3,
   "metadata": {
    "ExecuteTime": {
     "end_time": "2020-12-26T13:49:48.049549Z",
     "start_time": "2020-12-26T13:49:48.034623Z"
    },
    "scrolled": true
   },
   "outputs": [
    {
     "data": {
      "text/plain": [
       "['__class__',\n",
       " '__del__',\n",
       " '__delattr__',\n",
       " '__dir__',\n",
       " '__doc__',\n",
       " '__eq__',\n",
       " '__format__',\n",
       " '__ge__',\n",
       " '__getattribute__',\n",
       " '__gt__',\n",
       " '__hash__',\n",
       " '__init__',\n",
       " '__init_subclass__',\n",
       " '__iter__',\n",
       " '__le__',\n",
       " '__lt__',\n",
       " '__name__',\n",
       " '__ne__',\n",
       " '__new__',\n",
       " '__next__',\n",
       " '__qualname__',\n",
       " '__reduce__',\n",
       " '__reduce_ex__',\n",
       " '__repr__',\n",
       " '__setattr__',\n",
       " '__sizeof__',\n",
       " '__str__',\n",
       " '__subclasshook__',\n",
       " 'close',\n",
       " 'gi_code',\n",
       " 'gi_frame',\n",
       " 'gi_running',\n",
       " 'gi_yieldfrom',\n",
       " 'send',\n",
       " 'throw']"
      ]
     },
     "execution_count": 3,
     "metadata": {},
     "output_type": "execute_result"
    }
   ],
   "source": [
    "dir(g)"
   ]
  },
  {
   "cell_type": "markdown",
   "metadata": {},
   "source": [
    "number_generator 함수를 호출하면 제너레이터 객체(generator object)가 반환됩니다. 이 객체를 dir 함수로 살펴보면 이터레이터에서 볼 수 있는 \\_\\_iter\\_\\_, \\_\\_next\\_\\_ 메서드가 들어있습니다.\n",
    "\n",
    "실제로 제너레이터 객체의 \\_\\_next\\_\\_를 호출해보면 숫자 0, 1, 2가 나오다가 StopIteration 예외가 발생합니다."
   ]
  },
  {
   "cell_type": "code",
   "execution_count": 4,
   "metadata": {
    "ExecuteTime": {
     "end_time": "2020-12-26T13:50:33.886101Z",
     "start_time": "2020-12-26T13:50:33.875134Z"
    }
   },
   "outputs": [
    {
     "data": {
      "text/plain": [
       "0"
      ]
     },
     "execution_count": 4,
     "metadata": {},
     "output_type": "execute_result"
    }
   ],
   "source": [
    "g.__next__()"
   ]
  },
  {
   "cell_type": "code",
   "execution_count": 5,
   "metadata": {
    "ExecuteTime": {
     "end_time": "2020-12-26T13:50:39.807469Z",
     "start_time": "2020-12-26T13:50:39.797494Z"
    }
   },
   "outputs": [
    {
     "data": {
      "text/plain": [
       "1"
      ]
     },
     "execution_count": 5,
     "metadata": {},
     "output_type": "execute_result"
    }
   ],
   "source": [
    "g.__next__()"
   ]
  },
  {
   "cell_type": "code",
   "execution_count": 6,
   "metadata": {
    "ExecuteTime": {
     "end_time": "2020-12-26T13:50:40.036470Z",
     "start_time": "2020-12-26T13:50:40.027529Z"
    }
   },
   "outputs": [
    {
     "data": {
      "text/plain": [
       "2"
      ]
     },
     "execution_count": 6,
     "metadata": {},
     "output_type": "execute_result"
    }
   ],
   "source": [
    "g.__next__()"
   ]
  },
  {
   "cell_type": "code",
   "execution_count": 7,
   "metadata": {
    "ExecuteTime": {
     "end_time": "2020-12-26T13:50:40.372625Z",
     "start_time": "2020-12-26T13:50:40.275347Z"
    }
   },
   "outputs": [
    {
     "ename": "StopIteration",
     "evalue": "",
     "output_type": "error",
     "traceback": [
      "\u001b[1;31m---------------------------------------------------------------------------\u001b[0m",
      "\u001b[1;31mStopIteration\u001b[0m                             Traceback (most recent call last)",
      "\u001b[1;32m<ipython-input-7-42e506b10868>\u001b[0m in \u001b[0;36m<module>\u001b[1;34m\u001b[0m\n\u001b[1;32m----> 1\u001b[1;33m \u001b[0mg\u001b[0m\u001b[1;33m.\u001b[0m\u001b[0m__next__\u001b[0m\u001b[1;33m(\u001b[0m\u001b[1;33m)\u001b[0m\u001b[1;33m\u001b[0m\u001b[1;33m\u001b[0m\u001b[0m\n\u001b[0m",
      "\u001b[1;31mStopIteration\u001b[0m: "
     ]
    }
   ],
   "source": [
    "g.__next__()"
   ]
  },
  {
   "cell_type": "markdown",
   "metadata": {},
   "source": [
    "이터레이터와 동작이 똑같습니다.\n",
    "\n",
    "이처럼 함수에 yield만 사용해서 간단하게 이터레이터를 구현할 수 있습니다. 단, 이터레이터는 \\_\\_next\\_\\_ 메서드 안에서 직접 return으로 값을 반환했지만 제너레이터는 yield에 지정한 값이 \\_\\_next\\_\\_ 메서드(next 함수)의 반환값으로 나옵니다. 또한, 이터레이터는 raise로 StopIteration 예외를 직접 발생시켰지만 제너레이터는 함수의 끝까지 도달하면 StopIteration 예외가 자동으로 발생합니다.\n",
    "\n",
    "제너레이터는 제너레이터 객체에서 \\_\\_next\\_\\_ 메서드를 호출할 때마다 함수 안의 yield까지 코드를 실행하며 yield에서 값을 발생시킵니다(generate). 그래서 이름이 제너레이터(generator)입니다."
   ]
  },
  {
   "cell_type": "markdown",
   "metadata": {},
   "source": [
    "### for와 제너레이터\n",
    "\n",
    "그럼 for 반복문과 제너레이터를 살펴보겠습니다. 다음과 같이 for 반복문은 반복할 때마다 \\_\\_next\\_\\_를 호출하므로 yield에서 발생시킨 값을 가져옵니다. 그리고 StopIteration 예외가 발생하면 반복을 끝냅니다."
   ]
  },
  {
   "cell_type": "markdown",
   "metadata": {},
   "source": [
    "참고로 제너레이터 객체에서 \\_\\_iter\\_\\_를 호출하면 self를 반환하므로 같은 객체가 나옵니다(제너레이터 함수 호출 > 제너레이터 객체 > \\_\\_iter\\_\\_는 self 반환 > 제너레이터 객체).\n",
    "\n",
    "그런데 generate라는 키워드를 사용하면 되지 왜 yield라고 이름을 지었을까요? yield는 생산하다라는 뜻과 함께 양보하다라는 뜻도 가지고 있습니다. 즉, yield를 사용하면 값을 함수 바깥으로 전달하면서 코드 실행을 함수 바깥에 양보합니다. 따라서 yield는 현재 함수를 잠시 중단하고 함수 바깥의 코드가 실행되도록 만듭니다."
   ]
  },
  {
   "cell_type": "markdown",
   "metadata": {},
   "source": [
    "### yield의 동작 과정 알아보기\n",
    "\n",
    "그럼 yield의 동작 과정을 알아보기 위해 for 반복문 대신 next 함수로 \\_\\_next\\_\\_ 메서드를 직접 호출해보겠습니다.\n",
    "\n",
    "+ 변수 = next(제너레이터객체)"
   ]
  },
  {
   "cell_type": "code",
   "execution_count": 8,
   "metadata": {
    "ExecuteTime": {
     "end_time": "2020-12-26T14:02:26.336940Z",
     "start_time": "2020-12-26T14:02:26.305309Z"
    }
   },
   "outputs": [
    {
     "name": "stdout",
     "output_type": "stream",
     "text": [
      "0\n",
      "1\n",
      "2\n"
     ]
    }
   ],
   "source": [
    "def number_generator():\n",
    "    yield 0    # 0을 함수 바깥으로 전달하면서 코드 실행을 함수 바깥에 양보\n",
    "    yield 1    # 1을 함수 바깥으로 전달하면서 코드 실행을 함수 바깥에 양보\n",
    "    yield 2    # 2를 함수 바깥으로 전달하면서 코드 실행을 함수 바깥에 양보\n",
    " \n",
    "g = number_generator()\n",
    " \n",
    "a = next(g)    # yield를 사용하여 함수 바깥으로 전달한 값은 next의 반환값으로 나옴\n",
    "print(a)       # 0\n",
    " \n",
    "b = next(g)\n",
    "print(b)       # 1\n",
    " \n",
    "c = next(g)\n",
    "print(c)       # 2"
   ]
  },
  {
   "cell_type": "markdown",
   "metadata": {},
   "source": [
    "yield를 사용하여 바깥으로 전달한 값은 next 함수(\\_\\_next\\_\\_ 메서드)의 반환값으로 나온다고 했습니다. 따라서 next(g)의 반환값을 출력해보면 yield에 지정한 값 0, 1, 2가 차례대로 나옵니다. 즉, 제너레이터 함수가 실행되는 중간에 next로 값을 가져옵니다.\n",
    "\n",
    "next와 yield의 동작 과정을 그림으로 살펴보겠습니다.\n",
    "\n",
    "먼저 g = number_generator()와 같이 제너레이터 객체를 만듭니다. 그다음에 next(g)를 호출하면 제너레이터 안의 yield 0이 실행되어 숫자 0을 전달한 뒤 바깥의 코드가 실행되도록 양보합니다. 함수 바깥에서는 print(a)로 next(g)에서 반환된 값을 출력합니다."
   ]
  },
  {
   "cell_type": "markdown",
   "metadata": {},
   "source": [
    "값을 출력했으면 next(g)로 다시 제너레이터 안의 코드를 실행합니다. 이때는 yield 1이 실행되고 숫자 1을 발생시켜서 바깥으로 전달합니다. 그리고 함수 바깥에서는 print(b)로 next(g)에서 반환된 값을 출력합니다."
   ]
  },
  {
   "cell_type": "markdown",
   "metadata": {},
   "source": [
    "마찬가지로 과정으로 yield 2도 숫자를 발생시키고 print(c)로 제너레이터에서 나온 값을 출력합니다."
   ]
  },
  {
   "cell_type": "markdown",
   "metadata": {},
   "source": [
    "이렇게 제너레이터는 함수를 끝내지 않은 상태에서 yield를 사용하여 값을 바깥으로 전달할 수 있습니다. 즉, return은 반환 즉시 함수가 끝나지만 yield는 잠시 함수 바깥의 코드가 실행되도록 양보하여 값을 가져가게 한 뒤 다시 제너레이터 안의 코드를 계속 실행하는 방식입니다."
   ]
  },
  {
   "cell_type": "markdown",
   "metadata": {},
   "source": [
    "> 제너레이터와 return\n",
    "\n",
    "제너레이터는 함수 끝까지 도달하면 StopIteration 예외가 발생합니다. 마찬가지로 return도 함수를 끝내므로 return을 사용해서 함수 중간에 빠져나오면 StopIteration 예외가 발생합니다.\n",
    "\n",
    "특히 제너레이터 안에서 return에 반환값을 지정하면 StopIteration 예외의 에러 메시지로 들어갑니다."
   ]
  },
  {
   "cell_type": "code",
   "execution_count": 10,
   "metadata": {
    "ExecuteTime": {
     "end_time": "2020-12-26T14:07:42.993124Z",
     "start_time": "2020-12-26T14:07:42.985146Z"
    }
   },
   "outputs": [
    {
     "name": "stdout",
     "output_type": "stream",
     "text": [
      "return에 지정한 값\n"
     ]
    }
   ],
   "source": [
    "def one_generator():\n",
    "    yield 1\n",
    "    return 'return에 지정한 값'\n",
    " \n",
    "try:\n",
    "    g = one_generator()\n",
    "    next(g)\n",
    "    next(g)\n",
    "except StopIteration as e:\n",
    "    print(e)    # return에 지정한 값"
   ]
  },
  {
   "cell_type": "markdown",
   "metadata": {},
   "source": [
    "## 제너레이터 만들기\n",
    "\n",
    "제너레이터와 yield에 대해 알아보았으니 이번에는 range(횟수)처럼 동작을 하는 제너레이터를 만들어보겠습니다."
   ]
  },
  {
   "cell_type": "code",
   "execution_count": 11,
   "metadata": {
    "ExecuteTime": {
     "end_time": "2020-12-26T14:08:40.500748Z",
     "start_time": "2020-12-26T14:08:40.492769Z"
    }
   },
   "outputs": [
    {
     "name": "stdout",
     "output_type": "stream",
     "text": [
      "0\n",
      "1\n",
      "2\n"
     ]
    }
   ],
   "source": [
    "def number_generator(stop):\n",
    "    n = 0              # 숫자는 0부터 시작\n",
    "    while n < stop:    # 현재 숫자가 반복을 끝낼 숫자보다 작을 때 반복\n",
    "        yield n        # 현재 숫자를 바깥으로 전달\n",
    "        n += 1         # 현재 숫자를 증가시킴\n",
    " \n",
    "for i in number_generator(3):\n",
    "    print(i)"
   ]
  },
  {
   "cell_type": "markdown",
   "metadata": {},
   "source": [
    "코드는 간단합니다. 제너레이터 안에서 변수 n을 만들고 0을 저장합니다. 그리고 while n < stop:과 같이 반복을 끝낼 숫자보다 작을 때 반복하도록 만듭니다. 반복문 안에서는 yield n으로 숫자를 바깥으로 전달한 뒤 n을 1 증가시키면 됩니다. 여기서는 yield가 3번 나오므로 for 반복문도 3번 반복합니다.\n",
    "\n",
    "물론 next 함수(\\_\\_next\\_\\_ 메서드)도 3번 사용할 수 있습니다."
   ]
  },
  {
   "cell_type": "code",
   "execution_count": 12,
   "metadata": {
    "ExecuteTime": {
     "end_time": "2020-12-26T14:13:10.839431Z",
     "start_time": "2020-12-26T14:13:10.820483Z"
    }
   },
   "outputs": [
    {
     "data": {
      "text/plain": [
       "0"
      ]
     },
     "execution_count": 12,
     "metadata": {},
     "output_type": "execute_result"
    }
   ],
   "source": [
    "g = number_generator(3)\n",
    "next(g)"
   ]
  },
  {
   "cell_type": "code",
   "execution_count": 13,
   "metadata": {
    "ExecuteTime": {
     "end_time": "2020-12-26T14:13:12.443374Z",
     "start_time": "2020-12-26T14:13:12.435395Z"
    }
   },
   "outputs": [
    {
     "data": {
      "text/plain": [
       "1"
      ]
     },
     "execution_count": 13,
     "metadata": {},
     "output_type": "execute_result"
    }
   ],
   "source": [
    "next(g)"
   ]
  },
  {
   "cell_type": "code",
   "execution_count": 14,
   "metadata": {
    "ExecuteTime": {
     "end_time": "2020-12-26T14:13:13.753365Z",
     "start_time": "2020-12-26T14:13:13.745431Z"
    }
   },
   "outputs": [
    {
     "data": {
      "text/plain": [
       "2"
      ]
     },
     "execution_count": 14,
     "metadata": {},
     "output_type": "execute_result"
    }
   ],
   "source": [
    "next(g)"
   ]
  },
  {
   "cell_type": "code",
   "execution_count": 15,
   "metadata": {
    "ExecuteTime": {
     "end_time": "2020-12-26T14:13:14.795429Z",
     "start_time": "2020-12-26T14:13:14.776899Z"
    }
   },
   "outputs": [
    {
     "ename": "StopIteration",
     "evalue": "",
     "output_type": "error",
     "traceback": [
      "\u001b[1;31m---------------------------------------------------------------------------\u001b[0m",
      "\u001b[1;31mStopIteration\u001b[0m                             Traceback (most recent call last)",
      "\u001b[1;32m<ipython-input-15-e734f8aca5ac>\u001b[0m in \u001b[0;36m<module>\u001b[1;34m\u001b[0m\n\u001b[1;32m----> 1\u001b[1;33m \u001b[0mnext\u001b[0m\u001b[1;33m(\u001b[0m\u001b[0mg\u001b[0m\u001b[1;33m)\u001b[0m\u001b[1;33m\u001b[0m\u001b[1;33m\u001b[0m\u001b[0m\n\u001b[0m",
      "\u001b[1;31mStopIteration\u001b[0m: "
     ]
    }
   ],
   "source": [
    "next(g)"
   ]
  },
  {
   "cell_type": "markdown",
   "metadata": {},
   "source": [
    "### yield에서 함수 호출하기\n",
    "\n",
    "그럼 yield에서 함수(메서드)를 호출하면 어떻게 될까요? 다음은 리스트에 들어있는 문자열을 대문자로 변환하여 함수 바깥으로 전달합니다."
   ]
  },
  {
   "cell_type": "code",
   "execution_count": 16,
   "metadata": {
    "ExecuteTime": {
     "end_time": "2020-12-26T14:13:49.209457Z",
     "start_time": "2020-12-26T14:13:49.193468Z"
    }
   },
   "outputs": [
    {
     "name": "stdout",
     "output_type": "stream",
     "text": [
      "APPLE\n",
      "PEAR\n",
      "GRAPE\n",
      "PINEAPPLE\n",
      "ORANGE\n"
     ]
    }
   ],
   "source": [
    "def upper_generator(x):\n",
    "    for i in x:\n",
    "        yield i.upper()    # 함수의 반환값을 바깥으로 전달\n",
    " \n",
    "fruits = ['apple', 'pear', 'grape', 'pineapple', 'orange']\n",
    "for i in upper_generator(fruits):\n",
    "    print(i)"
   ]
  },
  {
   "cell_type": "markdown",
   "metadata": {},
   "source": [
    "리스트 fruits에 들어있는 문자열이 모두 대문자로 출력되었습니다. yield i.upper()와 같이 yield에서 함수(메서드)를 호출하면 해당 함수의 반환값을 바깥으로 전달합니다. upper는 호출했을 때 대문자로 된 문자열을 반환하므로 yield는 이 문자열을 바깥으로 전달합니다. 즉, yield에 무엇을 지정하든 결과만 바깥으로 전달합니다(함수의 반환값, 식의 결과).\n",
    "\n",
    "이처럼 yield의 동작 방식만 이해하면 이터레이터보다 훨씬 간단하게 만들 수 있습니다."
   ]
  },
  {
   "cell_type": "markdown",
   "metadata": {},
   "source": [
    "## yield from으로 값을 여러 번 바깥으로 전달하기\n",
    "\n",
    "지금까지 yield로 값을 한 번씩 바깥으로 전달했습니다. 그래서 값을 여러 번 바깥으로 전달할 때는 for 또는 while 반복문으로 반복하면서 yield를 사용했습니다. 다음은 리스트의 1, 2, 3을 바깥으로 전달합니다."
   ]
  },
  {
   "cell_type": "code",
   "execution_count": 17,
   "metadata": {
    "ExecuteTime": {
     "end_time": "2020-12-26T14:15:52.133487Z",
     "start_time": "2020-12-26T14:15:52.113539Z"
    }
   },
   "outputs": [
    {
     "name": "stdout",
     "output_type": "stream",
     "text": [
      "1\n",
      "2\n",
      "3\n"
     ]
    }
   ],
   "source": [
    "def number_generator():\n",
    "    x = [1, 2, 3]\n",
    "    for i in x:\n",
    "        yield i\n",
    " \n",
    "for i in number_generator():\n",
    "    print(i)"
   ]
  },
  {
   "cell_type": "markdown",
   "metadata": {},
   "source": [
    "이런 경우에는 매번 반복문을 사용하지 않고, yield from을 사용하면 됩니다. yield from에는 반복 가능한 객체, 이터레이터, 제너레이터 객체를 지정합니다(yield from은 파이썬 3.3 이상부터 사용 가능).\n",
    "\n",
    "+ yield from 반복가능한객체\n",
    "+ yield from 이터레이터\n",
    "+ yield from 제너레이터객체\n",
    "\n",
    "그럼 yield from에 리스트를 지정해서 숫자 1, 2, 3을 바깥으로 전달해보겠습니다."
   ]
  },
  {
   "cell_type": "code",
   "execution_count": 18,
   "metadata": {
    "ExecuteTime": {
     "end_time": "2020-12-26T14:16:24.651548Z",
     "start_time": "2020-12-26T14:16:24.633597Z"
    }
   },
   "outputs": [
    {
     "name": "stdout",
     "output_type": "stream",
     "text": [
      "1\n",
      "2\n",
      "3\n"
     ]
    }
   ],
   "source": [
    "def number_generator():\n",
    "    x = [1, 2, 3]\n",
    "    yield from x    # 리스트에 들어있는 요소를 한 개씩 바깥으로 전달\n",
    " \n",
    "for i in number_generator():\n",
    "    print(i)"
   ]
  },
  {
   "cell_type": "markdown",
   "metadata": {},
   "source": [
    "yield from x와 같이 yield from에 리스트(반복 가능한 객체)를 지정했습니다. 이렇게 하면 리스트에 들어있는 요소를 한 개씩 바깥으로 전달합니다. 즉, yield from을 한 번 사용하여 값을 세 번 바깥으로 전달합니다. 따라서 next 함수(\\_\\_next\\_\\_ 메서드)를 세 번 호출할 수 있습니다."
   ]
  },
  {
   "cell_type": "code",
   "execution_count": 19,
   "metadata": {
    "ExecuteTime": {
     "end_time": "2020-12-26T14:18:50.193456Z",
     "start_time": "2020-12-26T14:18:50.177511Z"
    }
   },
   "outputs": [
    {
     "data": {
      "text/plain": [
       "1"
      ]
     },
     "execution_count": 19,
     "metadata": {},
     "output_type": "execute_result"
    }
   ],
   "source": [
    "g = number_generator()\n",
    "next(g)"
   ]
  },
  {
   "cell_type": "code",
   "execution_count": 20,
   "metadata": {
    "ExecuteTime": {
     "end_time": "2020-12-26T14:18:56.930795Z",
     "start_time": "2020-12-26T14:18:56.911858Z"
    }
   },
   "outputs": [
    {
     "data": {
      "text/plain": [
       "2"
      ]
     },
     "execution_count": 20,
     "metadata": {},
     "output_type": "execute_result"
    }
   ],
   "source": [
    "next(g)"
   ]
  },
  {
   "cell_type": "code",
   "execution_count": 21,
   "metadata": {
    "ExecuteTime": {
     "end_time": "2020-12-26T14:18:57.098897Z",
     "start_time": "2020-12-26T14:18:57.080945Z"
    }
   },
   "outputs": [
    {
     "data": {
      "text/plain": [
       "3"
      ]
     },
     "execution_count": 21,
     "metadata": {},
     "output_type": "execute_result"
    }
   ],
   "source": [
    "next(g)"
   ]
  },
  {
   "cell_type": "code",
   "execution_count": 22,
   "metadata": {
    "ExecuteTime": {
     "end_time": "2020-12-26T14:18:57.268933Z",
     "start_time": "2020-12-26T14:18:57.244360Z"
    }
   },
   "outputs": [
    {
     "ename": "StopIteration",
     "evalue": "",
     "output_type": "error",
     "traceback": [
      "\u001b[1;31m---------------------------------------------------------------------------\u001b[0m",
      "\u001b[1;31mStopIteration\u001b[0m                             Traceback (most recent call last)",
      "\u001b[1;32m<ipython-input-22-e734f8aca5ac>\u001b[0m in \u001b[0;36m<module>\u001b[1;34m\u001b[0m\n\u001b[1;32m----> 1\u001b[1;33m \u001b[0mnext\u001b[0m\u001b[1;33m(\u001b[0m\u001b[0mg\u001b[0m\u001b[1;33m)\u001b[0m\u001b[1;33m\u001b[0m\u001b[1;33m\u001b[0m\u001b[0m\n\u001b[0m",
      "\u001b[1;31mStopIteration\u001b[0m: "
     ]
    }
   ],
   "source": [
    "next(g)"
   ]
  },
  {
   "cell_type": "markdown",
   "metadata": {},
   "source": [
    "### yield from에 제너레이터 객체 지정하기\n",
    "\n",
    "이번에는 yield from에 제너레이터 객체를 지정해보겠습니다(이터레이터는 제너레이터와 동작이 같으므로 생략하겠습니다)."
   ]
  },
  {
   "cell_type": "code",
   "execution_count": 23,
   "metadata": {
    "ExecuteTime": {
     "end_time": "2020-12-26T14:19:56.362814Z",
     "start_time": "2020-12-26T14:19:56.353839Z"
    }
   },
   "outputs": [
    {
     "name": "stdout",
     "output_type": "stream",
     "text": [
      "0\n",
      "1\n",
      "2\n"
     ]
    }
   ],
   "source": [
    "def number_generator(stop):\n",
    "    n = 0\n",
    "    while n < stop:\n",
    "        yield n\n",
    "        n += 1\n",
    " \n",
    "def three_generator():\n",
    "    yield from number_generator(3)    # 숫자를 세 번 바깥으로 전달\n",
    " \n",
    "for i in three_generator():\n",
    "    print(i)"
   ]
  },
  {
   "cell_type": "markdown",
   "metadata": {},
   "source": [
    "먼저 제너레이터 number_generator는 매개변수로 받은 숫자 직전까지 숫자를 만들어냅니다. 그리고 three_generator에서는 yield from number_generator(3)과 같이 yield from에 제너레이터 객체를 지정했습니다.\n",
    "\n",
    "number_generator(3)은 숫자를 세 개를 만들어내므로 yield from number_generator(3)은 숫자를 세 번 바깥으로 전달합니다. 따라서 for 반복문에 three_generator()를 사용하면 숫자를 세 번 출력합니다(next 함수 또는 \\_\\_next\\_\\_ 메서드도 세 번 호출 가능).\n",
    "\n",
    "이번 유닛에서는 제너레이터와 yield 사용 방법을 알아보았습니다. 이 부분은 파이썬에서도 고급 기능에 해당하는 부분이라 초보자들은 이해하기가 쉽지 않습니다. 그래서 지금 당장 yield가 이해되지 않는다고 해서 걱정할 필요가 없습니다. 나중에 프로그래밍에 익숙해지면 자연스럽게 익히게 됩니다."
   ]
  },
  {
   "cell_type": "markdown",
   "metadata": {},
   "source": [
    "> 제너레이터 표현식\n",
    "\n",
    "리스트 표현식을 사용할 때 [ ]\\(대괄호)를 사용했습니다. 같은 리스트 표현식을 ( )(괄호)로 묶으면 제너레이터 표현식이 됩니다. 리스트 표현식은 처음부터 리스트의 요소를 만들어내지만 제너레이터 표현식은 필요할 때 요소를 만들어내므로 메모리를 절약할 수 있습니다.\n",
    "\n",
    "`(식 for 변수 in 반복가능한객체)`"
   ]
  },
  {
   "cell_type": "code",
   "execution_count": 24,
   "metadata": {
    "ExecuteTime": {
     "end_time": "2020-12-26T14:21:09.785032Z",
     "start_time": "2020-12-26T14:21:09.777057Z"
    }
   },
   "outputs": [
    {
     "data": {
      "text/plain": [
       "[0,\n",
       " 2,\n",
       " 4,\n",
       " 6,\n",
       " 8,\n",
       " 10,\n",
       " 12,\n",
       " 14,\n",
       " 16,\n",
       " 18,\n",
       " 20,\n",
       " 22,\n",
       " 24,\n",
       " 26,\n",
       " 28,\n",
       " 30,\n",
       " 32,\n",
       " 34,\n",
       " 36,\n",
       " 38,\n",
       " 40,\n",
       " 42,\n",
       " 44,\n",
       " 46,\n",
       " 48]"
      ]
     },
     "execution_count": 24,
     "metadata": {},
     "output_type": "execute_result"
    }
   ],
   "source": [
    "[i for i in range(50) if i % 2 == 0]"
   ]
  },
  {
   "cell_type": "code",
   "execution_count": 25,
   "metadata": {
    "ExecuteTime": {
     "end_time": "2020-12-26T14:21:25.065306Z",
     "start_time": "2020-12-26T14:21:25.048356Z"
    }
   },
   "outputs": [
    {
     "data": {
      "text/plain": [
       "<generator object <genexpr> at 0x000002591CD37E48>"
      ]
     },
     "execution_count": 25,
     "metadata": {},
     "output_type": "execute_result"
    }
   ],
   "source": [
    "(i for i in range(50) if i % 2 == 0)"
   ]
  },
  {
   "cell_type": "code",
   "execution_count": 26,
   "metadata": {
    "ExecuteTime": {
     "end_time": "2020-12-26T14:27:20.900595Z",
     "start_time": "2020-12-26T14:27:20.880646Z"
    }
   },
   "outputs": [
    {
     "name": "stdout",
     "output_type": "stream",
     "text": [
      "1\n",
      "3\n",
      "5\n",
      "7\n",
      "9\n"
     ]
    }
   ],
   "source": [
    "def gen_odd():\n",
    "    yield from [i for i in range(10) if i % 2 != 0]\n",
    "\n",
    "g = gen_odd()\n",
    "for i in g:\n",
    "    print(i)"
   ]
  },
  {
   "cell_type": "markdown",
   "metadata": {},
   "source": [
    "## 연습문제 : 파일 읽기 제너레이터 만들기\n",
    "\n",
    "다음 소스 코드에서 words.txt 파일을 한 줄씩 읽은 뒤 내용을 함수 바깥에 전달하는 제너레이터를 작성하세요. 파일의 내용을 출력할 때 파일에서 읽은 \\n은 출력되지 않아야 합니다(단어 사이에 줄바꿈이 두 번 일어나면 안 됨).\n",
    "\n",
    "```python\n",
    "def file_read():\n",
    "    with open('words.txt') as file:\n",
    "                                   \n",
    "        ...\n",
    "                                   \n",
    " \n",
    "for i in file_read():\n",
    "    print(i)\n",
    "```"
   ]
  },
  {
   "cell_type": "markdown",
   "metadata": {},
   "source": [
    "### 나의 풀이"
   ]
  },
  {
   "cell_type": "code",
   "execution_count": 31,
   "metadata": {
    "ExecuteTime": {
     "end_time": "2020-12-26T14:33:09.194998Z",
     "start_time": "2020-12-26T14:33:09.176050Z"
    }
   },
   "outputs": [
    {
     "name": "stdout",
     "output_type": "stream",
     "text": [
      "anonymously\n",
      "compatibility\n",
      "dashboard\n",
      "experience\n",
      "photography\n",
      "spotlight\n",
      "warehouse\n",
      "compatibility\n",
      "experience\n",
      "photography\n",
      "spotlight\n"
     ]
    }
   ],
   "source": [
    "def file_read():\n",
    "    with open('words.txt') as file:\n",
    "        yield file.read()\n",
    "for i in file_read():\n",
    "    print(i)"
   ]
  },
  {
   "cell_type": "markdown",
   "metadata": {},
   "source": [
    "### 정답!"
   ]
  },
  {
   "cell_type": "code",
   "execution_count": 32,
   "metadata": {
    "ExecuteTime": {
     "end_time": "2020-12-26T14:34:08.836166Z",
     "start_time": "2020-12-26T14:34:08.817079Z"
    }
   },
   "outputs": [
    {
     "name": "stdout",
     "output_type": "stream",
     "text": [
      "anonymously\n",
      "compatibility\n",
      "dashboard\n",
      "experience\n",
      "photography\n",
      "spotlight\n",
      "warehouse\n",
      "compatibility\n",
      "experience\n",
      "photography\n",
      "spotlight\n"
     ]
    }
   ],
   "source": [
    "def file_read():\n",
    "    with open('words.txt') as file:\n",
    "        while True:\n",
    "            line = file.readline()\n",
    "            if line == '':\n",
    "                break\n",
    "            yield line.strip('\\n')\n",
    "for i in file_read():\n",
    "    print(i)"
   ]
  }
 ],
 "metadata": {
  "kernelspec": {
   "display_name": "Python 3",
   "language": "python",
   "name": "python3"
  },
  "language_info": {
   "codemirror_mode": {
    "name": "ipython",
    "version": 3
   },
   "file_extension": ".py",
   "mimetype": "text/x-python",
   "name": "python",
   "nbconvert_exporter": "python",
   "pygments_lexer": "ipython3",
   "version": "3.7.6"
  },
  "toc": {
   "base_numbering": 1,
   "nav_menu": {},
   "number_sections": true,
   "sideBar": true,
   "skip_h1_title": true,
   "title_cell": "Table of Contents",
   "title_sidebar": "Contents",
   "toc_cell": true,
   "toc_position": {},
   "toc_section_display": true,
   "toc_window_display": true
  }
 },
 "nbformat": 4,
 "nbformat_minor": 4
}
