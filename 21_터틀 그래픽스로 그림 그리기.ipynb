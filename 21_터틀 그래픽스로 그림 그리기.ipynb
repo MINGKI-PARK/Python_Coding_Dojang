{
 "cells": [
  {
   "cell_type": "markdown",
   "metadata": {},
   "source": [
    "# 21_터틀 그래픽스로 그림 그리기"
   ]
  },
  {
   "cell_type": "markdown",
   "metadata": {
    "toc": true
   },
   "source": [
    "<h1>Table of Contents<span class=\"tocSkip\"></span></h1>\n",
    "<div class=\"toc\"><ul class=\"toc-item\"><li><span><a href=\"#사각형-그리기\" data-toc-modified-id=\"사각형-그리기-1\"><span class=\"toc-item-num\">1&nbsp;&nbsp;</span>사각형 그리기</a></span></li><li><span><a href=\"#다각형-그리기\" data-toc-modified-id=\"다각형-그리기-2\"><span class=\"toc-item-num\">2&nbsp;&nbsp;</span>다각형 그리기</a></span><ul class=\"toc-item\"><li><span><a href=\"#오각형-그리기\" data-toc-modified-id=\"오각형-그리기-2.1\"><span class=\"toc-item-num\">2.1&nbsp;&nbsp;</span>오각형 그리기</a></span></li><li><span><a href=\"#다각형-그리기\" data-toc-modified-id=\"다각형-그리기-2.2\"><span class=\"toc-item-num\">2.2&nbsp;&nbsp;</span>다각형 그리기</a></span></li><li><span><a href=\"#다각형에-색칠하기\" data-toc-modified-id=\"다각형에-색칠하기-2.3\"><span class=\"toc-item-num\">2.3&nbsp;&nbsp;</span>다각형에 색칠하기</a></span></li></ul></li><li><span><a href=\"#복잡한-도형-그리기\" data-toc-modified-id=\"복잡한-도형-그리기-3\"><span class=\"toc-item-num\">3&nbsp;&nbsp;</span>복잡한 도형 그리기</a></span><ul class=\"toc-item\"><li><span><a href=\"#원을-반복해서-그리기\" data-toc-modified-id=\"원을-반복해서-그리기-3.1\"><span class=\"toc-item-num\">3.1&nbsp;&nbsp;</span>원을 반복해서 그리기</a></span></li><li><span><a href=\"#선으로-복잡한-무늬-그리기\" data-toc-modified-id=\"선으로-복잡한-무늬-그리기-3.2\"><span class=\"toc-item-num\">3.2&nbsp;&nbsp;</span>선으로 복잡한 무늬 그리기</a></span></li></ul></li><li><span><a href=\"#퀴즈\" data-toc-modified-id=\"퀴즈-4\"><span class=\"toc-item-num\">4&nbsp;&nbsp;</span>퀴즈</a></span><ul class=\"toc-item\"><li><span><a href=\"#연습문제-:-오각별-그리기\" data-toc-modified-id=\"연습문제-:-오각별-그리기-4.1\"><span class=\"toc-item-num\">4.1&nbsp;&nbsp;</span>연습문제 : 오각별 그리기</a></span><ul class=\"toc-item\"><li><span><a href=\"#정답\" data-toc-modified-id=\"정답-4.1.1\"><span class=\"toc-item-num\">4.1.1&nbsp;&nbsp;</span>정답</a></span></li></ul></li><li><span><a href=\"#심사문제-:-별-그리기\" data-toc-modified-id=\"심사문제-:-별-그리기-4.2\"><span class=\"toc-item-num\">4.2&nbsp;&nbsp;</span>심사문제 : 별 그리기</a></span></li></ul></li></ul></div>"
   ]
  },
  {
   "cell_type": "markdown",
   "metadata": {},
   "source": [
    "##  사각형 그리기"
   ]
  },
  {
   "cell_type": "code",
   "execution_count": 1,
   "metadata": {
    "ExecuteTime": {
     "end_time": "2020-11-20T07:42:29.307219Z",
     "start_time": "2020-11-20T07:42:29.223894Z"
    }
   },
   "outputs": [],
   "source": [
    "import turtle as t"
   ]
  },
  {
   "cell_type": "code",
   "execution_count": 2,
   "metadata": {
    "ExecuteTime": {
     "end_time": "2020-11-20T07:42:49.990181Z",
     "start_time": "2020-11-20T07:42:49.610269Z"
    }
   },
   "outputs": [],
   "source": [
    "t.shape('turtle') # 모양을 설정하는 것. 아무것도 지정하지 않으면 화살표 모양이 나온다."
   ]
  },
  {
   "cell_type": "code",
   "execution_count": 3,
   "metadata": {
    "ExecuteTime": {
     "end_time": "2020-11-20T07:43:43.455225Z",
     "start_time": "2020-11-20T07:43:43.210953Z"
    }
   },
   "outputs": [],
   "source": [
    "t.forward(100)"
   ]
  },
  {
   "cell_type": "code",
   "execution_count": 4,
   "metadata": {
    "ExecuteTime": {
     "end_time": "2020-11-20T07:44:22.431281Z",
     "start_time": "2020-11-20T07:44:22.170288Z"
    }
   },
   "outputs": [],
   "source": [
    "t.right(90)"
   ]
  },
  {
   "cell_type": "code",
   "execution_count": 5,
   "metadata": {
    "ExecuteTime": {
     "end_time": "2020-11-20T07:44:47.258051Z",
     "start_time": "2020-11-20T07:44:47.099162Z"
    }
   },
   "outputs": [],
   "source": [
    "t.forward(100)"
   ]
  },
  {
   "cell_type": "code",
   "execution_count": 6,
   "metadata": {
    "ExecuteTime": {
     "end_time": "2020-11-20T07:45:12.005938Z",
     "start_time": "2020-11-20T07:45:11.322789Z"
    }
   },
   "outputs": [],
   "source": [
    "t.right(90)\n",
    "t.forward(100)\n",
    "t.right(90)\n",
    "t.forward(100)"
   ]
  },
  {
   "cell_type": "markdown",
   "metadata": {},
   "source": [
    "backward는 뒤로 이동, left는 왼쪽으로 회전. 특히 forward, backward 등은 짧게 줄여서 입력할 수도 있다.\n",
    "\n",
    "* 앞으로 이동 : forward, fd\n",
    "* 뒤로 이동 : backward, bk, back\n",
    "* 왼쪽으로 회전 : left, lt\n",
    "* 오른쪽으로 회전 : right, rt"
   ]
  },
  {
   "cell_type": "code",
   "execution_count": 9,
   "metadata": {
    "ExecuteTime": {
     "end_time": "2020-11-20T07:47:22.886152Z",
     "start_time": "2020-11-20T07:47:21.618573Z"
    }
   },
   "outputs": [],
   "source": [
    "t.shape('turtle')\n",
    " \n",
    "t.fd(100)\n",
    "t.rt(90)\n",
    "t.fd(100)\n",
    "t.rt(90)\n",
    "t.fd(100)\n",
    "t.rt(90)\n",
    "t.fd(100)"
   ]
  },
  {
   "cell_type": "markdown",
   "metadata": {},
   "source": [
    "> 실행하자마자 터틀 창이 종료된다.\n",
    "\n",
    "IDLE가 아닌 PyCharm 등의 파이썬 개발 도구를 사용한다면 터틀 창이 유지되지 않고 바로 사자질 수도 있다. 이때는 스크립트 파일 마지막 부분에 다음 코드 를 넣어준다.\n",
    "\n",
    "\n",
    "```python\n",
    "t.mainloop()\n",
    "```\n",
    "\n",
    "mainloop는 터틀 창이 종료될 때까지 마우스, 키보드 입력을 대기한다."
   ]
  },
  {
   "cell_type": "markdown",
   "metadata": {},
   "source": [
    "## 다각형 그리기"
   ]
  },
  {
   "cell_type": "markdown",
   "metadata": {},
   "source": [
    "반복문을 사용해서 사각형 그려보기"
   ]
  },
  {
   "cell_type": "code",
   "execution_count": 1,
   "metadata": {
    "ExecuteTime": {
     "end_time": "2020-11-20T07:52:55.703529Z",
     "start_time": "2020-11-20T07:52:55.650803Z"
    }
   },
   "outputs": [],
   "source": [
    "import turtle as t"
   ]
  },
  {
   "cell_type": "code",
   "execution_count": 4,
   "metadata": {
    "ExecuteTime": {
     "end_time": "2020-11-20T07:51:40.340473Z",
     "start_time": "2020-11-20T07:51:38.979399Z"
    }
   },
   "outputs": [],
   "source": [
    "t.shape('turtle')\n",
    "for i in range(4):\n",
    "    t.forward(100)\n",
    "    t.right(90)"
   ]
  },
  {
   "cell_type": "markdown",
   "metadata": {},
   "source": [
    "### 오각형 그리기"
   ]
  },
  {
   "cell_type": "code",
   "execution_count": null,
   "metadata": {},
   "outputs": [],
   "source": [
    "import turtle as t"
   ]
  },
  {
   "cell_type": "code",
   "execution_count": 2,
   "metadata": {
    "ExecuteTime": {
     "end_time": "2020-11-20T07:53:52.123663Z",
     "start_time": "2020-11-20T07:53:50.268019Z"
    }
   },
   "outputs": [],
   "source": [
    "t.shape('turtle')\n",
    "for i in range(5): # 오각형이므로 5번 반복\n",
    "    t.forward(100)\n",
    "    t.right(360/5) # 360을 5로 나누어서 외각을 구함"
   ]
  },
  {
   "cell_type": "markdown",
   "metadata": {},
   "source": [
    "### 다각형 그리기"
   ]
  },
  {
   "cell_type": "code",
   "execution_count": 11,
   "metadata": {
    "ExecuteTime": {
     "end_time": "2020-11-20T07:57:00.653050Z",
     "start_time": "2020-11-20T07:56:58.578112Z"
    }
   },
   "outputs": [
    {
     "name": "stdout",
     "output_type": "stream",
     "text": [
      "3\n"
     ]
    }
   ],
   "source": [
    "import turtle as t\n",
    "\n",
    "n = int(input()) # 사용자의 입력을 받음\n",
    "t.shape('turtle')\n",
    "for i in range(n): # n번 반복\n",
    "    t.forward(100)\n",
    "    t.right(360/n) # 360을 n으로 나누어서 외각을 구함"
   ]
  },
  {
   "cell_type": "markdown",
   "metadata": {},
   "source": [
    "프로그래밍은 이런 방식으로 소스 코드를 일반화해 나가는 과정이다.\n",
    "\n",
    "즉, 공통된 부분을 일반화해서 원하는 결과를 얻어내는 과정이 프로그래밍이며 컴퓨테이셔널 씽킹이다."
   ]
  },
  {
   "cell_type": "markdown",
   "metadata": {},
   "source": [
    "### 다각형에 색칠하기"
   ]
  },
  {
   "cell_type": "code",
   "execution_count": 3,
   "metadata": {
    "ExecuteTime": {
     "end_time": "2020-11-20T08:02:31.728565Z",
     "start_time": "2020-11-20T08:02:26.394713Z"
    }
   },
   "outputs": [],
   "source": [
    "import turtle as t\n",
    "\n",
    "n = 6\n",
    "t.shape('turtle')\n",
    "t.color('blue')\n",
    "t.begin_fill()\n",
    "for i in range(n):\n",
    "    t.forward(100)\n",
    "    t.right(360/n)\n",
    "t.end_fill()\n",
    "\n",
    "t.mainloop()"
   ]
  },
  {
   "cell_type": "markdown",
   "metadata": {},
   "source": [
    "> color에 색깔 지정하기\n",
    "\n",
    "color에 색깔을 지정할 때 'red', 'green', 'blue', 'yellow', 'brown', 'gray' 등 영어로 색 이름을 지정한다. 하지만 색 이름만으로는 다양한 색상을 표현하기가 힘들다. 이때는 웹 색상(web color)을 사용하면 된다.\n",
    "\n",
    "웹 색상은 # 으로 시작하며 빨강(R), 초록(G), 파랑(B)에 해당하는 두 자리 16진수 세 쌍으로 구성되어 있다.\n",
    "\n",
    "* #000000 : 검정\n",
    "* #FF0000 : 빨강\n",
    "* #00FF00 : 초록\n",
    "* #0000FF : 파랑\n",
    "\n",
    "색상의 범위는 00부터 FF까지 사용할 수 있으며 빨강, 초록, 파랑을 조합해서 색상을 만든다.\n",
    "\n",
    "```python\n",
    "t.color('##FF69B4') # 핫핑크(hotpink)\n",
    "```\n",
    "\n",
    "웹 색상에 대한 자세한 내용은 아래의 URL을 참조하자\n",
    "\n",
    "* 웹 색상: https://ko.wikipedia.org/wiki/웹_색상\n",
    "* HTML Color Picker: https://www.w3schools.com/colors/colors_picker.asp"
   ]
  },
  {
   "cell_type": "markdown",
   "metadata": {},
   "source": [
    "## 복잡한 도형 그리기"
   ]
  },
  {
   "cell_type": "markdown",
   "metadata": {},
   "source": [
    "터틀에서 원을 그릴 때는 circle을 사용한다."
   ]
  },
  {
   "cell_type": "code",
   "execution_count": 5,
   "metadata": {
    "ExecuteTime": {
     "end_time": "2020-11-20T08:08:55.467115Z",
     "start_time": "2020-11-20T08:08:30.923045Z"
    }
   },
   "outputs": [],
   "source": [
    "import turtle as t\n",
    "\n",
    "t.shape('turtle')\n",
    "t.circle(120)\n",
    "t.mainloop()"
   ]
  },
  {
   "cell_type": "markdown",
   "metadata": {},
   "source": [
    "### 원을 반복해서 그리기"
   ]
  },
  {
   "cell_type": "code",
   "execution_count": 10,
   "metadata": {
    "ExecuteTime": {
     "end_time": "2020-11-20T08:11:54.780171Z",
     "start_time": "2020-11-20T08:11:18.403810Z"
    }
   },
   "outputs": [],
   "source": [
    "import turtle as t\n",
    "\n",
    "n = 60 # 원을 60번 그림\n",
    "t.shape('turtle')\n",
    "t.speed('fastest') # 거북이 속도를 가장 빠르게 설정\n",
    "for i in range(n):\n",
    "    t.circle(120) # 반지름이 120인 원을 그림\n",
    "    t.right(360/n) # 오른쪽으로 6도 회전\n",
    "t.mainloop()"
   ]
  },
  {
   "cell_type": "markdown",
   "metadata": {},
   "source": [
    "speed는 거북이의 속도를 설정한다.\n",
    "\n",
    "* 'fastest' : 0\n",
    "* 'fast' : 10\n",
    "* 'normal' : 6\n",
    "* 'slow' : 3\n",
    "* 'slowest' : 1"
   ]
  },
  {
   "cell_type": "markdown",
   "metadata": {},
   "source": [
    "### 선으로 복잡한 무늬 그리기"
   ]
  },
  {
   "cell_type": "code",
   "execution_count": 12,
   "metadata": {
    "ExecuteTime": {
     "end_time": "2020-11-20T08:14:42.067215Z",
     "start_time": "2020-11-20T08:14:32.300368Z"
    }
   },
   "outputs": [],
   "source": [
    "import turtle as t\n",
    "\n",
    "t.shape('turtle')\n",
    "t.speed('fastest') # 거북이 속도를 가장 빠르게 설정\n",
    "for i in range(300): # 300번 반복\n",
    "    t.forward(i) # i만큼 앞으로 이동. 반복할 때마다 선이 길어짐\n",
    "    t.right(91) # 오른쪽으로 91도 회전"
   ]
  },
  {
   "cell_type": "markdown",
   "metadata": {},
   "source": [
    "## 퀴즈"
   ]
  },
  {
   "cell_type": "markdown",
   "metadata": {},
   "source": [
    "### 연습문제 : 오각별 그리기\n",
    "\n",
    "다음 소스 코드를 완성하여 오각별이 그려지게 만드세요.\n",
    "\n",
    "* 각 변의 길이는 100\n",
    "* 별의 꼭지점은 72도를 두 번 회전해서 144도 회전\n",
    "* 별의 다음 꼭지점을 그릴 때는 72도 회전"
   ]
  },
  {
   "cell_type": "code",
   "execution_count": 1,
   "metadata": {
    "ExecuteTime": {
     "end_time": "2020-11-20T08:21:16.937208Z",
     "start_time": "2020-11-20T08:20:47.356066Z"
    }
   },
   "outputs": [],
   "source": [
    "import turtle as t\n",
    "\n",
    "n = 5\n",
    "t.shape('turtle')\n",
    "for i in range(n):\n",
    "    t.forward(100)\n",
    "    t.right(72)\n",
    "    t.forward(100)\n",
    "    t.left(144)\n",
    "t.mainloop()"
   ]
  },
  {
   "cell_type": "markdown",
   "metadata": {},
   "source": [
    "#### 정답"
   ]
  },
  {
   "cell_type": "code",
   "execution_count": 3,
   "metadata": {
    "ExecuteTime": {
     "end_time": "2020-11-20T08:22:49.169634Z",
     "start_time": "2020-11-20T08:21:46.164720Z"
    }
   },
   "outputs": [],
   "source": [
    "import turtle as t\n",
    "\n",
    "n = 5\n",
    "t.shape('turtle')\n",
    "for i in range(n):\n",
    "    t.forward(100)\n",
    "    t.right((360 / n) * 2)\n",
    "    t.forward(100)\n",
    "    t.left(360 / n)\n",
    "t.mainloop()"
   ]
  },
  {
   "cell_type": "markdown",
   "metadata": {},
   "source": [
    "### 심사문제 : 별 그리기\n",
    "\n",
    "표준 입력으로 꼭지점 개수(정수)와 선의 길이(정수)가 입력됩니다(꼭지점 개수의 입력 범위는 5\\~10, 선의 길이 입력 범위는 50\\~150입니다). 다음 소스 코드를 완성하여 꼭지점 개수와 선의 길이에 맞는 별이 그려지게 만드세요. 별을 그릴 때는 현재 위치부터 오른쪽으로 이동해서 시작해야 하며 시계 방향으로 그려야 합니다."
   ]
  },
  {
   "cell_type": "code",
   "execution_count": 7,
   "metadata": {
    "ExecuteTime": {
     "end_time": "2020-11-20T08:25:20.046372Z",
     "start_time": "2020-11-20T08:25:07.461250Z"
    }
   },
   "outputs": [
    {
     "name": "stdout",
     "output_type": "stream",
     "text": [
      "6 100\n"
     ]
    }
   ],
   "source": [
    "import turtle as t\n",
    " \n",
    "n, line = map(int, input().split())\n",
    "t.shape('turtle')\n",
    "t.speed('fastest')\n",
    "for i in range(n):\n",
    "    t.forward(line)\n",
    "    t.right((360/n)*2)\n",
    "    t.forward(line)\n",
    "    t.left(360/n)\n",
    "t.mainloop()"
   ]
  }
 ],
 "metadata": {
  "kernelspec": {
   "display_name": "Python 3",
   "language": "python",
   "name": "python3"
  },
  "language_info": {
   "codemirror_mode": {
    "name": "ipython",
    "version": 3
   },
   "file_extension": ".py",
   "mimetype": "text/x-python",
   "name": "python",
   "nbconvert_exporter": "python",
   "pygments_lexer": "ipython3",
   "version": "3.7.6"
  },
  "toc": {
   "base_numbering": 1,
   "nav_menu": {},
   "number_sections": true,
   "sideBar": true,
   "skip_h1_title": true,
   "title_cell": "Table of Contents",
   "title_sidebar": "Contents",
   "toc_cell": true,
   "toc_position": {
    "height": "calc(100% - 180px)",
    "left": "10px",
    "top": "150px",
    "width": "384px"
   },
   "toc_section_display": true,
   "toc_window_display": true
  }
 },
 "nbformat": 4,
 "nbformat_minor": 4
}
