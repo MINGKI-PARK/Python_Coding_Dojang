{
 "cells": [
  {
   "cell_type": "markdown",
   "metadata": {},
   "source": [
    "# 05_숫자 계산하기"
   ]
  },
  {
   "cell_type": "markdown",
   "metadata": {
    "toc": true
   },
   "source": [
    "<h1>Table of Contents<span class=\"tocSkip\"></span></h1>\n",
    "<div class=\"toc\"><ul class=\"toc-item\"><li><span><a href=\"#정수-계산하기\" data-toc-modified-id=\"정수-계산하기-1\"><span class=\"toc-item-num\">1&nbsp;&nbsp;</span>정수 계산하기</a></span></li><li><span><a href=\"#실수-계산하기\" data-toc-modified-id=\"실수-계산하기-2\"><span class=\"toc-item-num\">2&nbsp;&nbsp;</span>실수 계산하기</a></span></li></ul></div>"
   ]
  },
  {
   "cell_type": "markdown",
   "metadata": {},
   "source": [
    "## 정수 계산하기"
   ]
  },
  {
   "cell_type": "markdown",
   "metadata": {},
   "source": [
    "> 몫과 나머지를 함께 구하기"
   ]
  },
  {
   "cell_type": "code",
   "execution_count": 2,
   "metadata": {
    "ExecuteTime": {
     "end_time": "2020-11-04T17:05:05.734756Z",
     "start_time": "2020-11-04T17:05:05.715807Z"
    }
   },
   "outputs": [
    {
     "data": {
      "text/plain": [
       "(2, 1)"
      ]
     },
     "execution_count": 2,
     "metadata": {},
     "output_type": "execute_result"
    }
   ],
   "source": [
    "divmod(5,2) # 앞이 몫, 뒤가 나머지"
   ]
  },
  {
   "cell_type": "code",
   "execution_count": 3,
   "metadata": {
    "ExecuteTime": {
     "end_time": "2020-11-04T17:05:56.838043Z",
     "start_time": "2020-11-04T17:05:56.826126Z"
    }
   },
   "outputs": [
    {
     "name": "stdout",
     "output_type": "stream",
     "text": [
      "2 1\n"
     ]
    }
   ],
   "source": [
    "# 몫과 나머지를 두 개의 변수에 저장하기\n",
    "quotient, remainder = divmod(5, 2)\n",
    "print(quotient, remainder)"
   ]
  },
  {
   "cell_type": "markdown",
   "metadata": {},
   "source": [
    "> 진수, 8진수, 16진수\n",
    "\n",
    "정수는 10진수 이외에도 2진수, 8진수, 16진수로도 표현할 수 있다.\n",
    "\n",
    "* 2진수 : 숫자 앞에 0b 를 붙이며 0과 1을 사용한다.\n",
    "* 8진수 : 숫자 앞에 0o (숫자 0과 소문자 o) 를 붙이며 0부터 7까지 사용한다.\n",
    "* 16진수 : 숫자 앞에 0x 또는 0X 를 붙이며 0부터 9, A부터 F까지 사용한다. (소문자 a부터 f도 가능.)"
   ]
  },
  {
   "cell_type": "code",
   "execution_count": 4,
   "metadata": {
    "ExecuteTime": {
     "end_time": "2020-11-04T17:08:58.206919Z",
     "start_time": "2020-11-04T17:08:58.192960Z"
    }
   },
   "outputs": [
    {
     "data": {
      "text/plain": [
       "6"
      ]
     },
     "execution_count": 4,
     "metadata": {},
     "output_type": "execute_result"
    }
   ],
   "source": [
    "# 2진수\n",
    "0b110"
   ]
  },
  {
   "cell_type": "code",
   "execution_count": 5,
   "metadata": {
    "ExecuteTime": {
     "end_time": "2020-11-04T17:09:18.386943Z",
     "start_time": "2020-11-04T17:09:18.376006Z"
    }
   },
   "outputs": [
    {
     "data": {
      "text/plain": [
       "8"
      ]
     },
     "execution_count": 5,
     "metadata": {},
     "output_type": "execute_result"
    }
   ],
   "source": [
    "# 8진수\n",
    "0o10"
   ]
  },
  {
   "cell_type": "code",
   "execution_count": 6,
   "metadata": {
    "ExecuteTime": {
     "end_time": "2020-11-04T17:09:31.094671Z",
     "start_time": "2020-11-04T17:09:31.080746Z"
    }
   },
   "outputs": [
    {
     "data": {
      "text/plain": [
       "15"
      ]
     },
     "execution_count": 6,
     "metadata": {},
     "output_type": "execute_result"
    }
   ],
   "source": [
    "# 16진수\n",
    "0xF"
   ]
  },
  {
   "cell_type": "markdown",
   "metadata": {},
   "source": [
    "## 실수 계산하기"
   ]
  },
  {
   "cell_type": "code",
   "execution_count": 8,
   "metadata": {
    "ExecuteTime": {
     "end_time": "2020-11-04T17:16:24.334963Z",
     "start_time": "2020-11-04T17:16:24.328978Z"
    }
   },
   "outputs": [
    {
     "data": {
      "text/plain": [
       "1.5999999999999996"
      ]
     },
     "execution_count": 8,
     "metadata": {},
     "output_type": "execute_result"
    }
   ],
   "source": [
    "4.3 - 2.7"
   ]
  },
  {
   "cell_type": "code",
   "execution_count": 9,
   "metadata": {
    "ExecuteTime": {
     "end_time": "2020-11-04T17:16:29.626366Z",
     "start_time": "2020-11-04T17:16:29.608315Z"
    }
   },
   "outputs": [
    {
     "data": {
      "text/plain": [
       "4.65"
      ]
     },
     "execution_count": 9,
     "metadata": {},
     "output_type": "execute_result"
    }
   ],
   "source": [
    "1.5 * 3.1"
   ]
  },
  {
   "cell_type": "code",
   "execution_count": 10,
   "metadata": {
    "ExecuteTime": {
     "end_time": "2020-11-04T17:16:36.619368Z",
     "start_time": "2020-11-04T17:16:36.599386Z"
    }
   },
   "outputs": [
    {
     "data": {
      "text/plain": [
       "1.7741935483870968"
      ]
     },
     "execution_count": 10,
     "metadata": {},
     "output_type": "execute_result"
    }
   ],
   "source": [
    "5.5 / 3.1"
   ]
  },
  {
   "cell_type": "markdown",
   "metadata": {},
   "source": [
    "그런데 `4.3 - 2.7`의 결과가 좀 이상하다. 1.6이 나와야 하는데 1.5999999999999996이 나왔다. 왜냐하면 컴퓨터는 실수를 표현할 때 오차가 발생하기 때문!\n",
    "\n",
    "나중에 실무에서 실수를 다룰 때 오차에 대한 적절한 처리가 필요하다."
   ]
  },
  {
   "cell_type": "markdown",
   "metadata": {},
   "source": [
    "> 실수 값의 오차\n",
    "\n",
    "파이썬에서 0.1 + 0.2의 값은 0.3이 나올 것 같지만 실제로는 0.30000000000000004이 나온다.\n",
    "\n",
    "파이썬은 실수를 부동소수점 방식으로 표현하는데 부동소수점은 실수를 정확히 표현할 수 없는 문제가 있다. 그래서 0.3이 아닌 0.30000000000000004가 나온다."
   ]
  },
  {
   "cell_type": "code",
   "execution_count": 11,
   "metadata": {
    "ExecuteTime": {
     "end_time": "2020-11-04T17:19:41.831678Z",
     "start_time": "2020-11-04T17:19:41.824671Z"
    }
   },
   "outputs": [
    {
     "data": {
      "text/plain": [
       "0.30000000000000004"
      ]
     },
     "execution_count": 11,
     "metadata": {},
     "output_type": "execute_result"
    }
   ],
   "source": [
    "0.1 + 0.2"
   ]
  },
  {
   "cell_type": "markdown",
   "metadata": {},
   "source": [
    "> 두 실수가 같은지 판단하기\n",
    "\n",
    "만약 두 실수가 같은지 판단할때는 ==을 사용하면 안된다."
   ]
  },
  {
   "cell_type": "code",
   "execution_count": 12,
   "metadata": {
    "ExecuteTime": {
     "end_time": "2020-11-04T17:23:08.840576Z",
     "start_time": "2020-11-04T17:23:08.834702Z"
    }
   },
   "outputs": [
    {
     "data": {
      "text/plain": [
       "False"
      ]
     },
     "execution_count": 12,
     "metadata": {},
     "output_type": "execute_result"
    }
   ],
   "source": [
    "0.1 + 0.2 == 0.3"
   ]
  },
  {
   "cell_type": "markdown",
   "metadata": {},
   "source": [
    "0.1 + 0.2는 0.30000000000000004 이므로 0.3과는 다르다. \n",
    "\n",
    "이렇게 실수를 근삿값으로 표현하면서 발생하는 문제를 부동소수점 반올림 오차 (rounding error) 라고 한다.\n",
    "\n",
    "따라서 실수를 비교할 때는 연산한 값과 비교할 값의 차이를 구한뒤 sys.float_info.epsilon보다 작거나 같은지 판단해야 한다."
   ]
  },
  {
   "cell_type": "code",
   "execution_count": 16,
   "metadata": {
    "ExecuteTime": {
     "end_time": "2020-11-04T17:26:32.190643Z",
     "start_time": "2020-11-04T17:26:32.183444Z"
    }
   },
   "outputs": [
    {
     "data": {
      "text/plain": [
       "True"
      ]
     },
     "execution_count": 16,
     "metadata": {},
     "output_type": "execute_result"
    }
   ],
   "source": [
    "import math, sys\n",
    "\n",
    "x = 0.1 + 0.2\n",
    "math.fabs(x-0.3) <= sys.float_info.epsilon"
   ]
  },
  {
   "cell_type": "code",
   "execution_count": 14,
   "metadata": {
    "ExecuteTime": {
     "end_time": "2020-11-04T17:26:13.463476Z",
     "start_time": "2020-11-04T17:26:13.448485Z"
    }
   },
   "outputs": [
    {
     "data": {
      "text/plain": [
       "2.220446049250313e-16"
      ]
     },
     "execution_count": 14,
     "metadata": {},
     "output_type": "execute_result"
    }
   ],
   "source": [
    "sys.float_info.epsilon"
   ]
  },
  {
   "cell_type": "markdown",
   "metadata": {},
   "source": [
    "x의 값 0.30000000000000004 에서 0.3을 뺀 값이 sys.float_info.epsilon보다 작거나 같으므로 두 값은 같은 값이라 할 수 있다. \n",
    "특히 math.fabs를 사용해서 두 값의 차이를 절댓값으로 만들면 음수가 나오더라도 정상적으로 판단할 수 있다.\n",
    "\n",
    "여기서 sys.float_info.epsilon에 저장된 값을 머신 엡실론 (machine epsilon)이라고 부르는데, 어떤 실수를 가장 가까운 부동소수점 실수로 반올림했을 때 상대 오차는 항상 머신 엡실론 이하이다. 즉, 머신 엡실론은 반올림 오차의 상한값이며 연산한 값과 비교할 값의 차이가 머신 엡실론보다 작거나 같다면 두 실수는 같은 값이라고 할 수 있다."
   ]
  },
  {
   "cell_type": "markdown",
   "metadata": {},
   "source": [
    "파이썬 3.5이상부터는 두 실수가 같은지 판단할 때 math.insclose 함수를 사용하면 된다."
   ]
  },
  {
   "cell_type": "code",
   "execution_count": 17,
   "metadata": {
    "ExecuteTime": {
     "end_time": "2020-11-04T17:31:07.017909Z",
     "start_time": "2020-11-04T17:31:07.002951Z"
    }
   },
   "outputs": [
    {
     "data": {
      "text/plain": [
       "True"
      ]
     },
     "execution_count": 17,
     "metadata": {},
     "output_type": "execute_result"
    }
   ],
   "source": [
    "import math\n",
    "\n",
    "math.isclose(0.1+0.2, 0.3)"
   ]
  },
  {
   "cell_type": "markdown",
   "metadata": {},
   "source": [
    "> Decimal으로 정확한 자릿수 표현하기\n",
    "\n",
    "반올림 오차가 없는 고정소수점을 사용하려면 decimal 모듈의 Decimal을 사용하면 된다. Decimal은 숫자를 10진수로 처리하여 정확한 소수점 자릿수를 표현한다."
   ]
  },
  {
   "cell_type": "code",
   "execution_count": 18,
   "metadata": {
    "ExecuteTime": {
     "end_time": "2020-11-04T17:33:41.840401Z",
     "start_time": "2020-11-04T17:33:41.824406Z"
    }
   },
   "outputs": [
    {
     "data": {
      "text/plain": [
       "Decimal('0.3')"
      ]
     },
     "execution_count": 18,
     "metadata": {},
     "output_type": "execute_result"
    }
   ],
   "source": [
    "from decimal import Decimal\n",
    "\n",
    "Decimal('0.1') + Decimal('0.2')"
   ]
  },
  {
   "cell_type": "markdown",
   "metadata": {},
   "source": [
    "> Fraction으로 분수 표현하기\n",
    "\n",
    "순환소수는 고정소수점이라도 정확히 표현할 수 없다. 이때는 fractions 모듈의 Fraction을 사용하여 분수로 표현하면 된다."
   ]
  },
  {
   "cell_type": "code",
   "execution_count": 19,
   "metadata": {
    "ExecuteTime": {
     "end_time": "2020-11-04T17:35:12.991758Z",
     "start_time": "2020-11-04T17:35:12.975806Z"
    }
   },
   "outputs": [
    {
     "data": {
      "text/plain": [
       "Fraction(10, 3)"
      ]
     },
     "execution_count": 19,
     "metadata": {},
     "output_type": "execute_result"
    }
   ],
   "source": [
    "from fractions import Fraction\n",
    "\n",
    "Fraction('10/3') # 10을 3으로 나누면 순환소수 3.33333... 이지만 분수 3분의 10으로 표현"
   ]
  },
  {
   "cell_type": "markdown",
   "metadata": {},
   "source": [
    "> 복소수\n",
    "\n",
    "파이썬에서는 실수부와 허수부로 이루어진 복소수 (complex number) 도 사용할 수 있다. 이 때 허수부는 숫자 뒤에 j를 붙인다. (수학에서는 허수를 i로 표현하지만 공학에서는 j를 사용한다.)"
   ]
  },
  {
   "cell_type": "code",
   "execution_count": 20,
   "metadata": {
    "ExecuteTime": {
     "end_time": "2020-11-04T17:38:16.652774Z",
     "start_time": "2020-11-04T17:38:16.641793Z"
    }
   },
   "outputs": [
    {
     "data": {
      "text/plain": [
       "(1.2+1.3j)"
      ]
     },
     "execution_count": 20,
     "metadata": {},
     "output_type": "execute_result"
    }
   ],
   "source": [
    "1.2 + 1.3j"
   ]
  },
  {
   "cell_type": "markdown",
   "metadata": {},
   "source": [
    "두 실수를 복소수로 만들 때는 complex를 사용하면 된다."
   ]
  },
  {
   "cell_type": "code",
   "execution_count": 21,
   "metadata": {
    "ExecuteTime": {
     "end_time": "2020-11-04T17:38:43.102297Z",
     "start_time": "2020-11-04T17:38:43.087773Z"
    }
   },
   "outputs": [
    {
     "data": {
      "text/plain": [
       "(1.2+1.3j)"
      ]
     },
     "execution_count": 21,
     "metadata": {},
     "output_type": "execute_result"
    }
   ],
   "source": [
    "complex(1.2, 1.3)"
   ]
  }
 ],
 "metadata": {
  "kernelspec": {
   "display_name": "Python 3",
   "language": "python",
   "name": "python3"
  },
  "language_info": {
   "codemirror_mode": {
    "name": "ipython",
    "version": 3
   },
   "file_extension": ".py",
   "mimetype": "text/x-python",
   "name": "python",
   "nbconvert_exporter": "python",
   "pygments_lexer": "ipython3",
   "version": "3.7.6"
  },
  "toc": {
   "base_numbering": 1,
   "nav_menu": {},
   "number_sections": true,
   "sideBar": true,
   "skip_h1_title": true,
   "title_cell": "Table of Contents",
   "title_sidebar": "Contents",
   "toc_cell": true,
   "toc_position": {
    "height": "calc(100% - 180px)",
    "left": "10px",
    "top": "150px",
    "width": "190px"
   },
   "toc_section_display": true,
   "toc_window_display": true
  }
 },
 "nbformat": 4,
 "nbformat_minor": 4
}
